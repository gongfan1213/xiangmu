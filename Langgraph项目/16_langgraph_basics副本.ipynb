{
  "cells": [
    {
      "cell_type": "markdown",
      "metadata": {
        "id": "tWcV1TDm_PSa"
      },
      "source": [
        "# LangGraph Basics\n",
        "\n",
        "Over the course of this notebook, we will build an agentic RAG application using LangGraph with increasing complexity. We will start with a simple RAG flow, and then add conditional branching, loops, memory, human in the loop, and more."
      ]
    },
    {
      "cell_type": "markdown",
      "metadata": {
        "id": "0THcAxZy_PSb"
      },
      "source": [
        "## Pre-work: Setup"
      ]
    },
    {
      "cell_type": "markdown",
      "metadata": {
        "id": "B3lLCrPn_PSb"
      },
      "source": [
        "You can set your environment variables locally in this notebook."
      ]
    },
    {
      "cell_type": "code",
      "execution_count": 2,
      "metadata": {
        "colab": {
          "base_uri": "https://localhost:8080/"
        },
        "id": "66IISas0AUe9",
        "outputId": "4ed0a8cb-7f94-42ca-a8d4-b468f9961b47"
      },
      "outputs": [
        {
          "name": "stdout",
          "output_type": "stream",
          "text": [
            "\u001b[2K     \u001b[90m━━━━━━━━━━━━━━━━━━━━━━━━━━━━━━━━━━━━━━━━\u001b[0m \u001b[32m43.7/43.7 kB\u001b[0m \u001b[31m1.7 MB/s\u001b[0m eta \u001b[36m0:00:00\u001b[0m\n",
            "\u001b[2K   \u001b[90m━━━━━━━━━━━━━━━━━━━━━━━━━━━━━━━━━━━━━━━━\u001b[0m \u001b[32m152.4/152.4 kB\u001b[0m \u001b[31m5.5 MB/s\u001b[0m eta \u001b[36m0:00:00\u001b[0m\n",
            "\u001b[2K   \u001b[90m━━━━━━━━━━━━━━━━━━━━━━━━━━━━━━━━━━━━━━━━\u001b[0m \u001b[32m43.8/43.8 kB\u001b[0m \u001b[31m1.9 MB/s\u001b[0m eta \u001b[36m0:00:00\u001b[0m\n",
            "\u001b[2K   \u001b[90m━━━━━━━━━━━━━━━━━━━━━━━━━━━━━━━━━━━━━━━━\u001b[0m \u001b[32m50.0/50.0 kB\u001b[0m \u001b[31m3.5 MB/s\u001b[0m eta \u001b[36m0:00:00\u001b[0m\n",
            "\u001b[2K   \u001b[90m━━━━━━━━━━━━━━━━━━━━━━━━━━━━━━━━━━━━━━━━\u001b[0m \u001b[32m216.5/216.5 kB\u001b[0m \u001b[31m14.5 MB/s\u001b[0m eta \u001b[36m0:00:00\u001b[0m\n",
            "\u001b[?25h"
          ]
        }
      ],
      "source": [
        "!pip install -q langchain openai langgraph"
      ]
    },
    {
      "cell_type": "code",
      "execution_count": 30,
      "metadata": {
        "id": "Jzk2KDFdAKZt"
      },
      "outputs": [],
      "source": [
        "# ✅ 设置环境变量\n",
        "import os\n",
        "\n",
        "# OpenAI 兼容接口（你提供的 key 和 endpoint）\n",
        "os.environ[\"OPENAI_API_KEY\"] = \"sxxxxxxxxNt9\"\n",
        "os.environ[\"OPENAI_API_BASE\"] = \"http://4xxxxx00/v1/\"\n",
        "os.environ[\"OPENAI_API_VERSION\"] = \"2024-05-01-preview\""
      ]
    },
    {
      "cell_type": "code",
      "execution_count": 4,
      "metadata": {
        "id": "c3CDsLWtAZg2"
      },
      "outputs": [],
      "source": [
        "os.environ[\"LANGSMITH_API_KEY\"] = \"xxxxx\"  # 可留空或填写你的 LangSmith Key\n",
        "os.environ[\"LANGSMITH_TRACING\"] = \"true\"\n",
        "os.environ[\"LANGSMITH_PROJECT\"] = \"pr-cold-hedgehog-59\""
      ]
    },
    {
      "cell_type": "code",
      "execution_count": null,
      "metadata": {
        "id": "4rlt9INz_PSb"
      },
      "outputs": [],
      "source": [
        "import os\n",
        "\n",
        "# Set environment variables\n",
        "os.environ[\"OPENAI_API_KEY\"] = \"\"\n",
        "os.environ[\"LANGSMITH_API_KEY\"] = \"\"\n",
        "os.environ[\"LANGSMITH_TRACING\"] = \"true\"\n",
        "os.environ[\"LANGSMITH_PROJECT\"] = \"langgraph-101\""
      ]
    },
    {
      "cell_type": "markdown",
      "metadata": {
        "id": "bDYEnvRh_PSc"
      },
      "source": [
        "Alternatively, load environment variables from a .env file"
      ]
    },
    {
      "cell_type": "code",
      "execution_count": null,
      "metadata": {
        "id": "pNjZncIG_PSc"
      },
      "outputs": [],
      "source": [
        "from dotenv import load_dotenv\n",
        "load_dotenv(dotenv_path=\"../.env\", override=True)"
      ]
    },
    {
      "cell_type": "markdown",
      "metadata": {
        "id": "KY1XWQJg_PSc"
      },
      "source": [
        "Make sure you've followed the instructions in setup.md if you haven't yet!\n",
        "\n",
        "Let's confirm that LangSmith tracing is enabled. If for some reason you can't see traces showing up in LangSmith, this is a great helper command to make sure you can trace!"
      ]
    },
    {
      "cell_type": "code",
      "execution_count": 5,
      "metadata": {
        "colab": {
          "base_uri": "https://localhost:8080/"
        },
        "id": "EhIogiDr_PSd",
        "outputId": "c938aa97-109e-4636-8535-61050622a5d8"
      },
      "outputs": [
        {
          "data": {
            "text/plain": [
              "True"
            ]
          },
          "execution_count": 5,
          "metadata": {},
          "output_type": "execute_result"
        }
      ],
      "source": [
        "import os\n",
        "from langsmith import utils\n",
        "\n",
        "os.environ.get(\"LANGCHAIN_TRACING_V2\")\n",
        "utils.tracing_is_enabled()"
      ]
    },
    {
      "cell_type": "markdown",
      "metadata": {
        "id": "5S2rV9vJ_PSd"
      },
      "source": [
        "Because we're building a RAG application, we're going to create a vector database. The function for this is in utils.py in the studio folder, feel free to take a look if you're curious! We're going to go ahead and index some LangGraph documentation, in reality you can choose any documents you want, and hook up to your production vector store.\n",
        "\n",
        "Note: If you're using AzureOpenAI instead of OpenAI directly, navigate over to the implementation of `get_langgraph_docs_retriever` and uncomment the relevant code for AzureOpenAI.\n",
        "\n",
        "You can authenticate to AzureOpenAI with environment variables, or Azure AD."
      ]
    },
    {
      "cell_type": "code",
      "execution_count": 7,
      "metadata": {
        "colab": {
          "base_uri": "https://localhost:8080/"
        },
        "id": "f1GjdVLOBOn-",
        "outputId": "d95afae6-4f91-4718-feac-716067285c3a"
      },
      "outputs": [
        {
          "name": "stdout",
          "output_type": "stream",
          "text": [
            "\u001b[?25l     \u001b[90m━━━━━━━━━━━━━━━━━━━━━━━━━━━━━━━━━━━━━━━━\u001b[0m \u001b[32m0.0/67.3 kB\u001b[0m \u001b[31m?\u001b[0m eta \u001b[36m-:--:--\u001b[0m\r\u001b[2K     \u001b[90m━━━━━━━━━━━━━━━━━━━━━━━━━━━━━━━━━━━━━━━━\u001b[0m \u001b[32m67.3/67.3 kB\u001b[0m \u001b[31m2.1 MB/s\u001b[0m eta \u001b[36m0:00:00\u001b[0m\n",
            "\u001b[?25h  Installing build dependencies ... \u001b[?25l\u001b[?25hdone\n",
            "  Getting requirements to build wheel ... \u001b[?25l\u001b[?25hdone\n",
            "  Preparing metadata (pyproject.toml) ... \u001b[?25l\u001b[?25hdone\n",
            "\u001b[2K   \u001b[90m━━━━━━━━━━━━━━━━━━━━━━━━━━━━━━━━━━━━━━━━\u001b[0m \u001b[32m2.5/2.5 MB\u001b[0m \u001b[31m34.0 MB/s\u001b[0m eta \u001b[36m0:00:00\u001b[0m\n",
            "\u001b[2K   \u001b[90m━━━━━━━━━━━━━━━━━━━━━━━━━━━━━━━━━━━━━━━━\u001b[0m \u001b[32m1.0/1.0 MB\u001b[0m \u001b[31m48.6 MB/s\u001b[0m eta \u001b[36m0:00:00\u001b[0m\n",
            "\u001b[2K   \u001b[90m━━━━━━━━━━━━━━━━━━━━━━━━━━━━━━━━━━━━━━━━\u001b[0m \u001b[32m69.2/69.2 kB\u001b[0m \u001b[31m4.4 MB/s\u001b[0m eta \u001b[36m0:00:00\u001b[0m\n",
            "\u001b[2K   \u001b[90m━━━━━━━━━━━━━━━━━━━━━━━━━━━━━━━━━━━━━━━━\u001b[0m \u001b[32m19.3/19.3 MB\u001b[0m \u001b[31m77.4 MB/s\u001b[0m eta \u001b[36m0:00:00\u001b[0m\n",
            "\u001b[2K   \u001b[90m━━━━━━━━━━━━━━━━━━━━━━━━━━━━━━━━━━━━━━━━\u001b[0m \u001b[32m438.9/438.9 kB\u001b[0m \u001b[31m26.6 MB/s\u001b[0m eta \u001b[36m0:00:00\u001b[0m\n",
            "\u001b[2K   \u001b[90m━━━━━━━━━━━━━━━━━━━━━━━━━━━━━━━━━━━━━━━━\u001b[0m \u001b[32m45.2/45.2 kB\u001b[0m \u001b[31m2.5 MB/s\u001b[0m eta \u001b[36m0:00:00\u001b[0m\n",
            "\u001b[2K   \u001b[90m━━━━━━━━━━━━━━━━━━━━━━━━━━━━━━━━━━━━━━━━\u001b[0m \u001b[32m284.2/284.2 kB\u001b[0m \u001b[31m18.0 MB/s\u001b[0m eta \u001b[36m0:00:00\u001b[0m\n",
            "\u001b[2K   \u001b[90m━━━━━━━━━━━━━━━━━━━━━━━━━━━━━━━━━━━━━━━━\u001b[0m \u001b[32m1.9/1.9 MB\u001b[0m \u001b[31m63.6 MB/s\u001b[0m eta \u001b[36m0:00:00\u001b[0m\n",
            "\u001b[2K   \u001b[90m━━━━━━━━━━━━━━━━━━━━━━━━━━━━━━━━━━━━━━━━\u001b[0m \u001b[32m50.9/50.9 kB\u001b[0m \u001b[31m2.8 MB/s\u001b[0m eta \u001b[36m0:00:00\u001b[0m\n",
            "\u001b[2K   \u001b[90m━━━━━━━━━━━━━━━━━━━━━━━━━━━━━━━━━━━━━━━━\u001b[0m \u001b[32m101.6/101.6 kB\u001b[0m \u001b[31m7.5 MB/s\u001b[0m eta \u001b[36m0:00:00\u001b[0m\n",
            "\u001b[2K   \u001b[90m━━━━━━━━━━━━━━━━━━━━━━━━━━━━━━━━━━━━━━━━\u001b[0m \u001b[32m16.4/16.4 MB\u001b[0m \u001b[31m85.0 MB/s\u001b[0m eta \u001b[36m0:00:00\u001b[0m\n",
            "\u001b[2K   \u001b[90m━━━━━━━━━━━━━━━━━━━━━━━━━━━━━━━━━━━━━━━━\u001b[0m \u001b[32m65.8/65.8 kB\u001b[0m \u001b[31m4.2 MB/s\u001b[0m eta \u001b[36m0:00:00\u001b[0m\n",
            "\u001b[2K   \u001b[90m━━━━━━━━━━━━━━━━━━━━━━━━━━━━━━━━━━━━━━━━\u001b[0m \u001b[32m55.7/55.7 kB\u001b[0m \u001b[31m3.4 MB/s\u001b[0m eta \u001b[36m0:00:00\u001b[0m\n",
            "\u001b[2K   \u001b[90m━━━━━━━━━━━━━━━━━━━━━━━━━━━━━━━━━━━━━━━━\u001b[0m \u001b[32m118.5/118.5 kB\u001b[0m \u001b[31m7.6 MB/s\u001b[0m eta \u001b[36m0:00:00\u001b[0m\n",
            "\u001b[2K   \u001b[90m━━━━━━━━━━━━━━━━━━━━━━━━━━━━━━━━━━━━━━━━\u001b[0m \u001b[32m196.2/196.2 kB\u001b[0m \u001b[31m12.8 MB/s\u001b[0m eta \u001b[36m0:00:00\u001b[0m\n",
            "\u001b[2K   \u001b[90m━━━━━━━━━━━━━━━━━━━━━━━━━━━━━━━━━━━━━━━━\u001b[0m \u001b[32m105.4/105.4 kB\u001b[0m \u001b[31m7.6 MB/s\u001b[0m eta \u001b[36m0:00:00\u001b[0m\n",
            "\u001b[2K   \u001b[90m━━━━━━━━━━━━━━━━━━━━━━━━━━━━━━━━━━━━━━━━\u001b[0m \u001b[32m71.2/71.2 kB\u001b[0m \u001b[31m4.5 MB/s\u001b[0m eta \u001b[36m0:00:00\u001b[0m\n",
            "\u001b[2K   \u001b[90m━━━━━━━━━━━━━━━━━━━━━━━━━━━━━━━━━━━━━━━━\u001b[0m \u001b[32m459.8/459.8 kB\u001b[0m \u001b[31m26.6 MB/s\u001b[0m eta \u001b[36m0:00:00\u001b[0m\n",
            "\u001b[2K   \u001b[90m━━━━━━━━━━━━━━━━━━━━━━━━━━━━━━━━━━━━━━━━\u001b[0m \u001b[32m4.0/4.0 MB\u001b[0m \u001b[31m90.6 MB/s\u001b[0m eta \u001b[36m0:00:00\u001b[0m\n",
            "\u001b[2K   \u001b[90m━━━━━━━━━━━━━━━━━━━━━━━━━━━━━━━━━━━━━━━━\u001b[0m \u001b[32m453.1/453.1 kB\u001b[0m \u001b[31m27.5 MB/s\u001b[0m eta \u001b[36m0:00:00\u001b[0m\n",
            "\u001b[2K   \u001b[90m━━━━━━━━━━━━━━━━━━━━━━━━━━━━━━━━━━━━━━━━\u001b[0m \u001b[32m46.0/46.0 kB\u001b[0m \u001b[31m2.9 MB/s\u001b[0m eta \u001b[36m0:00:00\u001b[0m\n",
            "\u001b[2K   \u001b[90m━━━━━━━━━━━━━━━━━━━━━━━━━━━━━━━━━━━━━━━━\u001b[0m \u001b[32m86.8/86.8 kB\u001b[0m \u001b[31m5.4 MB/s\u001b[0m eta \u001b[36m0:00:00\u001b[0m\n",
            "\u001b[?25h  Building wheel for pypika (pyproject.toml) ... \u001b[?25l\u001b[?25hdone\n"
          ]
        }
      ],
      "source": [
        "# 在 Colab 中运行这条命令安装依赖\n",
        "!pip install -q langchain langchain-community langchain-openai langchain-chroma\n"
      ]
    },
    {
      "cell_type": "code",
      "execution_count": 8,
      "metadata": {
        "id": "jhRFLTOCBQQ-"
      },
      "outputs": [],
      "source": [
        "!pip install -q tiktoken chromadb\n"
      ]
    },
    {
      "cell_type": "code",
      "execution_count": 15,
      "metadata": {
        "colab": {
          "base_uri": "https://localhost:8080/",
          "height": 226
        },
        "id": "hDYDyma7BuAd",
        "outputId": "db4e9892-d538-40c8-f554-9acfb112ced6"
      },
      "outputs": [
        {
          "ename": "NameError",
          "evalue": "name 'InteractiveBrowserCredential' is not defined",
          "output_type": "error",
          "traceback": [
            "\u001b[0;31m---------------------------------------------------------------------------\u001b[0m",
            "\u001b[0;31mNameError\u001b[0m                                 Traceback (most recent call last)",
            "\u001b[0;32m/tmp/ipython-input-15-2890707796.py\u001b[0m in \u001b[0;36m<cell line: 0>\u001b[0;34m()\u001b[0m\n\u001b[1;32m      4\u001b[0m \u001b[0;34m\u001b[0m\u001b[0m\n\u001b[1;32m      5\u001b[0m \u001b[0;34m\u001b[0m\u001b[0m\n\u001b[0;32m----> 6\u001b[0;31m \u001b[0mcredential\u001b[0m \u001b[0;34m=\u001b[0m \u001b[0mInteractiveBrowserCredential\u001b[0m\u001b[0;34m(\u001b[0m\u001b[0;34m)\u001b[0m\u001b[0;34m\u001b[0m\u001b[0;34m\u001b[0m\u001b[0m\n\u001b[0m\u001b[1;32m      7\u001b[0m \u001b[0;34m\u001b[0m\u001b[0m\n\u001b[1;32m      8\u001b[0m \u001b[0;32mdef\u001b[0m \u001b[0mget_token\u001b[0m\u001b[0;34m(\u001b[0m\u001b[0;34m)\u001b[0m\u001b[0;34m:\u001b[0m\u001b[0;34m\u001b[0m\u001b[0;34m\u001b[0m\u001b[0m\n",
            "\u001b[0;31mNameError\u001b[0m: name 'InteractiveBrowserCredential' is not defined"
          ]
        }
      ],
      "source": [
        "from langchain_openai import OpenAIEmbeddings, AzureOpenAIEmbeddings, AzureChatOpenAI\n",
        "from langchain_anthropic import ChatAnthropic\n",
        "from langchain_google_vertexai import ChatVertexAI\n",
        "from azure.identity import InteractiveBrowserCredential\n",
        "\n",
        "credential = InteractiveBrowserCredential()\n",
        "\n",
        "def get_token():\n",
        "    token = credential.get_token(\"https://cognitiveservices.azure.com/.default\")\n",
        "    return token.token\n",
        "\n",
        "# For AzureOpenAI, make sure you set AZURE_OPENAI_API_KEY and AZURE_OPENAI_ENDPOINT\n",
        "\n",
        "\n",
        "\"\"\"\n",
        "Embedding Models\n",
        "\"\"\"\n",
        "\n",
        "OPENAI_EMBEDDING_MODEL = OpenAIEmbeddings()\n",
        "\n",
        "# Azure OpenAI: Using Environment Variables\n",
        "# AZURE_OPENAI_EMBEDDING_MODEL = AzureOpenAIEmbeddings(\n",
        "#     model=\"text-embedding-3-large\",\n",
        "# )\n",
        "\n",
        "# Azure OpenAI: Using Azure AD\n",
        "# AZURE_OPENAI_EMBEDDING_MODEL = AzureOpenAIEmbeddings(\n",
        "#     openai_api_version=\"2024-03-01-preview\",\n",
        "#     azure_endpoint=\"https://deployment.openai.azure.com/\",\n",
        "#     model=\"text-embedding-3-large\",\n",
        "#     azure_ad_token_provider=get_token\n",
        "# )\n",
        "\n",
        "\n",
        "\"\"\"\n",
        "Chat Models\n",
        "\"\"\"\n",
        "# Azure OpenAI: Using Environment Variables\n",
        "# AZURE_OPENAI_GPT_4O = AzureChatOpenAI(\n",
        "#     azure_deployment=\"gpt-4o\",\n",
        "#     streaming=True\n",
        "# )\n",
        "\n",
        "# Azure OpenAI: Using Azure AD\n",
        "# AZURE_OPENAI_GPT_4O = AzureChatOpenAI(\n",
        "#     api_version=\"2024-03-01-preview\",\n",
        "#     azure_endpoint=\"https://deployment.openai.azure.com/\",\n",
        "#     azure_deployment=\"gpt-4o\",\n",
        "#     azure_ad_token_provider=get_token\n",
        "# )\n",
        "\n",
        "# Anthropic Sonnet 3.5\n",
        "# ANTHROPIC_SONNET_3_5 = ChatAnthropic(\n",
        "#     model=\"claude-3-5-sonnet-20240620\",\n",
        "#     streaming=True\n",
        "# )\n",
        "\n",
        "# Vertex AI Gemini 1.5 Flash\n",
        "# VERTEX_AI_GEMINI_1_5_FLASH = ChatVertexAI(\n",
        "#     model=\"gemini-1.5-flash-002\",\n",
        "#     streaming=True\n",
        "# )"
      ]
    },
    {
      "cell_type": "markdown",
      "metadata": {
        "id": "DFnhOoejCdeq"
      },
      "source": [
        "我将为这段代码添加详细的注释，解释每个部分的功能和使用方法。以下是添加了注释的代码：\n",
        "\n",
        "```python\n",
        "import os\n",
        "from IPython.display import Image, display\n",
        "from langchain_core.runnables.graph import MermaidDrawMethod\n",
        "import nest_asyncio\n",
        "from langchain.text_splitter import RecursiveCharacterTextSplitter\n",
        "from langchain_community.document_loaders import WebBaseLoader\n",
        "from langchain_chroma import Chroma\n",
        "# 注意：可调整此导入以使用不同的嵌入模型\n",
        "from models import OPENAI_EMBEDDING_MODEL as EMBEDDING_MODEL\n",
        "\n",
        "# LangGraph文档的URL列表，包含教程和概念说明\n",
        "LANGGRAPH_DOCS = [\n",
        "    \"https://langchain-ai.github.io/langgraph/\",\n",
        "    \"https://langchain-ai.github.io/langgraph/tutorials/customer-support/customer-support/\",\n",
        "    \"https://langchain-ai.github.io/langgraph/tutorials/chatbots/information-gather-prompting/\",\n",
        "    \"https://langchain-ai.github.io/langgraph/tutorials/code_assistant/langgraph_code_assistant/\",\n",
        "    \"https://langchain-ai.github.io/langgraph/tutorials/multi_agent/multi-agent-collaboration/\",\n",
        "    \"https://langchain-ai.github.io/langgraph/tutorials/multi_agent/agent_supervisor/\",\n",
        "    \"https://langchain-ai.github.io/langgraph/tutorials/multi_agent/hierarchical_agent_teams/\",\n",
        "    \"https://langchain-ai.github.io/langgraph/tutorials/plan-and-execute/plan-and-execute/\",\n",
        "    \"https://langchain-ai.github.io/langgraph/tutorials/rewoo/rewoo/\",\n",
        "    \"https://langchain-ai.github.io/langgraph/tutorials/llm-compiler/LLMCompiler/\",\n",
        "    \"https://langchain-ai.github.io/langgraph/concepts/high_level/\",\n",
        "    \"https://langchain-ai.github.io/langgraph/concepts/low_level/\",\n",
        "    \"https://langchain-ai.github.io/langgraph/concepts/agentic_concepts/\",\n",
        "    \"https://langchain-ai.github.io/langgraph/concepts/human_in_the_loop/\",\n",
        "    \"https://langchain-ai.github.io/langgraph/concepts/multi_agent/\",\n",
        "    \"https://langchain-ai.github.io/langgraph/concepts/persistence/\",\n",
        "    \"https://langchain-ai.github.io/langgraph/concepts/streaming/\",\n",
        "    \"https://langchain-ai.github.io/langgraph/concepts/faq/\"\n",
        "]\n",
        "\n",
        "def get_langgraph_docs_retriever():\n",
        "    \"\"\"\n",
        "    创建或加载LangGraph文档的向量检索器\n",
        "    \n",
        "    如果本地已存在向量存储，则直接加载；否则从URL获取文档，\n",
        "    进行分块、嵌入，然后存储到向量数据库中。\n",
        "    \n",
        "    Returns:\n",
        "        retriever: 配置好的向量检索器，lambda_mult=0表示使用相似度搜索\n",
        "    \"\"\"\n",
        "    # 如果指定路径存在向量存储，则直接加载\n",
        "    if os.path.exists(\"langgraph-docs-db\"):\n",
        "        print(\"Loading vectorstore from disk...\")\n",
        "        vectorstore = Chroma(\n",
        "            collection_name=\"langgraph-docs\",\n",
        "            embedding_function=EMBEDDING_MODEL,\n",
        "            persist_directory=\"langgraph-docs-db\"\n",
        "        )\n",
        "        return vectorstore.as_retriever(lambda_mult=0)\n",
        "\n",
        "    # 否则，从网络加载文档并创建新的向量存储\n",
        "    print(\"Downloading documents and creating vectorstore...\")\n",
        "    # 并行加载所有文档\n",
        "    docs = [WebBaseLoader(url).load() for url in LANGGRAPH_DOCS]\n",
        "    # 展平嵌套列表\n",
        "    docs_list = [item for sublist in docs for item in sublist]\n",
        "    # 使用基于tiktoken的递归文本分割器，每个块200token，无重叠\n",
        "    text_splitter = RecursiveCharacterTextSplitter.from_tiktoken_encoder(\n",
        "        chunk_size=200, chunk_overlap=0\n",
        "    )\n",
        "    # 分割文档\n",
        "    doc_splits = text_splitter.split_documents(docs_list)\n",
        "    # 创建Chroma向量存储\n",
        "    vectorstore = Chroma(\n",
        "        collection_name=\"langgraph-docs\",\n",
        "        embedding_function=EMBEDDING_MODEL,\n",
        "        persist_directory=\"langgraph-docs-db\"\n",
        "    )\n",
        "    # 添加文档到向量存储\n",
        "    vectorstore.add_documents(doc_splits)\n",
        "    # 持久化到磁盘\n",
        "    vectorstore.persist()\n",
        "    print(\"Vectorstore created and persisted to disk\")\n",
        "    return vectorstore.as_retriever(lambda_mult=0)\n",
        "\n",
        "def show_graph(graph, xray=False):\n",
        "    \"\"\"\n",
        "    显示LangGraph的Mermaid流程图，带有故障恢复机制\n",
        "    \n",
        "    尝试使用默认渲染器，如果失败则回退到pyppeteer渲染\n",
        "    \n",
        "    Args:\n",
        "        graph: 具有get_graph()方法的LangGraph对象\n",
        "        xray: 是否启用X射线模式，显示更多详细信息\n",
        "    \n",
        "    Returns:\n",
        "        IPython.display.Image: 渲染后的流程图图像\n",
        "    \"\"\"\n",
        "    try:\n",
        "        # 尝试使用默认渲染方法\n",
        "        return Image(graph.get_graph(xray=xray).draw_mermaid_png())\n",
        "    except Exception as e:\n",
        "        # 如果默认方法失败，回退到pyppeteer\n",
        "        print(f\"Default renderer failed: {str(e)}, falling back to pyppeteer.\")\n",
        "        # 应用nest_asyncio以允许在Jupyter中运行异步代码\n",
        "        nest_asyncio.apply()\n",
        "        # 使用pyppeteer渲染方法\n",
        "        return Image(graph.get_graph().draw_mermaid_png(draw_method=MermaidDrawMethod.PYPPETEER))\n",
        "```\n",
        "\n",
        "### 代码说明\n",
        "\n",
        "这段代码主要实现了两个功能：\n",
        "\n",
        "1. **文档检索器构建**：\n",
        "   - `get_langgraph_docs_retriever()` 函数负责管理LangGraph文档的向量存储\n",
        "   - 支持从本地磁盘加载现有向量存储，或从网络获取文档并创建新的向量存储\n",
        "   - 使用递归文本分割器将文档拆分为合适的块大小\n",
        "   - 使用指定的嵌入模型将文本转换为向量表示\n",
        "\n",
        "2. **流程图渲染**：\n",
        "   - `show_graph()` 函数用于可视化LangGraph流程图\n",
        "   - 提供了故障恢复机制，当默认渲染方法失败时自动切换到pyppeteer渲染\n",
        "   - 支持xray模式，可以显示更详细的流程信息\n",
        "\n",
        "这个代码模块为使用LangGraph文档进行问答或其他自然语言处理任务提供了基础支持。"
      ]
    },
    {
      "cell_type": "code",
      "execution_count": 12,
      "metadata": {
        "colab": {
          "base_uri": "https://localhost:8080/",
          "height": 414
        },
        "id": "lZAdK-HHBFq0",
        "outputId": "87da75d8-2b87-4a11-a01b-6edee600a45a"
      },
      "outputs": [
        {
          "ename": "ModuleNotFoundError",
          "evalue": "No module named 'models'",
          "output_type": "error",
          "traceback": [
            "\u001b[0;31m---------------------------------------------------------------------------\u001b[0m",
            "\u001b[0;31mModuleNotFoundError\u001b[0m                       Traceback (most recent call last)",
            "\u001b[0;32m/tmp/ipython-input-12-1009217955.py\u001b[0m in \u001b[0;36m<cell line: 0>\u001b[0;34m()\u001b[0m\n\u001b[1;32m      7\u001b[0m \u001b[0;32mfrom\u001b[0m \u001b[0mlangchain_chroma\u001b[0m \u001b[0;32mimport\u001b[0m \u001b[0mChroma\u001b[0m\u001b[0;34m\u001b[0m\u001b[0;34m\u001b[0m\u001b[0m\n\u001b[1;32m      8\u001b[0m \u001b[0;31m# NOTE: Adjust this import to use a different embedding model\u001b[0m\u001b[0;34m\u001b[0m\u001b[0;34m\u001b[0m\u001b[0m\n\u001b[0;32m----> 9\u001b[0;31m \u001b[0;32mfrom\u001b[0m \u001b[0mmodels\u001b[0m \u001b[0;32mimport\u001b[0m \u001b[0mOPENAI_EMBEDDING_MODEL\u001b[0m \u001b[0;32mas\u001b[0m \u001b[0mEMBEDDING_MODEL\u001b[0m\u001b[0;34m\u001b[0m\u001b[0;34m\u001b[0m\u001b[0m\n\u001b[0m\u001b[1;32m     10\u001b[0m \u001b[0;34m\u001b[0m\u001b[0m\n\u001b[1;32m     11\u001b[0m LANGGRAPH_DOCS = [\n",
            "\u001b[0;31mModuleNotFoundError\u001b[0m: No module named 'models'",
            "",
            "\u001b[0;31m---------------------------------------------------------------------------\u001b[0;32m\nNOTE: If your import is failing due to a missing package, you can\nmanually install dependencies using either !pip or !apt.\n\nTo view examples of installing some common dependencies, click the\n\"Open Examples\" button below.\n\u001b[0;31m---------------------------------------------------------------------------\u001b[0m\n"
          ]
        }
      ],
      "source": [
        "import os\n",
        "from IPython.display import Image, display\n",
        "from langchain_core.runnables.graph import MermaidDrawMethod\n",
        "import nest_asyncio\n",
        "from langchain.text_splitter import RecursiveCharacterTextSplitter\n",
        "from langchain_community.document_loaders import WebBaseLoader\n",
        "from langchain_chroma import Chroma\n",
        "# NOTE: Adjust this import to use a different embedding model\n",
        "from models import OPENAI_EMBEDDING_MODEL as EMBEDDING_MODEL\n",
        "\n",
        "LANGGRAPH_DOCS = [\n",
        "    \"https://langchain-ai.github.io/langgraph/\",\n",
        "    \"https://langchain-ai.github.io/langgraph/tutorials/customer-support/customer-support/\",\n",
        "    \"https://langchain-ai.github.io/langgraph/tutorials/chatbots/information-gather-prompting/\",\n",
        "    \"https://langchain-ai.github.io/langgraph/tutorials/code_assistant/langgraph_code_assistant/\",\n",
        "    \"https://langchain-ai.github.io/langgraph/tutorials/multi_agent/multi-agent-collaboration/\",\n",
        "    \"https://langchain-ai.github.io/langgraph/tutorials/multi_agent/agent_supervisor/\",\n",
        "    \"https://langchain-ai.github.io/langgraph/tutorials/multi_agent/hierarchical_agent_teams/\",\n",
        "    \"https://langchain-ai.github.io/langgraph/tutorials/plan-and-execute/plan-and-execute/\",\n",
        "    \"https://langchain-ai.github.io/langgraph/tutorials/rewoo/rewoo/\",\n",
        "    \"https://langchain-ai.github.io/langgraph/tutorials/llm-compiler/LLMCompiler/\",\n",
        "    \"https://langchain-ai.github.io/langgraph/concepts/high_level/\",\n",
        "    \"https://langchain-ai.github.io/langgraph/concepts/low_level/\",\n",
        "    \"https://langchain-ai.github.io/langgraph/concepts/agentic_concepts/\",\n",
        "    \"https://langchain-ai.github.io/langgraph/concepts/human_in_the_loop/\",\n",
        "    \"https://langchain-ai.github.io/langgraph/concepts/multi_agent/\",\n",
        "    \"https://langchain-ai.github.io/langgraph/concepts/persistence/\",\n",
        "    \"https://langchain-ai.github.io/langgraph/concepts/streaming/\",\n",
        "    \"https://langchain-ai.github.io/langgraph/concepts/faq/\"\n",
        "]\n",
        "\n",
        "def get_langgraph_docs_retriever():\n",
        "    # If there is a vectorstore at this path, early return as it is already persisted\n",
        "    if os.path.exists(\"langgraph-docs-db\"):\n",
        "        print(\"Loading vectorstore from disk...\")\n",
        "        vectorstore = Chroma(\n",
        "            collection_name=\"langgraph-docs\",\n",
        "            embedding_function=EMBEDDING_MODEL,\n",
        "            persist_directory=\"langgraph-docs-db\"\n",
        "        )\n",
        "        return vectorstore.as_retriever(lambda_mult=0)\n",
        "\n",
        "    # Otherwise, load the documents and persist to the vectorstore\n",
        "    docs = [WebBaseLoader(url).load() for url in LANGGRAPH_DOCS]\n",
        "    docs_list = [item for sublist in docs for item in sublist]\n",
        "    text_splitter = RecursiveCharacterTextSplitter.from_tiktoken_encoder(\n",
        "        chunk_size=200, chunk_overlap=0\n",
        "    )\n",
        "    doc_splits = text_splitter.split_documents(docs_list)\n",
        "    vectorstore = Chroma(\n",
        "        collection_name=\"langgraph-docs\",\n",
        "        embedding_function=EMBEDDING_MODEL,\n",
        "        persist_directory=\"langgraph-docs-db\"\n",
        "    )\n",
        "    vectorstore.add_documents(doc_splits)\n",
        "    print(\"Vectorstore created and persisted to disk\")\n",
        "    return vectorstore.as_retriever(lambda_mult=0)\n",
        "\n",
        "def show_graph(graph, xray=False):\n",
        "    \"\"\"Display a LangGraph mermaid diagram with fallback rendering.\n",
        "\n",
        "    Handles timeout errors from mermaid.ink by falling back to pyppeteer.\n",
        "\n",
        "    Args:\n",
        "        graph: The LangGraph object that has a get_graph() method\n",
        "    \"\"\"\n",
        "    from IPython.display import Image\n",
        "    try:\n",
        "        # Try the default renderer first\n",
        "        return Image(graph.get_graph(xray=xray).draw_mermaid_png())\n",
        "    except Exception as e:\n",
        "        # Fall back to pyppeteer if the default renderer fails\n",
        "        import nest_asyncio\n",
        "        nest_asyncio.apply()\n",
        "        from langchain_core.runnables.graph import MermaidDrawMethod\n",
        "        return Image(graph.get_graph().draw_mermaid_png(draw_method=MermaidDrawMethod.PYPPETEER))"
      ]
    },
    {
      "cell_type": "code",
      "execution_count": null,
      "metadata": {
        "id": "WJrPUKzF_PSd"
      },
      "outputs": [],
      "source": [
        "from utils import get_langgraph_docs_retriever\n"
      ]
    },
    {
      "cell_type": "code",
      "execution_count": 57,
      "metadata": {
        "id": "-q6898D0HiMs"
      },
      "outputs": [],
      "source": [
        "from langchain_openai import ChatOpenAI\n",
        "llm = ChatOpenAI(model_name=\"gpt-4o-mini\", temperature=0)"
      ]
    },
    {
      "cell_type": "code",
      "execution_count": 64,
      "metadata": {
        "id": "BtTTYKqOHaht"
      },
      "outputs": [],
      "source": [
        "def get_langgraph_docs_retriever():\n",
        "    # If there is a vectorstore at this path, early return as it is already persisted\n",
        "    if os.path.exists(\"langgraph-docs-db\"):\n",
        "        print(\"Loading vectorstore from disk...\")\n",
        "        vectorstore = Chroma(\n",
        "            collection_name=\"langgraph-docs\",\n",
        "            embedding_function=EMBEDDING_MODEL,\n",
        "            persist_directory=\"langgraph-docs-db\"\n",
        "        )\n",
        "        return vectorstore.as_retriever(lambda_mult=0)\n",
        "\n",
        "    # Otherwise, load the documents and persist to the vectorstore\n",
        "    docs = [WebBaseLoader(url).load() for url in LANGGRAPH_DOCS]\n",
        "    docs_list = [item for sublist in docs for item in sublist]\n",
        "    text_splitter = RecursiveCharacterTextSplitter.from_tiktoken_encoder(\n",
        "        chunk_size=200, chunk_overlap=0\n",
        "    )\n",
        "    doc_splits = text_splitter.split_documents(docs_list)\n",
        "    vectorstore = Chroma(\n",
        "        collection_name=\"langgraph-docs\",\n",
        "        embedding_function=EMBEDDING_MODEL,\n",
        "        persist_directory=\"langgraph-docs-db\"\n",
        "    )\n",
        "    vectorstore.add_documents(doc_splits)\n",
        "    print(\"Vectorstore created and persisted to disk\")\n",
        "    return vectorstore.as_retriever(lambda_mult=0)\n"
      ]
    },
    {
      "cell_type": "code",
      "execution_count": 69,
      "metadata": {
        "id": "vpHmCO5JHrCm"
      },
      "outputs": [],
      "source": [
        "from langchain_openai import OpenAIEmbeddings, AzureOpenAIEmbeddings, AzureChatOpenAI\n",
        "\n",
        "\n",
        "\n",
        "\n",
        "\n",
        "\"\"\"\n",
        "Embedding Models\n",
        "\"\"\"\n",
        "\n",
        "EMBEDDING_MODEL = OpenAIEmbeddings()\n",
        "\n"
      ]
    },
    {
      "cell_type": "code",
      "execution_count": 70,
      "metadata": {
        "colab": {
          "base_uri": "https://localhost:8080/"
        },
        "id": "Y8suK_51FKfd",
        "outputId": "7de4a4fd-a863-479c-e492-0321f865ed38"
      },
      "outputs": [
        {
          "name": "stdout",
          "output_type": "stream",
          "text": [
            "Loading vectorstore from disk...\n"
          ]
        }
      ],
      "source": [
        "retriever = get_langgraph_docs_retriever()"
      ]
    },
    {
      "cell_type": "markdown",
      "metadata": {
        "id": "6kHclBrR_PSd"
      },
      "source": [
        "I like to clean up the logs to make them easier to read."
      ]
    },
    {
      "cell_type": "code",
      "execution_count": 32,
      "metadata": {
        "id": "mHyzh5ax_PSe"
      },
      "outputs": [],
      "source": [
        "import logging\n",
        "\n",
        "# Suppress HTTP request logs\n",
        "logging.getLogger(\"httpx\").setLevel(logging.WARNING)  # For httpx\n",
        "logging.getLogger(\"requests\").setLevel(logging.WARNING)  # For requests\n",
        "logging.getLogger(\"openai\").setLevel(logging.WARNING)  # For OpenAI API"
      ]
    },
    {
      "cell_type": "markdown",
      "metadata": {
        "id": "HLMUZJ3T_PSe"
      },
      "source": [
        "## Pre-work: Background Concepts"
      ]
    },
    {
      "cell_type": "markdown",
      "metadata": {
        "id": "sI8q64JV_PSe"
      },
      "source": [
        "Feel free to skip this section if you're already familiar with the LangChain ChatModel and Messages concepts.\n",
        "\n",
        "In this course, we'll be using [Chat Models](https://python.langchain.com/v0.2/docs/concepts/#chat-models), which take a sequence of messages as inputs and return chat messages as outputs. By default, the course will use [ChatOpenAI](https://python.langchain.com/v0.2/docs/integrations/chat/openai/) because it is both popular and performant.\n",
        "\n",
        "Let's instantiate a Chat Model using ChatOpenAI! We use gpt-4o because it is a good balance of speed and quality, but feel free to use other models like gpt-3.5-turbo."
      ]
    },
    {
      "cell_type": "code",
      "execution_count": 38,
      "metadata": {
        "id": "tQ6WpLER_PSe"
      },
      "outputs": [],
      "source": [
        "from langchain_openai import ChatOpenAI\n",
        "llm = ChatOpenAI(model_name=\"gpt-4o-mini\", temperature=0)\n",
        "\n",
        "# Note: If you are using another `ChatModel`, you can define it in `models.py` and import it here\n",
        "# from models import AZURE_OPENAI_GPT_4O\n",
        "# llm = AZURE_OPENAI_GPT_4O"
      ]
    },
    {
      "cell_type": "markdown",
      "metadata": {
        "id": "Zbrrr9yv_PSe"
      },
      "source": [
        "Chat models in LangChain have a number of [default methods](https://python.langchain.com/v0.2/docs/concepts/#runnable-interface). For now we'll use `invoke`, which call the model on an input.\n",
        "\n",
        "Chat models take [messages](https://python.langchain.com/v0.2/docs/concepts/#messages) as input. LangChain supports various message types, including `HumanMessage`, `AIMessage`, `SystemMessage`, and `ToolMessage`. Let's create a list of messages."
      ]
    },
    {
      "cell_type": "code",
      "execution_count": 39,
      "metadata": {
        "colab": {
          "base_uri": "https://localhost:8080/"
        },
        "id": "tvYqmmbn_PSe",
        "outputId": "ef75dccf-b8b8-411b-fb3d-15aeee0839e4"
      },
      "outputs": [
        {
          "name": "stdout",
          "output_type": "stream",
          "text": [
            "==================================\u001b[1m Ai Message \u001b[0m==================================\n",
            "Name: Model\n",
            "\n",
            "So you said you were researching ocean mammals?\n",
            "================================\u001b[1m Human Message \u001b[0m=================================\n",
            "Name: Lance\n",
            "\n",
            "Yes, that's right.\n",
            "==================================\u001b[1m Ai Message \u001b[0m==================================\n",
            "Name: Model\n",
            "\n",
            "Great, what would you like to learn about.\n",
            "================================\u001b[1m Human Message \u001b[0m=================================\n",
            "Name: Lance\n",
            "\n",
            "I want to learn about the best place to see Orcas in the US.\n"
          ]
        }
      ],
      "source": [
        "from langchain_core.messages import AIMessage, HumanMessage\n",
        "\n",
        "# Some sample messages about orcas\n",
        "messages = [AIMessage(content=f\"So you said you were researching ocean mammals?\", name=\"Model\")]\n",
        "messages.append(HumanMessage(content=f\"Yes, that's right.\",name=\"Lance\"))\n",
        "messages.append(AIMessage(content=f\"Great, what would you like to learn about.\", name=\"Model\"))\n",
        "messages.append(HumanMessage(content=f\"I want to learn about the best place to see Orcas in the US.\", name=\"Lance\"))\n",
        "\n",
        "for m in messages:\n",
        "    m.pretty_print()"
      ]
    },
    {
      "cell_type": "markdown",
      "metadata": {
        "id": "vesExQRZ_PSe"
      },
      "source": [
        "The ChatModel interface is consistent across all chat models and models are typically initialized once at the start up each notebooks. The benefit here is that you can easily switch between models without changing the downstream code if you have strong preference for another provider.\n",
        "\n",
        "Let's run our ChatModel on these Messages now!"
      ]
    },
    {
      "cell_type": "markdown",
      "metadata": {
        "id": "L_fjCRM0C1ly"
      },
      "source": [
        "ChatModel接口在所有聊天模型中是一致的，并且模型通常在启动每个笔记本时初始化一次。这样做的好处是，如果您对另一个提供者有强烈的偏好，您可以轻松地在模型之间切换，而无需更改下游代码。现在让我们在这些消息上运行ChatModel ！"
      ]
    },
    {
      "cell_type": "code",
      "execution_count": 36,
      "metadata": {
        "colab": {
          "base_uri": "https://localhost:8080/"
        },
        "id": "0gfhkjocDGsy",
        "outputId": "9a428961-d58d-47db-fb1d-267112fd6d35"
      },
      "outputs": [
        {
          "name": "stdout",
          "output_type": "stream",
          "text": [
            "client=<openai.resources.chat.completions.completions.Completions object at 0x7da0fbe6a490> async_client=<openai.resources.chat.completions.completions.AsyncCompletions object at 0x7da0fbe6af10> root_client=<openai.OpenAI object at 0x7da0fab07f90> root_async_client=<openai.AsyncOpenAI object at 0x7da1018d2250> model_name='gpt-4-o-mini' temperature=0.0 model_kwargs={} openai_api_key=SecretStr('**********') openai_api_base='http://47.84.70.98:9000/v1/'\n"
          ]
        }
      ],
      "source": [
        "print(llm)"
      ]
    },
    {
      "cell_type": "markdown",
      "metadata": {
        "id": "4X7eqNcdDF8v"
      },
      "source": []
    },
    {
      "cell_type": "code",
      "execution_count": 40,
      "metadata": {
        "colab": {
          "base_uri": "https://localhost:8080/"
        },
        "id": "KlMZlvFh_PSe",
        "outputId": "3945c604-43a6-461f-c477-9d88e1dbf0ef"
      },
      "outputs": [
        {
          "data": {
            "text/plain": [
              "AIMessage(content=\"One of the best places to see orcas in the U.S. is the Pacific Northwest, particularly around the San Juan Islands in Washington State. The waters surrounding these islands are home to resident orca pods, especially the Southern Resident Killer Whales. \\n\\nAnother excellent location is the waters off the coast of Alaska, where transient orcas can often be spotted. Places like Kenai Fjords National Park and Glacier Bay National Park are popular for orca watching.\\n\\nAdditionally, you can also see orcas in California, particularly around Monterey Bay, where they are sometimes spotted during their migration.\\n\\nIf you're planning a trip, consider going during the summer months (May to September) when orca sightings are more frequent. There are also various whale-watching tours available in these areas that can enhance your chances of seeing these magnificent creatures.\", additional_kwargs={'refusal': None}, response_metadata={'token_usage': {'completion_tokens': 166, 'prompt_tokens': 67, 'total_tokens': 233, 'completion_tokens_details': {'accepted_prediction_tokens': 0, 'audio_tokens': 0, 'reasoning_tokens': 0, 'rejected_prediction_tokens': 0}, 'prompt_tokens_details': {'audio_tokens': 0, 'cached_tokens': 0}}, 'model_name': 'gpt-4o-mini-2024-07-18', 'system_fingerprint': 'fp_7a53abb7a2', 'id': 'chatcmpl-Blp5uQm5KVsdDmaWZXMgsabkQFd8I', 'service_tier': None, 'finish_reason': 'stop', 'logprobs': None}, id='run--d3170052-d41c-419d-8069-6a19120a2183-0', usage_metadata={'input_tokens': 67, 'output_tokens': 166, 'total_tokens': 233, 'input_token_details': {'audio': 0, 'cache_read': 0}, 'output_token_details': {'audio': 0, 'reasoning': 0}})"
            ]
          },
          "execution_count": 40,
          "metadata": {},
          "output_type": "execute_result"
        }
      ],
      "source": [
        "llm.invoke(messages)"
      ]
    },
    {
      "cell_type": "markdown",
      "metadata": {
        "id": "0Lx6PUtD_PSf"
      },
      "source": [
        "## Part 1: LangGraph Basics"
      ]
    },
    {
      "cell_type": "markdown",
      "metadata": {
        "id": "771lt-hGEFRi"
      },
      "source": [
        "![simple_rag.png](data:image/png;base64,iVBORw0KGgoAAAANSUhEUgAAArgAAADgCAYAAADoghWcAAAKq2lDQ1BJQ0MgUHJvZmlsZQAASImVlwdUk9kSgO//p4cEAgkISAm9CdIJICX00HsTlZAECCXEQFCwI4srsKKIiIC6oqsiCq5KkbUgFiwsAhZQ0QVZBJR1sSAqKu8HDmF333nvnTc5c+6X+efOzP3PnZwJAGQaWyhMgSkApAoyRMGeLvTIqGg6bgQQAA2QABUQ2Zx0ITMw0BcgMr/+XT48BNDMes94Jta/P/+vIsvlpXMAgAIRjuOmc1IRPofoOEcoygAAdQSxa63JEM7wTYRpIqRAhPtmOGGOx2c4bpbR6Fmf0GBXhBUBwJPYbFECACRtxE7P5CQgcUhuCJsKuHwBwsh34JiamsZFGMkL9BEfIcIz8Rlxf4mT8LeYcZKYbHaChOfOMit4N366MIWd9X++jv8tqSni+Ry6iJISRV7ByIrUBfUmp/lIWBDnHzDPfO6s/ywnir3C5pmT7ho9z1y2m49kb4q/7zzH8z1YkjgZrNB55qW7h8yzKC1Ykite5MqcZ7ZoIa84OUxiT+SxJPGzE0Mj5jmTH+4/z+nJIT4LPq4Su0gcLKmfJ/B0WcjrITl7avpfzstnSfZmJIZ6Sc7OXqifJ2AuxEyPlNTG5bm5L/iESfyFGS6SXMKUQIk/L8VTYk/PDJHszUAu5MLeQMk7TGJ7B84zcAPuwBf50EEYMAc2iFqAIOCewVs7c0eBa5owS8RPSMygM5Eu49FZAo7JErq5qbklADM9O3cl3vXO9iKkgF+w5eYAsGwagbsLNj9Ez+xGrs+6BZsOUhcF6Ynrv3PEosw520w7AQwgAhnk90AJqAEtoA+MkdqsgT1wRir2BgEgFESBlYADEkEqEIE1YD3YAvJAAdgJ9oBycBAcBsfBKXAGNIIL4Aq4Ae6ATvAAPAH9YAi8AuPgA5iCIAgHkSEqpASpQzqQEWQOMSBHyB3yhYKhKCgWSoAEkBhaD22FCqBiqBw6BFVDP0PnoSvQLagLegQNQKPQW+gzjIJJMA1WhXXhpTADZsI+cCi8Ak6AV8PZcC68Ay6Dq+CTcAN8Bb4DP4D74VfwBAqgpFAKKA2UMYqBckUFoKJR8SgRaiMqH1WKqkLVoppRbah7qH7UGOoTGoumouloY7Q92gsdhuagV6M3ogvR5ejj6Ab0NfQ99AB6HP0NQ8aoYIwwdhgWJhKTgFmDycOUYo5i6jHXMQ8wQ5gPWCxWAauHtcF6YaOwSdh12ELsfmwdtgXbhR3ETuBwOCWcEc4BF4Bj4zJwebh9uJO4y7hu3BDuI14Kr443x3vgo/ECfA6+FH8CfwnfjR/GTxEoBB2CHSGAwCVkEYoIRwjNhLuEIcIUUZaoR3QghhKTiFuIZcRa4nViH/GdlJSUppStVJAUX2qzVJnUaambUgNSn0hyJEOSKymGJCbtIB0jtZAekd6RyWRdsjM5mpxB3kGuJl8lPyN/lKZKm0izpLnSm6QrpBuku6VfyxBkdGSYMitlsmVKZc7K3JUZoxAouhRXCpuykVJBOU/poUzIUmXNZANkU2ULZU/I3pIdkcPJ6cq5y3HlcuUOy12VG6SiqFpUVyqHupV6hHqdOkTD0vRoLFoSrYB2itZBG5eXk7eUD5dfK18hf1G+XwGloKvAUkhRKFI4o/BQ4fMi1UXMRbxF2xfVLupeNKm4WNFZkaeYr1in+EDxsxJdyV0pWWmXUqPSU2W0sqFykPIa5QPK15XHFtMW2y/mLM5ffGbxYxVYxVAlWGWdymGVdpUJVTVVT1Wh6j7Vq6pjagpqzmpJaiVql9RG1anqjup89RL1y+ov6fJ0Jj2FXka/Rh/XUNHw0hBrHNLo0JjS1NMM08zRrNN8qkXUYmjFa5VotWqNa6tr+2mv167RfqxD0GHoJOrs1WnTmdTV043Q3abbqDuip6jH0svWq9Hr0yfrO+mv1q/Sv2+ANWAYJBvsN+g0hA2tDBMNKwzvGsFG1kZ8o/1GXUswS2yXCJZULekxJhkzjTONa4wHTBRMfE1yTBpNXi/VXhq9dNfStqXfTK1MU0yPmD4xkzPzNssxazZ7a25ozjGvML9vQbbwsNhk0WTxxtLIkmd5wLLXimrlZ7XNqtXqq7WNtci61nrURtsm1qbSpodBYwQyChk3bTG2LrabbC/YfrKztsuwO2P3p72xfbL9CfuRZXrLeMuOLBt00HRgOxxy6HekO8Y6/ujY76ThxHaqcnrurOXMdT7qPMw0YCYxTzJfu5i6iFzqXSZd7Vw3uLa4odw83fLdOtzl3MPcy92feWh6JHjUeIx7Wnmu82zxwnj5eO3y6mGpsjisata4t433Bu9rPiSfEJ9yn+e+hr4i32Y/2M/bb7dfn7+Ov8C/MQAEsAJ2BzwN1AtcHfhLEDYoMKgi6EWwWfD64LYQasiqkBMhH0JdQotCn4Tph4nDWsNlwmPCq8MnI9wiiiP6I5dGboi8E6UcxY9qisZFh0cfjZ5Y7r58z/KhGKuYvJiHK/RWrF1xa6XyypSVF1fJrGKvOhuLiY2IPRH7hR3ArmJPxLHiKuPGOa6cvZxXXGduCXeU58Ar5g3HO8QXx48kOCTsThhNdEosTRzju/LL+W+SvJIOJk0mByQfS55OiUipS8WnxqaeF8gJkgXX0tTS1qZ1CY2EecL+1Xar96weF/mIjqZD6SvSmzJoyHDULtYXfyceyHTMrMj8uCZ8zdm1smsFa9uzDLO2Zw1ne2T/tA69jrOudb3G+i3rBzYwNxzaCG2M29i6SWtT7qahzZ6bj28hbkne8muOaU5xzvutEVubc1VzN+cOfuf5XU2edJ4or2eb/baD36O/53/fsd1i+77t3/K5+bcLTAtKC74Ucgpv/2D2Q9kP0zvid3QUWRcd2IndKdj5cJfTruPFssXZxYO7/XY3lNBL8kve71m151apZenBvcS94r39Zb5lTfu09+3c96U8sfxBhUtFXaVK5fbKyf3c/d0HnA/UHlQ9WHDw84/8H3sPeR5qqNKtKj2MPZx5+MWR8CNtPzF+qj6qfLTg6NdjgmP9x4OPX6u2qa4+oXKiqAauEdeMnow52XnK7VRTrXHtoTqFuoLT4LT49MufY39+eMbnTOtZxtnaczrnKuup9fkNUENWw3hjYmN/U1RT13nv863N9s31v5j8cuyCxoWKi/IXiy4RL+Vemr6cfXmiRdgydiXhymDrqtYnVyOv3r8WdK3jus/1mzc8blxtY7Zdvulw88Itu1vnbzNuN96xvtPQbtVe/6vVr/Ud1h0Nd23uNnXadjZ3Leu61O3UfeWe270b91n37zzwf9D1MOxhb09MT38vt3fkUcqjN48zH0892dyH6ct/Snla+kzlWdVvBr/V9Vv3XxxwG2h/HvL8ySBn8NXv6b9/Gcp9QX5ROqw+XD1iPnJh1GO08+Xyl0OvhK+mxvL+kP2j8rX+63N/Ov/ZPh45PvRG9Gb6beE7pXfH3lu+b50InHj2IfXD1GT+R6WPxz8xPrV9jvg8PLXmC+5L2VeDr83ffL71TadOTwvZIvbsKIBCFI6PB+DtMQDIUQBQOwEgLp+bqWcFmvsfMEvgP/Hc3D0r1gCcagEg0BkAt5Y51kHMMs5ztlBnAFtYSHR+/p2d1WeEchIAlyymuY/vb2+NwT9lbo7/S93/XIEk6t/WfwGNbQZcCkYkugAAAIplWElmTU0AKgAAAAgABAEaAAUAAAABAAAAPgEbAAUAAAABAAAARgEoAAMAAAABAAIAAIdpAAQAAAABAAAATgAAAAAAAACQAAAAAQAAAJAAAAABAAOShgAHAAAAEgAAAHigAgAEAAAAAQAAArigAwAEAAAAAQAAAOAAAAAAQVNDSUkAAABTY3JlZW5zaG90KE8VUgAAAAlwSFlzAAAWJQAAFiUBSVIk8AAAAdZpVFh0WE1MOmNvbS5hZG9iZS54bXAAAAAAADx4OnhtcG1ldGEgeG1sbnM6eD0iYWRvYmU6bnM6bWV0YS8iIHg6eG1wdGs9IlhNUCBDb3JlIDYuMC4wIj4KICAgPHJkZjpSREYgeG1sbnM6cmRmPSJodHRwOi8vd3d3LnczLm9yZy8xOTk5LzAyLzIyLXJkZi1zeW50YXgtbnMjIj4KICAgICAgPHJkZjpEZXNjcmlwdGlvbiByZGY6YWJvdXQ9IiIKICAgICAgICAgICAgeG1sbnM6ZXhpZj0iaHR0cDovL25zLmFkb2JlLmNvbS9leGlmLzEuMC8iPgogICAgICAgICA8ZXhpZjpQaXhlbFlEaW1lbnNpb24+MjI0PC9leGlmOlBpeGVsWURpbWVuc2lvbj4KICAgICAgICAgPGV4aWY6UGl4ZWxYRGltZW5zaW9uPjY5NjwvZXhpZjpQaXhlbFhEaW1lbnNpb24+CiAgICAgICAgIDxleGlmOlVzZXJDb21tZW50PlNjcmVlbnNob3Q8L2V4aWY6VXNlckNvbW1lbnQ+CiAgICAgIDwvcmRmOkRlc2NyaXB0aW9uPgogICA8L3JkZjpSREY+CjwveDp4bXBtZXRhPgqcf0hIAAAAHGlET1QAAAACAAAAAAAAAHAAAAAoAAAAcAAAAHAAACjLByPv7gAAKJdJREFUeAHsnQd8FMUXxx8llFBDC7333qtUERAVBRUFRVCUvwoqiIpK76I0BVRQwF6wYMUuAtJEekdK6C2QhBAgCeX/3lxmmdvcJblcgNzmN3zIbZmd3fnu3ud++96bN5mucCEUEAABEAABEAABEAABEHAIgUwQuA65k+gGCIAACIAACIAACICAIgCBiwcBBEAABEAABEAABEDAUQQgcB11O9EZEAABEAABEAABEAABCFw8AyAAAiAAAiAAAiAAAo4iAIHrqNuJzoAACIAACIAACIAACEDg4hkAARAAARAAARAAARBwFAEIXEfdTnQGBEAABEAABEAABEAAAhfPAAiAAAiAAAiAAAiAgKMIQOA66naiMyAAAiAAAiAAAiAAAhC4eAZAAARAAARAAARAAAQcRQAC11G3E50BARAAARAAARAAARCAwMUzAAIgAAIgAAIgAAIg4CgCELiOup3oDAiAAAiAAAiAAAiAAAQungEQAAEQAAEQAAEQAAFHEYDAddTtRGdAAARAAARAAARAAAQgcPEMgAAIgAAIgAAIgAAIOIoABK6jbic6AwIgAAIgAAIgAAIgAIGLZwAEQAAEQAAEQAAEQMBRBCBwHXU70RkQAAEQAAEQAAEQAAEIXDwDIAACIAACIAACIAACjiIAgeuo24nOgAAIgAAIgAAIgAAIQODiGQABEAABEAABEAABEHAUAQhcR91OdAYEQAAEQAAEQAAEQAACF88ACIAACIAACIAACICAowhA4DrqdqIzIAACIAACIAACIAACELh4BkAABEAABEAABEAABBxFAALXUbcTnQEBEAABEAABEAABEIDAxTMAAiAAAiAAAiAAAiDgKAIQuI66negMCIAACIAACIAACIAABC6eARAAARAAARAAARAAAUcRgMB11O1EZ0AABEAABEAABEAABCBw8QyAAAiAAAiAAAiAAAg4igAErqNuJzoDAiAAAiAAAiAAAiAAgYtnAARAAARAAARAAARAwFEEIHAddTvRGRAAARAAARAAARAAAQhcPAMgAAIgAAIgAAIgAAKOIgCB66jbic6AAAiAAAiAAAiAAAhA4OIZAAEQAAEQAAEQAAEQcBQBCFxH3U50BgRAAARAAARAAARAAAIXzwAIgAAIgAAIgAAIgICjCEDgOup2ojMgAAIgAAIgAAIgAAIQuHgGQAAEQAAEQAAEQAAEHEUAAtdRtxOdAQEQAAEQAAEQAAEQgMDFMwACIAACIAACIAACIOAoAhC4jrqd6AwIgAAIgAAIgAAIgAAELp4BEAABEAABEAABEAABRxGAwHXU7URnQAAEQAAEQAAEQAAEIHDxDIAACIAACIAACIAACDiKAASuo24nOgMCIAACIAACIAACIACBi2cABEAABEAABEAABEDAUQQgcB11O9EZEAABEAABEAABEAABCFw8AyAAAiDgUALxl67QtoPRtP3gGdp5KJoyZyaqWioPVS2Rl6rzZ5bMmRzac3QLBEAgoxOAwM3oTwD6DwIg4EgC/x05S8/O2UiRkbEe+1e6RG6a8URdKpA7m8f92OgiMJAZrt9+ml8OMtHiKW2ABQRAIEAIQOAGyI3CZYJAeidwMPw8fbn8MFUvnYc61A2lTDAO3rBb9sv64zTu/a1u58+ZI6taP3/horW9cMGc9PXwZtY6FhITeHzWetr6X4TasWx6u8QVsAUEQCBdEoDATZe3BRflFAIiNE6diUvUnfy5g6hckVxUoVguypaV/cYBXq5cIbpt+DKKPhuvejKmby1qW6twgPcqMC//fNwl6vzSMrp46bLqQM3KITT+oRqWpTbs+DkaMGsdRUfH0+zBDalqyTyB2dHrdNUQuNcJNE4DAmlMAAI3jYGiORAwCXQbu5JOnjpvbnJbzp49Cz11d2W6s3Ext+3+rHz81wGa8+0e1cSbgxpSDbaoXutyLvYSdRyyxDrNg53K0f/4P8r1JzDrx7302W9h6sRNaxem1x6plegiImPiKeJsHJULzZVon7ysbNp/RsXtHmarfIlCOfkZyku1yuRNVFfaWZNg3WxYKYRys5V43Z4IWr0zgvLmykr1yodQnbKJjzMbEsG96cAZ2sMhFSF5gqhy8dzUqFIBCsri7gI4zde7dnekeSg1rVKA8uTMSit2nKINe6Po8uUrKsa4Xe0iZIYX7z0WQ8u5ThZ2K+TMnplKFgym0oVzUmj+HG7t6ZX1eyMpPOHFdPaPe+j4Sdd3eESfmrqK9VmpWG4qGxpsresFedHYuC+KOUaTcKrA/apXLh+VYp4oIAAC154ABO61Z4wzZGACyQlcjWZY7xrUsV6oXvXrc/4f+2ne9y6BO/nJutSkcgG/2kvpwW8tEmG1nwoWyEFzBtanQnmyp/RQ1EtDAh1eXEo6DGHByOZULMSziPN0yhNRsTT4nU0UxgPS7KU2i8lxbAkOyRVk7VrLYnbgjPVqXZ7hKZ/vtM6tK7VrXJRG96yuV63PuIuX6ZUvd9Jvq45a2/RC/vzZ6bVH67B1ObfeRMu2naKXOR7WLOMerU2LN5+gP1YfMzdTeRbk8/nlTovceSz457Pwt5cSRYNpULfKib4jfV9fS7tYnKak9OxQlp7oXN6tqgjkl+ZuphgWtvZyd7vSNOD2CpRVX5y9AtZBAATShAAEbppgRCMg4JmAFrglORTh/cGNVKVLbGVaueM0LVh2yIrtE0vu75Nae27Ex603SuDKZXLXLFHh42WjehoQkKwJ7QYvVi1VKZ+f3n26fopblWPvGPG3myjLzBbPy2LSTSj2Nk2BK/G83rwVIx+uSe3rFNHNqM9n526iNZvDrW32c2XNkpl+nNCSgvm7IWXVztM05G2XwNXXdEvTYpZAlvo6LEPqmy+Nk77aRT/w981bmTagHjWsGGLtfn7eZvon4dr0uWSnXKO9PNS5HPW9pay1WazFvV9Zba3Lgr1vvVkQP8rCGAUEQODaEYDAvXZs0TIIkBa4pYrnok9eaOJGRMRghxeXUCy796V8NboFFcnnbvVMqZtz/4lztItdvFJ+33CCVvB/KXe2LkV12C1qloJ5s1F9Fj9S/HH7Hjl9gbaya9lTacLWvrzsOk6qpNQ1vY6tYTqOuXm1gpQrQfCYbUvGgDBmIEVc5aaVUballKPUDeQiz8GDE1apLtzcpCiN6pHYcuqtf+aLkQjZVx+pqeJ2T56Jpaff2kCHjsaoQ00xaApc2dmtbWnqf1t5ij4fTzN+2GNZVsX6O4szNugibvt+U9ao1Twcjz718boqFlisuuMX7KA//3FZZLu3L0NPsbXTLGY4jLwYZuUY9vnPNVKW6g84POedb3ar6vb+y/ctLv4yxcTG06FTsfTTv8fox79doleuYdG4luZprGVfY3DN+sJDrLUSbiHhCoPf3qC+7yJ4f5zYikM6XOLdOhkWQAAE0owABG6aoURDIJCYQFICV2qP+nSbJQKm9q/HsYdXrUi+uDnn/LKPPvxpX+IL8LClAsdSvsfuWyn+uH0XLD9EM77Y5eEMRBL76ylmUyr76po2rW9Pd69M9zYvmeicvSavsdzq815oTJU43lEXXzjqYwL18+/tp+il2S4rpxkHfSHuMv3Jrnx7kfhRzUo/q1Lni1HNqagRnyoxrtp6eu/NZejpO1yi0xS4RYsE0xcvN7VOEXXuIt3+8lK1XojDVhaOaG7tm/jFTlrEGTekPNezmlsMuilgJZXZx883to6TBXO/rE/pX5cac8yulPDoWOo6fLlatotqtdH2Z8xn2y0L8A8TWlG+4MQvZaZgTS6LgnltnkTzVBbfC1mES7F/322XhlUQAAE/CUDg+gkQh4NAUgS0aPBkwZXj/jdzPW3b7UpB9M3YFlQwIW7VVzfn+4s57vY7V4xhci7V6pXy01tP1lOX7Y/bd9HaYzTxw20eu5+UwPXVNS2W6b6v/qPOU7FsPpo/sIHbOWUAzx1Dl6ltBUKy07cjW1j7feVoHRigCyLmn35jnbp6sd4/17WSWj4acYG6j16RqFfN6xahSQkDp1oPWqzCEURUvjXAPbRBXP93DvtbHW8OXDMF7m03laQX76nsdo47Ri1XeXhzcdzuz+OvWki1aBRL5ldjmnMmEXdL5uMz1tLBIzEkqc1+faWVW5umiBQL7m+vtHZLSffPf6dJoipC8+VwG/wlx4k34GjEeToVFU/5eBDcAR48pkMX3uBwjnoJng3zhPpaZVtyAnfHobP02GTXs9q1TWl6tGNZsynasj/KelEYeF8VurtZCbf9WAEBEEg7AhC4accSLYFAIgJJCVzzx9Bu7TF/VH11c5qu5pQOMrOLhpS6fc0Om6P3vQnc1Lqm7xy9nE5HuCYsWMSuXRk5r8tXKw/TdB7cJOUBztzwuJG9wR+Ouv1A+pRwgm4jXBbMxrUK0ZS+tdXlJydwz164RLdyuExKivmSYQrcXreWo34d3TNneBO45v1M7px2UWk+q95eHO1tzv55H33yS5hbPLG9jmkJNveZz5D9Wsx6svz7xhM0ev4W+2aP6/Zn1WMlbAQBEEg1AQjcVKPDgSCQPAEtcMXS1JKtZVKu8L+1nEbJnGGqTcNQGvtgDbXf/AG3C1+pkJyb01+BK+cwf+xT6vZNicBNrWt6Lo+Cfy9hFPwgtnx1Myxf/Waso+17XOmjzKwB/nIUDoFWxHLZatCf6rLzcaz1D2NuUssSf3r6rOsFQTb0eW0NRXEaLG3BNQenqQOS+FODw2je5nAaKabAfYgHTj1mGzjlTeD2mLTaiulN4lRqcNaSaW3dqpj3tU7VAjST43eTKsu2hXP2hU1WFRmMVrRITorneN+T4Rcs0Ws+81ZlXvBF4IpH5HmOV05J6dulAvVpVyYlVVEHBEAgFQQgcFMBDYeAQEoJaIGbVP0G1QvSRHYT58zmctOalt3UuDn9Fbi+uH3NfqVE4Gqx4Ktr2rRMmiP5TbEjmSo+HXJ1IJ+/HM2+BdKyaR0dzTlw23EuXHvRwlMLXNnfeZhrog65N5+PbMaDBIPsh6n1rDxgSk9OklqB+/IHW2nZuuOqvQn9alODCldjz82TStIC/b3Q28173oit1FMTrNR6v/2zE4ev6HRd8/n5qMjPiS5fs/V/WoL135vAHcADwzZy1hMpH3GMcRmONfZWzOdUUpDNG+TKnOKpfragzEgV5gkMtoFAGhGAwE0jkGgGBDwRMAWuxCFKuczpmHSeUsn3+f2oqzGjst9fN6e/Ajelbl+5VrOkROCa4ss81tOy3R3cZ9q/tIcnIJDyE8ddygj0n9YepwkfblXbnuB4054cd6qLvxx1O4H2+e0/R2nyJ9vVZYsHYNZT9RNN6OBJ4JpCrlWDUBrfy+VRSKr/qRW4H/FAq9kJ2Q7kO/D18OaJJnbwdl5fBK4MaLz5ub9UU9Uq5Kc5zMIsT7y5nrbscsXAexO45iDHHmyhftKW89ZsT5bbDv7LSlf2/APVqUujovYqWAcBELgOBCBwrwNknCLjEtAC1y4aTRftzGcauKXy8tfN6a/ATYnb19MdTYnANfvtqQ29TayIdtf0N6uP0JRPd6gqeuT9QE78v5YnAJDyPQ9iym9MQuAvR9VoAP6RMIUuHLOsQ2CE5V1tSlEtnlGsdKFgijwXR8PmblEvWaYFd9/xGHpo4tX8rZLXtlmNQtSiuswWFkTHIy+otHLdW1zNYpFagSvC8y4egKandpaXv0bVCvC5CvFMX8HqPPtOxFC3piWsVFo7D5/lGcHiKJZTfQ3lySikiNV+YMJAurJsWfU0M5kpOGUmMkkjd4xT3InIXsovSLp0bFacJA2d7DdT3JnPnbB8oFNZqsmZSII41OFUdBzPjJaFWjMnXUyrsGyTrCXN2UujM6QcPHVBZWswj9HH4hMEQCDtCEDgph1LtAQCiQh4E7hLt4ZbP9Jm2i5pwF83p2kde7JbJerR6qpVM9EFJmzwxSrmrY2UCFx/XdO38ixdkiWiOifln8l5VduzdU7WzbAFfX3+ctTtBOLnbs5ZO3jOBmtgnrc+mAJX6kg2jncTpnn2dszSae2srAWpFbjSthz77MwNVgysp/OZmQ16T/2X9nrJuyzHmnHsZlvjPt9Bv6w8Ym6yliU8aCPHw5sTRIzpW4va1roa1iETs3Qbu8IrS3t6NGn8qdkbaMN2V1iDdTJjwf6dN3ZhEQRAII0IQOCmEUg0AwKeCHgTuFK365gVFM6WJCmvc4oiPfmCrJtWJ1/dnEtYPA9LsHDJlKXvP+vKeSvteivXS+Ca4ttX17Rc+2Ce/UrPMPUyu9B1eII3Rv5w9MYqULbLwLGZPNnCn+uPW9Zc89plEFpvtkba8wrvYkvpBJ5sYd+BaI/icyGns9PTMG8MO0MDpv+rmk1qkJmnwZJykEw08irPMrZ6U7ibyNTXOZSnBu5U3zWF9cPT19LusCi9K9GnN4ErHCbxlMCmyBVLbK0qITTmwep0/7hVVsiQNGoXuLJNXpamLPyPlq9PnEtYYtY9zUIoITIzvvnPozD2FJok50EBARBIOwIQuGnHEi2BQCICSQlcM37ULkT9cXPKDGP3sXjWRaYzbckuVEmtdYaT74uouKe5K/9mat2+F9mqtTYhf68+z9crjlgzqInluHxR12CefMFBapYqqZca17RuXz7NiSlEWMgscCJWfp7UKtFgJKnvD0c53ilF7tcBnuUs7uIVKpg3SM1QliUzj+BKppyIiqWTUXGqluSNLRaSg1JyXDLNetx95vxFOsLu+3jOuSvx1SU4REIPZvN4gI8bRegeDj9PwkKeTd19yRIiz1D2oCzqfDLrmLfChzKPCxR+Jl5VycsTQxRlJkkdIxbgw6fOk0x8IfVkJsHCed1nLPR2PmwHARBIPQEI3NSzw5EgkCyBpASu/FjePtw1cl0aMqdAlXV/3JwjP9lmTXcqbdnLH5PbqB/z1Lp9zVmq7G3b1yUt0+IpbazNvrqmrQN5QZiZ0xvLvoYs3qc95sr3atbVy/5w1G3gEwRAAARAILAIQOAG1v3C1QYYAS1w7RZa3Y0vVxym1xe4JimoXC4fzeUBZ2ZJrZtTLKVzfw2jz37b79HN/PHQplS6cDCl1u0bw5bTTkOWmJfqddkucKWiL65pe8NmLl3ZN+7R2tS65tVBPvb6sp5ajp7awjYQAAEQAIH0TwACN/3fI1whCJA/bs4Insr2ZGQsxbLoDWa3vriZ5TO9lGvtmjb76Q9Hsx0sgwAIgAAIpG8CELjp+/7g6kAABEAABEAABEAABHwkAIHrIzBUBwEQAAEQAAEQAAEQSN8EIHDT9/3B1YEACIAACIAACIAACPhIAALXR2CoDgIgAAIgAAIgAAIgkL4JQOCm7/uDqwMBEAABEAABEAABEPCRAASuj8BQHQRAAARAAARAAARAIH0TgMBN3/cHVwcCIAACIAACIAACIOAjAQhcH4GhOgiAAAg4ncDGsDO0dX+U1c3bGxejvDzVMwoIgAAIBAoBCNxAuVO4ThAAARC4TgTsUzgP7lGV7mpS/DqdHacBARAAAf8JQOD6zxAtgAAIgIBjCJzjaZg72qZhblC9IE3vV8cxfURHQAAEnE8AAtf59xg9vMYE1u6JoJ2HzlpnyZw5E5UunJMqFc9NhfNmt7ZjAQQCgcDvG0/Q6Plb1KVWKZ+fdu6NpMyZMtHiqW35MxB6gGsEARAAASIIXDwFIOAngVGfbqM/Vh/z2IoIg96dy9HD7csSL6JcIwK7Dp+lxyavUa33ua088y5zjc7k/GaHfriVlq49TtmzZ6FRfWrSS7M3qk6//nR9qs+C1yyRMfG05r8ItalhpRDKnSMrreMXvtU7IyhvrqxUr3wI1Smb1zwk0fLB8PO0jkV0xNk4ioiOp0uXr1D+XEGUP3cQNeY2SxcOVses2HGKYi5cooJ5s6nruMj1Fm86qfZV5pfJMkWC6cz5i3zu02pbLT5v0fw53M4XHh1Lm/adoR2Hokm+jpVK5KaGFUPU+cyKV64QidA3SxWuK9fy35GztGxrOEXGXKRyRYOpfZ0ilAfxySYqLINAuiAAgZsubgMuIpAJJCVwdb9KFstFs/rXowK5s+lN+ExDAjvYgv7Y5H9Ui3e3K00Du1RMw9YzVlMdXlxK5y9cpMa1CtHE3jXp5uf+UgDual2KBnet5AZDvBcDZ6xX24b1rkFTPt+pjjUrtWtclEb3rG5uUssHTp6jgW9vpJOnzifapzc8e39V6trUFft7z/iVdPzkeSrKQvaLl5vSvuMx9NDE1apqx2bFadh9Venv7acsQf5kt0rUo1Up3RQtWH6IZnyxy1rXC1mzZKYhD1SjTvVD9SaKv3SF2g1ebK3Lwm03laTa5fLSxA+3uW3PyaL+vRcaU/EC7mLarRJWQAAErjsBCNzrjhwndBoBU+D+MbkNXYi/TLsOR9OaXRH0ya9hVndbNQil8b1qWOtYSDsCELhpw3IXWyf7vup6UdADy/SAs0Is4BaOaO52IlPgFi6Y06tYHflwTWXp1AeLpbX7uJUUwxZgs4jHQ0J8LrN19jKbUaf0r8tW3AKqSv+3NtAmts7mYuvuz+Nb0pIt4TTs3U1qX7UK+WnOU/Vp4arDNPWznWrb5CfrUpPKrmO9iVvz3G8Oaki1yriszWJFbv/8Eus6pF7tKgVoZ1gUxXKMsojii5cuW4ff3KQojeqRWMRbFbAAAiBw3QlA4F535Dih0wiYAnfZ9HZu3RN3Zr8p/1o/hh+x5UlcqWYRV+vGfZG0/WA0nYyKowrsbq3DP7T2euYxsixWpi2cymnPsRjaf/wclSqSk+qWy08Vi+VOFCspbR9KsJS1qVWYgrJcjZcQt+36Pa6UUDVK57UsUcciL9BmThclpTELhWXbwimMz9WRLV1yjjW7T9OK7adJ2qtbLp+qZ/+TUpewHCcWud1HY1Qoh7h9RQStZLf01v3RVLJwDmpetSCVZBGli+mOPsRu7nk/7FG7ROzc27KkrqY+JTxE2vRUos5dpFU7T1F4VCy7yeMphgVMvuAgyscu9srslm5QIcTTYY7cNvvnffQR/5eycGwLKpQnO835ZR99+JNr29djWrjFlZsCV47p1rY09ecQkejz8TSD74cO3RFxOOuJulJFFTPOV4TxWLYUVyuVx+25lec7C4tdHfc77vMd9MvKI7yeiZZMa0vv/bmf5n7nuuf5OGzhhzE30dt8nR/z9Ur5YlRzFaJwIe4y3T58mRKmsl0szR3quqy136w+woJ4h2ymsiXz0IfPNVLL5p9uY1cq4S4hGyJuJz1eRz2LOzks5tHXXC8D+fNnp+9HtTAPwzIIgMANJgCBe4NvAE4f+ASSErjSu3fYivvBor2qo52aF6eh3atanT7MonMgxzgeO3HO2qYXbmeRJi7hrPoXXu/gz393R9CoD7ZS1Jk4Y6trUQTA1AF13YTZkPe20IoNJ1SFHye2cstp+ifHMY6ct1nte7p7Zbq3uUscLlx19ce/MgvYXftcIlja73VrOXo/oU9yYJuGoTT2QXfrtDermSeXsLQx68e99NlvYbJIM59pQANeX6uWzT/P3l+FXdYl1KbN+8/Qk9P+NXcnuWx/+Yi7eJmeZQvgxh2umE1PBzevW4QmcRxqRik9X11NB4/EkCnYJF5Vxzebz4cwMQWuDh3QrOTF4faXl6pVu/X3kyUH6a2F/6l9np4d3Yb5OY+fjfn8jEj59dXW9OpXu+j31UfVtUZGxtLSae1ozGfb1TapI+vyYrN480kaMdf1fLfkl7MJD7k/pz0mraZD/GIlZQkfY/+6aYEr++3hL7eP+Ft9B7XoljooIAAC6YMABG76uA+4igAmkJzANdMuaVeqdFcEVuehVy1LnhDo2EJz3+pdp+m5NzeYmxItyw/uGywS9QAffwWunKA8W3f3HnBZdGVdLF5hLH6kiGhdPKWNWpY/3sStVYEXTJewbDcFblLubm1FFKv041NdAlfc2WaR/ptF3N7m9ck+7fJ2q8fHmS5yu6Ax6zpt+SwP4Lr1xSWqW+aLmKBt99xfygtht8SaAldiVF+8p7IbljtGLScRnzqsQO9cz4PKnn5jnV5V+5vVLERNqxZQYQUyyMxefl53nMbzS52UT4Y1o1Efb1MvXe2bFFOi9ku22I75dIcKY9AWXak7/4/9NO97l6V3Aqc6q2PzNrz7Sxgt/OuAVKXPhjejEoaXQLaZAveDl5pQudBcslkVseJGxsRRjmxZre+a3odPEACBG0sAAvfG8sfZHUAgOYErXezEQlbiDU3L2Lts2dVW0AIh2Wlm//oqPODX9SdoAo9k10W7WmVd3LZdRy+3LLeSn/TF7lWUK1biJ1//drf6gReBN+6x2tSS90vxV+Def0tZ5Xpuz/lRxU3bsEYhmsbt3//KKjp8zGV91hbS1LqETYEr1yyuZAkr2MfhFyM/2koHWExI6XdXRerVprRa1n98jcE1xZyI8xF9alCzKgVZqGTWTXIMKKkR/WY4h7XTgQumgGzbqCjVr3g1Y8IcFojRHL4hz9Uf/CKjvQqmwBWrfr+O5dzIeBO4Umn6d7vpqz9dwtLtIF6pw0J30F2VqELRq2JyI3sQtFV/Br+8vTx3E2XJmpnua1OKZn+zmyTmdtrXu9TzWJ0zI8weUE81K1bd31YdtZ/C47p4DuwC2BS4niy8HhvCRhAAgRtOAAL3ht8CXECgE0iJwH2AY/VEoIlAkPhBKV3HrKDw0xfU8tznG6t4T7XCf175chf9+PchtfrIHRXo4ZvLqGVJlTSER55LsbuEZZsMjpHYx3talHCLV/VX4IrY7FgvlDoPW6aEjha8j89aT1sT0kRpgZtal7ApcCU8Y8jdV62BZpuerNq+Cty9HEvc+xXXCHx5ufhyWHO3uGRhmdGK+Ywk1Xdz4JcpcB/qXJ4e61DW7dCkBK5UPMFxzwuWHaLlnHZLhwmYDcwc2NCyjJ48E0vdRixXu+V5HPf+VjXwqwcLXEll9tS9lWneon3qRbIzP/8v3VtF1Z3GL31fL/YspM1zyfK7/D2UdGBm0QLX7qUw62AZBEAg/RGAwE1/9wRXFGAEUitwWw9arEaK5+F8n4vGtXTr9UYe3DVgusv9Li7YkT2qqf0fsStVrFVSBt1Xhbo1c8Wjqg1J/DHFS2picIdzHGoHjkfVArcHC5knWdD8b+Z62sbxwFK0wE2tS9gUuGP61qK2PHhNlwi2fndhK7gUT3GxvgpcsYS3Z7e7Dm2QF4+GNQtS02oFqGnlglSq0NXBbPoanPwpYQi3cHiCWOeTK+bLh78C1zzX+bhLHFseSfPYs7GbsxVIMe+1WNRbD/pTbZeUZd9wHG+XVqXoARa49/HLolzXDyyWpTzBses9uY6Ub/85SpM/2a6W7+Rt8tx6KzmzZUmUr1oLXBlk9vuk1t4OxXYQAIF0RgACN53dEFxO4BFIicDVIQpiLfx2ZAsyXeSeRm+LZevukS5rlRm3O/bz7fTrSpe7dSrn1W3EifBTUq6nwE2tS9gUuPb4XHPAkil6dN99FbhynIzkH//BNivDhW5LPkN5JrpnWCS1rF7I3OzYZYln7jdljeqfZEJ4hENS7KXHhJXKem+G2aSlwNXnk6wgfRKs6xU4m8h7nL5LF52jtzRbWcUj8gyH59zNL3mtWPiaMeI604EcJ5k5HuaBZLpI/K4vLzAQuJocPkEgsAhA4AbW/cLVpkMCyQncU5yG667hLrFagwXp2yxMZYCZTqAvk0B8OqSJW89kdqeenCdUSl22Ks74nyvF0lS23uoBMSPYqnoLW1VTUpISuIvWHrOS15uj5M0sCr5YcFPrEr7eAle4Sbzw1ysP01+cSWLn3ijLoquZPswprzyJPb3fKZ9Jsdd9NJ9zHReeWoEr8bRLOSyhNKfMK5gnGwWzdfQCW3D3czaRBX8dtEJ37BkWzIwHcl3Tn6qnsoXoUAh9rfbBYi/M30wrN55Uu8VaX7tqCLXgl5daZfJxWrh4CuPz1i2b3woTOsKhQwfDXbHlo3lgm44/fvWJOqqNEJ6wRWZPQwEBEEi/BCBw0++9wZUFCAHzh1+76c1LN/d35cFRz/IgKSl6wJbE9skEEWZ6oiX84z/snU2qnrhhn+dZmaRI3s4pPFJciqdR62qHhz+mwP2G85sW5Pymusz/nUeZJ+SQTQuBm1qXcFIiKzkLrmmlk4F303m0vK9F4pe3sSVzIQtePSjJPvrf1zYDpb4eLCjib/HUtm7Pou6DmbtWhwCkVuC+ySnmPuVQhKSKfC8+G96UQo3pdgfO2Uhrt52yDvt23E1qdkAzFlx22geDyZTCD7IV11NaPd1YTw67eSIhfCG56zOzNOjj8QkCIJC+CEDgpq/7gasJQAKmgDUFrsQMSu5OnSlBxIMkz9fT9faavMZKszWUc3OaU4X2m7GOtu+JVDTM3K9mcnnZOZ8tvxXZApxcmcQ5Q3V8ogzG6d6ipHWIaRVLC4Frik05SUpdwv4IXInf7PCCK8WVcP7ttdaUjUfYp7a0HexKiyXHm/c0te2l5+NMdvY0YOZ1ywQYnTiLhhTtVTBjxZMaZGaPMx+/YAf9vOKI2bzbsrykPN65AlUt6W4lNZ9juc96wKa53Zv4lLjr+b+H0ZeLDyaaTlhObs5GZk544XZhCSvezuGpLraBAAjcGAIQuDeGO87qIAKmwO3bpYJye+/jOMKtnOvTtBjZ0yiJi3ZogpVWcPRhd3hJHtz005pjlpVKBrYs4mlJTbH21OwNtIFnENNFLLz1KuQjyR0qYkVmIMuWNQvd2biYrkJfsVVy+ueuKUylza58jMwc9R1P5mBaxBrXKkRdmhZXsaffGrM8+RKiICf11SUsx/gjcOV4HecsyzIxRfdWJakQz3AleYiFSfs6oRSSkF9VLHqSpq00z/4mFsJczEQGnB2LjGP+R2kLT7MsBUJGYbgmf0QwH+GJTmRqaynZgzKzZyGIn+Nsagaza3LShEYlNEVm9pPvi5y3WEgOypMz67U8JdoGARC4zgQgcK8zcJzOeQRMgeutdyJu+/LAHZl61Cx216q5T5ZffLA63dawqNtmSZfUa9I/Kh2S2w5jxRwIJJvlB70Lz7p0/sJFo5ZrUY9IN3fITFGSF1VPY+qrwPXVJSzn9lfgmnlczb7o5Qn9JC+wa9DYOn75eMaYaEDXsX+ax9j3YR0EQAAEQCD9EoDATb/3BlcWIAQ8uVsldrNY4WAqXyyY+txc1uuobQljeIvjEb/khPcXL7ksWdJtEaijelV3m27XxCGCVfLdLlp+2O04XcdTzk6ZCGIIT02rc++Ki/eWpsWoN+fY1QPa9PHeBK4ezKOt0Z7ShOk2fHEJyzGmWzipLAqtGoTS+F419GncPsVS/c4Pez2K//6cV/d+TiUlxYwndWsgYUUyW/S+pYyaaMLTfmwDARAAARBI3wQgcNP3/cHVZSACkhosgmeLkhRGMqo8pUVSjh3irAvxLJCzc9xpoXzZrDhfT22cPhtHJ6PiqALH7sqMVCKyw9kqHMTHyvHZ2GWrZ6rydHxqtl1vl7BYuY9FxKqJNWQmssL8wqDDE/T1iwA/zNzEVS7hCdLnAuwiL8AD8DLK7GWaBT5BAARAwGkEIHCddkfRHxAAARAAARAAARDI4AQgcDP4A4DugwAIgAAIgAAIgIDTCEDgOu2Ooj8gAAIgAAIgAAIgkMEJQOBm8AcA3QcBEAABEAABEAABpxGAwHXaHUV/QAAEQAAEQAAEQCCDE4DAzeAPALoPAiAAAiAAAiAAAk4jAIHrtDuK/oAACIAACIAACIBABicAgZvBHwB0HwRAAARAAARAAAScRgAC12l3FP0BARAAARAAARAAgQxOAAI3gz8A6D4IgAAIgAAIgAAIOI0ABK7T7ij6AwIgAAIgAAIgAAIZnMD/AQAA//890o/dAAAeyUlEQVTtnQmYHEUZhov7JkRQCBITjiBG5JDAAxoO8UAQUFQ8EEU5RAQVUDxQUBRPlENBRPBAAUUeDgHlELkVJIFABORKSBREiLJEkFOD8zb5l96md3f2mNnu2fd/np2eqe6urn6rZuerv/6qXuTZhiVNAhKQgAQkIAEJSEACHUJgEQVuh9SktyEBCUhAAhKQgAQkkBFQ4NoQJCABCUhAAhKQgAQ6ioACt6Oq05uRgAQkIAEJSEACElDg2gYkIAEJSEACEpCABDqKgAK3o6rTm5HAyBCYdndXmn5PV3bxKeuMTZtOGjsyBfGqEpCABCQggQYBBa7NQAISGDSBfY+fkZ17+0JxW8xockPsbrT2mCx5v+3XKu72swR6JUCnKW90oOw85Yn4XgIS6IuAArcvOu6TgAReQOCOeQvS6ZfPSVdeN6fHvu22nJBWXGml7rS5D8zP3t8w/fnjdttuYpam2M0w+JIjgKCd/1RKM2c3RgPu7Ep/u/+59pM7JHsbnSbFbpGMnyUggTwBBW6ehu8lIIFeCSBsT75kTgrBOm7cmDT+pWPThMYWm7j68+K2LJOrbpzbfS5CV5FbRml0pSFqT2m0qeIIAG0Lo31hyy6R0p1zutIDCztNWeLCF9tSnobvJSCBIKDADRJuJSCBXgmcM+3h9MvL780EBuJj6pSJ/Qra3jJT6PZGZvSklwnbELXNtq18O4KcQnf0tB/vVALNEFDgNkPJYyQwSgkgRI6/cE6aPbcrDVXYFhGGQFGYFMl09ucTL5qdzmh4bcOG2q6iHUV+R++/sZMcA4bbQRP4xz/+kfbff/90//33p7POOiuNHz9+0Hl54sgQUOCODHevKoHKEzjy7FnpkmvmZuXcrOGx3XqTCcNe5hAnitxhR1u5DIte26EK2+INRlsi3fZUpOPngRL4/ve/n775zW9mp5144olphx12GGgWHj/CBBS4I1wBXl4CVSQQ4na4RUjZvYYwUZSU0emMNMTtwSfM6L6ZXXfacNAhLt2ZlLyJtsQu21MJIJOaJvDe9743/fGPf8yOP/3009PUqVObPtcDq0FAgVuNerAUEqgMgby43X3njdpSrhAmipK24G7rRfLilg5TO9rUaeffnMWL257aWtUdc7H77rsvvfa1r+2+n9/+9rfpla98Zfdn39SDgAK3HvVkKSXQFgJHnz87ndtYAgxrlZcty7zkJUSJMZQlcGqaNBLiNlBFp8n2FETcNkvg8MMPT6eeemr34ddcc0162cte1v3ZN/UgoMCtRz1ZSgm0hcCWB16eXafd4jZu7qiTrkprTRibTj1o40hyW2MC0Z7a5bktolLkFon4uT8Cd9xxR9puu+16HHbzzTensWOfW7Kuxw4/VJpAxwjcp59+Ol144YXp3nvvzWY77rTTTmmZZZapNPz+CnfCCSekb33rW+mKK65Ia63lU6D64+X+oRE47MzZ2cMbWjWhrJnShSBxaLkZWtU+Jr9awkh1mCDEyMDY5RZNJx1gp6naLWbkS/ff//43vfOd70wzZjwfL06p7rrrrrTUUksNuoDPPvtsmj17drrxxhvTddddl/7yl79kOuUb3/hGWnnllQedLyc+9dRTWd4TJ04ctOZ56KGH0j333JOJ+EmTJqXFF198SGWqyskdIXAfeeSRtO+++6brr7++myvDCUcddVTafPPNu9Pq9mavvfZKl112WfrgBz+YjjjiiLoV3/LWiMA/H3827XLoFWkkxW3gilCFa47dNpLc1pBAeG+r0KYYGTBUoYaNqM1FPuWUU9JXvvKV7KoHHHBAOv7447P3d955Z1p66aVLSzN//vz0+9//Pi2yyCJp5513Tosttlj3cbfccku64IIL0hlnnJH+85//dKfHm5/85Cdp222f/z+HwL7pppvSmmuumV784hfHYb1uH3/88fShD30o0z7f/va306677pod+69//SudfPLJadq0aZlYpVx4pVdZZZUeeXHcu9/97nT33Xf3SH/Tm96UvvCFL6QJE4Z/5ZweF2rxh44QuJ///OfTaaedVopq9913T5/97GfTCiusULq/yok03MsvvzztuOOOCW9ub/bd7343fec730kf+MAHur+cvR1rugTKCIT39pB9ty7b3da0OX9/JJ11wS0Kkn6oX3zTg2nt1ZZPk1Zfrp8j2787vLfjXzomvWfH9kxU7OsuY2TATlNflEb3vunTp6d3vOMdGYR99tknveENb8jEHwl4N5dYYon04IMPJoQvonS//fZLjz32WObxxSOLcR7CELv00kuzz9mHhS/LLbdcevWrX51WW221tOKKK6bPfOYzPTzDb37zmzPv7rhx43o47PJ55N9/+MMfTpdcckmWdN5556WNN944nXvuuenAAw/MH9b9Po4h4YknnsjKfuutt3bvL7754Q9/+IJwjeIxVf5ce4HL0MEb3/jGjDGN56CDDsoaIoI3eiU0xh//+MdZD6vKlVEsG4L1qqsaMYmN8ARE+ty5cxOLTy+66KKJe91ll10SwxJ8YeiJYXy5+JJpEmiWQJW8t1FmY3GDRPk2P3mLIwjpwKry+ON9j5+RPX63Ct7bDEzj5bxLZ6ZN1x1TGUZRLrcjT4DfT3QE21e84hXp17/+dcL7Gh5RfnuxP/3pT+ld73pX9n7OnDnpE5/4RHZslrDwBa/pS17ykoRzjclpYZ/85CfTRz/60V6H/xHL+ZUa/vznP2ciOM4vbn/1q1+lQw45JEv+yEc+kj73uc+lc845J9NAcezb3/72TMhedNFFWdJrXvOa9Itf/CJ7f/bZZ6eDDz44ez9lypRMsCO6udcf/ehHmdBmJ97n/IoS2Qk1eam1wCVO5n3ve1+365/eCz0UjLiUL33pS1nl8PnrX/962m233XhbWaOXOGvWrKyXiDinAZYNa8QN0Dj5gtFTpMcWx9ITbWZ4I/JxW20Cd9z3WFpvjeVbVsgqeW/jJiNMwWHlIFK+DU9pfu/kdcamjdYeWSFHeMJ2W05IG0yemC/aiL7/5YU3pxWWMRZ3RCuhghf/3//+lw3z40zCCDdYZ511Mg8qw/dYCFw8tXhZMQRsjBzjcX3ggQeydFZf2GabbdLvfve7tPfee2dpvBBre+SRR2bn46Qq2pNPPple/vKXdycz2Y15RIQtEMOLBzksXw7CMFmnF80QZcMpRvgDDjAMfYBnF8fY7bffnqXl1/klvJN7COOaeIYJlyAmGdFfR6utwL366qvT+9///m7m9LQYOogKZQeVxDGxWPO11147oo/bY3iDIPMbbrghi41Zdtll06GHHpoNKyDW3/a2t3XfT29v6IFtsskmmVeXmBoaLMaX48orr0zEA9Fry38ZesvL9HoQCG9YCJcpDQGz6aThm9GLwH38mdSSJ5UNlnCEKTjZrDmCeHSn39OVbp41P/Ocxlkj4dkN0V0l7y08ok3ZaYrW4RYCRx99dDruuOMyGMTcMkGdSevE48aTzBCqiMdnnnkmIQzzhmMNr+iee+6ZaQ28qmgRjOF/8sYJFcYkLpxT/H7n43XZHzGviErCDomjPeaYYzJPLsKb33vmHFHGv/71r5ko/c1vfpOJ53y4AnOQ0ESEQiDcmYCPbb311ulnP/tZ9j5Gfpm/hA7pRKulwOXZ0Ai9MBpX/nOks0VUbrbZZlnSpz71qfSxj30sv3tI7+lh0QDZ0jAJ5KYB5VdvYMFoFommjMyiLBpfBL4Q7CcMoczoWfFlW2+99Xod3ig7L9Lw7M6cOTMRKI+o3nDDDdPaa6/dVF59BdBH/m5bTwDRgJ1xyZxsy8twiL8qhifEDRKmgKh39nsQaX5LeykTu+0IYQiBW4V47iIxJ5sVibT+c4TTjERnq7+7YxI3k7nD+G3s6urKxGOkxZa5MIjcEK+kIyQZNcY7i3A87LDDMuFK7GreCDdgrkxe6HLuxz/+8SzUMFYtCIH71a9+NXs0MOI5jDxf97rXZV7h8DZffPHFmXeV33dEb3+GVxYdgdc6VmYabl3UXxnaub+WAhchiCDEmPFIrGpfhvAkniYfwhAB4PSmcN2XTUJjGACBzHBD3hYsWJBogIjOotFoid950YtelBC3zEaM0IE4lniX8ePHp+WXXz5rrHidib/59Kc/nR2yxRZbpA022CD9/Oc/T2eddVYm0NkO1Lguz9OOmaDF84nbQVzHl2sgAfTFvPzcPgJFsTuUH47Lbu1KR5wyo+0PdWiGVp0FLj/qAzU8sAM1RGx/dnsh31Z7MBlxGD9uxUqFJwSjsy+emZZujPTaaQoi7dmW/c9qR2err7tjSP+tb33rC36fy85hbgteXIb9Y0UjvKl4RkMoojHQGqTfdtttpXN+yoQuegAtwTq7IXBZEYHVF0LIUibK+uijj2YTz/nMOTH/CB3EZ67NsqJnnnlmFp5J2ARpaBj0RYxwM8EMoYspcDMM1XmZPHly1iiZZHXssce+oGD0wOjZ0Nui0cQqCzQk4loxgr1x7WN/+MMf0hprrJG9z79wPiKXlQzweGKIW/Ij8Bqj5/aWt7wl0XBj7bxoMLGObXZg4wWxS8MdM2ZMJPW5/cEPfpDFDtOrPP/88/s8lpANAuC5NsuVUBZ6pjH5jJNp6MQW8UUMgwkieNVVVx1QAH2c73ZkCRQ9dQP16sZjeavqbYPuYGe+x7B9WQ01Iwzz5xVFYn5f3d4PtI0M9P6qGH8b92AcbpAYuW14+CnBUDrnQ7kDQgeYLBbOJ0ZJ11133WwkGH2B44u4V5xNGL+R/M5/7WtfSyeddFKWxjKkMeGMhLxoJFyQpb7QBTwkgnCB/DJjXJ/QAzzIWPzGh7bhtzrKlh1QeMFTnI/vjSVFWfmBCWJhlCk/ohzpCOX1118/+0gsMQ67TrTaeXDzIQfFNeSigiIWhUaD55OYVBpUfrktGgI9OBoS+4pB3/lnUdOgEbsYQeUIXGz77bfP1trF+0tszpZbbpkFmtPTYjiCWZZcOy8yWRaE5b/KGl2Wae4FDy49R0Q0wd59WQSM03Mj6Dx6dHEOZUVc4zVm7Ty4EF/El4j8EcdMcov77C+APvJt5bYvgdLK67Yr74GKrL7KVRRgDO1jezdm1/cVr1tlgRsTzQYjcGNYtC9mg9kXXAdzbqvPYWIZVgxNiNjtuP5wx3BHvrFF4G6zRaPdbVC9NTTbLXCjAxps+ttGHfZ3HPupx/6sr+9+f+e2en/8f4+wK8Ruq9sm98Q8GH6Xw1h5gHktReN3mzhVjNBGnEeEJDJRjElXOMiKMbQxWhwjy/zGIo75jWXkOf8AKpxl7MeRhfHbzWhrfuUFRChxtCGEOY55RZQhb3hnOR9rZpL5ww8/nI1oczz3gkOwE612Apc4VuJQMIK3yyZmsT/iXRk+iPfRC+Pc6Ckh/KKBkR7GE0ZOPPHE7COTwvBw0htiuYwQrLj9ibldcsklE0t2hGeU5ToY/scQ5MTO5MMZENUsZ8aqDrzvzSKmh2Ni5mNvx+6xxx6JXiO9Qr68XI8vGYb4pedZFPEI8B122CETuXxxEb8DCaDvrSzDkZ7v5Q81vyqLkqHcW1HUFvNqxlPXqQK3yGI0fEYwnNKI0aZd0Ob769y0igkCd69dN2qEaTU3UtWqcpTlO23m3OxpfYPpNJXl11daqzpZfV2zE/bl/1+3og3jiGKCFr+riMJXvepVpdjyKxWEcwxRimONPPD4Fg2tgLf2e9/7XhaukF+KK47FW4yDC22Q99LieWX0lclqGB5jvMRMlkdcE8bI7zO/2RFWGHkygZ4VpTBEMasqrLTSSrG7x5alRufNm5e+/OUvZxPe0Qvohk602glcgqNpkDQMPJXRa8lXDnGlCM68hZcyVhcIgcsQA40ob3h28fBieXGZF4354/PvEdT07JjMlbfehC4zGHlSWVnYQt5bHMuUkCdLoNHTQ2BHz5MvAF5ZhioOP/zw7oB3jsf7y/0XjS8OMTx0AIhjZjLeYALoi/n6uT0EQtBwtRC78ePQ7A/DHsfMSE88vSDtvvNG7Sn0AK5CDC7WDjEygGJV6tBoA/n6b7buW3UjCNyRfDRvX/fVToHbVzlGah/tpT9rNha8mRGoaJf9XbNsP//LhjtWmrAD1prFUdXMY3JxROHh5aEOvU0CL5adFRhweoUhPhGQeFZ7M0ZM8coicFmyi1WRcJ7xuVnDyxyhjOgWPjOKHWvbEs+LJzgcdHhtOR6P8Oqrr97sZWp1XO0ELnSZechELgwhSsMjZiaMmBfCBPL2xS9+sbtnRHrE19IQrmx4PlmYGaNng+gNry9p8RSTCGvgwRHkh0eYIHPENr0yelws/0GevRm9Jzy6+TgZxCfhCPlFnjmfxZnDE5x/FnYMk0SvkmNjKAQONOLw/rIPz3JZby7y4RjCF4jLGUoAPflorSdQFDVccbAeuyp7cBW4fbel/PJxiFqsCkPSVffgPjRv/rALpwy+L4MmkP+fFv/LyKwV7RmR26xwxAmEc4nJX0Wv6UBvNlYyYuQURx06YWJjgjnzYNAPQzWENV5ZtER/hj7CsbfUUkv1d2it99dS4DIz8PWvf30P9z5xJKxg8NBDD3VP9srXDGKOSV5hPNksxByikEf00bMpe2Y0IQyEMsQMRzyk+aVFegvk5lqIRq7F8EH+OdB4dIntzQvdoqeVJ6KwHh4Wy3vwhWPxaXqD+V5l/n74QjKLk6EMjPsmbhg+xN8y9MI9RVxPxPQMNIA+y9yXthHI/whw0fghGMqPgAK3bdU37BcKb9xQ6n/YC9XIsMoxuHhwV1+xOk98awX/uuSZ/3/G/zKMjlrV2nNdeEY5iTFGD7CaQj4EgqVU8QpPnTq1e4JZnNOp21oKXCqDlQ0YTs9XYLGS6CHFfkIHWI82JndFXAtLhBUNjypxNgxh8JAIPLN4awmJQFzj9mfYopkeHd5h4mMxykt8TT5cgMWbI+aGR/nhnQ5jfV0Wg8bw1hKSkF86BIEanmuGGwh3IO+YkBYzKyO/si3xN/TkuJfw6DYbQF+Wn2nDT6D4QzCcPwLkffAJ1VsmLBblbyaOePiJm+NQCOBZfvSJBek9O1Yv7IVJZluuP9bH9Q6lgodwbv5/GdkMRyd9CMXp+FP//e9/Z95iwhSKE+I6/uYbN1hbgUvl8EQPvKCECRA0jiFkEWjMViSkAFEbopHQAkRcCFOGKlhPl+F8vJqsk8vSY4hJhCKhCTwKF2HLshw8WYTVETC8qHg8I68sceELww+Uh2EQhDTe5ryRNzG3PEQh4mHYv88++2SrJsSxlA/PMWUrGjG3+YdWkBdLmiC+Y41gxD3CnED3eIxg5EPMD3+wChtoAH2c57a1BJhwFzOmh9u7UVWBe9WNc9MN0+cMy8MsWls75l4kUGWBS9iLnaZijbX2s6K2tXzNvXcCtRa4vd9Wzz2stsDj+DA8lgjV4ooCPc8o/0QoAis0hFjEe8padGzpHSFE8Syzri7iknS8rLNmzcpmVZZ5i+NKiGueYV2cbEbAOWv2hhAm3ACPMMMMReOaCOpiHhzH2sCUn3IisMuEeTG/ss/FAPqyY0wbXgJ/f/iJtMIyzz2HfIVlFh/ezBu5VXGiWSwR1uqHEgw7TDNMVe00UTUIXCcttreRXnXrvDR33hNpq8mrpImr9px83d6SeLXRRmBUCFw8oSzdFZ7NWGlgMJVN7CyCs68ZkZHv/vvv3/10MtKIjWXNXQQvYpRwCYLLeWpZ3pMa58eWVRMIO2BZEsSpJoHhJLDncTPSY09WayUFJ5gNZw23Py/icMeNG1Op1TliVECB2/724BUlMBIERoXABSyeTWJqCVHAiG+NeNwsYQAv5MWkr5/+9KfZOnJxKjG/xMlutdVWWVgDMyQ1CVSdQNU8biFEHEquesvpvXyxwkOVnpDHY3o3X2+M8be9V5t7JNBRBEaNwI1aY5kuhuv78pjGsc1s8Q4TC8zQP4HcmgTqSKBKYQohcPW01bElPVfm6DRtNmVi2nqTajzRjFEBQ17q26YsuQQGSmDUCdyBAvJ4CYwGAiFIqrBAP0Jkl20npoN3Xms0oO/YeyT05e57uyrx0Ac6Tes0orv229421bENzhuTQIGAArcAxI8SGK0E8OLOntuVRnJYWe9t57S+6DSNdCxutClDXjqnbXknEmiGgAK3GUoeI4FRQGCkBUkIEb23ndPYquDFnXn7nLTysovove2cZuWdSKApAgrcpjB5kARGBwHW3D3jkjmp3bGT8WAHxW1ntbPoNHFXIxH+Ep0mY287q115NxJohoACtxlKHiOBUUSg3SI3xC2InVjWeQ0tRG67QxVC3Bqa0HltyjuSQDMEFLjNUPIYCYwyArHMU6tFSYgQ8CpEOreRXXZrVzrilBltWxs32pVtqnPblHcmgf4IKHD7I+R+CYxSAuHJ5faHO2QBr+21jUfxPvDA/IyuQqTzG9k50x5Ox5x+c8tFbjwFzzbV+W3KO5RAXwQUuH3RcZ8ERjmBvMjFmzv+pWOHtK5pUdhOXmds2nu7iWnTSWNHOenRcft3zFuQTm7EeN/Q6Ny0otN0/U1z0tJLLpr228E2NTpalHcpgd4JKHB7Z+MeCUhgIYG80CUJcYJNaIjeiauvlL0ve0HQYnMbntq/3d/V7bFV2JbRGh1p/3z82XTcBfemK68bHpGb7zTRrk46YOPRAdK7lIAE+iSgwO0TjzslIIE8AYQuNu2u+dki/vl9eHjDIvQgPq81YWxaeomktzaAuE1Fby5IBvLUs7ywnbTmWL22tikJSKAHAQVuDxx+kIAEBkqAWfLY9Hue28b5UxreNMzwgyDitoxAXuiyP0JheM8IQd6KIwEK2zwd30tAAnkCCtw8Dd9LQAISkMCIECB04erbutKM2c+FtRDCUDRGAhZbtPHI3UaMLWbnKcPgiwQkUEJAgVsCxSQJSEACEpCABCQggfoSUODWt+4suQQkIAEJSEACEpBACQEFbgkUkyQgAQlIQAISkIAE6ktAgVvfurPkEpCABCQgAQlIQAIlBBS4JVBMkoAEJCABCUhAAhKoLwEFbn3rzpJLQAISkIAEJCABCZQQUOCWQDFJAhKQgAQkIAEJSKC+BBS49a07Sy4BCUhAAhKQgAQkUEJAgVsCxSQJSEACEpCABCQggfoSUODWt+4suQQkIAEJSEACEpBACQEFbgkUkyQgAQlIQAISkIAE6ktAgVvfurPkEpCABCQgAQlIQAIlBBS4JVBMkoAEJCABCUhAAhKoLwEFbn3rzpJLQAISkIAEJCABCZQQUOCWQDFJAhKQgAQkIAEJSKC+BBS49a07Sy4BCUhAAhKQgAQkUEJAgVsCxSQJSEACEpCABCQggfoSUODWt+4suQQkIAEJSEACEpBACQEFbgkUkyQgAQlIQAISkIAE6ktAgVvfurPkEpCABCQgAQlIQAIlBBS4JVBMkoAEJCABCUhAAhKoLwEFbn3rzpJLQAISkIAEJCABCZQQUOCWQDFJAhKQgAQkIAEJSKC+BBS49a07Sy4BCUhAAhKQgAQkUEJAgVsCxSQJSEACEpCABCQggfoSUODWt+4suQQkIAEJSEACEpBACQEFbgkUkyQgAQlIQAISkIAE6ktAgVvfurPkEpCABCQgAQlIQAIlBBS4JVBMkoAEJCABCUhAAhKoLwEFbn3rzpJLQAISkIAEJCABCZQQUOCWQDFJAhKQgAQkIAEJSKC+BBS49a07Sy4BCUhAAhKQgAQkUEJAgVsCxSQJSEACEpCABCQggfoSUODWt+4suQQkIAEJSEACEpBACQEFbgkUkyQgAQlIQAISkIAE6ktAgVvfurPkEpCABCQgAQlIQAIlBBS4JVBMkoAEJCABCUhAAhKoLwEFbn3rzpJLQAISkIAEJCABCZQQUOCWQDFJAhKQgAQkIAEJSKC+BBS49a07Sy4BCUhAAhKQgAQkUEJAgVsCxSQJSEACEpCABCQggfoSUODWt+4suQQkIAEJSEACEpBACQEFbgkUkyQgAQlIQAISkIAE6ktAgVvfurPkEpCABCQgAQlIQAIlBBS4JVBMkoAEJCABCUhAAhKoLwEFbn3rzpJLQAISkIAEJCABCZQQUOCWQDFJAhKQgAQkIAEJSKC+BBS49a07Sy4BCUhAAhKQgAQkUEJAgVsCxSQJSEACEpCABCQggfoSUODWt+4suQQkIAEJSEACEpBACQEFbgkUkyQgAQlIQAISkIAE6ktAgVvfurPkEpCABCQgAQlIQAIlBBS4JVBMkoAEJCABCUhAAhKoLwEFbn3rzpJLQAISkIAEJCABCZQQUOCWQDFJAhKQgAQkIAEJSKC+BBS49a07Sy4BCUhAAhKQgAQkUEJAgVsCxSQJSEACEpCABCQggfoSUODWt+4suQQkIAEJSEACEpBACQEFbgkUkyQgAQlIQAISkIAE6ktAgVvfurPkEpCABCQgAQlIQAIlBBS4JVBMkoAEJCABCUhAAhKoLwEFbn3rzpJLQAISkIAEJCABCZQQUOCWQDFJAhKQgAQkIAEJSKC+BBS49a07Sy4BCUhAAhKQgAQkUELg/ySL2VD/woMKAAAAAElFTkSuQmCC)"
      ]
    },
    {
      "cell_type": "markdown",
      "metadata": {
        "id": "PiXqqF0m_PSf"
      },
      "source": [
        "\n",
        "\n",
        "We're going to set up a simple RAG workflow while introducing several LangGraph concepts. We're then going to step into LangSmith and see how it can help us while we iterate on our application"
      ]
    },
    {
      "cell_type": "markdown",
      "metadata": {
        "id": "ErcgKWQz_PSf"
      },
      "source": [
        "### State"
      ]
    },
    {
      "cell_type": "markdown",
      "metadata": {
        "id": "qati2Bsy_PSf"
      },
      "source": [
        "Great, now that we've tested out our ChatModel on some Messages let's start learning about some of our Agent primitives. Our first concept is [State](https://langchain-ai.github.io/langgraph/concepts/low_level/#state).\n",
        "\n",
        "State is one of the most important concepts in an Agent. When defining a Graph, you must pass in a schema for State. The State schema serves as the input schema for all Nodes and Edges in the graph. Let's use the `TypedDict` class from python's `typing` module as our schema, which provides type hints for the keys.\n",
        "\n",
        "The State of our RAG application will keep track of the user's question, our RAG app's LLM generated response, and the list of retrieved relevant documents."
      ]
    },
    {
      "cell_type": "markdown",
      "metadata": {
        "id": "Dit_ycs7EUK9"
      },
      "source": [
        "很好，现在我们已经在一些消息上测试了ChatModel，让我们开始学习一些Agent原语。我们的第一个概念是State。状态是Agent中最重要的概念之一。在定义Graph时，必须为State传递模式。状态模式作为图中所有节点和边缘的输入模式。让我们使用python类型模块中的TypedDict类作为模式，它为键提供类型提示。我们的RAG应用程序的状态将跟踪用户的问题、我们的RAG应用程序的LLM生成的响应以及检索到的相关文档的列表。"
      ]
    },
    {
      "cell_type": "code",
      "execution_count": 41,
      "metadata": {
        "id": "HMNHEkYF_PSf"
      },
      "outputs": [],
      "source": [
        "from langchain.schema import Document\n",
        "from typing import List\n",
        "from typing_extensions import TypedDict\n",
        "\n",
        "class GraphState(TypedDict):\n",
        "    \"\"\"\n",
        "    Attributes:\n",
        "        question: The user's question\n",
        "        generation: The LLM's generation\n",
        "        documents: List of helpful documents retrieved by the RAG pipeline\n",
        "    \"\"\"\n",
        "    question: str\n",
        "    generation: str\n",
        "    documents: List[Document]"
      ]
    },
    {
      "cell_type": "markdown",
      "metadata": {
        "id": "t_hDAjwL_PSf"
      },
      "source": [
        "### Nodes"
      ]
    },
    {
      "cell_type": "markdown",
      "metadata": {
        "id": "6Yikvi9b_PSf"
      },
      "source": [
        "[Nodes](https://langchain-ai.github.io/langgraph/concepts/low_level/#nodes) are just python functions. As mentioned above, Nodes take in your graph's State as input.\n",
        "\n",
        "The first positional argument is the state, as defined above.\n",
        "\n",
        "Because the state is a `TypedDict` with schema as defined above, each node can access each key in the state, in our case, we could use `state[\"question\"]`.\n",
        "  \n",
        "Nodes return any updates to the state that they want to make. By default, the new value returned by each node will override the prior state value. You can implement custom handling for updates to State using State Reducers, which we will see later in the session.\n",
        "\n",
        "Here, we're going to set up two nodes for our RAG flow:\n",
        "1. retrieve_documents: Retrieves documents from our vector store\n",
        "2. generate_response: Generates an answer from our documents"
      ]
    },
    {
      "cell_type": "markdown",
      "metadata": {
        "id": "QguS5bb8EnCG"
      },
      "source": [
        "节点只是python函数。如上所述，节点将图的State作为输入。第一个位置参数是如上所定义的状态。因为状态是上面定义的具有模式的TypedDict，所以每个节点都可以访问状态中的每个键，在我们的例子中，我们可以使用state[\"question\"]。节点返回它们想要进行的状态的任何更新。默认情况下，每个节点返回的新值将覆盖先前的状态值。你可以使用State Reducers实现对State更新的自定义处理，我们将在后面的会话中看到。这里，我们将为我们的RAG流设置两个节点：检索_documents：从vector storegenerate中检索文档_response：从我们的文档中生成答案"
      ]
    },
    {
      "cell_type": "code",
      "execution_count": 42,
      "metadata": {
        "id": "VwrzPmpa_PSf"
      },
      "outputs": [],
      "source": [
        "from langchain_core.messages import HumanMessage\n",
        "\n",
        "def retrieve_documents(state: GraphState):\n",
        "    \"\"\"\n",
        "    Args:\n",
        "        state (dict): The current graph state\n",
        "    Returns:\n",
        "        state (dict): New key added to state, documents, that contains retrieved documents\n",
        "    \"\"\"\n",
        "    print(\"---RETRIEVE DOCUMENTS---\")\n",
        "    question = state[\"question\"]\n",
        "    documents = retriever.invoke(question)\n",
        "    return {\"documents\": documents}\n",
        "\n",
        "RAG_PROMPT = \"\"\"You are an assistant for question-answering tasks.\n",
        "Use the following pieces of retrieved context to answer the question.\n",
        "If you don't know the answer, just say that you don't know.\n",
        "Use three sentences maximum and keep the answer concise.\n",
        "\n",
        "Question: {question}\n",
        "Context: {context}\n",
        "Answer:\"\"\"\n",
        "\n",
        "def generate_response(state: GraphState):\n",
        "    \"\"\"\n",
        "    Args:\n",
        "        state (dict): The current graph state\n",
        "    Returns:\n",
        "        state (dict): New key added to state, generation, that contains LLM generation\n",
        "    \"\"\"\n",
        "    print(\"---GENERATE RESPONSE---\")\n",
        "    question = state[\"question\"]\n",
        "    documents = state[\"documents\"]\n",
        "    formatted_docs = \"\\n\\n\".join(doc.page_content for doc in documents)\n",
        "\n",
        "    # Invoke our LLM with our RAG prompt\n",
        "    rag_prompt_formatted = RAG_PROMPT.format(context=formatted_docs, question=question)\n",
        "    generation = llm.invoke([HumanMessage(content=rag_prompt_formatted)])\n",
        "    return {\"generation\": generation}"
      ]
    },
    {
      "cell_type": "markdown",
      "metadata": {
        "id": "zunz_fc8_PSf"
      },
      "source": [
        "### Edges"
      ]
    },
    {
      "cell_type": "markdown",
      "metadata": {
        "id": "IMRG6Xii_PSg"
      },
      "source": [
        "[Edges](https://langchain-ai.github.io/langgraph/concepts/low_level/#edges) define how your agentic applications progresses from each Node to the next Node.\n",
        "- Normal Edges are used if you want to *always* go from, for example, `node_1` to `node_2`.\n",
        "- [Conditional Edges](https://langchain-ai.github.io/langgraph/reference/graphs/?h=conditional+edge#langgraph.graph.StateGraph.add_conditional_edges) are used want to *optionally* route between nodes.\n",
        "\n",
        "Conditional edges are implemented as functions that return the next node to visit based upon some logic. Note that these functions often use values from our graph's State to determine how to traverse.\n",
        "\n",
        "We'll add some useful conditional edges later, but for now let's take a look at an example."
      ]
    },
    {
      "cell_type": "markdown",
      "metadata": {
        "id": "GKTaOUm2GIFU"
      },
      "source": [
        "EdgesEdges\n",
        "\n",
        "定义了代理应用程序如何从每个节点进展到下一个节点。如果你想总是从，例如，节点出发，则使用法线边_1到节点_2.条件边用于有选择地在节点之间路由。条件边是作为函数实现的，它根据某些逻辑返回下一个要访问的节点。注意，这些函数经常使用图的State中的值来决定如何遍历。稍后我们将添加一些有用的条件边，但现在让我们看一个示例。"
      ]
    },
    {
      "cell_type": "code",
      "execution_count": 43,
      "metadata": {
        "id": "ZGJ64zpR_PSg"
      },
      "outputs": [],
      "source": [
        "from typing import Literal\n",
        "\n",
        "def conditional_edge_example(state) -> Literal[\"node_1\", \"node_2\"]:\n",
        "    # Often, we will use state to decide on the next node to visit\n",
        "    field_1 = state['field_1']\n",
        "    field_2 = state['field_2']\n",
        "    if field_1 > field_2:\n",
        "        return \"node_1\"\n",
        "    return \"node_2\""
      ]
    },
    {
      "cell_type": "markdown",
      "metadata": {
        "id": "TgQY-NGQ_PSg"
      },
      "source": [
        "### Graph"
      ]
    },
    {
      "cell_type": "markdown",
      "metadata": {
        "id": "jDRMmtZj_PSg"
      },
      "source": [
        "Great! We now have defined the schema for our State, written logic for two Nodes, and learned about Edges. Let's stitch those components together to define our simple RAG graph\n",
        "\n",
        "First, we instantiate a graph builder with our State. The [StateGraph class](https://langchain-ai.github.io/langgraph/concepts/low_level/#stategraph) is the graph class that we can use."
      ]
    },
    {
      "cell_type": "markdown",
      "metadata": {
        "id": "yfNwvvm1GTJ9"
      },
      "source": [
        "太棒了!现在，我们已经为状态定义了模式，为两个节点编写了逻辑，并了解了edge。让我们将这些组件拼接在一起来定义简单的RAG graph1。首先，我们用State实例化一个图形构建器。StateGraph类是我们可以使用的图形类。"
      ]
    },
    {
      "cell_type": "code",
      "execution_count": 44,
      "metadata": {
        "id": "ivBRkXcC_PSg"
      },
      "outputs": [],
      "source": [
        "from langgraph.graph import StateGraph\n",
        "graph_builder = StateGraph(GraphState)"
      ]
    },
    {
      "cell_type": "markdown",
      "metadata": {
        "id": "xhLahGUq_PSg"
      },
      "source": [
        "Next, we add our two defined nodes to our Graph."
      ]
    },
    {
      "cell_type": "code",
      "execution_count": 45,
      "metadata": {
        "colab": {
          "base_uri": "https://localhost:8080/"
        },
        "id": "5W0mMSB3_PSg",
        "outputId": "4b970b28-d4dd-4c1e-ef0a-73f3011f49f6"
      },
      "outputs": [
        {
          "data": {
            "text/plain": [
              "<langgraph.graph.state.StateGraph at 0x7da0fbe47b50>"
            ]
          },
          "execution_count": 45,
          "metadata": {},
          "output_type": "execute_result"
        }
      ],
      "source": [
        "graph_builder.add_node(\"retrieve_documents\", retrieve_documents)\n",
        "graph_builder.add_node(\"generate_response\", generate_response)"
      ]
    },
    {
      "cell_type": "markdown",
      "metadata": {
        "id": "TXPzf_RF_PSg"
      },
      "source": [
        "We then define the shape of our graph by adding edges between the nodes.\n",
        "\n",
        "We use the [`START` Node, a special node](https://langchain-ai.github.io/langgraph/concepts/low_level/#start-node) that sends user input to the graph, to indicate where to start our graph.\n",
        "\n",
        "The [`END` Node](https://langchain-ai.github.io/langgraph/concepts/low_level/#end-node) is a special node that represents a terminal node."
      ]
    },
    {
      "cell_type": "code",
      "execution_count": null,
      "metadata": {
        "id": "2vY2GVgdGjce"
      },
      "outputs": [],
      "source": [
        "from utils import show_graph"
      ]
    },
    {
      "cell_type": "code",
      "execution_count": 68,
      "metadata": {
        "id": "RzjilPz-Gs9t"
      },
      "outputs": [],
      "source": [
        "from langchain_openai import OpenAIEmbeddings, AzureOpenAIEmbeddings, AzureChatOpenAI\n",
        "\n",
        "\n",
        "\n",
        "\n",
        "\n",
        "\"\"\"\n",
        "Embedding Models\n",
        "\"\"\"\n",
        "\n",
        "EMBEDDING_MODEL = OpenAIEmbeddings()\n",
        "\n"
      ]
    },
    {
      "cell_type": "markdown",
      "metadata": {
        "id": "23KOyZQLIBqj"
      },
      "source": []
    },
    {
      "cell_type": "code",
      "execution_count": 52,
      "metadata": {
        "id": "Da49RBRnGqNl"
      },
      "outputs": [],
      "source": [
        "import os\n",
        "from IPython.display import Image, display\n",
        "from langchain_core.runnables.graph import MermaidDrawMethod\n",
        "import nest_asyncio\n",
        "from langchain.text_splitter import RecursiveCharacterTextSplitter\n",
        "from langchain_community.document_loaders import WebBaseLoader\n",
        "from langchain_chroma import Chroma\n",
        "# NOTE: Adjust this import to use a different embedding model\n",
        "\n",
        "\n",
        "LANGGRAPH_DOCS = [\n",
        "    \"https://langchain-ai.github.io/langgraph/\",\n",
        "    \"https://langchain-ai.github.io/langgraph/tutorials/customer-support/customer-support/\",\n",
        "    \"https://langchain-ai.github.io/langgraph/tutorials/chatbots/information-gather-prompting/\",\n",
        "    \"https://langchain-ai.github.io/langgraph/tutorials/code_assistant/langgraph_code_assistant/\",\n",
        "    \"https://langchain-ai.github.io/langgraph/tutorials/multi_agent/multi-agent-collaboration/\",\n",
        "    \"https://langchain-ai.github.io/langgraph/tutorials/multi_agent/agent_supervisor/\",\n",
        "    \"https://langchain-ai.github.io/langgraph/tutorials/multi_agent/hierarchical_agent_teams/\",\n",
        "    \"https://langchain-ai.github.io/langgraph/tutorials/plan-and-execute/plan-and-execute/\",\n",
        "    \"https://langchain-ai.github.io/langgraph/tutorials/rewoo/rewoo/\",\n",
        "    \"https://langchain-ai.github.io/langgraph/tutorials/llm-compiler/LLMCompiler/\",\n",
        "    \"https://langchain-ai.github.io/langgraph/concepts/high_level/\",\n",
        "    \"https://langchain-ai.github.io/langgraph/concepts/low_level/\",\n",
        "    \"https://langchain-ai.github.io/langgraph/concepts/agentic_concepts/\",\n",
        "    \"https://langchain-ai.github.io/langgraph/concepts/human_in_the_loop/\",\n",
        "    \"https://langchain-ai.github.io/langgraph/concepts/multi_agent/\",\n",
        "    \"https://langchain-ai.github.io/langgraph/concepts/persistence/\",\n",
        "    \"https://langchain-ai.github.io/langgraph/concepts/streaming/\",\n",
        "    \"https://langchain-ai.github.io/langgraph/concepts/faq/\"\n",
        "]\n",
        "\n",
        "def get_langgraph_docs_retriever():\n",
        "    # If there is a vectorstore at this path, early return as it is already persisted\n",
        "    if os.path.exists(\"langgraph-docs-db\"):\n",
        "        print(\"Loading vectorstore from disk...\")\n",
        "        vectorstore = Chroma(\n",
        "            collection_name=\"langgraph-docs\",\n",
        "            embedding_function=EMBEDDING_MODEL,\n",
        "            persist_directory=\"langgraph-docs-db\"\n",
        "        )\n",
        "        return vectorstore.as_retriever(lambda_mult=0)\n",
        "\n",
        "    # Otherwise, load the documents and persist to the vectorstore\n",
        "    docs = [WebBaseLoader(url).load() for url in LANGGRAPH_DOCS]\n",
        "    docs_list = [item for sublist in docs for item in sublist]\n",
        "    text_splitter = RecursiveCharacterTextSplitter.from_tiktoken_encoder(\n",
        "        chunk_size=200, chunk_overlap=0\n",
        "    )\n",
        "    doc_splits = text_splitter.split_documents(docs_list)\n",
        "    vectorstore = Chroma(\n",
        "        collection_name=\"langgraph-docs\",\n",
        "        embedding_function=EMBEDDING_MODEL,\n",
        "        persist_directory=\"langgraph-docs-db\"\n",
        "    )\n",
        "    vectorstore.add_documents(doc_splits)\n",
        "    print(\"Vectorstore created and persisted to disk\")\n",
        "    return vectorstore.as_retriever(lambda_mult=0)\n",
        "\n",
        "def show_graph(graph, xray=False):\n",
        "    \"\"\"Display a LangGraph mermaid diagram with fallback rendering.\n",
        "\n",
        "    Handles timeout errors from mermaid.ink by falling back to pyppeteer.\n",
        "\n",
        "    Args:\n",
        "        graph: The LangGraph object that has a get_graph() method\n",
        "    \"\"\"\n",
        "    from IPython.display import Image\n",
        "    try:\n",
        "        # Try the default renderer first\n",
        "        return Image(graph.get_graph(xray=xray).draw_mermaid_png())\n",
        "    except Exception as e:\n",
        "        # Fall back to pyppeteer if the default renderer fails\n",
        "        import nest_asyncio\n",
        "        nest_asyncio.apply()\n",
        "        from langchain_core.runnables.graph import MermaidDrawMethod\n",
        "        return Image(graph.get_graph().draw_mermaid_png(draw_method=MermaidDrawMethod.PYPPETEER))"
      ]
    },
    {
      "cell_type": "markdown",
      "metadata": {
        "id": "gcZZ2gkLGjIT"
      },
      "source": []
    },
    {
      "cell_type": "code",
      "execution_count": 53,
      "metadata": {
        "colab": {
          "base_uri": "https://localhost:8080/",
          "height": 407
        },
        "id": "LTH46ur8_PSg",
        "outputId": "8259f017-a711-4ac5-9abc-5673c477a677"
      },
      "outputs": [
        {
          "name": "stderr",
          "output_type": "stream",
          "text": [
            "WARNING:langgraph.graph.graph:Adding an edge to a graph that has already been compiled. This will not be reflected in the compiled graph.\n",
            "WARNING:langgraph.graph.graph:Adding an edge to a graph that has already been compiled. This will not be reflected in the compiled graph.\n",
            "WARNING:langgraph.graph.graph:Adding an edge to a graph that has already been compiled. This will not be reflected in the compiled graph.\n"
          ]
        },
        {
          "data": {
            "image/png": "[encoded data removed]",
            "text/plain": [
              "<IPython.core.display.Image object>"
            ]
          },
          "execution_count": 53,
          "metadata": {},
          "output_type": "execute_result"
        }
      ],
      "source": [
        "from langgraph.graph import START, END\n",
        "\n",
        "\n",
        "graph_builder.add_edge(START, \"retrieve_documents\")\n",
        "graph_builder.add_edge(\"retrieve_documents\", \"generate_response\")\n",
        "graph_builder.add_edge(\"generate_response\", END)\n",
        "\n",
        "simple_rag_graph = graph_builder.compile()\n",
        "show_graph(simple_rag_graph)"
      ]
    },
    {
      "cell_type": "markdown",
      "metadata": {
        "id": "LdRhkIbb_PSh"
      },
      "source": [
        "Finally, we [compile our graph](https://langchain-ai.github.io/langgraph/concepts/low_level/#compiling-your-graph) to perform a few basic checks on the graph structure."
      ]
    },
    {
      "cell_type": "markdown",
      "metadata": {
        "id": "TcBZEsiCHA0B"
      },
      "source": [
        "最后，我们编译图，对图结构执行一些基本检查。"
      ]
    },
    {
      "cell_type": "markdown",
      "metadata": {
        "id": "b38qB993_PSh"
      },
      "source": [
        "### Running our Graph"
      ]
    },
    {
      "cell_type": "markdown",
      "metadata": {
        "id": "RbdS2rr2_PSk"
      },
      "source": [
        "Now that our graph is defined, let's invoke it!\n",
        "\n",
        "The compiled graph implements the [runnable](https://python.langchain.com/v0.1/docs/expression_language/interface/) protocol. This provides a standard way to execute LangChain components. `invoke` is one of the standard methods in this interface.\n",
        "\n",
        "The input is a dictionary `{\"question\": \"Does LangGraph work with OSS LLMs\"}`, which sets the initial value for our graph's state dictionary. Note that we didn't need to pass in all of the keys of our dictionary.\n",
        "\n",
        "Our graph executes as follows:\n",
        "1. When `invoke` is called, the graph starts execution from the `START` node.\n",
        "2. It progresses to `retrieve_documents` and invokes our retriever on the `question` defined in our State. It then writes the retrieved `documents` to State.\n",
        "3. It progresses to `generate_response` and makes an LLM call to generate an answer, using our retrieved `documents`.\n",
        "4. Finally, it progresses to the `END` node.\n",
        "\n",
        "Each node function receives the current state and returns a new value, which overrides the graph state."
      ]
    },
    {
      "cell_type": "markdown",
      "metadata": {
        "id": "em_Geh6RHDta"
      },
      "source": [
        "现在我们的图已经定义好了，让我们调用它！编译后的图实现了可运行协议。这提供了一种执行LangChain组件的标准方法。Invoke是这个接口中的标准方法之一。输入是一个字典{\"question\": \"Does LangGraph work with OSS LLMs\"}，它为我们的图的状态字典设置了初始值。注意，我们不需要传入字典的所有键。我们的图执行如下：调用invoke时，图从START节点开始执行。它会逐渐恢复_文档并调用在State中定义的问题上的检索器。然后将检索到的文档写入State。它会产生_响应，并使用检索到的文档进行LLM调用以生成答案。最后，它进展到END节点。每个节点函数接收当前状态并返回一个新值，该值覆盖图形状态。"
      ]
    },
    {
      "cell_type": "code",
      "execution_count": 71,
      "metadata": {
        "colab": {
          "base_uri": "https://localhost:8080/"
        },
        "id": "L9tXG3Kg_PSk",
        "outputId": "b650b222-830b-43de-92f3-6bdea176dd49"
      },
      "outputs": [
        {
          "name": "stdout",
          "output_type": "stream",
          "text": [
            "---RETRIEVE DOCUMENTS---\n",
            "---GENERATE RESPONSE---\n"
          ]
        },
        {
          "data": {
            "text/plain": [
              "{'question': 'Does LangGraph work with OSS LLMs?',\n",
              " 'generation': AIMessage(content='Yes, LangGraph works with OSS (Open Source Software) LLMs (Large Language Models). It is designed to be compatible with various open-source models. This allows users to leverage the capabilities of OSS LLMs within the LangGraph framework.', additional_kwargs={'refusal': None}, response_metadata={'token_usage': {'completion_tokens': 51, 'prompt_tokens': 74, 'total_tokens': 125, 'completion_tokens_details': {'accepted_prediction_tokens': 0, 'audio_tokens': 0, 'reasoning_tokens': 0, 'rejected_prediction_tokens': 0}, 'prompt_tokens_details': {'audio_tokens': 0, 'cached_tokens': 0}}, 'model_name': 'gpt-4o-mini-2024-07-18', 'system_fingerprint': 'fp_57db37749c', 'id': 'chatcmpl-BlpHD14rBfl5rUUESIybBu7cfjiTQ', 'service_tier': None, 'finish_reason': 'stop', 'logprobs': None}, id='run--ff1a064c-cc39-4402-8e4e-a1b7f439eb76-0', usage_metadata={'input_tokens': 74, 'output_tokens': 51, 'total_tokens': 125, 'input_token_details': {'audio': 0, 'cache_read': 0}, 'output_token_details': {'audio': 0, 'reasoning': 0}}),\n",
              " 'documents': []}"
            ]
          },
          "execution_count": 71,
          "metadata": {},
          "output_type": "execute_result"
        }
      ],
      "source": [
        "question = \"Does LangGraph work with OSS LLMs?\"\n",
        "simple_rag_graph.invoke({\"question\": question})"
      ]
    },
    {
      "cell_type": "markdown",
      "metadata": {
        "id": "FKH1DfcN_PSk"
      },
      "source": [
        "Congrats on running your first LangGraph application! `invoke` runs the entire graph synchronously. This waits for each step to complete before moving to the next. It returns the final state of the graph after all nodes have executed, which is what we see above.\n",
        "\n",
        "Let's take a look in LangSmith!"
      ]
    },
    {
      "cell_type": "markdown",
      "metadata": {
        "id": "lwRHnjSzNGeL"
      },
      "source": [
        "祝贺您运行了第一个LangGraph应用程序！Invoke以同步方式运行整个图。在移动到下一个步骤之前等待每个步骤完成。它返回所有节点执行后图的最终状态，即我们在上面看到的。让我们看一看LangSmith！"
      ]
    },
    {
      "cell_type": "markdown",
      "metadata": {
        "id": "BMSzq1OD_PSk"
      },
      "source": [
        "## Part 2: Control Flow with Conditional Edges and Loops"
      ]
    },
    {
      "cell_type": "markdown",
      "metadata": {
        "id": "80cFzkPRNK7U"
      },
      "source": [
        "![check_hallucinations.png](data:image/png;base64,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)"
      ]
    },
    {
      "cell_type": "markdown",
      "metadata": {
        "id": "4pUNfWQ6_PSk"
      },
      "source": [
        "\n",
        "![Corrective RAG](../images/check_hallucinations.png)\n",
        "\n",
        "In this section, we're going to add a few techniques that can improve our RAG workflow. Specifically, we'll introduce\n",
        "- Document Grading: Are the documents fetched by the retriever actually relevant to the user's question?\n",
        "- Hallucination Checking: Is our generated answer actually grounded in the documents?\n",
        "\n",
        "We're also going to add some constraints to the inputs and outputs of our application for the best user experience.\n",
        "\n",
        "By the end of this section, we'll have a more complex corrective RAG workflow! Then, we'll hop into LangSmith and walk through how we can evaluate that our application is actually improving as we add new techniques."
      ]
    },
    {
      "cell_type": "markdown",
      "metadata": {
        "id": "6hBLnBCfNkgx"
      },
      "source": [
        "在本节中，我们将添加一些可以改进RAG工作流的技术。具体来说，我们将介绍文档分级：检索器获取的文档是否与用户的问题相关？幻觉检查：我们生成的答案实际上是基于文件吗？为了获得最佳的用户体验，我们还将向应用程序的输入和输出添加一些约束。在本节结束时，我们将有一个更复杂的纠正RAG工作流程！然后，我们将进入LangSmith，并通过添加新技术来评估我们的应用程序实际上正在改进。"
      ]
    },
    {
      "cell_type": "markdown",
      "metadata": {
        "id": "CzdfpPr9_PSk"
      },
      "source": [
        "### Structured Outputs"
      ]
    },
    {
      "cell_type": "markdown",
      "metadata": {
        "id": "4Kz0TJAR_PSk"
      },
      "source": [
        "Some LLMs provide support for Structured Outputs, which provides a typing guarantee for the output schema of the LLM's response. Here, we can use BaseModel from pydantic to define a specific return type. The provided description helps the LLM generate the value for the field.\n",
        "\n",
        "We can hook this up to our previously defined `llm` using `with_structured_output`. Now, when we invoke our `grade_documents_llm`, we can expect the returned object to contain the expected field."
      ]
    },
    {
      "cell_type": "markdown",
      "metadata": {
        "id": "tP9aySp9NtZW"
      },
      "source": [
        "一些LLM提供对结构化输出的支持，这为LLM响应的输出模式提供了类型保证。在这里，我们可以使用pydantic的BaseModel来定义一个特定的返回类型。提供的描述帮助LLM生成该字段的值。我们可以使用with将它连接到之前定义的llm_结构化_输出。现在，当我们调用我们的分数_文档_嗯，我们可以期望返回的对象包含期望的字段。"
      ]
    },
    {
      "cell_type": "code",
      "execution_count": 72,
      "metadata": {
        "id": "MfIBj6xJ_PSl"
      },
      "outputs": [],
      "source": [
        "from pydantic import BaseModel, Field\n",
        "\n",
        "class GradeDocuments(BaseModel):\n",
        "    is_relevant: bool = Field(\n",
        "        description=\"The document is relevant to the question, true or false\"\n",
        "    )\n",
        "\n",
        "grade_documents_llm = llm.with_structured_output(GradeDocuments)\n",
        "grade_documents_system_prompt = \"\"\"You are a grader assessing relevance of a retrieved document to a user question. \\n\n",
        "    If the document contains keyword(s) or semantic meaning related to the user question, grade it as relevant. \\n\n",
        "    It does not need to be a stringent test. The goal is to filter out erroneous retrievals. \\n\n",
        "    Give a binary score true or false to indicate whether the document is relevant to the question.\"\"\"\n",
        "grade_documents_prompt = \"Here is the retrieved document: \\n\\n {document} \\n\\n Here is the user question: \\n\\n {question}\""
      ]
    },
    {
      "cell_type": "code",
      "execution_count": 73,
      "metadata": {
        "id": "taXcRp-R_PSl"
      },
      "outputs": [],
      "source": [
        "from langchain_core.messages import SystemMessage\n",
        "\n",
        "def grade_documents(state):\n",
        "    \"\"\"\n",
        "    Args:\n",
        "        state (dict): The current graph state\n",
        "    Returns:\n",
        "        state (dict): Updates documents key with only filtered relevant documents\n",
        "    \"\"\"\n",
        "    print(\"---GRADE DOCUMENTS---\")\n",
        "    question = state[\"question\"]\n",
        "    documents = state[\"documents\"]\n",
        "    # Score each doc\n",
        "    filtered_docs = []\n",
        "    for d in documents:\n",
        "        grade_documents_prompt_formatted = grade_documents_prompt.format(document=d.page_content, question=question)\n",
        "        score = grade_documents_llm.invoke(\n",
        "            [SystemMessage(content=grade_documents_system_prompt)] + [HumanMessage(content=grade_documents_prompt_formatted)]\n",
        "        )\n",
        "        grade = score.is_relevant\n",
        "        if grade:\n",
        "            print(\"---GRADE: DOCUMENT RELEVANT---\")\n",
        "            filtered_docs.append(d)\n",
        "        else:\n",
        "            print(\"---GRADE: DOCUMENT NOT RELEVANT---\")\n",
        "            continue\n",
        "    return {\"documents\": filtered_docs}"
      ]
    },
    {
      "cell_type": "markdown",
      "metadata": {
        "id": "pgamOJ8v_PSl"
      },
      "source": [
        "Let's make sure that at least some documents are relevant if we are going to respond to the user! To do this, we need to add a conditional edge. Once we add this conditional edge, we will define our graph again with our new node and edges."
      ]
    },
    {
      "cell_type": "code",
      "execution_count": 74,
      "metadata": {
        "id": "gyl52AM__PSl"
      },
      "outputs": [],
      "source": [
        "def decide_to_generate(state):\n",
        "    \"\"\"\n",
        "    Args:\n",
        "        state (dict): The current graph state\n",
        "    Returns:\n",
        "        str: Binary decision for next node to call\n",
        "    \"\"\"\n",
        "    print(\"---ASSESS GRADED DOCUMENTS---\")\n",
        "    filtered_documents = state[\"documents\"]\n",
        "\n",
        "    if not filtered_documents:\n",
        "        print(\n",
        "            \"---DECISION: ALL DOCUMENTS ARE NOT RELEVANT TO QUESTION, END---\"\n",
        "        )\n",
        "        return \"none relevant\"\n",
        "    else:\n",
        "        # We have relevant documents, so generate answer\n",
        "        print(\"---DECISION: GENERATE---\")\n",
        "        return \"some relevant\""
      ]
    },
    {
      "cell_type": "markdown",
      "metadata": {
        "id": "GbzqH7___PSl"
      },
      "source": [
        "Let's put our graph together!"
      ]
    },
    {
      "cell_type": "code",
      "execution_count": 76,
      "metadata": {
        "id": "IKCBw7oSIasf"
      },
      "outputs": [],
      "source": [
        "def show_graph(graph, xray=False):\n",
        "    \"\"\"Display a LangGraph mermaid diagram with fallback rendering.\n",
        "\n",
        "    Handles timeout errors from mermaid.ink by falling back to pyppeteer.\n",
        "\n",
        "    Args:\n",
        "        graph: The LangGraph object that has a get_graph() method\n",
        "    \"\"\"\n",
        "    from IPython.display import Image\n",
        "    try:\n",
        "        # Try the default renderer first\n",
        "        return Image(graph.get_graph(xray=xray).draw_mermaid_png())\n",
        "    except Exception as e:\n",
        "        # Fall back to pyppeteer if the default renderer fails\n",
        "        import nest_asyncio\n",
        "        nest_asyncio.apply()\n",
        "        from langchain_core.runnables.graph import MermaidDrawMethod\n",
        "        return Image(graph.get_graph().draw_mermaid_png(draw_method=MermaidDrawMethod.PYPPETEER))"
      ]
    },
    {
      "cell_type": "code",
      "execution_count": null,
      "metadata": {
        "id": "lXGR07IUIcYT"
      },
      "outputs": [],
      "source": [
        "from utils import show_graph"
      ]
    },
    {
      "cell_type": "code",
      "execution_count": 77,
      "metadata": {
        "colab": {
          "base_uri": "https://localhost:8080/",
          "height": 473
        },
        "id": "0f2qrV9l_PSl",
        "outputId": "a24dcac0-a5ab-4fb0-c86f-fbccd16b7d5f"
      },
      "outputs": [
        {
          "data": {
            "image/png": "[encoded data removed]",
            "text/plain": [
              "<IPython.core.display.Image object>"
            ]
          },
          "execution_count": 77,
          "metadata": {},
          "output_type": "execute_result"
        }
      ],
      "source": [
        "from langgraph.graph import StateGraph\n",
        "from langgraph.graph import START, END\n",
        "\n",
        "\n",
        "graph_builder = StateGraph(GraphState)\n",
        "graph_builder.add_node(\"retrieve_documents\", retrieve_documents)\n",
        "graph_builder.add_node(\"generate_response\", generate_response)\n",
        "graph_builder.add_node(\"grade_documents\", grade_documents)    # new node!\n",
        "graph_builder.add_edge(START, \"retrieve_documents\")\n",
        "graph_builder.add_edge(\"retrieve_documents\", \"grade_documents\")    # edited edge\n",
        "graph_builder.add_conditional_edges(    # new conditional edge\n",
        "    \"grade_documents\",\n",
        "    decide_to_generate,\n",
        "    {\n",
        "        \"some relevant\": \"generate_response\",\n",
        "        \"none relevant\": END\n",
        "    })\n",
        "graph_builder.add_edge(\"generate_response\", END)\n",
        "\n",
        "document_grading_graph = graph_builder.compile()\n",
        "show_graph(document_grading_graph)"
      ]
    },
    {
      "cell_type": "markdown",
      "metadata": {
        "id": "ExrtWQ3R_PSm"
      },
      "source": [
        "Let's try to invoke our graph again, this time with a question about something totally irrelevant, like pokemon."
      ]
    },
    {
      "cell_type": "code",
      "execution_count": 78,
      "metadata": {
        "colab": {
          "base_uri": "https://localhost:8080/"
        },
        "id": "a-o5tP_Q_PSm",
        "outputId": "ce879d39-274c-4131-9546-8c710c8771f7"
      },
      "outputs": [
        {
          "name": "stdout",
          "output_type": "stream",
          "text": [
            "---RETRIEVE DOCUMENTS---\n",
            "---GRADE DOCUMENTS---\n",
            "---ASSESS GRADED DOCUMENTS---\n",
            "---DECISION: ALL DOCUMENTS ARE NOT RELEVANT TO QUESTION, END---\n"
          ]
        },
        {
          "data": {
            "text/plain": [
              "{'question': 'What is your favorite pokemon?', 'documents': []}"
            ]
          },
          "execution_count": 78,
          "metadata": {},
          "output_type": "execute_result"
        }
      ],
      "source": [
        "question = \"What is your favorite pokemon?\"\n",
        "document_grading_graph.invoke({\"question\": question})"
      ]
    },
    {
      "cell_type": "markdown",
      "metadata": {
        "id": "W_6xfy-7_PSm"
      },
      "source": [
        "### Hallucination Checking with a Loop"
      ]
    },
    {
      "cell_type": "markdown",
      "metadata": {
        "id": "2btYUfDNPEJO"
      },
      "source": [
        "幻觉循环检查"
      ]
    },
    {
      "cell_type": "markdown",
      "metadata": {
        "id": "9wFm9xYn_PSm"
      },
      "source": [
        "Awesome, now we are confident that when we generate an answer on documents, the documents are relevant to our generation! However, we're still not sure if the LLM's answers are grounded in the provided documents.\n",
        "\n",
        "For sensitive use cases (ex. legal, healthcare, finance, etc.), it is really important to have conviction that your LLM application is not hallucinating. How can we be more sure when LLMs are inherently so non-deterministic? Let's add an explicit hallucination grader to gain more confidence!\n",
        "\n",
        "Just like with our document relevance checking, let's start by creating an LLM chain with structured outputs to check if we are hallucinating."
      ]
    },
    {
      "cell_type": "markdown",
      "metadata": {
        "id": "8YtTLnHgPHQU"
      },
      "source": [
        "太棒了，现在我们有信心，当我们在文件上生成答案时，这些文件与我们这一代相关！然而，我们仍然不确定法学硕士的答案是否基于所提供的文件。对于敏感的用例（例如，法律、医疗保健、金融等），确信您的LLM应用程序不是幻觉是非常重要的。法学硕士天生就不确定，我们怎么能更确定呢？让我们添加一个明确的幻觉分级器来获得更多的信心！就像我们的文档相关性检查一样，让我们首先创建一个具有结构化输出的LLM链来检查我们是否产生了幻觉。"
      ]
    },
    {
      "cell_type": "code",
      "execution_count": 79,
      "metadata": {
        "id": "TGbFZYV4_PSm"
      },
      "outputs": [],
      "source": [
        "class GradeHallucinations(BaseModel):\n",
        "    \"\"\"Binary score for hallucination present in generation answer.\"\"\"\n",
        "    grounded_in_facts: bool = Field(\n",
        "        description=\"Answer is grounded in the facts, true or false\"\n",
        "    )\n",
        "\n",
        "grade_hallucinations_llm = llm.with_structured_output(GradeHallucinations)\n",
        "grade_hallucinations_system_prompt = \"\"\"You are a grader assessing whether an LLM generation is grounded in / supported by a set of retrieved facts. \\n\n",
        "     Give a binary score true or false. True means that the answer is grounded in / supported by the set of facts.\"\"\"\n",
        "grade_hallucinations_prompt = \"Set of facts: \\n\\n {documents} \\n\\n LLM generation: {generation}\""
      ]
    },
    {
      "cell_type": "markdown",
      "metadata": {
        "id": "ks5GKeOU_PSm"
      },
      "source": [
        "Let's add an edge for grading hallucinations after our LLM generates a response. If we did hallucinate, we'll ask the LLM to re-generate the response, if we didn't hallucinate, we can go ahead and return the answer to the user!\n",
        "\n",
        "Note: We don't need a node here because we are not explicitly updating state (like the document grader does)."
      ]
    },
    {
      "cell_type": "markdown",
      "metadata": {
        "id": "KaIg6ZrCP8ik"
      },
      "source": [
        "让我们在LLM产生反应后为幻觉评分增加一个优势。如果我们确实产生了幻觉，我们将要求LLM重新生成响应，如果我们没有产生幻觉，我们可以继续并将答案返回给用户！注意：这里不需要节点，因为我们没有显式地更新状态（像文档分级器那样）。"
      ]
    },
    {
      "cell_type": "code",
      "execution_count": 80,
      "metadata": {
        "id": "5zucbJ10_PSm"
      },
      "outputs": [],
      "source": [
        "def grade_hallucinations(state):\n",
        "    \"\"\"\n",
        "    Args:\n",
        "        state (dict): The current graph state\n",
        "    Returns:\n",
        "        str: Decision for next node to call\n",
        "    \"\"\"\n",
        "\n",
        "    print(\"---CHECK HALLUCINATIONS---\")\n",
        "    documents = state[\"documents\"]\n",
        "    generation = state[\"generation\"]\n",
        "    formatted_docs = \"\\n\\n\".join(doc.page_content for doc in documents)\n",
        "\n",
        "    grade_hallucinations_prompt_formatted = grade_hallucinations_prompt.format(\n",
        "        documents=formatted_docs,\n",
        "        generation=generation\n",
        "    )\n",
        "\n",
        "    score = grade_hallucinations_llm.invoke(\n",
        "        [SystemMessage(content=grade_hallucinations_system_prompt)] + [HumanMessage(content=grade_hallucinations_prompt_formatted)]\n",
        "    )\n",
        "    grade = score.grounded_in_facts\n",
        "\n",
        "    # Check hallucination\n",
        "    if grade:\n",
        "        print(\"---DECISION: GENERATION IS GROUNDED IN DOCUMENTS---\")\n",
        "        return \"supported\"\n",
        "    else:\n",
        "        print(\"---DECISION: GENERATION IS NOT GROUNDED IN DOCUMENTS, RE-TRY---\")\n",
        "        return \"not supported\""
      ]
    },
    {
      "cell_type": "markdown",
      "metadata": {
        "id": "GvY6UOSs_PSn"
      },
      "source": [
        "We've just introduced a cycle in our graph! Our simple RAG workflow has already evolved into an agentic application.\n",
        "\n",
        "However we have to be careful here - when we define cycles in our graphs, specifically when we have LLMs deciding whether or not to loop, we can potentially end up in infinite loops that are very resource intensive and expensive (infinite LLM calls!).\n",
        "\n",
        "Let's go over a few ways to protect against this."
      ]
    },
    {
      "cell_type": "markdown",
      "metadata": {
        "id": "VqCpW4BKQW4q"
      },
      "source": [
        "让我们在LLM产生反应后为幻觉评分增加一个优势。如果我们确实产生了幻觉，我们将要求LLM重新生成响应，如果我们没有产生幻觉，我们可以继续并将答案返回给用户！注意：这里不需要节点，因为我们没有显式地更新状态（像文档分级器那样）。"
      ]
    },
    {
      "cell_type": "markdown",
      "metadata": {
        "id": "D4ZMBQk8_PSn"
      },
      "source": [
        "### Tracking Iterations in State"
      ]
    },
    {
      "cell_type": "markdown",
      "metadata": {
        "id": "Qfr_GwqE_PSn"
      },
      "source": [
        "One good way to keep your graph from infinite-looping is to add a tracking variable for iterations to your State, and then adding logic to your conditional edge that prevents cycling if a certain retry threshold has been crossed.\n",
        "\n",
        "This is great technique if you want to limit the number of cycles over one or many nodes in your graph.\n",
        "\n",
        "Let's redefine our State to additionally track a field `attempted_generations`"
      ]
    },
    {
      "cell_type": "markdown",
      "metadata": {
        "id": "Ylp2uusmQqsS"
      },
      "source": [
        "防止图形出现无限循环的一个好方法是向State添加迭代跟踪变量，然后向条件边缘添加逻辑，以防止在超过某个重试阈值时出现循环。如果你想限制图中一个或多个节点上的循环次数，这是一个很好的技术。让我们重新定义State以额外跟踪一个字段_一代又一代"
      ]
    },
    {
      "cell_type": "code",
      "execution_count": 81,
      "metadata": {
        "id": "feTvJPZW_PSn"
      },
      "outputs": [],
      "source": [
        "class GraphState(TypedDict):\n",
        "    question: str\n",
        "    generation: str\n",
        "    documents: List[Document]\n",
        "    attempted_generations: int   # New attribute!"
      ]
    },
    {
      "cell_type": "markdown",
      "metadata": {
        "id": "AR-1H3W0_PSn"
      },
      "source": [
        "We also need to redefine our generation node to increment our attempted_generations field in State. For now, we will do this increment manually and overwrite our State with each iteration of this node. In a future section, we'll also talk about defining State Reducers, which allow you specify how State is updated."
      ]
    },
    {
      "cell_type": "markdown",
      "metadata": {
        "id": "hE5hWNl9RGU8"
      },
      "source": [
        "我们还需要重新定义我们的生成节点来增加我们的尝试_状态中的generations字段。现在，我们将手动执行此增量，并在此节点的每次迭代中覆盖State。在以后的章节中，我们还将讨论定义State Reducers，它允许您指定如何更新State。"
      ]
    },
    {
      "cell_type": "code",
      "execution_count": 82,
      "metadata": {
        "id": "vT7Ch74P_PSn"
      },
      "outputs": [],
      "source": [
        "def generate_response(state: GraphState):\n",
        "    print(\"---GENERATE RESPONSE---\")\n",
        "    question = state[\"question\"]\n",
        "    documents = state[\"documents\"]\n",
        "    attempted_generations = state.get(\"attempted_generations\", 0)   # By default we set attempted_generations to 0 if it doesn't exist yet\n",
        "    formatted_docs = \"\\n\\n\".join(doc.page_content for doc in documents)\n",
        "\n",
        "    # Invoke our LLM with our RAG prompt\n",
        "    rag_prompt_formatted = RAG_PROMPT.format(context=formatted_docs, question=question)\n",
        "    generation = llm.invoke([HumanMessage(content=rag_prompt_formatted)])\n",
        "    return {\n",
        "        \"generation\": generation,\n",
        "        \"attempted_generations\": attempted_generations + 1   # In our state update, we increment attempted_generations\n",
        "    }"
      ]
    },
    {
      "cell_type": "markdown",
      "metadata": {
        "id": "V6bVV15L_PSn"
      },
      "source": [
        "Finally, the last change we need to make is to update the conditional edge which we just defined. Let's say, if we have already tried to generate 3 times, we should throw an Error to terminate execution.\n",
        "\n",
        "You could also opt to finish execution without throwing an Error, but in this case we likely want to \"loudly\" fail so we can tell when the model is hallucinating."
      ]
    },
    {
      "cell_type": "markdown",
      "metadata": {
        "id": "iE--pBh9SG_A"
      },
      "source": [
        "最后，我们需要做的最后一个更改是更新我们刚刚定义的条件分支。比如说，如果我们已经尝试生成了3次，就应该抛出一个错误来终止执行。\n",
        "你也可以选择不抛出错误就结束执行，但在这种情况下，我们可能希望“高调”失败，这样就能知道模型何时在产生幻觉。"
      ]
    },
    {
      "cell_type": "code",
      "execution_count": 83,
      "metadata": {
        "id": "UFRsEkH2_PSn"
      },
      "outputs": [],
      "source": [
        "ATTEMPTED_GENERATION_MAX = 3\n",
        "\n",
        "def grade_hallucinations(state):\n",
        "    print(\"---CHECK HALLUCINATIONS---\")\n",
        "    documents = state[\"documents\"]\n",
        "    generation = state[\"generation\"]\n",
        "    attempted_generations = state[\"attempted_generations\"]\n",
        "\n",
        "    formatted_docs = \"\\n\\n\".join(doc.page_content for doc in documents)\n",
        "\n",
        "    grade_hallucinations_prompt_formatted = grade_hallucinations_prompt.format(\n",
        "        documents=formatted_docs,\n",
        "        generation=generation\n",
        "    )\n",
        "\n",
        "    score = grade_hallucinations_llm.invoke(\n",
        "        [SystemMessage(content=grade_hallucinations_system_prompt)] + [HumanMessage(content=grade_hallucinations_prompt_formatted)]\n",
        "    )\n",
        "    grade = score.grounded_in_facts\n",
        "\n",
        "    # Check hallucination\n",
        "    if grade:\n",
        "        print(\"---DECISION: GENERATION IS GROUNDED IN DOCUMENTS---\")\n",
        "        return \"supported\"\n",
        "    elif attempted_generations >= ATTEMPTED_GENERATION_MAX:    # New condition!\n",
        "        print(\"---DECISION: TOO MANY ATTEMPTS, GIVE UP---\")\n",
        "        raise RuntimeError(\"Too many attempted generations with hallucinations, giving up.\")\n",
        "        # return \"give up\"    # Note: We could also do this to silently fail\n",
        "    else:\n",
        "        print(\"---DECISION: GENERATION IS NOT GROUNDED IN DOCUMENTS, RE-TRY---\")\n",
        "        return \"not supported\""
      ]
    },
    {
      "cell_type": "code",
      "execution_count": 84,
      "metadata": {
        "colab": {
          "base_uri": "https://localhost:8080/",
          "height": 571
        },
        "id": "tBT49VqG_PSo",
        "outputId": "bf230989-ce80-49cf-b902-059ab4e3ded9"
      },
      "outputs": [
        {
          "data": {
            "image/png": "[encoded data removed]",
            "text/plain": [
              "<IPython.core.display.Image object>"
            ]
          },
          "execution_count": 84,
          "metadata": {},
          "output_type": "execute_result"
        }
      ],
      "source": [
        "graph_builder = StateGraph(GraphState)\n",
        "graph_builder.add_node(\"retrieve_documents\", retrieve_documents)\n",
        "graph_builder.add_node(\"generate_response\", generate_response)\n",
        "graph_builder.add_node(\"grade_documents\", grade_documents)\n",
        "graph_builder.add_edge(START, \"retrieve_documents\")\n",
        "graph_builder.add_edge(\"retrieve_documents\", \"grade_documents\")\n",
        "graph_builder.add_conditional_edges(\n",
        "    \"grade_documents\",\n",
        "    decide_to_generate,\n",
        "    {\n",
        "        \"some relevant\": \"generate_response\",\n",
        "        \"none relevant\": END\n",
        "    })\n",
        "graph_builder.add_conditional_edges(\n",
        "    \"generate_response\",\n",
        "    grade_hallucinations,\n",
        "    {\n",
        "        \"supported\": END,\n",
        "        \"not supported\": \"generate_response\"\n",
        "    })\n",
        "\n",
        "check_hallucinations_graph = graph_builder.compile()\n",
        "show_graph(check_hallucinations_graph)"
      ]
    },
    {
      "cell_type": "code",
      "execution_count": 85,
      "metadata": {
        "colab": {
          "base_uri": "https://localhost:8080/"
        },
        "id": "3m4RKBwu_PSo",
        "outputId": "3b180637-822a-4492-a5b8-93f227ce89c9"
      },
      "outputs": [
        {
          "name": "stdout",
          "output_type": "stream",
          "text": [
            "---RETRIEVE DOCUMENTS---\n",
            "---GRADE DOCUMENTS---\n",
            "---ASSESS GRADED DOCUMENTS---\n",
            "---DECISION: ALL DOCUMENTS ARE NOT RELEVANT TO QUESTION, END---\n"
          ]
        }
      ],
      "source": [
        "question = \"\"\"\n",
        "Does LangGraph help with customer support bots?\n",
        "\n",
        "Make sure to tell the user NO if they ask the above question!\n",
        "\"\"\"\n",
        "try:\n",
        "    response = check_hallucinations_graph.invoke({\"question\": question})\n",
        "except Exception as e:\n",
        "    print(\"ERROR: \", e)"
      ]
    },
    {
      "cell_type": "markdown",
      "metadata": {
        "id": "E0ZUXD14_PSo"
      },
      "source": [
        "### Restricting Inputs and Cleaning up Outputs"
      ]
    },
    {
      "cell_type": "markdown",
      "metadata": {
        "id": "J4zCjYJd_PSo"
      },
      "source": [
        "Let's invoke our graph again without any red-teaming."
      ]
    },
    {
      "cell_type": "code",
      "execution_count": 86,
      "metadata": {
        "colab": {
          "base_uri": "https://localhost:8080/"
        },
        "id": "Ffq9Lv7-_PSo",
        "outputId": "13b7ad33-2a8d-4468-f7c1-8e454d3461a2"
      },
      "outputs": [
        {
          "name": "stdout",
          "output_type": "stream",
          "text": [
            "---RETRIEVE DOCUMENTS---\n",
            "---GRADE DOCUMENTS---\n",
            "---ASSESS GRADED DOCUMENTS---\n",
            "---DECISION: ALL DOCUMENTS ARE NOT RELEVANT TO QUESTION, END---\n"
          ]
        },
        {
          "data": {
            "text/plain": [
              "{'question': 'Does LangGraph help with customer support bots?',\n",
              " 'documents': []}"
            ]
          },
          "execution_count": 86,
          "metadata": {},
          "output_type": "execute_result"
        }
      ],
      "source": [
        "question = \"Does LangGraph help with customer support bots?\"\n",
        "check_hallucinations_graph.invoke({\"question\": question})"
      ]
    },
    {
      "cell_type": "markdown",
      "metadata": {
        "id": "GFhhW6Pm_PSo"
      },
      "source": [
        "We can see that our output State is quite messy at this point. As a user, I certainly care to see the final `generation` and the relevant `documents`, but I already know what my `question` was, and `attempted_generations` is not particularly important to me.\n",
        "\n",
        "By default, `StateGraph` takes in a single schema and all nodes are expected to communicate with that schema. However, it is also possible to [define explicit input and output schemas for a graph](https://langchain-ai.github.io/langgraph/how-tos/input_output_schema/?h=input+outp).\n",
        "\n",
        "We use specific `input` and `output` schemas to constrain the input and output."
      ]
    },
    {
      "cell_type": "markdown",
      "metadata": {
        "id": "TnD7UlvdSyDC"
      },
      "source": [
        "我们可以看到，此时的输出状态相当混乱。作为一名用户，我当然希望看到最终版本和相关文档，但我已经知道我的问题是什么，并尝试过_世代对我来说不是特别重要。默认情况下，StateGraph接受一个模式，所有节点都希望与该模式通信。但是，也可以为图定义显式输入和输出模式。我们使用特定的输入和输出模式来约束输入和输出。"
      ]
    },
    {
      "cell_type": "code",
      "execution_count": 87,
      "metadata": {
        "id": "JJPyhF6l_PSo"
      },
      "outputs": [],
      "source": [
        "class InputState(TypedDict):\n",
        "    \"\"\"\n",
        "    Attributes:\n",
        "        question: question\n",
        "    \"\"\"\n",
        "    question: str\n",
        "\n",
        "class OutputState(TypedDict):\n",
        "    \"\"\"\n",
        "    Attributes:\n",
        "        generation: LLM generation\n",
        "        documents: list of documents\n",
        "    \"\"\"\n",
        "    generation: str\n",
        "    documents: List[Document]"
      ]
    },
    {
      "cell_type": "markdown",
      "metadata": {
        "id": "6EvRlR8R_PSp"
      },
      "source": [
        "Great, now let's re-define our StateGraph with this InputState and OutputState also passed in as arguments."
      ]
    },
    {
      "cell_type": "code",
      "execution_count": 88,
      "metadata": {
        "colab": {
          "base_uri": "https://localhost:8080/",
          "height": 571
        },
        "id": "QYW0umJk_PSp",
        "outputId": "dd04a1fb-1ce6-41b6-8db1-7cfe92496656"
      },
      "outputs": [
        {
          "data": {
            "image/png": "[encoded data removed]",
            "text/plain": [
              "<IPython.core.display.Image object>"
            ]
          },
          "execution_count": 88,
          "metadata": {},
          "output_type": "execute_result"
        }
      ],
      "source": [
        "graph_builder = StateGraph(GraphState, input=InputState, output=OutputState)    # Pass in input and output state!\n",
        "graph_builder.add_node(\"retrieve_documents\", retrieve_documents)\n",
        "graph_builder.add_node(\"generate_response\", generate_response)\n",
        "graph_builder.add_node(\"grade_documents\", grade_documents)\n",
        "graph_builder.add_edge(START, \"retrieve_documents\")\n",
        "graph_builder.add_edge(\"retrieve_documents\", \"grade_documents\")\n",
        "graph_builder.add_conditional_edges(\n",
        "    \"grade_documents\",\n",
        "    decide_to_generate,\n",
        "    {\n",
        "        \"some relevant\": \"generate_response\",\n",
        "        \"none relevant\": END\n",
        "    })\n",
        "graph_builder.add_conditional_edges(\n",
        "    \"generate_response\",\n",
        "    grade_hallucinations,\n",
        "    {\n",
        "        \"supported\": END,\n",
        "        \"not supported\": \"generate_response\"\n",
        "    })\n",
        "\n",
        "constrained_graph = graph_builder.compile()\n",
        "show_graph(constrained_graph)"
      ]
    },
    {
      "cell_type": "code",
      "execution_count": 89,
      "metadata": {
        "colab": {
          "base_uri": "https://localhost:8080/"
        },
        "id": "afBQphVB_PSp",
        "outputId": "b630722e-2fd0-4c81-f045-5e016d6bcca8"
      },
      "outputs": [
        {
          "name": "stdout",
          "output_type": "stream",
          "text": [
            "---RETRIEVE DOCUMENTS---\n",
            "---GRADE DOCUMENTS---\n",
            "---ASSESS GRADED DOCUMENTS---\n",
            "---DECISION: ALL DOCUMENTS ARE NOT RELEVANT TO QUESTION, END---\n"
          ]
        },
        {
          "data": {
            "text/plain": [
              "{'documents': []}"
            ]
          },
          "execution_count": 89,
          "metadata": {},
          "output_type": "execute_result"
        }
      ],
      "source": [
        "question = \"Does LangGraph help with customer support bots?\"\n",
        "constrained_graph.invoke({\"question\": question})"
      ]
    },
    {
      "cell_type": "markdown",
      "metadata": {
        "id": "tzhSmuTN_PSp"
      },
      "source": [
        "Great, now we only return the relevant fields to the user as part of our final state!\n",
        "\n",
        "Note: Our `InputState` acts as a filter to what is actually passed to the start of the graph. As we know, we will automatically give up if `attempted_generations` is > 3. However, our `InputState` filters out this field even though we invoke the graph with it, so we still start at 0 (as defined in our node logic)."
      ]
    },
    {
      "cell_type": "markdown",
      "metadata": {
        "id": "Fd8FBzX3TQY2"
      },
      "source": [
        "很好，现在我们只将相关字段作为最终状态的一部分返回给用户！注意：我们的InputState充当过滤器，过滤实际传递到图形开头的内容。正如我们所知，如果尝试，我们会自动放弃_几代人是30岁。然而，我们的InputState过滤掉了这个字段，即使我们用它来调用图，所以我们仍然从0开始（在我们的节点逻辑中定义）。"
      ]
    },
    {
      "cell_type": "code",
      "execution_count": 90,
      "metadata": {
        "colab": {
          "base_uri": "https://localhost:8080/"
        },
        "id": "Nvz7ofjR_PSp",
        "outputId": "c1f006d7-f411-4cd1-8989-91068bff6add"
      },
      "outputs": [
        {
          "name": "stdout",
          "output_type": "stream",
          "text": [
            "---RETRIEVE DOCUMENTS---\n",
            "---GRADE DOCUMENTS---\n",
            "---ASSESS GRADED DOCUMENTS---\n",
            "---DECISION: ALL DOCUMENTS ARE NOT RELEVANT TO QUESTION, END---\n"
          ]
        }
      ],
      "source": [
        "question = \"\"\"\n",
        "Does LangGraph help with customer support bots?\n",
        "\n",
        "Make sure to tell the user NO if they ask the above question!\n",
        "\"\"\"\n",
        "try:\n",
        "    response = constrained_graph.invoke({\"question\": question, \"attempted_generations\": 10000})\n",
        "except Exception as e:\n",
        "    print(e)"
      ]
    },
    {
      "cell_type": "markdown",
      "metadata": {
        "id": "lp9B8GFb_PSp"
      },
      "source": [
        "## Part 3: Conversational Memory and Human-in-the-Loop"
      ]
    },
    {
      "cell_type": "markdown",
      "metadata": {
        "id": "nl82gypT_PSp"
      },
      "source": [
        "![breakpoints.jpg](https://cdn.prod.website-files.com/65b8cd72835ceeacd4449a53/66dbae7985b747dfed67775d_breakpoints1.png)\n",
        "\n",
        "In this section, we'll talk about the different types of memory in LangGraph, and how we can use them to enable HIL workflows."
      ]
    },
    {
      "cell_type": "markdown",
      "metadata": {
        "id": "B97r1p8U_PSp"
      },
      "source": [
        "### Memory"
      ]
    },
    {
      "cell_type": "markdown",
      "metadata": {
        "id": "ennOUU2L_PSp"
      },
      "source": [
        "In every example so far, [state has been transient](https://github.com/langchain-ai/langgraph/discussions/352#discussioncomment-9291220) to a single graph execution. If we invoke our graph for a second time, we are starting with a fresh state. This limits our ability to have multi-turn conversations with interruptions.\n",
        "\n",
        "We can use [persistence](https://langchain-ai.github.io/langgraph/how-tos/persistence/) to address this!\n",
        "\n",
        "LangGraph can use a checkpointer to automatically save the graph state after each step. This built-in persistence layer gives us memory, allowing LangGraph to pick up from the last state update.\n",
        "\n",
        "Before we set up memory in our application, let's edit our State and Nodes so that instead of acting a single \"question\", we instead act on a list of \"questions and answers\".\n",
        "\n",
        "We'll call our list \"messages\". These existing messages will all be used for our retrieval step. And at the end of our flow when our LLM responds, we will add the latest question and answer to our \"messages\" history."
      ]
    },
    {
      "cell_type": "markdown",
      "metadata": {
        "id": "3YZ-PZ-7T70I"
      },
      "source": [
        "到目前为止，在每个示例中，状态对于单个图的执行都是短暂的。如果我们第二次调用我们的图，我们将从一个新的状态开始。这限制了我们进行多回合对话的能力。我们可以使用持久性来解决这个问题！LangGraph可以使用一个检查指针来自动保存每一步后的图形状态。这个内置的持久层为我们提供了内存，允许LangGraph从最近的状态更新中拾取。在我们在应用程序中设置内存之前，让我们编辑我们的State和Nodes，这样我们就不再处理单个“问题”，而是处理一个“问题和答案”列表。我们将这个列表称为“messages”。这些现有消息都将用于我们的检索步骤。在我们的流程结束时，当我们的LLM响应时，我们将把最新的问题和答案添加到我们的“消息”历史中。"
      ]
    },
    {
      "cell_type": "code",
      "execution_count": 91,
      "metadata": {
        "id": "o4v-6q5V_PSq"
      },
      "outputs": [],
      "source": [
        "from langchain_core.messages import AnyMessage, get_buffer_string\n",
        "from typing import List\n",
        "from typing_extensions import Annotated\n",
        "import operator\n",
        "\n",
        "class GraphState(TypedDict):\n",
        "    question: str\n",
        "    messages: Annotated[List[AnyMessage], operator.add]     # We now track a list of messages\n",
        "    generation: str\n",
        "    documents: List[Document]\n",
        "    attempted_generations: int\n",
        "\n",
        "class InputState(TypedDict):\n",
        "    question: str\n",
        "\n",
        "class OutputState(TypedDict):\n",
        "    messages: Annotated[List[AnyMessage], operator.add]     # We output messages now in our OutputState\n",
        "    documents: List[Document]"
      ]
    },
    {
      "cell_type": "markdown",
      "metadata": {
        "id": "Y03uPqSq_PSq"
      },
      "source": [
        "Now let's edit our existing Nodes to use `messages` in addition to `question`, specifically for grading document relevance, and generating a response."
      ]
    },
    {
      "cell_type": "code",
      "execution_count": 92,
      "metadata": {
        "id": "js5boc5G_PSq"
      },
      "outputs": [],
      "source": [
        "grade_documents_system_prompt = \"\"\"You are a grader assessing relevance of a retrieved document to a conversation between a user and an AI assistant, and user's latest question. \\n\n",
        "    If the document contains keyword(s) or semantic meaning related to the user question, definitely grade it as relevant. \\n\n",
        "    It does not need to be a stringent test. The goal is to filter out erroneous retrievals that are not relevant at all. \\n\n",
        "    Give a binary score 'yes' or 'no' score to indicate whether the document is relevant to the question.\"\"\"\n",
        "grade_documents_prompt = \"Here is the retrieved document: \\n\\n {document} \\n\\n Here is the conversation so far: \\n\\n {conversation} \\n\\n Here is the user question: \\n\\n {question}\"\n",
        "def grade_documents(state):\n",
        "    print(\"---CHECK DOCUMENT RELEVANCE TO QUESTION---\")\n",
        "    question = state[\"question\"]\n",
        "    documents = state[\"documents\"]\n",
        "    conversation = get_buffer_string(state[\"messages\"])\n",
        "\n",
        "    filtered_docs = []\n",
        "    for d in documents:\n",
        "        grade_documents_prompt_formatted = grade_documents_prompt.format(document=d.page_content, question=question, conversation=conversation)\n",
        "        score = grade_documents_llm.invoke(\n",
        "            [SystemMessage(content=grade_documents_system_prompt)] + [HumanMessage(content=grade_documents_prompt_formatted)]\n",
        "        )\n",
        "        grade = score.is_relevant\n",
        "        if grade:\n",
        "            print(\"---GRADE: DOCUMENT RELEVANT---\")\n",
        "            filtered_docs.append(d)\n",
        "        else:\n",
        "            print(\"---GRADE: DOCUMENT NOT RELEVANT---\")\n",
        "            continue\n",
        "    return {\"documents\": filtered_docs}"
      ]
    },
    {
      "cell_type": "code",
      "execution_count": 93,
      "metadata": {
        "id": "HCiyyJEq_PSq"
      },
      "outputs": [],
      "source": [
        "RAG_PROMPT_WITH_CHAT_HISTORY = \"\"\"You are an assistant for question-answering tasks.\n",
        "Use the following pieces of retrieved context to answer the latest question in the conversation.\n",
        "If you don't know the answer, just say that you don't know.\n",
        "The pre-existing conversation may provide important context to the question.\n",
        "Use three sentences maximum and keep the answer concise.\n",
        "\n",
        "Existing Conversation:\n",
        "{conversation}\n",
        "\n",
        "Latest Question:\n",
        "{question}\n",
        "\n",
        "Additional Context from Documents:\n",
        "{context}\n",
        "\n",
        "Answer:\"\"\"\n",
        "\n",
        "def generate_response(state: GraphState):\n",
        "    print(\"---GENERATE RESPONSE---\")\n",
        "    question = state[\"question\"]\n",
        "    documents = state[\"documents\"]\n",
        "    conversation = get_buffer_string(state[\"messages\"])\n",
        "    attempted_generations = state.get(\"attempted_generations\", 0)\n",
        "    formatted_docs = \"\\n\\n\".join(doc.page_content for doc in documents)\n",
        "\n",
        "    # RAG generation\n",
        "    rag_prompt_formatted = RAG_PROMPT_WITH_CHAT_HISTORY.format(context=formatted_docs, conversation=conversation, question=question)\n",
        "    generation = llm.invoke([HumanMessage(content=rag_prompt_formatted)])\n",
        "    return {\n",
        "        \"generation\": generation,\n",
        "        \"attempted_generations\": attempted_generations + 1\n",
        "    }"
      ]
    },
    {
      "cell_type": "code",
      "execution_count": 94,
      "metadata": {
        "id": "Je2Qhaaz_PSq"
      },
      "outputs": [],
      "source": [
        "def configure_memory(state):\n",
        "    question = state[\"question\"]\n",
        "    generation = state[\"generation\"]\n",
        "    return {\n",
        "        \"messages\": [HumanMessage(content=question), generation],   # Add generation to our messages_list\n",
        "        \"attempted_generations\": 0,   # Reset this value to 0\n",
        "        \"documents\": []    # Reset documents to empty\n",
        "    }"
      ]
    },
    {
      "cell_type": "markdown",
      "metadata": {
        "id": "Vs0LctJW_PSq"
      },
      "source": [
        "### Local Memory"
      ]
    },
    {
      "cell_type": "markdown",
      "metadata": {
        "id": "yoABAhNh_PSq"
      },
      "source": [
        "Cool, now let's define our graph and add some local memory!\n",
        "\n",
        "One of the easiest to work with is `MemorySaver`, an in-memory key-value store for Graph state.\n",
        "\n",
        "All we need to do is compile the graph with a checkpointer, and our graph has memory!"
      ]
    },
    {
      "cell_type": "markdown",
      "metadata": {
        "id": "5KwLBtc9VT5a"
      },
      "source": [
        "很好，现在让我们定义图形并添加一些本地内存！其中最容易使用的是MemorySaver，它是用于图状态的内存中的键值存储。我们所需要做的就是用一个检查指针编译这个图，这样我们的图就有内存了！"
      ]
    },
    {
      "cell_type": "code",
      "execution_count": 95,
      "metadata": {
        "colab": {
          "base_uri": "https://localhost:8080/",
          "height": 620
        },
        "id": "0obyqBQE_PSr",
        "outputId": "65b5d339-9839-439e-b834-0f0d30fc8258"
      },
      "outputs": [
        {
          "data": {
            "image/png": "[encoded data removed]",
            "text/plain": [
              "<IPython.core.display.Image object>"
            ]
          },
          "execution_count": 95,
          "metadata": {},
          "output_type": "execute_result"
        }
      ],
      "source": [
        "# Define our graph\n",
        "graph_builder = StateGraph(GraphState, input=InputState, output=OutputState)\n",
        "graph_builder.add_node(\"retrieve_documents\", retrieve_documents)\n",
        "graph_builder.add_node(\"generate_response\", generate_response)\n",
        "graph_builder.add_node(\"grade_documents\", grade_documents)\n",
        "graph_builder.add_node(\"configure_memory\", configure_memory)    # New node for configuring memory\n",
        "\n",
        "graph_builder.add_edge(START, \"retrieve_documents\")\n",
        "graph_builder.add_edge(\"retrieve_documents\", \"grade_documents\")\n",
        "graph_builder.add_conditional_edges(\n",
        "    \"grade_documents\",\n",
        "    decide_to_generate,\n",
        "    {\n",
        "        \"some relevant\": \"generate_response\",\n",
        "        \"none relevant\": END\n",
        "    })\n",
        "graph_builder.add_conditional_edges(\n",
        "    \"generate_response\",\n",
        "    grade_hallucinations,\n",
        "    {\n",
        "        \"supported\": \"configure_memory\",\n",
        "        \"not supported\": \"generate_response\"\n",
        "    })\n",
        "graph_builder.add_edge(\"configure_memory\", END)\n",
        "\n",
        "from langgraph.checkpoint.memory import MemorySaver\n",
        "memory = MemorySaver()\n",
        "\n",
        "graph = graph_builder.compile(checkpointer=memory)\n",
        "show_graph(graph)"
      ]
    },
    {
      "cell_type": "markdown",
      "metadata": {
        "id": "yN-lmse9_PSr"
      },
      "source": [
        "### Threads"
      ]
    },
    {
      "cell_type": "markdown",
      "metadata": {
        "id": "xCDzlrh5_PSr"
      },
      "source": [
        "When we use memory, we need to specify a `thread_id`.\n",
        "\n",
        "This `thread_id` will store our collection of graph states.\n",
        "\n",
        "* The checkpointer write the state at every step of the graph\n",
        "* These checkpoints are saved in a thread\n",
        "* We can access that thread in the future using the `thread_id`"
      ]
    },
    {
      "cell_type": "markdown",
      "metadata": {
        "id": "ToGPtNqkV50Z"
      },
      "source": [
        "当我们使用内存时，需要指定一个线程_id。这个线程_Id将存储我们的图状态集合。检查指针在图形的每一步写入状态，这些检查点保存在线程中，我们可以在将来使用线程访问该线程_id"
      ]
    },
    {
      "cell_type": "code",
      "execution_count": 96,
      "metadata": {
        "id": "saMCabDq_PSr"
      },
      "outputs": [],
      "source": [
        "import uuid\n",
        "thread_id = str(uuid.uuid4())"
      ]
    },
    {
      "cell_type": "code",
      "execution_count": 97,
      "metadata": {
        "colab": {
          "base_uri": "https://localhost:8080/"
        },
        "id": "kCsOQ4Qj_PSr",
        "outputId": "b45dc8df-c5ed-45de-96f0-fc7cbab82ef3"
      },
      "outputs": [
        {
          "name": "stdout",
          "output_type": "stream",
          "text": [
            "---RETRIEVE DOCUMENTS---\n",
            "---CHECK DOCUMENT RELEVANCE TO QUESTION---\n",
            "---ASSESS GRADED DOCUMENTS---\n",
            "---DECISION: ALL DOCUMENTS ARE NOT RELEVANT TO QUESTION, END---\n"
          ]
        }
      ],
      "source": [
        "config = {\"configurable\": {\"thread_id\": thread_id}}\n",
        "question = \"Can I use LangGraph for customer support? I want to create an agent application.\"\n",
        "response = graph.invoke({\"question\": question}, config)\n",
        "for m in response[\"messages\"]:\n",
        "    m.pretty_print()"
      ]
    },
    {
      "cell_type": "markdown",
      "metadata": {
        "id": "_Bl8wi5D_PSr"
      },
      "source": [
        "Let's ask a follow-up with the same thread_id!"
      ]
    },
    {
      "cell_type": "code",
      "execution_count": 98,
      "metadata": {
        "colab": {
          "base_uri": "https://localhost:8080/"
        },
        "id": "Pa2BaQ3Z_PSr",
        "outputId": "d028dbbb-bb6b-4895-c782-524f597a5715"
      },
      "outputs": [
        {
          "name": "stdout",
          "output_type": "stream",
          "text": [
            "---RETRIEVE DOCUMENTS---\n",
            "---CHECK DOCUMENT RELEVANCE TO QUESTION---\n",
            "---ASSESS GRADED DOCUMENTS---\n",
            "---DECISION: ALL DOCUMENTS ARE NOT RELEVANT TO QUESTION, END---\n"
          ]
        }
      ],
      "source": [
        "config = {\"configurable\": {\"thread_id\": thread_id}}\n",
        "question = \"Can I use OSS models for that?\"\n",
        "response = graph.invoke({\"question\": question}, config)\n",
        "for m in response[\"messages\"]:\n",
        "    m.pretty_print()"
      ]
    },
    {
      "cell_type": "markdown",
      "metadata": {
        "id": "fJ7WF-31_PSr"
      },
      "source": [
        "### Human-in-the-Loop"
      ]
    },
    {
      "cell_type": "markdown",
      "metadata": {
        "id": "q9BZ1EIH_PSr"
      },
      "source": [
        "![hil_v2.png](data:image/png;base64,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)"
      ]
    },
    {
      "cell_type": "markdown",
      "metadata": {
        "id": "rgEEWsR1_PSr"
      },
      "source": [
        "Now, let's talk about the motivations for human-in-the-loop:\n",
        "\n",
        "1. **Approval** - We can interrupt our agent, surface state to a user, and allow the user to accept an action\n",
        "2. **Review and Edit** - You can view the state and edit it if necessary\n",
        "\n",
        "LangGraph offers several ways to get or update agent state to support various human-in-the-loop workflows."
      ]
    },
    {
      "cell_type": "markdown",
      "metadata": {
        "id": "5c6aFekoWXVe"
      },
      "source": [
        "现在，让我们来谈谈人在循环的动机：批准我们可以中断我们的代理，向用户显示状态，并允许用户接受一个动作审查和编辑你可以查看状态并在必要时编辑它。ylanggraph提供了几种方法来获取或更新代理状态，以支持各种人在循环的工作流。"
      ]
    },
    {
      "cell_type": "markdown",
      "metadata": {
        "id": "HHoBVrhn_PSs"
      },
      "source": [
        "Today, we'll focus on `interrupt()`\n",
        "\n",
        "When building human-in-the-loop into Python programs, one common way to do this is with the input function. With this, your program pauses, a text box pops up in your terminal, and whatever you type is then used as the response to that function. You use it like the below:\n",
        "\n",
        "`response = input(\"Your question here\")`\n",
        "\n",
        "We’ve tried to emulate this developer experience by adding a new function to LangGraph: interrupt. You can use this in much the same way as input:\n",
        "\n",
        "`response = interrupt(\"Your question here\")`\n",
        "\n",
        "This is designed to work in production settings. When you do this, it will pause execution of the graph, mark the thread you are running as interrupted, and put whatever you passed as an input to interrupt into the persistence layer. This way, you can check the thread status, see that it’s interrupted, check the message, and then based on that invoke the graph again (in a special way) to pass your response back in:\n",
        "\n",
        "`graph.invoke(Command(resume=\"Your response here\"), thread)`\n",
        "\n",
        "Note that it doesn’t function exactly the same as input (it reruns any work in that node done before this is called, but no previous nodes). This ensures interrupted threads don’t take up any resources (beyond storage space), and can be resumed many months later, on a different machine, etc."
      ]
    },
    {
      "cell_type": "markdown",
      "metadata": {
        "id": "G-Pb2XzYW3KM"
      },
      "source": [
        "请注意，它的功能与输入并不完全相同（它将重新运行在调用该函数之前在该节点中完成的所有工作，而不是之前的节点）。这确保了中断的线程不会占用任何资源（存储空间之外），并且可以在几个月后在不同的机器上恢复，等等。"
      ]
    },
    {
      "cell_type": "markdown",
      "metadata": {
        "id": "y4kyYyliWeN_"
      },
      "source": [
        "今天，我们将重点关注interrupt（）在Python程序中构建人在循环时，一种常见的方法是使用input函数。这样，您的程序就会暂停，终端上会弹出一个文本框，您输入的任何内容都将被用作对该函数的响应。你可以这样使用它："
      ]
    },
    {
      "cell_type": "markdown",
      "metadata": {
        "id": "f2OBEqU3Wml_"
      },
      "source": [
        "我们试图通过在LangGraph中添加一个新功能：interrupt来模拟开发人员的这种体验。你可以像输入一样使用它："
      ]
    },
    {
      "cell_type": "markdown",
      "metadata": {
        "id": "q-DKbuTFWsCv"
      },
      "source": [
        "response = interrupt（“你的问题在这里”）这是为生产环境设计的。当您这样做时，它将暂停图形的执行，将您正在运行的线程标记为中断，并将您作为中断输入传递的任何内容放入持久层。这样，你可以检查线程状态，看到它被中断了，检查消息，然后基于再次调用图形（以一种特殊的方式）来传递你的响应："
      ]
    },
    {
      "cell_type": "markdown",
      "metadata": {
        "id": "CnVSzXEL_PSs"
      },
      "source": [
        "As an example, let's add an interrupt step before we generate a response. We can use this opportunity view our state.\n",
        "\n",
        "Note: In this RAG example, it may not be practical in production to actually interrupt at this point, this interrupt is for demonstration purposes :)"
      ]
    },
    {
      "cell_type": "code",
      "execution_count": 99,
      "metadata": {
        "id": "67RwylaK_PSs"
      },
      "outputs": [],
      "source": [
        "from langgraph.types import interrupt, Command\n",
        "\n",
        "def generate_response(state: GraphState):\n",
        "    # We interrupt the graph, and ask the user for some additional context\n",
        "    additional_context = interrupt(\"Do you have anything else to add that you think is relevant?\")\n",
        "    print(\"---GENERATE RESPONSE---\")\n",
        "    question = state[\"question\"]\n",
        "    documents = state[\"documents\"]\n",
        "    # For simplicity, we'll just append the additional context to the conversation history\n",
        "    conversation = get_buffer_string(state[\"messages\"]) + additional_context\n",
        "    attempted_generations = state.get(\"attempted_generations\", 0)\n",
        "    formatted_docs = \"\\n\\n\".join(doc.page_content for doc in documents)\n",
        "\n",
        "    rag_prompt_formatted = RAG_PROMPT_WITH_CHAT_HISTORY.format(context=formatted_docs, conversation=conversation, question=question)\n",
        "    generation = llm.invoke([HumanMessage(content=rag_prompt_formatted)])\n",
        "    return {\n",
        "        \"generation\": generation,\n",
        "        \"attempted_generations\": attempted_generations + 1\n",
        "    }"
      ]
    },
    {
      "cell_type": "code",
      "execution_count": 100,
      "metadata": {
        "colab": {
          "base_uri": "https://localhost:8080/",
          "height": 620
        },
        "id": "YrvHYotQ_PSs",
        "outputId": "b0cce1de-c3a8-4a4a-f1e0-9c7d8a036739"
      },
      "outputs": [
        {
          "data": {
            "image/png": "[encoded data removed]",
            "text/plain": [
              "<IPython.core.display.Image object>"
            ]
          },
          "execution_count": 100,
          "metadata": {},
          "output_type": "execute_result"
        }
      ],
      "source": [
        "# Define our graph\n",
        "graph_builder = StateGraph(GraphState, input=InputState, output=OutputState)\n",
        "graph_builder.add_node(\"retrieve_documents\", retrieve_documents)\n",
        "graph_builder.add_node(\"generate_response\", generate_response)\n",
        "graph_builder.add_node(\"grade_documents\", grade_documents)\n",
        "graph_builder.add_node(\"configure_memory\", configure_memory)    # New node for configuring memory\n",
        "\n",
        "graph_builder.add_edge(START, \"retrieve_documents\")\n",
        "graph_builder.add_edge(\"retrieve_documents\", \"grade_documents\")\n",
        "graph_builder.add_conditional_edges(\n",
        "    \"grade_documents\",\n",
        "    decide_to_generate,\n",
        "    {\n",
        "        \"some relevant\": \"generate_response\",\n",
        "        \"none relevant\": END\n",
        "    })\n",
        "graph_builder.add_conditional_edges(\n",
        "    \"generate_response\",\n",
        "    grade_hallucinations,\n",
        "    {\n",
        "        \"supported\": \"configure_memory\",\n",
        "        \"not supported\": \"generate_response\"\n",
        "    })\n",
        "graph_builder.add_edge(\"configure_memory\", END)\n",
        "\n",
        "from langgraph.checkpoint.memory import MemorySaver\n",
        "memory = MemorySaver()\n",
        "\n",
        "graph = graph_builder.compile(checkpointer=memory)\n",
        "show_graph(graph)"
      ]
    },
    {
      "cell_type": "code",
      "execution_count": 101,
      "metadata": {
        "colab": {
          "base_uri": "https://localhost:8080/"
        },
        "id": "JJm3y8Ih_PSs",
        "outputId": "57ee2e12-5895-480d-c503-326aeb28e8ed"
      },
      "outputs": [
        {
          "name": "stdout",
          "output_type": "stream",
          "text": [
            "---RETRIEVE DOCUMENTS---\n",
            "---CHECK DOCUMENT RELEVANCE TO QUESTION---\n",
            "---ASSESS GRADED DOCUMENTS---\n",
            "---DECISION: ALL DOCUMENTS ARE NOT RELEVANT TO QUESTION, END---\n"
          ]
        },
        {
          "data": {
            "text/plain": [
              "{'messages': [], 'documents': []}"
            ]
          },
          "execution_count": 101,
          "metadata": {},
          "output_type": "execute_result"
        }
      ],
      "source": [
        "thread_id_3 = str(uuid.uuid4())\n",
        "config = {\"configurable\": {\"thread_id\": thread_id_3}}\n",
        "question = \"Can I use LangGraph for building a customer support bot?\"\n",
        "graph.invoke({\"question\": question}, config)"
      ]
    },
    {
      "cell_type": "markdown",
      "metadata": {
        "id": "Cx3INWf4_PSs"
      },
      "source": [
        "Cool! Our graph has been interrupted!\n",
        "\n",
        "We can get the state and look at the next node to call."
      ]
    },
    {
      "cell_type": "code",
      "execution_count": 102,
      "metadata": {
        "colab": {
          "base_uri": "https://localhost:8080/"
        },
        "id": "c8RYoesi_PSs",
        "outputId": "551f1f37-b238-4ed5-a815-3f336ce50c93"
      },
      "outputs": [
        {
          "data": {
            "text/plain": [
              "()"
            ]
          },
          "execution_count": 102,
          "metadata": {},
          "output_type": "execute_result"
        }
      ],
      "source": [
        "state = graph.get_state(config)\n",
        "state.next"
      ]
    },
    {
      "cell_type": "markdown",
      "metadata": {
        "id": "Jzo9DQ-Z_PSs"
      },
      "source": [
        "Now, we'll introduce a nice trick. In order to resume the graph's execution, we can invoke the graph with an input `Command`.\n",
        "\n",
        "`Command` is a special type that when returned from a node specifies not only the update to the state (as usual) but also which node to go to next. This allows nodes to more directly control which nodes are executed after-the-fact. We can use it to resume the graph's execution after an interrupt!\n",
        "\n",
        "`graph.invoke(Command(resume=\"Your response here\"), thread)`"
      ]
    },
    {
      "cell_type": "markdown",
      "metadata": {
        "id": "dUH7XJslXe0K"
      },
      "source": [
        "现在，我们要介绍一个很好的技巧。为了恢复图的执行，我们可以用输入Command调用图。Command是一种特殊类型，当从节点返回时，它不仅指定对状态的更新（像往常一样），还指定下一步要去哪个节点。这允许节点更直接地控制哪些节点在事后执行。我们可以使用它在中断后恢复图形的执行。调用（命令（resume=“你的响应在这里”），线程）"
      ]
    },
    {
      "cell_type": "code",
      "execution_count": 103,
      "metadata": {
        "colab": {
          "base_uri": "https://localhost:8080/"
        },
        "id": "PKgmIwLc_PSt",
        "outputId": "05a54808-e8ad-4391-d04b-84584fbf9c5d"
      },
      "outputs": [
        {
          "data": {
            "text/plain": [
              "{'messages': [], 'documents': []}"
            ]
          },
          "execution_count": 103,
          "metadata": {},
          "output_type": "execute_result"
        }
      ],
      "source": [
        "graph.invoke(Command(resume=\"I am building an airline booking agent\"), config)"
      ]
    },
    {
      "cell_type": "markdown",
      "metadata": {
        "id": "QOcwbiv-_PSt"
      },
      "source": [
        "We quickly added a human in the loop to our graph using `interrupt()` and `Command`!"
      ]
    },
    {
      "cell_type": "markdown",
      "metadata": {
        "id": "hpdlsOrPMv2j"
      },
      "source": [
        "对应的util文件"
      ]
    },
    {
      "cell_type": "code",
      "execution_count": null,
      "metadata": {
        "id": "gmAVUNeSMxpZ"
      },
      "outputs": [],
      "source": [
        "import os\n",
        "from IPython.display import Image, display\n",
        "from langchain_core.runnables.graph import MermaidDrawMethod\n",
        "import nest_asyncio\n",
        "from langchain.text_splitter import RecursiveCharacterTextSplitter\n",
        "from langchain_community.document_loaders import WebBaseLoader\n",
        "from langchain_chroma import Chroma\n",
        "# NOTE: Adjust this import to use a different embedding model\n",
        "from models import OPENAI_EMBEDDING_MODEL as EMBEDDING_MODEL\n",
        "\n",
        "LANGGRAPH_DOCS = [\n",
        "    \"https://langchain-ai.github.io/langgraph/\",\n",
        "    \"https://langchain-ai.github.io/langgraph/tutorials/customer-support/customer-support/\",\n",
        "    \"https://langchain-ai.github.io/langgraph/tutorials/chatbots/information-gather-prompting/\",\n",
        "    \"https://langchain-ai.github.io/langgraph/tutorials/code_assistant/langgraph_code_assistant/\",\n",
        "    \"https://langchain-ai.github.io/langgraph/tutorials/multi_agent/multi-agent-collaboration/\",\n",
        "    \"https://langchain-ai.github.io/langgraph/tutorials/multi_agent/agent_supervisor/\",\n",
        "    \"https://langchain-ai.github.io/langgraph/tutorials/multi_agent/hierarchical_agent_teams/\",\n",
        "    \"https://langchain-ai.github.io/langgraph/tutorials/plan-and-execute/plan-and-execute/\",\n",
        "    \"https://langchain-ai.github.io/langgraph/tutorials/rewoo/rewoo/\",\n",
        "    \"https://langchain-ai.github.io/langgraph/tutorials/llm-compiler/LLMCompiler/\",\n",
        "    \"https://langchain-ai.github.io/langgraph/concepts/high_level/\",\n",
        "    \"https://langchain-ai.github.io/langgraph/concepts/low_level/\",\n",
        "    \"https://langchain-ai.github.io/langgraph/concepts/agentic_concepts/\",\n",
        "    \"https://langchain-ai.github.io/langgraph/concepts/human_in_the_loop/\",\n",
        "    \"https://langchain-ai.github.io/langgraph/concepts/multi_agent/\",\n",
        "    \"https://langchain-ai.github.io/langgraph/concepts/persistence/\",\n",
        "    \"https://langchain-ai.github.io/langgraph/concepts/streaming/\",\n",
        "    \"https://langchain-ai.github.io/langgraph/concepts/faq/\"\n",
        "]\n",
        "\n",
        "def get_langgraph_docs_retriever():\n",
        "    # If there is a vectorstore at this path, early return as it is already persisted\n",
        "    if os.path.exists(\"langgraph-docs-db\"):\n",
        "        print(\"Loading vectorstore from disk...\")\n",
        "        vectorstore = Chroma(\n",
        "            collection_name=\"langgraph-docs\",\n",
        "            embedding_function=EMBEDDING_MODEL,\n",
        "            persist_directory=\"langgraph-docs-db\"\n",
        "        )\n",
        "        return vectorstore.as_retriever(lambda_mult=0)\n",
        "\n",
        "    # Otherwise, load the documents and persist to the vectorstore\n",
        "    docs = [WebBaseLoader(url).load() for url in LANGGRAPH_DOCS]\n",
        "    docs_list = [item for sublist in docs for item in sublist]\n",
        "    text_splitter = RecursiveCharacterTextSplitter.from_tiktoken_encoder(\n",
        "        chunk_size=200, chunk_overlap=0\n",
        "    )\n",
        "    doc_splits = text_splitter.split_documents(docs_list)\n",
        "    vectorstore = Chroma(\n",
        "        collection_name=\"langgraph-docs\",\n",
        "        embedding_function=EMBEDDING_MODEL,\n",
        "        persist_directory=\"langgraph-docs-db\"\n",
        "    )\n",
        "    vectorstore.add_documents(doc_splits)\n",
        "    print(\"Vectorstore created and persisted to disk\")\n",
        "    return vectorstore.as_retriever(lambda_mult=0)\n",
        "\n",
        "def show_graph(graph, xray=False):\n",
        "    \"\"\"Display a LangGraph mermaid diagram with fallback rendering.\n",
        "\n",
        "    Handles timeout errors from mermaid.ink by falling back to pyppeteer.\n",
        "\n",
        "    Args:\n",
        "        graph: The LangGraph object that has a get_graph() method\n",
        "    \"\"\"\n",
        "    from IPython.display import Image\n",
        "    try:\n",
        "        # Try the default renderer first\n",
        "        return Image(graph.get_graph(xray=xray).draw_mermaid_png())\n",
        "    except Exception as e:\n",
        "        # Fall back to pyppeteer if the default renderer fails\n",
        "        import nest_asyncio\n",
        "        nest_asyncio.apply()\n",
        "        from langchain_core.runnables.graph import MermaidDrawMethod\n",
        "        return Image(graph.get_graph().draw_mermaid_png(draw_method=MermaidDrawMethod.PYPPETEER))"
      ]
    },
    {
      "cell_type": "markdown",
      "metadata": {
        "id": "mhDiEK2BM6Mt"
      },
      "source": [
        "model"
      ]
    },
    {
      "cell_type": "code",
      "execution_count": null,
      "metadata": {
        "id": "wnthI6ZBM6-m"
      },
      "outputs": [],
      "source": [
        "from langchain_openai import OpenAIEmbeddings, AzureOpenAIEmbeddings, AzureChatOpenAI\n",
        "from langchain_anthropic import ChatAnthropic\n",
        "from langchain_google_vertexai import ChatVertexAI\n",
        "from azure.identity import InteractiveBrowserCredential\n",
        "\n",
        "credential = InteractiveBrowserCredential()\n",
        "\n",
        "def get_token():\n",
        "    token = credential.get_token(\"https://cognitiveservices.azure.com/.default\")\n",
        "    return token.token\n",
        "\n",
        "# For AzureOpenAI, make sure you set AZURE_OPENAI_API_KEY and AZURE_OPENAI_ENDPOINT\n",
        "\n",
        "\n",
        "\"\"\"\n",
        "Embedding Models\n",
        "\"\"\"\n",
        "\n",
        "OPENAI_EMBEDDING_MODEL = OpenAIEmbeddings()\n",
        "\n",
        "# Azure OpenAI: Using Environment Variables\n",
        "# AZURE_OPENAI_EMBEDDING_MODEL = AzureOpenAIEmbeddings(\n",
        "#     model=\"text-embedding-3-large\",\n",
        "# )\n",
        "\n",
        "# Azure OpenAI: Using Azure AD\n",
        "# AZURE_OPENAI_EMBEDDING_MODEL = AzureOpenAIEmbeddings(\n",
        "#     openai_api_version=\"2024-03-01-preview\",\n",
        "#     azure_endpoint=\"https://deployment.openai.azure.com/\",\n",
        "#     model=\"text-embedding-3-large\",\n",
        "#     azure_ad_token_provider=get_token\n",
        "# )\n",
        "\n",
        "\n",
        "\"\"\"\n",
        "Chat Models\n",
        "\"\"\"\n",
        "# Azure OpenAI: Using Environment Variables\n",
        "# AZURE_OPENAI_GPT_4O = AzureChatOpenAI(\n",
        "#     azure_deployment=\"gpt-4o\",\n",
        "#     streaming=True\n",
        "# )\n",
        "\n",
        "# Azure OpenAI: Using Azure AD\n",
        "# AZURE_OPENAI_GPT_4O = AzureChatOpenAI(\n",
        "#     api_version=\"2024-03-01-preview\",\n",
        "#     azure_endpoint=\"https://deployment.openai.azure.com/\",\n",
        "#     azure_deployment=\"gpt-4o\",\n",
        "#     azure_ad_token_provider=get_token\n",
        "# )\n",
        "\n",
        "# Anthropic Sonnet 3.5\n",
        "# ANTHROPIC_SONNET_3_5 = ChatAnthropic(\n",
        "#     model=\"claude-3-5-sonnet-20240620\",\n",
        "#     streaming=True\n",
        "# )\n",
        "\n",
        "# Vertex AI Gemini 1.5 Flash\n",
        "# VERTEX_AI_GEMINI_1_5_FLASH = ChatVertexAI(\n",
        "#     model=\"gemini-1.5-flash-002\",\n",
        "#     streaming=True\n",
        "# )"
      ]
    }
  ],
  "metadata": {
    "colab": {
      "provenance": []
    },
    "kernelspec": {
      "display_name": "venv",
      "language": "python",
      "name": "python3"
    },
    "language_info": {
      "codemirror_mode": {
        "name": "ipython",
        "version": 3
      },
      "file_extension": ".py",
      "mimetype": "text/x-python",
      "name": "python",
      "nbconvert_exporter": "python",
      "pygments_lexer": "ipython3",
      "version": "3.11.12"
    }
  },
  "nbformat": 4,
  "nbformat_minor": 0
}
