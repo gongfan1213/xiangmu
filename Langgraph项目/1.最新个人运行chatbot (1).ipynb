{
  "cells": [
    {
      "cell_type": "markdown",
      "id": "ea75a444",
      "metadata": {
        "id": "ea75a444"
      },
      "source": [
        "# LangGraph ChatBot 开发指南\n",
        "\n",
        "LangGraph 是一个灵活的 Agent 开发框架，可以帮助您设计复杂的对话工作流和智能代理。\n",
        "\n",
        "本指南将指导您如何使用 LangGraph 构建一个支持**多轮对话的智能客服（聊天机器人）**。\n",
        "\n",
        "我们将从一个基础的聊天机器人开始，逐步添加更多高级功能，并介绍关键的 LangGraph 概念。\n",
        "\n",
        "通过以下几个部分的学习，您将掌握如何逐步构建、增强和管理该聊天机器人。\n",
        "\n",
        "1. **构建Chatbot**： 基于 GPT-4o-mini 构建基础聊天机器人\n",
        "2. **联网查询工具**：为聊天机器人添加工具（结合网络搜索回答问题）\n",
        "3. **增加记忆系统**：在多次调用中保持对话状态\n",
        "4. **人工介入对话**：将复杂查询路由给人工审查或手动更新内容\n",
        "5. **查询历史对话**：通过状态图状态和配置查看/打印历史对话\n",
        "----------\n",
        "\n"
      ]
    },
    {
      "cell_type": "markdown",
      "id": "771ff467-f475-4461-b1c1-3678fbf64298",
      "metadata": {
        "id": "771ff467-f475-4461-b1c1-3678fbf64298"
      },
      "source": [
        "## LangGraph 核心对象介绍\n",
        "\n",
        "#### **StateGraph 对象**\n",
        "\n",
        "`StateGraph` 是 LangGraph 中的核心概念之一，它定义了聊天机器人或其他任务处理流程的结构。它是一种状态机，通过节点（nodes）和边（edges）来表示系统的状态变化。以下是 `StateGraph` 的关键点：\n",
        "\n",
        "- **定义流程图**：`StateGraph` 是用来创建流程图的对象，图中的每个节点代表一个任务或计算步骤（如调用 LLM、工具或函数），每个边（edge）定义了从一个节点到下一个节点的流向。\n",
        "  \n",
        "- **状态管理**：`StateGraph` 通过状态（`State`）来管理流程中的数据和上下文。每个节点都会接收当前的状态，并且返回一个更新后的状态。这种机制保证了在多轮对话或任务中，机器人能够持续维护上下文信息。\n",
        "\n",
        "- **消息更新**：在 `StateGraph` 中，我们可以定义如何更新状态，例如使用 `add_messages` 函数，表示将消息追加到已有的消息列表，而不是覆盖旧消息。\n",
        "\n",
        "#### StateGraph 的使用步骤\n",
        "1. **定义 State**：首先需要定义状态（`State`），例如用字典来存储消息、工具调用的结果等内容。\n",
        "2. **添加节点**：每个节点表示一个任务单元，可以是任意的 Python 函数。\n",
        "3. **添加边**：通过 `add_edge()` 方法指定节点之间的流向，例如从聊天节点到工具节点，再到结束节点。\n",
        "4. **编译图**：通过 `compile()` 方法将流程图编译为可执行的 `CompiledGraph`。\n",
        "\n",
        "-----------\n",
        "\n",
        "#### **CompiledGraph 对象**\n",
        "\n",
        "`CompiledGraph` 是由 `StateGraph` 编译得到的实际可执行对象。它负责执行在 `StateGraph` 中定义的流程，并处理每个节点的任务。`CompiledGraph` 通过状态的流动来管理整个对话或任务的执行。以下是 `CompiledGraph` 的关键点：\n",
        "\n",
        "- **流程执行**：`CompiledGraph` 是 `StateGraph` 的实际运行版本。当你调用 `stream()` 或 `invoke()` 方法时，它会依次执行图中的节点，并根据每个节点的输出状态决定下一个节点的执行。\n",
        "\n",
        "- **状态检查点（Checkpointing）**：通过使用检查点机制，`CompiledGraph` 可以在每个节点执行完后保存当前的状态，允许任务暂停并在之后恢复。例如，您可以为机器人添加记忆功能或支持“时间旅行”（回到之前的某个状态点）。\n",
        "\n",
        "- **动态路由**：`CompiledGraph` 还支持动态路由（Conditional Edges），允许根据当前状态动态决定下一步执行的节点。这使得机器人可以根据上下文或工具的输出灵活地调整行为。\n",
        "\n",
        "------------\n",
        "\n",
        "#### 关系总结\n",
        "\n",
        "- `StateGraph` 用于定义和构建一个聊天机器人或任务处理流程的结构，通过节点和边来管理流程和状态的流动。\n",
        "- `CompiledGraph` 是 `StateGraph` 编译后的版本，负责实际的流程执行、状态管理和检查点保存。\n",
        "\n",
        "它们结合在一起，提供了一个灵活、可扩展的方式来构建复杂的多步骤对话机器人或任务执行系统。\n",
        "\n",
        "------------"
      ]
    },
    {
      "cell_type": "markdown",
      "id": "bfa6d74b-5d3c-44c3-b6b6-794f82f366b8",
      "metadata": {
        "id": "bfa6d74b-5d3c-44c3-b6b6-794f82f366b8"
      },
      "source": [
        "## LangGraph 核心方法介绍\n",
        "\n",
        "`graph.stream` 是 LangGraph 中的一个核心方法，用于执行编译后的状态图（`CompiledGraph`）并以流式（streaming）的方式处理每个节点。通过 `stream` 方法，系统可以逐步执行对话或任务的每个步骤，并在每一步中返回中间结果。这种方式特别适用于长时间任务、逐步处理的工具调用或连续的对话。\n",
        "\n",
        "### `graph.stream` 的核心功能\n",
        "\n",
        "1. **流式执行**：\n",
        "   - `graph.stream` 允许您在每个节点执行时获得结果，类似于生成器的工作方式。在对话或任务流程中，机器人每经过一个节点（如调用工具、获取外部数据、与用户对话），都会返回该节点的执行结果。这使得系统可以逐步处理复杂的任务或多轮对话，而不是一次性等待所有步骤完成。\n",
        "\n",
        "2. **中间状态反馈**：\n",
        "   - 使用 `stream` 方法时，开发者可以在每一步获得当前的中间状态（如对话消息、工具调用的结果）。这对于调试、错误处理和用户实时反馈非常有帮助。\n",
        "   - 比如，在对话中，系统可以在用户输入每一条消息后逐步处理，逐步生成回答，而不是一次性返回最终结果。\n",
        "\n",
        "3. **支持多轮对话**：\n",
        "   - 通过 `stream`，可以让机器人保持对话的状态，使其能够处理复杂的多轮对话。系统在每一步都会保存对话的上下文，并在接收到新消息时恢复对话的状态，继续处理。\n",
        "\n",
        "4. **支持工具调用和多节点执行**：\n",
        "   - `stream` 方法不仅支持对话，还可以用于工具调用等任务。在每个工具节点执行时，系统会返回工具的执行结果，允许您对每个步骤的输出进行检查或处理。\n",
        "   - 它特别适合那些需要多个步骤或节点共同执行的任务，保证每个节点依次运行。\n",
        "\n",
        "---\n",
        "\n",
        "### 典型用法（涵盖1-3部分的重要功能）\n",
        "\n",
        "#### 1. 执行对话\n",
        "\n",
        "```python\n",
        "config = {\"configurable\": {\"thread_id\": \"1\"}}\n",
        "user_input = \"Hi, can you tell me today's weather?\"\n",
        "\n",
        "# 使用 stream 方法来执行对话\n",
        "events = graph.stream(\n",
        "    {\"messages\": [(\"user\", user_input)]},  # 传入用户的输入消息\n",
        "    config,  # 对话线程配置，用于标识对话的唯一 ID\n",
        "    stream_mode=\"values\"  # 以流式返回数据\n",
        ")\n",
        "\n",
        "# 遍历每个事件，并输出机器人生成的消息\n",
        "for event in events:\n",
        "    print(event[\"messages\"][-1].content)  # 打印最后一条消息的内容\n",
        "```\n",
        "\n",
        "在这个示例中，`graph.stream` 逐步处理用户的输入，并返回每个步骤的结果。由于使用了 `stream_mode=\"values\"`，系统以流式返回对话的中间结果。\n",
        "\n",
        "#### 2. 执行工具调用\n",
        "\n",
        "```python\n",
        "user_input = \"Please search for the latest news about AI.\"\n",
        "config = {\"configurable\": {\"thread_id\": \"2\"}}\n",
        "\n",
        "# 使用 stream 方法来执行带有工具调用的任务\n",
        "events = graph.stream(\n",
        "    {\"messages\": [(\"user\", user_input)]},  # 用户输入的消息\n",
        "    config,\n",
        "    stream_mode=\"values\"\n",
        ")\n",
        "\n",
        "# 遍历事件，获取工具的调用结果\n",
        "for event in events:\n",
        "    if \"messages\" in event:\n",
        "        # 打印工具的调用结果或机器人回复\n",
        "        print(event[\"messages\"][-1].content)\n",
        "```\n",
        "\n",
        "这个示例展示了如何通过 `graph.stream` 执行包含工具调用的任务。每个工具的调用结果都会在事件中返回，并且可以即时处理和反馈。\n",
        "\n",
        "---\n",
        "\n",
        "### `graph.stream` 的参数\n",
        "\n",
        "- **`inputs`**：输入的字典数据，通常包含对话的消息（如 `{\"messages\": [(\"user\", user_input)]}`），表示用户输入了什么信息。`inputs` 是机器人任务的初始数据。\n",
        "- **`config`**：配置参数，用于指定对话线程 ID、流执行模式等选项。它允许为每个对话或任务指定唯一的标识符，以便系统可以跟踪对话的上下文或任务状态。\n",
        "- **`stream_mode`**：指定返回数据的模式。常见的取值是 `\"values\"`，表示返回处理结果的流式数据。其他模式也可以根据具体需求进行调整。\n",
        "\n",
        "---\n",
        "\n",
        "### 适用场景\n",
        "\n",
        "1. **多轮对话机器人**：在复杂的对话场景中，用户可能与机器人进行多轮对话，并且希望机器人能够持续记住对话上下文。`graph.stream` 允许在每一轮对话中返回中间结果，并保持对话的流畅性和连贯性。\n",
        "  \n",
        "2. **逐步执行复杂任务**：例如，机器人在执行需要多个步骤的任务时，可以通过 `stream` 方法在每个步骤执行完后返回结果，而不是一次性执行整个任务。这种逐步处理的机制可以确保任务的每一步都被正确执行，并且可以随时处理异常情况。\n",
        "\n",
        "3. **实时反馈**：在实时应用中，用户希望能够尽快获得机器人的反馈。通过 `graph.stream`，系统可以在每个步骤中即时返回处理结果，让用户感受到流畅的交互体验。\n",
        "\n",
        "---\n",
        "\n",
        "### 总结\n",
        "\n",
        "`graph.stream` 是一个强大的工具，用于以流式处理对话和任务的每个步骤。它特别适合那些需要逐步执行和处理的任务场景，如多轮对话、复杂的工具调用或任务处理。通过 `stream`，系统可以在每一步中即时返回结果，并保持任务或对话的上下文信息。\n",
        "\n",
        "-----"
      ]
    },
    {
      "cell_type": "markdown",
      "id": "77f3f01c-21f0-47be-a32b-3895f46f1b65",
      "metadata": {
        "id": "77f3f01c-21f0-47be-a32b-3895f46f1b65"
      },
      "source": [
        "## 第 1 部分：构建基础聊天机器人\n",
        "\n",
        "我们将首先使用 LangGraph 创建一个简单的聊天机器人。该机器人将直接响应用户消息。虽然简单，但它将展示 LangGraph 构建的核心概念。在本部分结束时，您将构建一个基础的聊天机器人。\n",
        "\n",
        "### 1. 安装依赖包\n",
        "\n",
        "首先，安装所需的软件包："
      ]
    },
    {
      "cell_type": "code",
      "execution_count": 3,
      "id": "bcd46847",
      "metadata": {
        "id": "bcd46847"
      },
      "outputs": [],
      "source": [
        "%%capture --no-stderr\n",
        "# 安装 LangGraph 和 LangSmith，用于状态图和跟踪\n",
        "%pip install -U langgraph langsmith"
      ]
    },
    {
      "cell_type": "markdown",
      "id": "e9cb2298",
      "metadata": {
        "id": "e9cb2298"
      },
      "source": [
        "### 2. 设置 LangSmith API 密钥"
      ]
    },
    {
      "cell_type": "code",
      "execution_count": 1,
      "id": "d9db1b1d",
      "metadata": {
        "id": "d9db1b1d"
      },
      "outputs": [],
      "source": [
        "import os\n",
        "\n",
        "# 开启 LangSmith 跟踪，便于调试和查看详细执行信息\n",
        "os.environ[\"LANGCHAIN_TRACING_V2\"] = \"true\"\n",
        "os.environ[\"LANGCHAIN_PROJECT\"] = \"ChatBot\""
      ]
    },
    {
      "cell_type": "markdown",
      "id": "eeb060c3",
      "metadata": {
        "id": "eeb060c3"
      },
      "source": [
        "### 3. 定义聊天机器人的状态图 `StateGraph`\n",
        "\n",
        "我们将添加节点以表示聊天机器人的逻辑和功能，并添加边来指定如何在功能之间进行转换。\n",
        "\n",
        "#### 代码解析\n",
        "\n",
        "当定义一个状态图时，首先要定义图的状态 `State`。`State` 包含图的状态结构以及 reducer 函数，它们指定如何应用状态更新。\n",
        "\n",
        "在本例中，`State` 是一个带有单一键 `messages` 的 `TypedDict`，该键使用 `add_messages` 函数作为注解，告诉 LangGraph 应该将新消息追加到现有消息列表中，而不是覆盖它。\n",
        "\n",
        "没有注解的状态键将被覆盖，存储最新的值。"
      ]
    },
    {
      "cell_type": "code",
      "execution_count": 4,
      "id": "a959d214",
      "metadata": {
        "id": "a959d214"
      },
      "outputs": [],
      "source": [
        "from typing import Annotated\n",
        "from typing_extensions import TypedDict\n",
        "from langgraph.graph import StateGraph, START, END\n",
        "from langgraph.graph.message import add_messages\n",
        "\n",
        "# 定义状态类型，继承自 TypedDict，并使用 add_messages 函数将消息追加到现有列表\n",
        "class State(TypedDict):\n",
        "    messages: Annotated[list, add_messages]\n",
        "\n",
        "# 创建一个状态图对象，传入状态定义\n",
        "graph_builder = StateGraph(State)"
      ]
    },
    {
      "cell_type": "markdown",
      "id": "c4950d16",
      "metadata": {
        "id": "c4950d16"
      },
      "source": [
        "现在，状态图知道了两件事：\n",
        "\n",
        "1. 每个我们定义的节点都会接收当前的 `State` 作为输入，并返回一个更新该状态的值。\n",
        "2. `messages` 将追加到当前列表中，而不是直接覆盖。这通过 `Annotated` 语法中的预构建 `add_messages` 函数传达。\n",
        "\n",
        "### 4. 添加聊天节点\n",
        "\n",
        "节点表示一个计算单元。它们通常是常规的 Python 函数。\n",
        "\n",
        "**代码解析：**\n",
        "\n",
        "聊天机器人节点函数（`chatbot`）接收当前的 `State` 作为输入，并返回一个包含更新后的 `messages` 列表的字典。这是所有 LangGraph 节点函数的基础模式。\n",
        "\n",
        "在 `State` 中的 `add_messages` 函数会将 LLM 的响应消息追加到现有的消息列表中。"
      ]
    },
    {
      "cell_type": "code",
      "execution_count": 6,
      "id": "CgBBr66986XE",
      "metadata": {
        "colab": {
          "base_uri": "https://localhost:8080/"
        },
        "id": "CgBBr66986XE",
        "outputId": "c2f9fdfe-51c9-4910-bc36-eece3a7e2d7b"
      },
      "outputs": [
        {
          "name": "stdout",
          "output_type": "stream",
          "text": [
            "Requirement already satisfied: langchain in /usr/local/lib/python3.11/dist-packages (0.3.25)\n",
            "Requirement already satisfied: openai in /usr/local/lib/python3.11/dist-packages (1.78.1)\n",
            "Collecting openai\n",
            "  Downloading openai-1.82.0-py3-none-any.whl.metadata (25 kB)\n",
            "Requirement already satisfied: langchain-core<1.0.0,>=0.3.58 in /usr/local/lib/python3.11/dist-packages (from langchain) (0.3.59)\n",
            "Requirement already satisfied: langchain-text-splitters<1.0.0,>=0.3.8 in /usr/local/lib/python3.11/dist-packages (from langchain) (0.3.8)\n",
            "Requirement already satisfied: langsmith<0.4,>=0.1.17 in /usr/local/lib/python3.11/dist-packages (from langchain) (0.3.42)\n",
            "Requirement already satisfied: pydantic<3.0.0,>=2.7.4 in /usr/local/lib/python3.11/dist-packages (from langchain) (2.11.4)\n",
            "Requirement already satisfied: SQLAlchemy<3,>=1.4 in /usr/local/lib/python3.11/dist-packages (from langchain) (2.0.40)\n",
            "Requirement already satisfied: requests<3,>=2 in /usr/local/lib/python3.11/dist-packages (from langchain) (2.32.3)\n",
            "Requirement already satisfied: PyYAML>=5.3 in /usr/local/lib/python3.11/dist-packages (from langchain) (6.0.2)\n",
            "Requirement already satisfied: anyio<5,>=3.5.0 in /usr/local/lib/python3.11/dist-packages (from openai) (4.9.0)\n",
            "Requirement already satisfied: distro<2,>=1.7.0 in /usr/local/lib/python3.11/dist-packages (from openai) (1.9.0)\n",
            "Requirement already satisfied: httpx<1,>=0.23.0 in /usr/local/lib/python3.11/dist-packages (from openai) (0.28.1)\n",
            "Requirement already satisfied: jiter<1,>=0.4.0 in /usr/local/lib/python3.11/dist-packages (from openai) (0.9.0)\n",
            "Requirement already satisfied: sniffio in /usr/local/lib/python3.11/dist-packages (from openai) (1.3.1)\n",
            "Requirement already satisfied: tqdm>4 in /usr/local/lib/python3.11/dist-packages (from openai) (4.67.1)\n",
            "Requirement already satisfied: typing-extensions<5,>=4.11 in /usr/local/lib/python3.11/dist-packages (from openai) (4.13.2)\n",
            "Requirement already satisfied: idna>=2.8 in /usr/local/lib/python3.11/dist-packages (from anyio<5,>=3.5.0->openai) (3.10)\n",
            "Requirement already satisfied: certifi in /usr/local/lib/python3.11/dist-packages (from httpx<1,>=0.23.0->openai) (2025.4.26)\n",
            "Requirement already satisfied: httpcore==1.* in /usr/local/lib/python3.11/dist-packages (from httpx<1,>=0.23.0->openai) (1.0.9)\n",
            "Requirement already satisfied: h11>=0.16 in /usr/local/lib/python3.11/dist-packages (from httpcore==1.*->httpx<1,>=0.23.0->openai) (0.16.0)\n",
            "Requirement already satisfied: tenacity!=8.4.0,<10.0.0,>=8.1.0 in /usr/local/lib/python3.11/dist-packages (from langchain-core<1.0.0,>=0.3.58->langchain) (9.1.2)\n",
            "Requirement already satisfied: jsonpatch<2.0,>=1.33 in /usr/local/lib/python3.11/dist-packages (from langchain-core<1.0.0,>=0.3.58->langchain) (1.33)\n",
            "Requirement already satisfied: packaging<25,>=23.2 in /usr/local/lib/python3.11/dist-packages (from langchain-core<1.0.0,>=0.3.58->langchain) (24.2)\n",
            "Requirement already satisfied: orjson<4.0.0,>=3.9.14 in /usr/local/lib/python3.11/dist-packages (from langsmith<0.4,>=0.1.17->langchain) (3.10.18)\n",
            "Requirement already satisfied: requests-toolbelt<2.0.0,>=1.0.0 in /usr/local/lib/python3.11/dist-packages (from langsmith<0.4,>=0.1.17->langchain) (1.0.0)\n",
            "Requirement already satisfied: zstandard<0.24.0,>=0.23.0 in /usr/local/lib/python3.11/dist-packages (from langsmith<0.4,>=0.1.17->langchain) (0.23.0)\n",
            "Requirement already satisfied: annotated-types>=0.6.0 in /usr/local/lib/python3.11/dist-packages (from pydantic<3.0.0,>=2.7.4->langchain) (0.7.0)\n",
            "Requirement already satisfied: pydantic-core==2.33.2 in /usr/local/lib/python3.11/dist-packages (from pydantic<3.0.0,>=2.7.4->langchain) (2.33.2)\n",
            "Requirement already satisfied: typing-inspection>=0.4.0 in /usr/local/lib/python3.11/dist-packages (from pydantic<3.0.0,>=2.7.4->langchain) (0.4.0)\n",
            "Requirement already satisfied: charset-normalizer<4,>=2 in /usr/local/lib/python3.11/dist-packages (from requests<3,>=2->langchain) (3.4.2)\n",
            "Requirement already satisfied: urllib3<3,>=1.21.1 in /usr/local/lib/python3.11/dist-packages (from requests<3,>=2->langchain) (2.4.0)\n",
            "Requirement already satisfied: greenlet>=1 in /usr/local/lib/python3.11/dist-packages (from SQLAlchemy<3,>=1.4->langchain) (3.2.2)\n",
            "Requirement already satisfied: jsonpointer>=1.9 in /usr/local/lib/python3.11/dist-packages (from jsonpatch<2.0,>=1.33->langchain-core<1.0.0,>=0.3.58->langchain) (3.0.0)\n",
            "Downloading openai-1.82.0-py3-none-any.whl (720 kB)\n",
            "\u001b[2K   \u001b[90m━━━━━━━━━━━━━━━━━━━━━━━━━━━━━━━━━━━━━━━━\u001b[0m \u001b[32m720.4/720.4 kB\u001b[0m \u001b[31m11.2 MB/s\u001b[0m eta \u001b[36m0:00:00\u001b[0m\n",
            "\u001b[?25hInstalling collected packages: openai\n",
            "  Attempting uninstall: openai\n",
            "    Found existing installation: openai 1.78.1\n",
            "    Uninstalling openai-1.78.1:\n",
            "      Successfully uninstalled openai-1.78.1\n",
            "Successfully installed openai-1.82.0\n"
          ]
        }
      ],
      "source": [
        "!pip install langchain openai --upgrade"
      ]
    },
    {
      "cell_type": "code",
      "execution_count": 10,
      "id": "VyefZSWq9OyK",
      "metadata": {
        "colab": {
          "base_uri": "https://localhost:8080/"
        },
        "id": "VyefZSWq9OyK",
        "outputId": "254fcc3a-6f90-43fd-bece-d4b12212fe87"
      },
      "outputs": [
        {
          "name": "stdout",
          "output_type": "stream",
          "text": [
            "Collecting langchain-community\n",
            "  Downloading langchain_community-0.3.24-py3-none-any.whl.metadata (2.5 kB)\n",
            "Requirement already satisfied: langchain-core<1.0.0,>=0.3.59 in /usr/local/lib/python3.11/dist-packages (from langchain-community) (0.3.59)\n",
            "Requirement already satisfied: langchain<1.0.0,>=0.3.25 in /usr/local/lib/python3.11/dist-packages (from langchain-community) (0.3.25)\n",
            "Requirement already satisfied: SQLAlchemy<3,>=1.4 in /usr/local/lib/python3.11/dist-packages (from langchain-community) (2.0.40)\n",
            "Requirement already satisfied: requests<3,>=2 in /usr/local/lib/python3.11/dist-packages (from langchain-community) (2.32.3)\n",
            "Requirement already satisfied: PyYAML>=5.3 in /usr/local/lib/python3.11/dist-packages (from langchain-community) (6.0.2)\n",
            "Requirement already satisfied: aiohttp<4.0.0,>=3.8.3 in /usr/local/lib/python3.11/dist-packages (from langchain-community) (3.11.15)\n",
            "Requirement already satisfied: tenacity!=8.4.0,<10,>=8.1.0 in /usr/local/lib/python3.11/dist-packages (from langchain-community) (9.1.2)\n",
            "Collecting dataclasses-json<0.7,>=0.5.7 (from langchain-community)\n",
            "  Downloading dataclasses_json-0.6.7-py3-none-any.whl.metadata (25 kB)\n",
            "Collecting pydantic-settings<3.0.0,>=2.4.0 (from langchain-community)\n",
            "  Downloading pydantic_settings-2.9.1-py3-none-any.whl.metadata (3.8 kB)\n",
            "Requirement already satisfied: langsmith<0.4,>=0.1.125 in /usr/local/lib/python3.11/dist-packages (from langchain-community) (0.3.42)\n",
            "Collecting httpx-sse<1.0.0,>=0.4.0 (from langchain-community)\n",
            "  Downloading httpx_sse-0.4.0-py3-none-any.whl.metadata (9.0 kB)\n",
            "Requirement already satisfied: numpy>=1.26.2 in /usr/local/lib/python3.11/dist-packages (from langchain-community) (2.0.2)\n",
            "Requirement already satisfied: aiohappyeyeballs>=2.3.0 in /usr/local/lib/python3.11/dist-packages (from aiohttp<4.0.0,>=3.8.3->langchain-community) (2.6.1)\n",
            "Requirement already satisfied: aiosignal>=1.1.2 in /usr/local/lib/python3.11/dist-packages (from aiohttp<4.0.0,>=3.8.3->langchain-community) (1.3.2)\n",
            "Requirement already satisfied: attrs>=17.3.0 in /usr/local/lib/python3.11/dist-packages (from aiohttp<4.0.0,>=3.8.3->langchain-community) (25.3.0)\n",
            "Requirement already satisfied: frozenlist>=1.1.1 in /usr/local/lib/python3.11/dist-packages (from aiohttp<4.0.0,>=3.8.3->langchain-community) (1.6.0)\n",
            "Requirement already satisfied: multidict<7.0,>=4.5 in /usr/local/lib/python3.11/dist-packages (from aiohttp<4.0.0,>=3.8.3->langchain-community) (6.4.3)\n",
            "Requirement already satisfied: propcache>=0.2.0 in /usr/local/lib/python3.11/dist-packages (from aiohttp<4.0.0,>=3.8.3->langchain-community) (0.3.1)\n",
            "Requirement already satisfied: yarl<2.0,>=1.17.0 in /usr/local/lib/python3.11/dist-packages (from aiohttp<4.0.0,>=3.8.3->langchain-community) (1.20.0)\n",
            "Collecting marshmallow<4.0.0,>=3.18.0 (from dataclasses-json<0.7,>=0.5.7->langchain-community)\n",
            "  Downloading marshmallow-3.26.1-py3-none-any.whl.metadata (7.3 kB)\n",
            "Collecting typing-inspect<1,>=0.4.0 (from dataclasses-json<0.7,>=0.5.7->langchain-community)\n",
            "  Downloading typing_inspect-0.9.0-py3-none-any.whl.metadata (1.5 kB)\n",
            "Requirement already satisfied: langchain-text-splitters<1.0.0,>=0.3.8 in /usr/local/lib/python3.11/dist-packages (from langchain<1.0.0,>=0.3.25->langchain-community) (0.3.8)\n",
            "Requirement already satisfied: pydantic<3.0.0,>=2.7.4 in /usr/local/lib/python3.11/dist-packages (from langchain<1.0.0,>=0.3.25->langchain-community) (2.11.4)\n",
            "Requirement already satisfied: jsonpatch<2.0,>=1.33 in /usr/local/lib/python3.11/dist-packages (from langchain-core<1.0.0,>=0.3.59->langchain-community) (1.33)\n",
            "Requirement already satisfied: packaging<25,>=23.2 in /usr/local/lib/python3.11/dist-packages (from langchain-core<1.0.0,>=0.3.59->langchain-community) (24.2)\n",
            "Requirement already satisfied: typing-extensions>=4.7 in /usr/local/lib/python3.11/dist-packages (from langchain-core<1.0.0,>=0.3.59->langchain-community) (4.13.2)\n",
            "Requirement already satisfied: httpx<1,>=0.23.0 in /usr/local/lib/python3.11/dist-packages (from langsmith<0.4,>=0.1.125->langchain-community) (0.28.1)\n",
            "Requirement already satisfied: orjson<4.0.0,>=3.9.14 in /usr/local/lib/python3.11/dist-packages (from langsmith<0.4,>=0.1.125->langchain-community) (3.10.18)\n",
            "Requirement already satisfied: requests-toolbelt<2.0.0,>=1.0.0 in /usr/local/lib/python3.11/dist-packages (from langsmith<0.4,>=0.1.125->langchain-community) (1.0.0)\n",
            "Requirement already satisfied: zstandard<0.24.0,>=0.23.0 in /usr/local/lib/python3.11/dist-packages (from langsmith<0.4,>=0.1.125->langchain-community) (0.23.0)\n",
            "Collecting python-dotenv>=0.21.0 (from pydantic-settings<3.0.0,>=2.4.0->langchain-community)\n",
            "  Downloading python_dotenv-1.1.0-py3-none-any.whl.metadata (24 kB)\n",
            "Requirement already satisfied: typing-inspection>=0.4.0 in /usr/local/lib/python3.11/dist-packages (from pydantic-settings<3.0.0,>=2.4.0->langchain-community) (0.4.0)\n",
            "Requirement already satisfied: charset-normalizer<4,>=2 in /usr/local/lib/python3.11/dist-packages (from requests<3,>=2->langchain-community) (3.4.2)\n",
            "Requirement already satisfied: idna<4,>=2.5 in /usr/local/lib/python3.11/dist-packages (from requests<3,>=2->langchain-community) (3.10)\n",
            "Requirement already satisfied: urllib3<3,>=1.21.1 in /usr/local/lib/python3.11/dist-packages (from requests<3,>=2->langchain-community) (2.4.0)\n",
            "Requirement already satisfied: certifi>=2017.4.17 in /usr/local/lib/python3.11/dist-packages (from requests<3,>=2->langchain-community) (2025.4.26)\n",
            "Requirement already satisfied: greenlet>=1 in /usr/local/lib/python3.11/dist-packages (from SQLAlchemy<3,>=1.4->langchain-community) (3.2.2)\n",
            "Requirement already satisfied: anyio in /usr/local/lib/python3.11/dist-packages (from httpx<1,>=0.23.0->langsmith<0.4,>=0.1.125->langchain-community) (4.9.0)\n",
            "Requirement already satisfied: httpcore==1.* in /usr/local/lib/python3.11/dist-packages (from httpx<1,>=0.23.0->langsmith<0.4,>=0.1.125->langchain-community) (1.0.9)\n",
            "Requirement already satisfied: h11>=0.16 in /usr/local/lib/python3.11/dist-packages (from httpcore==1.*->httpx<1,>=0.23.0->langsmith<0.4,>=0.1.125->langchain-community) (0.16.0)\n",
            "Requirement already satisfied: jsonpointer>=1.9 in /usr/local/lib/python3.11/dist-packages (from jsonpatch<2.0,>=1.33->langchain-core<1.0.0,>=0.3.59->langchain-community) (3.0.0)\n",
            "Requirement already satisfied: annotated-types>=0.6.0 in /usr/local/lib/python3.11/dist-packages (from pydantic<3.0.0,>=2.7.4->langchain<1.0.0,>=0.3.25->langchain-community) (0.7.0)\n",
            "Requirement already satisfied: pydantic-core==2.33.2 in /usr/local/lib/python3.11/dist-packages (from pydantic<3.0.0,>=2.7.4->langchain<1.0.0,>=0.3.25->langchain-community) (2.33.2)\n",
            "Collecting mypy-extensions>=0.3.0 (from typing-inspect<1,>=0.4.0->dataclasses-json<0.7,>=0.5.7->langchain-community)\n",
            "  Downloading mypy_extensions-1.1.0-py3-none-any.whl.metadata (1.1 kB)\n",
            "Requirement already satisfied: sniffio>=1.1 in /usr/local/lib/python3.11/dist-packages (from anyio->httpx<1,>=0.23.0->langsmith<0.4,>=0.1.125->langchain-community) (1.3.1)\n",
            "Downloading langchain_community-0.3.24-py3-none-any.whl (2.5 MB)\n",
            "\u001b[2K   \u001b[90m━━━━━━━━━━━━━━━━━━━━━━━━━━━━━━━━━━━━━━━━\u001b[0m \u001b[32m2.5/2.5 MB\u001b[0m \u001b[31m29.5 MB/s\u001b[0m eta \u001b[36m0:00:00\u001b[0m\n",
            "\u001b[?25hDownloading dataclasses_json-0.6.7-py3-none-any.whl (28 kB)\n",
            "Downloading httpx_sse-0.4.0-py3-none-any.whl (7.8 kB)\n",
            "Downloading pydantic_settings-2.9.1-py3-none-any.whl (44 kB)\n",
            "\u001b[2K   \u001b[90m━━━━━━━━━━━━━━━━━━━━━━━━━━━━━━━━━━━━━━━━\u001b[0m \u001b[32m44.4/44.4 kB\u001b[0m \u001b[31m2.1 MB/s\u001b[0m eta \u001b[36m0:00:00\u001b[0m\n",
            "\u001b[?25hDownloading marshmallow-3.26.1-py3-none-any.whl (50 kB)\n",
            "\u001b[2K   \u001b[90m━━━━━━━━━━━━━━━━━━━━━━━━━━━━━━━━━━━━━━━━\u001b[0m \u001b[32m50.9/50.9 kB\u001b[0m \u001b[31m3.5 MB/s\u001b[0m eta \u001b[36m0:00:00\u001b[0m\n",
            "\u001b[?25hDownloading python_dotenv-1.1.0-py3-none-any.whl (20 kB)\n",
            "Downloading typing_inspect-0.9.0-py3-none-any.whl (8.8 kB)\n",
            "Downloading mypy_extensions-1.1.0-py3-none-any.whl (5.0 kB)\n",
            "Installing collected packages: python-dotenv, mypy-extensions, marshmallow, httpx-sse, typing-inspect, pydantic-settings, dataclasses-json, langchain-community\n",
            "Successfully installed dataclasses-json-0.6.7 httpx-sse-0.4.0 langchain-community-0.3.24 marshmallow-3.26.1 mypy-extensions-1.1.0 pydantic-settings-2.9.1 python-dotenv-1.1.0 typing-inspect-0.9.0\n"
          ]
        }
      ],
      "source": [
        "!pip install langchain-community --upgrade"
      ]
    },
    {
      "cell_type": "code",
      "execution_count": 12,
      "id": "qEIEn7-l9Z_z",
      "metadata": {
        "colab": {
          "base_uri": "https://localhost:8080/"
        },
        "id": "qEIEn7-l9Z_z",
        "outputId": "2011d584-cbf6-40d1-f1c8-8a694db421e8"
      },
      "outputs": [
        {
          "name": "stdout",
          "output_type": "stream",
          "text": [
            "Collecting langchain-openai\n",
            "  Downloading langchain_openai-0.3.18-py3-none-any.whl.metadata (2.3 kB)\n",
            "Collecting langchain-core<1.0.0,>=0.3.61 (from langchain-openai)\n",
            "  Downloading langchain_core-0.3.61-py3-none-any.whl.metadata (5.8 kB)\n",
            "Requirement already satisfied: openai<2.0.0,>=1.68.2 in /usr/local/lib/python3.11/dist-packages (from langchain-openai) (1.82.0)\n",
            "Requirement already satisfied: tiktoken<1,>=0.7 in /usr/local/lib/python3.11/dist-packages (from langchain-openai) (0.9.0)\n",
            "Requirement already satisfied: langsmith<0.4,>=0.1.126 in /usr/local/lib/python3.11/dist-packages (from langchain-core<1.0.0,>=0.3.61->langchain-openai) (0.3.42)\n",
            "Requirement already satisfied: tenacity!=8.4.0,<10.0.0,>=8.1.0 in /usr/local/lib/python3.11/dist-packages (from langchain-core<1.0.0,>=0.3.61->langchain-openai) (9.1.2)\n",
            "Requirement already satisfied: jsonpatch<2.0,>=1.33 in /usr/local/lib/python3.11/dist-packages (from langchain-core<1.0.0,>=0.3.61->langchain-openai) (1.33)\n",
            "Requirement already satisfied: PyYAML>=5.3 in /usr/local/lib/python3.11/dist-packages (from langchain-core<1.0.0,>=0.3.61->langchain-openai) (6.0.2)\n",
            "Requirement already satisfied: packaging<25,>=23.2 in /usr/local/lib/python3.11/dist-packages (from langchain-core<1.0.0,>=0.3.61->langchain-openai) (24.2)\n",
            "Requirement already satisfied: typing-extensions>=4.7 in /usr/local/lib/python3.11/dist-packages (from langchain-core<1.0.0,>=0.3.61->langchain-openai) (4.13.2)\n",
            "Requirement already satisfied: pydantic>=2.7.4 in /usr/local/lib/python3.11/dist-packages (from langchain-core<1.0.0,>=0.3.61->langchain-openai) (2.11.4)\n",
            "Requirement already satisfied: anyio<5,>=3.5.0 in /usr/local/lib/python3.11/dist-packages (from openai<2.0.0,>=1.68.2->langchain-openai) (4.9.0)\n",
            "Requirement already satisfied: distro<2,>=1.7.0 in /usr/local/lib/python3.11/dist-packages (from openai<2.0.0,>=1.68.2->langchain-openai) (1.9.0)\n",
            "Requirement already satisfied: httpx<1,>=0.23.0 in /usr/local/lib/python3.11/dist-packages (from openai<2.0.0,>=1.68.2->langchain-openai) (0.28.1)\n",
            "Requirement already satisfied: jiter<1,>=0.4.0 in /usr/local/lib/python3.11/dist-packages (from openai<2.0.0,>=1.68.2->langchain-openai) (0.9.0)\n",
            "Requirement already satisfied: sniffio in /usr/local/lib/python3.11/dist-packages (from openai<2.0.0,>=1.68.2->langchain-openai) (1.3.1)\n",
            "Requirement already satisfied: tqdm>4 in /usr/local/lib/python3.11/dist-packages (from openai<2.0.0,>=1.68.2->langchain-openai) (4.67.1)\n",
            "Requirement already satisfied: regex>=2022.1.18 in /usr/local/lib/python3.11/dist-packages (from tiktoken<1,>=0.7->langchain-openai) (2024.11.6)\n",
            "Requirement already satisfied: requests>=2.26.0 in /usr/local/lib/python3.11/dist-packages (from tiktoken<1,>=0.7->langchain-openai) (2.32.3)\n",
            "Requirement already satisfied: idna>=2.8 in /usr/local/lib/python3.11/dist-packages (from anyio<5,>=3.5.0->openai<2.0.0,>=1.68.2->langchain-openai) (3.10)\n",
            "Requirement already satisfied: certifi in /usr/local/lib/python3.11/dist-packages (from httpx<1,>=0.23.0->openai<2.0.0,>=1.68.2->langchain-openai) (2025.4.26)\n",
            "Requirement already satisfied: httpcore==1.* in /usr/local/lib/python3.11/dist-packages (from httpx<1,>=0.23.0->openai<2.0.0,>=1.68.2->langchain-openai) (1.0.9)\n",
            "Requirement already satisfied: h11>=0.16 in /usr/local/lib/python3.11/dist-packages (from httpcore==1.*->httpx<1,>=0.23.0->openai<2.0.0,>=1.68.2->langchain-openai) (0.16.0)\n",
            "Requirement already satisfied: jsonpointer>=1.9 in /usr/local/lib/python3.11/dist-packages (from jsonpatch<2.0,>=1.33->langchain-core<1.0.0,>=0.3.61->langchain-openai) (3.0.0)\n",
            "Requirement already satisfied: orjson<4.0.0,>=3.9.14 in /usr/local/lib/python3.11/dist-packages (from langsmith<0.4,>=0.1.126->langchain-core<1.0.0,>=0.3.61->langchain-openai) (3.10.18)\n",
            "Requirement already satisfied: requests-toolbelt<2.0.0,>=1.0.0 in /usr/local/lib/python3.11/dist-packages (from langsmith<0.4,>=0.1.126->langchain-core<1.0.0,>=0.3.61->langchain-openai) (1.0.0)\n",
            "Requirement already satisfied: zstandard<0.24.0,>=0.23.0 in /usr/local/lib/python3.11/dist-packages (from langsmith<0.4,>=0.1.126->langchain-core<1.0.0,>=0.3.61->langchain-openai) (0.23.0)\n",
            "Requirement already satisfied: annotated-types>=0.6.0 in /usr/local/lib/python3.11/dist-packages (from pydantic>=2.7.4->langchain-core<1.0.0,>=0.3.61->langchain-openai) (0.7.0)\n",
            "Requirement already satisfied: pydantic-core==2.33.2 in /usr/local/lib/python3.11/dist-packages (from pydantic>=2.7.4->langchain-core<1.0.0,>=0.3.61->langchain-openai) (2.33.2)\n",
            "Requirement already satisfied: typing-inspection>=0.4.0 in /usr/local/lib/python3.11/dist-packages (from pydantic>=2.7.4->langchain-core<1.0.0,>=0.3.61->langchain-openai) (0.4.0)\n",
            "Requirement already satisfied: charset-normalizer<4,>=2 in /usr/local/lib/python3.11/dist-packages (from requests>=2.26.0->tiktoken<1,>=0.7->langchain-openai) (3.4.2)\n",
            "Requirement already satisfied: urllib3<3,>=1.21.1 in /usr/local/lib/python3.11/dist-packages (from requests>=2.26.0->tiktoken<1,>=0.7->langchain-openai) (2.4.0)\n",
            "Downloading langchain_openai-0.3.18-py3-none-any.whl (63 kB)\n",
            "\u001b[2K   \u001b[90m━━━━━━━━━━━━━━━━━━━━━━━━━━━━━━━━━━━━━━━━\u001b[0m \u001b[32m63.4/63.4 kB\u001b[0m \u001b[31m1.8 MB/s\u001b[0m eta \u001b[36m0:00:00\u001b[0m\n",
            "\u001b[?25hDownloading langchain_core-0.3.61-py3-none-any.whl (438 kB)\n",
            "\u001b[2K   \u001b[90m━━━━━━━━━━━━━━━━━━━━━━━━━━━━━━━━━━━━━━━━\u001b[0m \u001b[32m438.3/438.3 kB\u001b[0m \u001b[31m8.3 MB/s\u001b[0m eta \u001b[36m0:00:00\u001b[0m\n",
            "\u001b[?25hInstalling collected packages: langchain-core, langchain-openai\n",
            "  Attempting uninstall: langchain-core\n",
            "    Found existing installation: langchain-core 0.3.59\n",
            "    Uninstalling langchain-core-0.3.59:\n",
            "      Successfully uninstalled langchain-core-0.3.59\n",
            "Successfully installed langchain-core-0.3.61 langchain-openai-0.3.18\n"
          ]
        }
      ],
      "source": [
        "!pip install -U langchain-openai"
      ]
    },
    {
      "cell_type": "code",
      "execution_count": 14,
      "id": "G10HGind9jbj",
      "metadata": {
        "id": "G10HGind9jbj"
      },
      "outputs": [],
      "source": [
        "import os\n",
        "os.environ[\"OPENAI_API_KEY\"] = \"xxxxxx\""
      ]
    },
    {
      "cell_type": "markdown",
      "id": "QaXN31xHBcNL",
      "metadata": {
        "id": "QaXN31xHBcNL"
      },
      "source": []
    },
    {
      "cell_type": "code",
      "execution_count": 50,
      "id": "1f1607f3",
      "metadata": {
        "colab": {
          "base_uri": "https://localhost:8080/",
          "height": 369
        },
        "id": "1f1607f3",
        "outputId": "63c28c81-8734-45df-c528-c629ec152722"
      },
      "outputs": [
        {
          "name": "stderr",
          "output_type": "stream",
          "text": [
            "WARNING:langgraph.graph.state:Adding a node to a graph that has already been compiled. This will not be reflected in the compiled graph.\n"
          ]
        },
        {
          "ename": "ValueError",
          "evalue": "Node `chatbot` already present.",
          "output_type": "error",
          "traceback": [
            "\u001b[0;31m---------------------------------------------------------------------------\u001b[0m",
            "\u001b[0;31mValueError\u001b[0m                                Traceback (most recent call last)",
            "\u001b[0;32m<ipython-input-50-dddefd57303c>\u001b[0m in \u001b[0;36m<cell line: 0>\u001b[0;34m()\u001b[0m\n\u001b[1;32m      9\u001b[0m \u001b[0;34m\u001b[0m\u001b[0m\n\u001b[1;32m     10\u001b[0m \u001b[0;31m# 第一个参数是唯一的节点名称，第二个参数是每次节点被调用时的函数或对象\u001b[0m\u001b[0;34m\u001b[0m\u001b[0;34m\u001b[0m\u001b[0m\n\u001b[0;32m---> 11\u001b[0;31m \u001b[0mgraph_builder\u001b[0m\u001b[0;34m.\u001b[0m\u001b[0madd_node\u001b[0m\u001b[0;34m(\u001b[0m\u001b[0;34m\"chatbot\"\u001b[0m\u001b[0;34m,\u001b[0m \u001b[0mchatbot\u001b[0m\u001b[0;34m)\u001b[0m\u001b[0;34m\u001b[0m\u001b[0;34m\u001b[0m\u001b[0m\n\u001b[0m",
            "\u001b[0;32m/usr/local/lib/python3.11/dist-packages/langgraph/graph/state.py\u001b[0m in \u001b[0;36madd_node\u001b[0;34m(self, node, action, defer, metadata, input, retry, cache_policy, destinations)\u001b[0m\n\u001b[1;32m    374\u001b[0m             \u001b[0;32mraise\u001b[0m \u001b[0mRuntimeError\u001b[0m\u001b[0;34m\u001b[0m\u001b[0;34m\u001b[0m\u001b[0m\n\u001b[1;32m    375\u001b[0m         \u001b[0;32mif\u001b[0m \u001b[0mnode\u001b[0m \u001b[0;32min\u001b[0m \u001b[0mself\u001b[0m\u001b[0;34m.\u001b[0m\u001b[0mnodes\u001b[0m\u001b[0;34m:\u001b[0m\u001b[0;34m\u001b[0m\u001b[0;34m\u001b[0m\u001b[0m\n\u001b[0;32m--> 376\u001b[0;31m             \u001b[0;32mraise\u001b[0m \u001b[0mValueError\u001b[0m\u001b[0;34m(\u001b[0m\u001b[0;34mf\"Node `{node}` already present.\"\u001b[0m\u001b[0;34m)\u001b[0m\u001b[0;34m\u001b[0m\u001b[0;34m\u001b[0m\u001b[0m\n\u001b[0m\u001b[1;32m    377\u001b[0m         \u001b[0;32mif\u001b[0m \u001b[0mnode\u001b[0m \u001b[0;34m==\u001b[0m \u001b[0mEND\u001b[0m \u001b[0;32mor\u001b[0m \u001b[0mnode\u001b[0m \u001b[0;34m==\u001b[0m \u001b[0mSTART\u001b[0m\u001b[0;34m:\u001b[0m\u001b[0;34m\u001b[0m\u001b[0;34m\u001b[0m\u001b[0m\n\u001b[1;32m    378\u001b[0m             \u001b[0;32mraise\u001b[0m \u001b[0mValueError\u001b[0m\u001b[0;34m(\u001b[0m\u001b[0;34mf\"Node `{node}` is reserved.\"\u001b[0m\u001b[0;34m)\u001b[0m\u001b[0;34m\u001b[0m\u001b[0;34m\u001b[0m\u001b[0m\n",
            "\u001b[0;31mValueError\u001b[0m: Node `chatbot` already present."
          ]
        }
      ],
      "source": [
        "from langchain.chat_models import ChatOpenAI\n",
        "from langchain_openai import ChatOpenAI  # 新版本导入路径\n",
        "# 初始化一个 GPT-4o-mini 模型\n",
        "chat_model = ChatOpenAI(model=\"gpt-4o-mini\")\n",
        "\n",
        "# 定义聊天机器人的节点函数，接收当前状态并返回更新的消息列表\n",
        "def chatbot(state: dict):\n",
        "    return {\"messages\": [chat_model.invoke(state[\"messages\"])]}\n",
        "\n",
        "# 第一个参数是唯一的节点名称，第二个参数是每次节点被调用时的函数或对象\n",
        "graph_builder.add_node(\"chatbot\", chatbot)"
      ]
    },
    {
      "cell_type": "markdown",
      "id": "b1ba47db",
      "metadata": {
        "id": "b1ba47db"
      },
      "source": [
        "### 5. 定义聊天机器人对话流程（状态图的起终点）\n",
        "\n",
        "- **起点（START）**：每次运行时，从哪里开始工作。\n",
        "- **终点（END）**：每次运行此节点时，程序可以退出。"
      ]
    },
    {
      "cell_type": "code",
      "execution_count": 51,
      "id": "7f06c7de",
      "metadata": {
        "colab": {
          "base_uri": "https://localhost:8080/"
        },
        "id": "7f06c7de",
        "outputId": "d634820d-2758-4874-e0ed-7ccedf98e516"
      },
      "outputs": [
        {
          "name": "stderr",
          "output_type": "stream",
          "text": [
            "WARNING:langgraph.graph.graph:Adding an edge to a graph that has already been compiled. This will not be reflected in the compiled graph.\n",
            "WARNING:langgraph.graph.graph:Adding an edge to a graph that has already been compiled. This will not be reflected in the compiled graph.\n"
          ]
        },
        {
          "data": {
            "text/plain": [
              "<langgraph.graph.state.StateGraph at 0x79d488b7b850>"
            ]
          },
          "execution_count": 51,
          "metadata": {},
          "output_type": "execute_result"
        }
      ],
      "source": [
        "graph_builder.add_edge(START, \"chatbot\")\n",
        "graph_builder.add_edge(\"chatbot\", END)"
      ]
    },
    {
      "cell_type": "markdown",
      "id": "848f8d09",
      "metadata": {
        "id": "848f8d09"
      },
      "source": [
        "### 6. 编译图并可视化\n",
        "\n",
        "最后，我们需要能够运行我们的状态图。\n",
        "\n",
        "在图构建器上调用 `compile()`，这会创建一个可执行的 `CompiledGraph`对象。\n",
        "\n",
        "我们可以使用该图(`CompiledGraph`)来调用聊天机器人。"
      ]
    },
    {
      "cell_type": "code",
      "execution_count": 52,
      "id": "9ff06359",
      "metadata": {
        "colab": {
          "base_uri": "https://localhost:8080/",
          "height": 266
        },
        "id": "9ff06359",
        "outputId": "09f7a544-84c9-4c2a-bfef-d748a85710ef"
      },
      "outputs": [
        {
          "data": {
            "image/png": "[encoded data removed]",
            "text/plain": [
              "<IPython.core.display.Image object>"
            ]
          },
          "metadata": {},
          "output_type": "display_data"
        }
      ],
      "source": [
        "# 编译状态图并生成可执行图对象\n",
        "graph = graph_builder.compile()\n",
        "\n",
        "# 你可以使用 get_graph 方法来可视化图，并结合 draw 方法（如 draw_ascii 或 draw_png）\n",
        "from IPython.display import Image, display\n",
        "\n",
        "try:\n",
        "    display(Image(graph.get_graph().draw_mermaid_png()))\n",
        "except Exception:\n",
        "    pass"
      ]
    },
    {
      "cell_type": "markdown",
      "id": "7e7be101",
      "metadata": {
        "id": "7e7be101"
      },
      "source": [
        "### 7. 运行图\n",
        "\n",
        "**恭喜！您已经使用 LangGraph 构建了第一个聊天机器人。这个机器人可以通过接受用户输入并生成 LLM 回复来进行基本对话。**\n",
        "\n",
        "现在运行聊天机器人！\n",
        "\n",
        "#### 代码解析\n",
        "\n",
        "1. **聊天循环**：\n",
        "   - `while True:` 启动一个持续的聊天循环，用户可以不断输入问题或命令与聊天机器人互动。\n",
        "\n",
        "2. **获取用户输入**：\n",
        "   - 使用 `input(\"User: \")` 来获取用户的输入消息，并将其赋值给 `user_input` 变量。\n",
        "\n",
        "3. **退出条件**：\n",
        "   - 如果用户输入 `\"quit\"`、`\"exit\"` 或 `\"q\"`，系统会通过 `break` 语句退出聊天循环，结束程序运行。\n",
        "\n",
        "4. **将用户消息传递给聊天机器人**：\n",
        "   - 通过调用 `graph.stream({\"messages\": (\"user\", user_input)})`，将用户的输入传递给聊天机器人模型。`graph.stream` 方法会根据输入的消息生成相应的回复。\n",
        "   - 这里 `\"messages\": (\"user\", user_input)` 表示传递的是用户的输入消息。\n",
        "\n",
        "5. **处理机器人的回复**：\n",
        "   - 遍历 `event.values()` 中的每个值，从机器人生成的回复中提取最后一条消息，并使用 `print(\"Assistant:\", value[\"messages\"][-1].content)` 打印输出聊天机器人的回复内容。\n",
        "\n",
        "该代码是一个简单的聊天机器人框架，用户可以在命令行中输入问题，机器人会根据用户的输入实时生成回复。如果用户输入退出指令，程序会结束对话循环。"
      ]
    },
    {
      "cell_type": "code",
      "execution_count": 53,
      "id": "12e6c741",
      "metadata": {
        "colab": {
          "base_uri": "https://localhost:8080/"
        },
        "id": "12e6c741",
        "outputId": "61510982-e239-4c46-9ad2-d3b1f6f2de18"
      },
      "outputs": [
        {
          "name": "stdout",
          "output_type": "stream",
          "text": [
            "User: 你是谁？\n"
          ]
        },
        {
          "name": "stderr",
          "output_type": "stream",
          "text": [
            "WARNING:langsmith.client:Failed to send compressed multipart ingest: langsmith.utils.LangSmithAuthError: Authentication failed for https://api.smith.langchain.com/runs/multipart. HTTPError('401 Client Error: Unauthorized for url: https://api.smith.langchain.com/runs/multipart', '{\"error\":\"Unauthorized\"}\\n')trace=cc5d892f-178e-4929-affc-f9f7de87e662,id=cc5d892f-178e-4929-affc-f9f7de87e662; trace=cc5d892f-178e-4929-affc-f9f7de87e662,id=535ad428-a974-43af-8e15-a75cfe340baa; trace=cc5d892f-178e-4929-affc-f9f7de87e662,id=4cdb1f42-3c3a-4365-972a-8aca79f9fb86\n"
          ]
        },
        {
          "name": "stdout",
          "output_type": "stream",
          "text": [
            "Assistant: 我是一个人工智能助手，旨在提供信息和回答问题。如果你有任何疑问或需要帮助的地方，请随时告诉我！\n"
          ]
        },
        {
          "name": "stderr",
          "output_type": "stream",
          "text": [
            "WARNING:langsmith.client:Failed to send compressed multipart ingest: langsmith.utils.LangSmithAuthError: Authentication failed for https://api.smith.langchain.com/runs/multipart. HTTPError('401 Client Error: Unauthorized for url: https://api.smith.langchain.com/runs/multipart', '{\"error\":\"Unauthorized\"}\\n')trace=cc5d892f-178e-4929-affc-f9f7de87e662,id=4cdb1f42-3c3a-4365-972a-8aca79f9fb86; trace=cc5d892f-178e-4929-affc-f9f7de87e662,id=170b2019-c10c-49e9-b6ca-6cc48ee1ba23; trace=cc5d892f-178e-4929-affc-f9f7de87e662,id=170b2019-c10c-49e9-b6ca-6cc48ee1ba23; trace=cc5d892f-178e-4929-affc-f9f7de87e662,id=535ad428-a974-43af-8e15-a75cfe340baa; trace=cc5d892f-178e-4929-affc-f9f7de87e662,id=cc5d892f-178e-4929-affc-f9f7de87e662\n"
          ]
        },
        {
          "name": "stdout",
          "output_type": "stream",
          "text": [
            "User: 2025年中国最出名女明星是谁\n"
          ]
        },
        {
          "name": "stderr",
          "output_type": "stream",
          "text": [
            "WARNING:langsmith.client:Failed to send compressed multipart ingest: langsmith.utils.LangSmithAuthError: Authentication failed for https://api.smith.langchain.com/runs/multipart. HTTPError('401 Client Error: Unauthorized for url: https://api.smith.langchain.com/runs/multipart', '{\"error\":\"Unauthorized\"}\\n')trace=f66dc6b7-90e1-4dad-89cf-65afc8bd8c72,id=f66dc6b7-90e1-4dad-89cf-65afc8bd8c72; trace=f66dc6b7-90e1-4dad-89cf-65afc8bd8c72,id=4a025192-6bc5-4fae-af42-8e040524aa80; trace=f66dc6b7-90e1-4dad-89cf-65afc8bd8c72,id=de7bd3b3-e7ff-47b6-947c-876cda983ccc\n"
          ]
        },
        {
          "name": "stdout",
          "output_type": "stream",
          "text": [
            "Assistant: \n"
          ]
        },
        {
          "name": "stderr",
          "output_type": "stream",
          "text": [
            "WARNING:langsmith.client:Failed to send compressed multipart ingest: langsmith.utils.LangSmithAuthError: Authentication failed for https://api.smith.langchain.com/runs/multipart. HTTPError('401 Client Error: Unauthorized for url: https://api.smith.langchain.com/runs/multipart', '{\"error\":\"Unauthorized\"}\\n')trace=f66dc6b7-90e1-4dad-89cf-65afc8bd8c72,id=de7bd3b3-e7ff-47b6-947c-876cda983ccc; trace=f66dc6b7-90e1-4dad-89cf-65afc8bd8c72,id=e41da16a-e786-4668-8080-52faa11b0e57; trace=f66dc6b7-90e1-4dad-89cf-65afc8bd8c72,id=e41da16a-e786-4668-8080-52faa11b0e57; trace=f66dc6b7-90e1-4dad-89cf-65afc8bd8c72,id=4a025192-6bc5-4fae-af42-8e040524aa80; trace=f66dc6b7-90e1-4dad-89cf-65afc8bd8c72,id=a06fce5e-b6d2-4fb2-a2fa-771b2cd13ae3; trace=f66dc6b7-90e1-4dad-89cf-65afc8bd8c72,id=8bbd940d-e8bc-45a6-9e60-40916dacdb3d\n"
          ]
        },
        {
          "name": "stdout",
          "output_type": "stream",
          "text": [
            "Assistant: [{\"title\": \"2025\\u5e74\\u4e2d\\u56fd\\u6700\\u7f8e\\u5341\\u5927\\u5973\\u661f\\u6392\\u884c\\u699c\\uff0c\\u5979\\u4eec\\u7684\\u5e73\\u5747\\u5e74\\u9f84\\u4e3a36.3\\u5c81\\uff01 - \\u641c\\u72d0\", \"url\": \"https://www.sohu.com/a/873313130_122173572\", \"content\": \"\\u63a5\\u4e0b\\u6765\\uff0c\\u6211\\u4eec\\u5c31\\u4e00\\u8d77\\u6765\\u770b\\u770b2025\\u5e74\\u6700\\u7f8e\\u768410\\u4f4d\\u5973\\u661f\\u5427\\u3002 \\u7b2c\\u5341\\u540d\\uff0c\\u6768\\u7d2b\\u3002 \\u4f5c\\u4e3a\\u5a31\\u4e50\\u5708\\u7684\\u517b\\u6210\\u7cfb\\u4ee3\\u8868\\uff0c\\u6768\\u7d2b\\u4ece\\u201c\\u5c0f\\u96ea\\u201d\\u65f6\\u671f\\u7684\\u56fd\\u6c11\\u95fa\\u5973\\uff0c\\u5230\\u5982\\u4eca\\u6210\\u4e3a90\\u540e\\u9876\\u6d41\\uff0c\\u624b\\u63e1\\u70ed\\u95e8\\u5267\\u96c6\", \"score\": 0.843393}, {\"title\": \"2025\\u5e74\\u4e2d\\u56fd\\u6700\\u7f8e\\u5341\\u5927\\u5973\\u661f\\u6392\\u884c\\u699c\\uff0c\\u5979\\u4eec\\u7684\\u5e73\\u5747\\u5e74\\u9f84\\u4e3a36.3\\u5c81\\uff01 - 360\\u5a31\\u4e50\", \"url\": \"https://yule.360.com/content/3992445\", \"content\": \"2025\\u5e74\\u4e2d\\u56fd\\u6700\\u7f8e\\u5341\\u5927\\u5973\\u661f\\u6392\\u884c\\u699c\\uff0c\\u5979\\u4eec\\u7684\\u5e73\\u5747\\u5e74\\u9f84\\u4e3a36.3\\u5c81\\uff01 \\u00b7 \\u6768\\u7d2b. \\u7b2c\\u4e5d\\u540d\\uff0c\\u8d75\\u4e3d\\u9896\\uff0c\\u8d75\\u4e3d\\u9896\\u7b80\\u76f4\\u662f\\u5a31\\u4e50\\u5708\\u7684\\u8349\\u6839\\u9006\\u88ad\\u6559\\u79d1\\u4e66\\uff0c\\u9876\\u7740\\u5f20\\u88ab\\u5bfc\\u6f14\\u5acc\\u5f03\\u5706\\u8138\\u6f14\\u4e0d\\u4e86\\u5973\\u4e3b\\u7684\\u751c\", \"score\": 0.81770587}]\n"
          ]
        },
        {
          "name": "stderr",
          "output_type": "stream",
          "text": [
            "WARNING:langsmith.client:Failed to send compressed multipart ingest: langsmith.utils.LangSmithAuthError: Authentication failed for https://api.smith.langchain.com/runs/multipart. HTTPError('401 Client Error: Unauthorized for url: https://api.smith.langchain.com/runs/multipart', '{\"error\":\"Unauthorized\"}\\n')trace=f66dc6b7-90e1-4dad-89cf-65afc8bd8c72,id=8bbd940d-e8bc-45a6-9e60-40916dacdb3d; trace=f66dc6b7-90e1-4dad-89cf-65afc8bd8c72,id=a06fce5e-b6d2-4fb2-a2fa-771b2cd13ae3; trace=f66dc6b7-90e1-4dad-89cf-65afc8bd8c72,id=e6288af0-6982-437d-bc1a-02390f6d4063; trace=f66dc6b7-90e1-4dad-89cf-65afc8bd8c72,id=5da303cf-3b9b-45b3-8c35-b90496439493\n"
          ]
        },
        {
          "name": "stdout",
          "output_type": "stream",
          "text": [
            "Assistant: 根据最新的排名，2025年中国最出名的女明星包括：\n",
            "\n",
            "1. **杨紫** - 她在娱乐圈中表现突出，年轻观众特别喜爱。\n",
            "2. **赵丽颖** - 以其独特的表演风格和多部热门电视剧而闻名。\n",
            "\n",
            "这两位明星在2025年都处于较高的知名度和受欢迎程度。[详细信息请查看这里](https://www.sohu.com/a/873313130_122173572)。\n"
          ]
        },
        {
          "name": "stderr",
          "output_type": "stream",
          "text": [
            "WARNING:langsmith.client:Failed to send compressed multipart ingest: langsmith.utils.LangSmithAuthError: Authentication failed for https://api.smith.langchain.com/runs/multipart. HTTPError('401 Client Error: Unauthorized for url: https://api.smith.langchain.com/runs/multipart', '{\"error\":\"Unauthorized\"}\\n')trace=f66dc6b7-90e1-4dad-89cf-65afc8bd8c72,id=5da303cf-3b9b-45b3-8c35-b90496439493; trace=f66dc6b7-90e1-4dad-89cf-65afc8bd8c72,id=b00dff14-575a-4835-b166-ed5973ce0f3b; trace=f66dc6b7-90e1-4dad-89cf-65afc8bd8c72,id=b00dff14-575a-4835-b166-ed5973ce0f3b; trace=f66dc6b7-90e1-4dad-89cf-65afc8bd8c72,id=e6288af0-6982-437d-bc1a-02390f6d4063; trace=f66dc6b7-90e1-4dad-89cf-65afc8bd8c72,id=f66dc6b7-90e1-4dad-89cf-65afc8bd8c72\n"
          ]
        },
        {
          "name": "stdout",
          "output_type": "stream",
          "text": [
            "User: 2024年欧洲杯冠军是谁？\n"
          ]
        },
        {
          "name": "stderr",
          "output_type": "stream",
          "text": [
            "WARNING:langsmith.client:Failed to send compressed multipart ingest: langsmith.utils.LangSmithAuthError: Authentication failed for https://api.smith.langchain.com/runs/multipart. HTTPError('401 Client Error: Unauthorized for url: https://api.smith.langchain.com/runs/multipart', '{\"error\":\"Unauthorized\"}\\n')trace=f64407a6-b2ff-4804-b45a-dfb11d2f891d,id=f64407a6-b2ff-4804-b45a-dfb11d2f891d; trace=f64407a6-b2ff-4804-b45a-dfb11d2f891d,id=3870d37f-5e1c-442e-b084-cbfb29c89231; trace=f64407a6-b2ff-4804-b45a-dfb11d2f891d,id=7763e07a-fdad-4a46-bde9-550bf160423f\n"
          ]
        },
        {
          "name": "stdout",
          "output_type": "stream",
          "text": [
            "Assistant: \n"
          ]
        },
        {
          "name": "stderr",
          "output_type": "stream",
          "text": [
            "WARNING:langsmith.client:Failed to send compressed multipart ingest: langsmith.utils.LangSmithAuthError: Authentication failed for https://api.smith.langchain.com/runs/multipart. HTTPError('401 Client Error: Unauthorized for url: https://api.smith.langchain.com/runs/multipart', '{\"error\":\"Unauthorized\"}\\n')trace=f64407a6-b2ff-4804-b45a-dfb11d2f891d,id=7763e07a-fdad-4a46-bde9-550bf160423f; trace=f64407a6-b2ff-4804-b45a-dfb11d2f891d,id=614c6baa-4184-4340-b0bd-b4f863cb3f94; trace=f64407a6-b2ff-4804-b45a-dfb11d2f891d,id=614c6baa-4184-4340-b0bd-b4f863cb3f94; trace=f64407a6-b2ff-4804-b45a-dfb11d2f891d,id=3870d37f-5e1c-442e-b084-cbfb29c89231; trace=f64407a6-b2ff-4804-b45a-dfb11d2f891d,id=bd107167-8688-432d-a9bb-66ae28c53bbb; trace=f64407a6-b2ff-4804-b45a-dfb11d2f891d,id=bd520f15-be27-43a5-9fcd-3ee775228100\n"
          ]
        },
        {
          "name": "stdout",
          "output_type": "stream",
          "text": [
            "Assistant: [{\"title\": \"2024 \\u5e74\\u6b27\\u6d32\\u676f\\uff1a\\u4e94\\u5927\\u770b\\u70b9\\u2014\\u2014\\u897f\\u73ed\\u7259\\u83b7\\u80dc\\uff0c\\u4e9a\\u9a6c\\u5c14\\u8d85\\u8fc7\\u7f57\\u7eb3\\u5c14\\u591a\\u548c\\u59c6 ...\", \"url\": \"https://chinese.aljazeera.net/sport/2024/7/16/2024%E5%B9%B4%E6%AC%A7%E6%B4%B2%E6%9D%AF%E4%BA%94%E5%A4%A7%E7%9C%8B%E7%82%B9\", \"content\": \"\\u5982\\u679c\\u8bf4 2024 \\u5e74\\u6b27\\u6d32\\u676f\\u6709\\u4e00\\u4ef6\\u4e8b\\u662f\\u65e0\\u4eba\\u8d28\\u7591\\u7684\\uff0c\\u90a3\\u5c31\\u662f\\u897f\\u73ed\\u7259\\u5728\\u5468\\u65e5\\u662f\\u5f53\\u4e4b\\u65e0\\u6127\\u7684\\u51a0\\u519b\\uff0c\\u4ed6\\u4eec\\u5728\\u6bd4\\u8d5b\\u4e2d\\u53d6\\u5f97\\u4e86\\u4e03\\u8fde\\u80dc\\uff0c\\u4e00\\u626b\\u800c\\u5149\\uff0c\\u5e76\\u4ee5\\u6b64\\u8d85\\u8d8a\\u5fb7\\u56fd\\uff0c\\u521b\\u7eaa\\u5f55\\u5730\\u593a\\u5f97\\u4e86\\u7b2c\\u56db\\u5c4a\\u6b27\\u6d32\\u8db3\\u7403\\u9526\\u6807\\u8d5b\\u51a0\\u519b\\uff0c\\u8ba9\\u4ed6\\u4eec\\u7684\\u6210\\u5c31\\u66f4\\u52a0\\u7279\\u522b\\u7684\\u662f\\u7403\\u961f\\u7684\\u5e74\\u9f84\\u3002\\n\\n\\u62c9\\u660e\\u00b7\\u4e9a\\u9a6c\\u5c14\\u88ab\\u8bc4\\u4e3a\\u9526\\u6807\\u8d5b\\u6700\\u4f73\\u5e74\\u8f7b\\u7403\\u5458\\uff0c\\u8fd9\\u4f4d\\u5f53\\u65f6 16 \\u5c81\\u7684\\u7403\\u5458\\u5728\\u534a\\u51b3\\u8d5b\\u5bf9\\u9635\\u6cd5\\u56fd\\u961f\\u7684\\u6bd4\\u8d5b\\u4e2d\\u7834\\u7eaa\\u5f55\\u7684\\u8fdb\\u7403\\u65e0\\u7591\\u662f\\u672c\\u5c4a\\u6bd4\\u8d5b\\u4e2d\\u7684\\u6700\\u4f73\\u8fdb\\u7403\\u3002\\u672c\\u5c4a\\u8d5b\\u4e8b\\u6700\\u4f73\\u7403\\u5458\\u7f57\\u5fb7\\u91cc\\u73b0\\u5e7428\\u5c81\\uff0c\\u521a\\u521a\\u8fbe\\u5230\\u804c\\u4e1a\\u751f\\u6daf\\u7684\\u5dc5\\u5cf0\\uff0c\\u800c\\u4e0e\\u5df4\\u585e\\u7f57\\u90a3\\u7684\\u4e9a\\u9a6c\\u5c14\\u540c\\u5728\\u4e00\\u8fb9\\u7684\\u662f\\u51b3\\u8d5b\\u7684\\u6700\\u4f73\\u7403\\u5458\\u548c\\u9996\\u53d1\\u7403\\u5458\\u5c3c\\u79d1\\u00b7\\u5a01\\u5ec9\\u59c6\\u65af\\u3002\\u8fd9\\u4f4d 22 \\u5c81\\u7403\\u5458\\u7684\\u4ff1\\u4e50\\u90e8\\u6bd5\\u5c14\\u5df4\\u9102\\u7ade\\u6280\\u961f\\u73b0\\u5728\\u6b63\\u51c6\\u5907\\u63a5\\u53d7\\u6b27\\u6d32\\u6240\\u6709\\u9876\\u7ea7\\u4ff1\\u4e50\\u90e8\\u7684\\u9080\\u8bf7\\uff0c\\u4ed6\\u4eec\\u4e3a\\u8fd9\\u4f4d\\u5145\\u6ee1\\u6d3b\\u529b\\u7684\\u524d\\u950b\\u63d0\\u4f9b\\u62a5\\u4ef7\\u3002\\n\\n\\u201c\\u6211\\u8ba4\\u4e3a\\u6211\\u4eec\\u521b\\u9020\\u4e86\\u5386\\u53f2\\uff0c\\u201d\\u5a01\\u5ec9\\u59c6\\u65af\\u5728\\u51b3\\u8d5b\\u540e\\u8bf4\\u9053\\uff0c\\u201c\\u73b0\\u5728\\uff0c\\u6211\\u4eec\\u8fd8\\u6ca1\\u6709\\u610f\\u8bc6\\u5230\\u6211\\u4eec\\u505a\\u4e86\\u4ec0\\u4e48\\uff0c\\u6211\\u4eec\\u5c06\\u56de\\u5230\\u897f\\u73ed\\u7259\\uff0c\\u4e0e\\u7403\\u8ff7\\u4eec\\u4e00\\u8d77\\u5ea6\\u8fc7\\u8fd9\\u4e00\\u523b\\uff0c\\u56de\\u62a5\\u4ed6\\u4eec\\u7ed9\\u4e88\\u6211\\u4eec\\u7684\\u7231\\u548c\\u6e29\\u6696\\u3002\\u201d\\n\\n\\u897f\\u73ed\\u7259\\u961f\\u7b2c\\u4e00\\u6b21\\u593a\\u5f97\\u6b27\\u6d32\\u676f\\u51a0\\u519b\\u662f\\u5728 1964 \\u5e74\\uff0c\\u4ed6\\u4eec\\u5728 2008 \\u5e74\\u548c 2012 \\u5e74\\u8fde\\u7eed\\u593a\\u51a0\\u3002\\u5728\\u4e24\\u6b21\\u593a\\u51a0\\u4e4b\\u95f4\\uff0c\\u4ed6\\u4eec\\u9996\\u6b21\\u593a\\u5f97\\u4e16\\u754c\\u676f\\u51a0\\u519b\\u3002\\u51ed\\u501f\\u4e00\\u652f\\u5145\\u6ee1\\u4fe1\\u5fc3\\u3001\\u624d\\u534e\\u6a2a\\u6ea2\\u548c\\u5e74\\u8f7b\\u7684\\u7403\\u961f\\uff0c\\u4ed6\\u4eec\\u73b0\\u5728\\u7684\\u76ee\\u6807\\u662f\\u5728 2026 \\u5e74\\u518d\\u6b21\\u593a\\u5f97\\u4e16\\u754c\\u51a0\\u519b\\u3002 [...] 2024 \\u5e74\\u6b27\\u6d32\\u676f\\uff1a\\u4e94\\u5927\\u770b\\u70b9\\u2014\\u2014\\u897f\\u73ed\\u7259\\u83b7\\u80dc\\uff0c\\u4e9a\\u9a6c\\u5c14\\u8d85\\u8fc7\\u7f57\\u7eb3\\u5c14\\u591a\\u548c\\u59c6\\u5df4\\u4f69\\n\\n\\u897f\\u73ed\\u7259\\u5728 2024 \\u5e74\\u6b27\\u6d32\\u676f\\u51b3\\u8d5b\\u4e2d\\u4ee5 2-1 \\u6218\\u80dc\\u82f1\\u683c\\u5170\\uff0c\\u7ed3\\u675f\\u4e86\\u8db3\\u7403\\u7684\\u8fc7\\u5c71\\u8f66\\u6708\\uff0c\\u521b\\u7eaa\\u5f55\\u5730\\u7b2c\\u56db\\u6b21\\u8d62\\u5f97\\u6b27\\u6d32\\u676f\\u51a0\\u519b\\u3002\\n\\n\\u4e1c\\u9053\\u4e3b\\u5fb7\\u56fd\\u961f\\u4e0e\\u5361\\u5854\\u5c14 2022 \\u5e74\\u4e16\\u754c\\u676f\\u51b3\\u8d5b\\u9009\\u624b\\u6cd5\\u56fd\\u961f\\u4e00\\u8d77\\u6210\\u4e3a\\u8d5b\\u524d\\u593a\\u51a0\\u70ed\\u95e8\\uff0c\\u800c\\u5305\\u62ec\\u8461\\u8404\\u7259\\u7403\\u661f\\u514b\\u91cc\\u65af\\u8482\\u4e9a\\u8bfa\\u00b7\\u7f57\\u7eb3\\u5c14\\u591a\\u5728\\u5185\\u7684\\u5927\\u724c\\u7403\\u661f\\u5219\\u662f\\u6700\\u540e\\u4e00\\u6b21\\u53c2\\u52a0\\u6bd4\\u8d5b\\u3002\\n\\n\\u9605\\u8bfb\\u66f4\\u591a\\n\\n\\u8d5b\\u5236\\u3001\\u7403\\u961f\\u3001\\u62bd\\u7b7e\\uff1a2024-25\\u8d5b\\u5b63\\u6b27\\u6d32\\u51a0\\u519b\\u8054\\u8d5b\\u8be6\\u89e3\\n\\n2024 \\u5e74\\u6b27\\u6d32\\u676f\\u897f\\u73ed\\u7259\\u5bf9\\u9635\\u82f1\\u683c\\u5170\\u6982\\u89c8\\uff1a\\u5386\\u53f2\\u4e0a\\u6700\\u7cbe\\u5f69\\u7684\\u4e94\\u573a\\u51b3\\u8d5b\\n\\n2024\\u5e74\\u6b27\\u6d32\\u676f\\u534a\\u51b3\\u8d5b\\uff1a\\u7403\\u961f\\u3001\\u6bd4\\u8d5b\\u65e5\\u7a0b\\u3001\\u5f00\\u59cb\\u65f6\\u95f4\\u3001\\u573a\\u5730\\u3001\\u65e5\\u671f\\n\\n\\u5fb7\\u56fd vs \\u897f\\u73ed\\u7259\\uff1a2024 \\u5e74\\u6b27\\u6d32\\u676f\\u56db\\u5206\\u4e4b\\u4e00\\u51b3\\u8d5b\\u91cd\\u542f\\u4e1c\\u5fb7\\u4e0e\\u897f\\u5fb7\\u7684\\u8db3\\u7403\\u5206\\u6b67\\n\\n\\u8fd9\\u573a\\u5931\\u5229\\u8fd8\\u5f15\\u53d1\\u4e86\\u4e89\\u8bae\\u3001\\u653f\\u6cbb\\uff0c\\u4ee5\\u53ca\\u82f1\\u683c\\u5170\\u5728\\u51b3\\u8d5b\\u4e2d\\u843d\\u8d25\\u7684\\u4e0d\\u53d7\\u6b22\\u8fce\\u8bb0\\u5f55\\u3002\\u4ee5\\u4e0b\\u662f\\u534a\\u5c9b\\u7535\\u89c6\\u53f0\\u5bf9 2024 \\u5e74\\u6b27\\u6d32\\u676f\\u7684\\u4e94\\u5927\\u603b\\u7ed3\\uff1a\\n\\n\\u897f\\u73ed\\u7259\\u548c\\u4e9a\\u9a6c\\u5c14\\u5728\\u6b27\\u6d32\\u676f\\u4e0a\\u5360\\u636e\\u4e3b\\u5bfc\\u5730\\u4f4d\\uff0c\\u6709\\u671b\\u593a\\u5f97\\u4e16\\u754c\\u676f\\u51a0\\u519b\", \"score\": 0.8724455}, {\"title\": \"\\u897f\\u73ed\\u72592\\uff1a1\\u51fb\\u8d25\\u82f1\\u683c\\u5170\\u56db\\u593a\\u6b27\\u6d32\\u676f\\u51a0\\u519b\\u521b\\u5386\\u53f2 - \\u4eba\\u6c11\\u7f51\", \"url\": \"http://world.people.com.cn/n1/2024/0715/c1002-40277874.html\", \"content\": \"\\u4eba\\u6c11\\u7f51\\u67cf\\u67977\\u670814\\u65e5\\u7535\\uff08\\u8bb0\\u8005\\u5218\\u8d6b\\uff092024\\u6b27\\u6d32\\u676f\\u51b3\\u8d5b14\\u65e5\\u5728\\u67cf\\u6797\\u5965\\u6797\\u5339\\u514b\\u4f53\\u80b2\\u573a\\u4e3e\\u884c\\uff0c\\u897f\\u73ed\\u7259\\u961f2\\uff1a1\\u6218\\u80dc\\u82f1\\u683c\\u5170\\u961f\\uff0c\\u4ee5\\u5168\\u80dc\\u6218\\u7ee9\\u593a\\u5f97\\u51a0\\u519b\\u3002\", \"score\": 0.826278}]\n"
          ]
        },
        {
          "name": "stderr",
          "output_type": "stream",
          "text": [
            "WARNING:langsmith.client:Failed to send compressed multipart ingest: langsmith.utils.LangSmithAuthError: Authentication failed for https://api.smith.langchain.com/runs/multipart. HTTPError('401 Client Error: Unauthorized for url: https://api.smith.langchain.com/runs/multipart', '{\"error\":\"Unauthorized\"}\\n')trace=f64407a6-b2ff-4804-b45a-dfb11d2f891d,id=bd520f15-be27-43a5-9fcd-3ee775228100; trace=f64407a6-b2ff-4804-b45a-dfb11d2f891d,id=bd107167-8688-432d-a9bb-66ae28c53bbb; trace=f64407a6-b2ff-4804-b45a-dfb11d2f891d,id=e1825671-93bb-450b-b0b2-b18ebdc21d9c; trace=f64407a6-b2ff-4804-b45a-dfb11d2f891d,id=6ebd23e8-5eda-496f-b51c-eca087e5bbc5\n"
          ]
        },
        {
          "name": "stdout",
          "output_type": "stream",
          "text": [
            "Assistant: 2024年欧洲杯的冠军是西班牙队。他们在决赛中以2-1战胜了英格兰队，成功夺得该赛事的第四个冠军。这场决赛于2024年7月14日在德国的柏林举行。\n"
          ]
        },
        {
          "name": "stderr",
          "output_type": "stream",
          "text": [
            "WARNING:langsmith.client:Failed to send compressed multipart ingest: langsmith.utils.LangSmithAuthError: Authentication failed for https://api.smith.langchain.com/runs/multipart. HTTPError('401 Client Error: Unauthorized for url: https://api.smith.langchain.com/runs/multipart', '{\"error\":\"Unauthorized\"}\\n')trace=f64407a6-b2ff-4804-b45a-dfb11d2f891d,id=6ebd23e8-5eda-496f-b51c-eca087e5bbc5; trace=f64407a6-b2ff-4804-b45a-dfb11d2f891d,id=86bb7574-edcc-48d2-9718-af52c749f452; trace=f64407a6-b2ff-4804-b45a-dfb11d2f891d,id=86bb7574-edcc-48d2-9718-af52c749f452; trace=f64407a6-b2ff-4804-b45a-dfb11d2f891d,id=e1825671-93bb-450b-b0b2-b18ebdc21d9c; trace=f64407a6-b2ff-4804-b45a-dfb11d2f891d,id=f64407a6-b2ff-4804-b45a-dfb11d2f891d\n"
          ]
        },
        {
          "name": "stdout",
          "output_type": "stream",
          "text": [
            "User: 2024年）诺贝尔化学奖获得者是谁？\n"
          ]
        },
        {
          "name": "stderr",
          "output_type": "stream",
          "text": [
            "WARNING:langsmith.client:Failed to send compressed multipart ingest: langsmith.utils.LangSmithAuthError: Authentication failed for https://api.smith.langchain.com/runs/multipart. HTTPError('401 Client Error: Unauthorized for url: https://api.smith.langchain.com/runs/multipart', '{\"error\":\"Unauthorized\"}\\n')trace=af156a10-36de-4132-bfe4-3ebc22fa1147,id=af156a10-36de-4132-bfe4-3ebc22fa1147; trace=af156a10-36de-4132-bfe4-3ebc22fa1147,id=14d1eecd-9a78-4e29-bad7-79b8101ecc88; trace=af156a10-36de-4132-bfe4-3ebc22fa1147,id=209d300c-c3a1-4b15-8e1c-4b39b76b5ce3\n"
          ]
        },
        {
          "name": "stdout",
          "output_type": "stream",
          "text": [
            "Assistant: \n"
          ]
        },
        {
          "name": "stderr",
          "output_type": "stream",
          "text": [
            "WARNING:langsmith.client:Failed to send compressed multipart ingest: langsmith.utils.LangSmithAuthError: Authentication failed for https://api.smith.langchain.com/runs/multipart. HTTPError('401 Client Error: Unauthorized for url: https://api.smith.langchain.com/runs/multipart', '{\"error\":\"Unauthorized\"}\\n')trace=af156a10-36de-4132-bfe4-3ebc22fa1147,id=209d300c-c3a1-4b15-8e1c-4b39b76b5ce3; trace=af156a10-36de-4132-bfe4-3ebc22fa1147,id=adfa62c9-8b6d-4e29-a007-cb08a9a7f385; trace=af156a10-36de-4132-bfe4-3ebc22fa1147,id=adfa62c9-8b6d-4e29-a007-cb08a9a7f385; trace=af156a10-36de-4132-bfe4-3ebc22fa1147,id=14d1eecd-9a78-4e29-bad7-79b8101ecc88; trace=af156a10-36de-4132-bfe4-3ebc22fa1147,id=7fdb3700-b9d0-4896-97ae-85841378d727; trace=af156a10-36de-4132-bfe4-3ebc22fa1147,id=e62c5e8a-c710-4ce9-963b-83a94cb6977a\n"
          ]
        },
        {
          "name": "stdout",
          "output_type": "stream",
          "text": [
            "Assistant: [{\"title\": \"2024\\u5e74\\u8bfa\\u8d1d\\u5c14\\u5316\\u5b66\\u5956\\u83b7\\u5956\\u540d\\u5355\\u9707\\u64bc\\u53d1\\u5e03 - \\u667a\\u6167\\u82bd\", \"url\": \"https://www.zhihuiya.com/news/info_5064.html\", \"content\": \"\\u70b9\\u51fb\\u672c\\u6587\\u4e2d\\u52a0\\u7c97\\u84dd\\u8272\\u5b57\\u4f53\\u5373\\u53ef\\u4e00\\u952e\\u76f4\\u8fbe\\u65b0\\u836f\\u60c5\\u62a5\\u5e93\\u514d\\u8d39\\u67e5\\u9605\\u6587\\u7ae0\\u91cc\\u63d0\\u5230\\u7684\\u836f\\u7269\\u3001\\u673a\\u6784\\u3001\\u9776\\u70b9\\u3001\\u9002\\u5e94\\u75c7\\u7684\\u6700\\u65b0\\u7814\\u53d1\\u8fdb\\u5c55\\u3002\\n2024 \\u5e74\\u8bfa\\u8d1d\\u5c14\\u5316\\u5b66\\u5956\\u5728\\u5317\\u4eac\\u65f6\\u95f4 10 \\u6708 9 \\u65e5\\u4e0b\\u5348\\u91cd\\u78c5\\u63ed\\u6653\\u3002\\u672c\\u5e74\\u5ea6\\u7684\\u8bfa\\u8d1d\\u5c14\\u5316\\u5b66\\u5956\\u7531 David Baker \\u535a\\u58eb\\u3001Demis Hassabis \\u535a\\u58eb\\u548c John M. Jumper \\u535a\\u58eb\\u5171\\u540c\\u83b7\\u5f97\\uff0c\\u5176\\u4e2d Baker \\u535a\\u58eb\\u56e0\\u5176\\u5728\\u8ba1\\u7b97\\u86cb\\u767d\\u8bbe\\u8ba1\\u9886\\u57df\\u7684\\u521b\\u65b0\\u8d21\\u732e\\u800c\\u88ab\\u8868\\u5f70\\uff0c\\u800c Hassabis \\u535a\\u58eb\\u548c Jumper \\u535a\\u58eb\\u5219\\u56e0\\u5728\\u86cb\\u767d\\u8d28\\u7ed3\\u6784\\u9884\\u6d4b\\u4e0a\\u7684\\u6770\\u51fa\\u6210\\u5c31\\u83b7\\u5f97\\u6b8a\\u8363\\u3002\\n\\u8bfa\\u8d1d\\u5c14\\u5316\\u5b66\\u5956\\u6bcf\\u5e74\\u9881\\u53d1\\u7ed9\\u5728\\u5316\\u5b66\\u9886\\u57df\\u505a\\u51fa\\u5353\\u8d8a\\u53d1\\u73b0\\u6216\\u53d1\\u660e\\u7684\\u79d1\\u5b66\\u5bb6\\uff0c\\u81ea\\u9996\\u6b21\\u9881\\u53d1\\u4ee5\\u6765\\uff0c\\u5df2\\u6709\\u8d85\\u8fc7 190 \\u4f4d\\u79d1\\u5b66\\u5bb6\\u83b7\\u5956\\u3002\\u5386\\u53f2\\u4e0a\\uff0c\\u8bfa\\u8d1d\\u5c14\\u5316\\u5b66\\u5956\\u7684\\u5f97\\u4e3b\\u4e2d\\u6709\\u7684\\u5e74\\u7eaa\\u8f7b\\u81f3 35 \\u5c81\\uff0c\\u6709\\u7684\\u9ad8\\u8fbe 97 \\u5c81\\uff0c\\u5305\\u62ec 8 \\u4f4d\\u5973\\u6027\\u3002\\u63a5\\u4e0b\\u6765\\u8ba9\\u6211\\u4eec\\u4e00\\u8d77\\u56de\\u987e\\u8fc7\\u53bb\\u5341\\u5e74\\u4e2d\\u8fd9\\u4e9b\\u8363\\u8a89\\u5f97\\u4e3b\\u548c\\u4ed6\\u4eec\\u7684\\u521b\\u65b0\\u8d21\\u732e\\u3002 [...] 2023 \\u5e74\\uff0cMoungi Bawendi \\u535a\\u58eb\\u3001Louis Brus \\u535a\\u58eb\\u548c Alexei Ekimov \\u535a\\u58eb\\u56e0\\u5728\\u91cf\\u5b50\\u70b9\\u7684\\u7814\\u53d1\\u4e0e\\u5236\\u9020\\u4e0a\\u53d6\\u5f97\\u7684\\u7a81\\u7834\\u6027\\u6210\\u679c\\u5171\\u540c\\u8363\\u83b7\\u8fd9\\u4e00\\u5956\\u9879\\u3002\\u4ed6\\u4eec\\u7684\\u53d1\\u73b0\\u63ed\\u793a\\u4e86\\u7269\\u8d28\\u5728\\u7f29\\u5c0f\\u81f3\\u7eb3\\u7c73\\u7ea7\\u522b\\u65f6\\u51fa\\u73b0\\u7684\\u91cf\\u5b50\\u73b0\\u8c61\\uff0c\\u8fd9\\u4e00\\u521b\\u65b0\\u4e3a\\u73b0\\u4ee3\\u79d1\\u6280\\u63d0\\u4f9b\\u4e86\\u57fa\\u77f3\\uff0c\\u5305\\u62ec QLED \\u663e\\u793a\\u6280\\u672f\\u3001LED \\u706f\\u5149\\u7684\\u7ec6\\u8282 enhancement\\uff0c\\u4ee5\\u53ca\\u751f\\u7269\\u7ec4\\u7ec7\\u7684\\u6210\\u50cf\\u7ed8\\u5236\\u7b49\\u591a\\u65b9\\u9762\\u7684\\u5e94\\u7528\\u3002\\n2022 \\u5e74\\uff0c\\u8fd9\\u4e00\\u6b8a\\u8363\\u6388\\u4e88\\u4e86 Carolyn R. Bertozzi \\u6559\\u6388\\u3001Morten Meldal \\u6559\\u6388\\u548c K. Barry Sharpless \\u6559\\u6388\\uff0c\\u4ee5\\u8868\\u5f70\\u4ed6\\u4eec\\u5728\\u70b9\\u51fb\\u5316\\u5b66\\u4e0e\\u751f\\u7269\\u6b63\\u4ea4\\u5316\\u5b66\\u9886\\u57df\\u7684\\u7a81\\u51fa\\u8d21\\u732e\\u3002\\u901a\\u8fc7\\u7b80\\u5355\\u5feb\\u6377\\u7684\\u65b9\\u6cd5\\u5408\\u6210\\u590d\\u6742\\u529f\\u80fd\\u5206\\u5b50\\uff0c\\u8fd9\\u9879\\u6280\\u672f\\u5728\\u836f\\u7269\\u7814\\u53d1\\u548c\\u6750\\u6599\\u79d1\\u5b66\\u4e2d\\u5df2\\u5c55\\u73b0\\u51fa\\u5e7f\\u9614\\u7684\\u5e94\\u7528\\u524d\\u666f\\u3002\\n2021 \\u5e74\\u7684\\u5f97\\u4e3b Benjamin List \\u6559\\u6388\\u548c David MacMillan \\u535a\\u58eb\\u56e0\\u5176\\u5728\\u4e0d\\u5bf9\\u79f0\\u6709\\u673a\\u50ac\\u5316\\u9886\\u57df\\u7684\\u521b\\u65b0\\u800c\\u53d7\\u5230\\u8d5e\\u8a89\\uff0c\\u4ed6\\u4eec\\u7684\\u53d1\\u5c55\\u4e3a\\u7cbe\\u51c6\\u5206\\u5b50\\u5408\\u6210\\u63d0\\u4f9b\\u4e86\\u65b0\\u65b9\\u6cd5\\uff0c\\u6781\\u5927\\u5730\\u63a8\\u52a8\\u4e86\\u533b\\u836f\\u7814\\u7a76\\u548c\\u7eff\\u8272\\u5316\\u5b66\\u7684\\u53d1\\u5c55\\u3002\", \"score\": 0.94632465}, {\"title\": \"2024\\u8bfa\\u8d1d\\u5c14\\u5956-\\u65b0\\u95fb\\u4e13\\u9898 - \\u79d1\\u5b66\\u7f51\", \"url\": \"https://news.sciencenet.cn/news/sub26.aspx?id=4170\", \"content\": \"\\u5317\\u4eac\\u65f6\\u95f410\\u67089\\u65e5\\u4e0b\\u53485\\u70b945\\u5206\\u8bb8\\uff0c2024\\u5e74\\u8bfa\\u8d1d\\u5c14\\u5316\\u5b66\\u5956\\u63ed\\u6653\\u3002\\u7f8e\\u56fd\\u79d1\\u5b66\\u5bb6David Baker\\u83b7\\u5956\\uff0c\\u4ee5\\u8868\\u5f70\\u5176\\u5728\\u8ba1\\u7b97\\u86cb\\u767d\\u8d28\\u8bbe\\u8ba1\\u65b9\\u9762\\u7684\\u8d21\\u732e\\uff1b\\u53e6\\u4e00\\u534a\\u5219\\u5171\\u540c\\u6388\\u4e88\\u82f1\\u56fd\\u79d1\\u5b66\\u5bb6Demis Hassabis\\u548cJohn\", \"score\": 0.93086797}]\n"
          ]
        },
        {
          "name": "stderr",
          "output_type": "stream",
          "text": [
            "WARNING:langsmith.client:Failed to send compressed multipart ingest: langsmith.utils.LangSmithAuthError: Authentication failed for https://api.smith.langchain.com/runs/multipart. HTTPError('401 Client Error: Unauthorized for url: https://api.smith.langchain.com/runs/multipart', '{\"error\":\"Unauthorized\"}\\n')trace=af156a10-36de-4132-bfe4-3ebc22fa1147,id=e62c5e8a-c710-4ce9-963b-83a94cb6977a; trace=af156a10-36de-4132-bfe4-3ebc22fa1147,id=7fdb3700-b9d0-4896-97ae-85841378d727; trace=af156a10-36de-4132-bfe4-3ebc22fa1147,id=16736e94-e05c-46e4-ac37-d1d41a552ac9; trace=af156a10-36de-4132-bfe4-3ebc22fa1147,id=3832df01-17b7-4c39-80c6-32c653fec9dd\n"
          ]
        },
        {
          "name": "stdout",
          "output_type": "stream",
          "text": [
            "Assistant: 2024年诺贝尔化学奖的获得者是David Baker博士、Demis Hassabis博士和John M. Jumper博士。他们因在计算鸡蛋白质设计领域的杰出贡献而被授予该奖项。诺贝尔化学奖的颁奖仪式将在2024年10月9日的北京时间晚上举行。\n"
          ]
        },
        {
          "name": "stderr",
          "output_type": "stream",
          "text": [
            "WARNING:langsmith.client:Failed to send compressed multipart ingest: langsmith.utils.LangSmithAuthError: Authentication failed for https://api.smith.langchain.com/runs/multipart. HTTPError('401 Client Error: Unauthorized for url: https://api.smith.langchain.com/runs/multipart', '{\"error\":\"Unauthorized\"}\\n')trace=af156a10-36de-4132-bfe4-3ebc22fa1147,id=3832df01-17b7-4c39-80c6-32c653fec9dd; trace=af156a10-36de-4132-bfe4-3ebc22fa1147,id=54fe4073-57ba-4e9e-940f-e7a832a7de05; trace=af156a10-36de-4132-bfe4-3ebc22fa1147,id=54fe4073-57ba-4e9e-940f-e7a832a7de05; trace=af156a10-36de-4132-bfe4-3ebc22fa1147,id=16736e94-e05c-46e4-ac37-d1d41a552ac9; trace=af156a10-36de-4132-bfe4-3ebc22fa1147,id=af156a10-36de-4132-bfe4-3ebc22fa1147\n"
          ]
        },
        {
          "name": "stdout",
          "output_type": "stream",
          "text": [
            "User: q\n",
            "Goodbye!\n"
          ]
        }
      ],
      "source": [
        "# 开始一个简单的聊天循环\n",
        "while True:\n",
        "    # 获取用户输入\n",
        "    user_input = input(\"User: \")\n",
        "\n",
        "    # 可以随时通过输入 \"quit\"、\"exit\" 或 \"q\" 退出聊天循环\n",
        "    if user_input.lower() in [\"quit\", \"exit\", \"q\"]:\n",
        "        print(\"Goodbye!\")  # 打印告别信息\n",
        "        break  # 结束循环，退出聊天\n",
        "\n",
        "    # 将每次用户输入的内容传递给 graph.stream，用于聊天机器人状态处理\n",
        "    # \"messages\": (\"user\", user_input) 表示传递的消息是用户输入的内容\n",
        "    for event in graph.stream({\"messages\": (\"user\", user_input)}):\n",
        "\n",
        "        # 遍历每个事件的值\n",
        "        for value in event.values():\n",
        "            # 打印输出 chatbot 生成的最新消息\n",
        "            print(\"Assistant:\", value[\"messages\"][-1].content)"
      ]
    },
    {
      "cell_type": "code",
      "execution_count": 48,
      "id": "E4IZjzClHrcF",
      "metadata": {
        "colab": {
          "base_uri": "https://localhost:8080/",
          "height": 447
        },
        "id": "E4IZjzClHrcF",
        "outputId": "fb2a8afc-47a8-4e70-a59b-074d75d6e002"
      },
      "outputs": [
        {
          "name": "stdout",
          "output_type": "stream",
          "text": [
            "User: 2025年中国最出名的女明星是谁？\n"
          ]
        },
        {
          "ename": "ValueError",
          "evalue": "Checkpointer requires one or more of the following 'configurable' keys: ['thread_id', 'checkpoint_ns', 'checkpoint_id']",
          "output_type": "error",
          "traceback": [
            "\u001b[0;31m---------------------------------------------------------------------------\u001b[0m",
            "\u001b[0;31mValueError\u001b[0m                                Traceback (most recent call last)",
            "\u001b[0;32m<ipython-input-48-277afd1a74e2>\u001b[0m in \u001b[0;36m<cell line: 0>\u001b[0;34m()\u001b[0m\n\u001b[1;32m     11\u001b[0m     \u001b[0;31m# 将每次用户输入的内容传递给 graph.stream，用于聊天机器人状态处理\u001b[0m\u001b[0;34m\u001b[0m\u001b[0;34m\u001b[0m\u001b[0m\n\u001b[1;32m     12\u001b[0m     \u001b[0;31m# \"messages\": (\"user\", user_input) 表示传递的消息是用户输入的内容\u001b[0m\u001b[0;34m\u001b[0m\u001b[0;34m\u001b[0m\u001b[0m\n\u001b[0;32m---> 13\u001b[0;31m     \u001b[0;32mfor\u001b[0m \u001b[0mevent\u001b[0m \u001b[0;32min\u001b[0m \u001b[0mgraph\u001b[0m\u001b[0;34m.\u001b[0m\u001b[0mstream\u001b[0m\u001b[0;34m(\u001b[0m\u001b[0;34m{\u001b[0m\u001b[0;34m\"messages\"\u001b[0m\u001b[0;34m:\u001b[0m \u001b[0;34m(\u001b[0m\u001b[0;34m\"user\"\u001b[0m\u001b[0;34m,\u001b[0m \u001b[0muser_input\u001b[0m\u001b[0;34m)\u001b[0m\u001b[0;34m}\u001b[0m\u001b[0;34m)\u001b[0m\u001b[0;34m:\u001b[0m\u001b[0;34m\u001b[0m\u001b[0;34m\u001b[0m\u001b[0m\n\u001b[0m\u001b[1;32m     14\u001b[0m \u001b[0;34m\u001b[0m\u001b[0m\n\u001b[1;32m     15\u001b[0m         \u001b[0;31m# 遍历每个事件的值\u001b[0m\u001b[0;34m\u001b[0m\u001b[0;34m\u001b[0m\u001b[0m\n",
            "\u001b[0;32m/usr/local/lib/python3.11/dist-packages/langgraph/pregel/__init__.py\u001b[0m in \u001b[0;36mstream\u001b[0;34m(self, input, config, stream_mode, output_keys, interrupt_before, interrupt_after, checkpoint_during, debug, subgraphs)\u001b[0m\n\u001b[1;32m   2341\u001b[0m                 \u001b[0mstore\u001b[0m\u001b[0;34m,\u001b[0m\u001b[0;34m\u001b[0m\u001b[0;34m\u001b[0m\u001b[0m\n\u001b[1;32m   2342\u001b[0m                 \u001b[0mcache\u001b[0m\u001b[0;34m,\u001b[0m\u001b[0;34m\u001b[0m\u001b[0;34m\u001b[0m\u001b[0m\n\u001b[0;32m-> 2343\u001b[0;31m             \u001b[0;34m)\u001b[0m \u001b[0;34m=\u001b[0m \u001b[0mself\u001b[0m\u001b[0;34m.\u001b[0m\u001b[0m_defaults\u001b[0m\u001b[0;34m(\u001b[0m\u001b[0;34m\u001b[0m\u001b[0;34m\u001b[0m\u001b[0m\n\u001b[0m\u001b[1;32m   2344\u001b[0m                 \u001b[0mconfig\u001b[0m\u001b[0;34m,\u001b[0m\u001b[0;34m\u001b[0m\u001b[0;34m\u001b[0m\u001b[0m\n\u001b[1;32m   2345\u001b[0m                 \u001b[0mstream_mode\u001b[0m\u001b[0;34m=\u001b[0m\u001b[0mstream_mode\u001b[0m\u001b[0;34m,\u001b[0m\u001b[0;34m\u001b[0m\u001b[0;34m\u001b[0m\u001b[0m\n",
            "\u001b[0;32m/usr/local/lib/python3.11/dist-packages/langgraph/pregel/__init__.py\u001b[0m in \u001b[0;36m_defaults\u001b[0;34m(self, config, stream_mode, output_keys, interrupt_before, interrupt_after, debug)\u001b[0m\n\u001b[1;32m   2232\u001b[0m             \u001b[0mcheckpointer\u001b[0m \u001b[0;34m=\u001b[0m \u001b[0mself\u001b[0m\u001b[0;34m.\u001b[0m\u001b[0mcheckpointer\u001b[0m\u001b[0;34m\u001b[0m\u001b[0;34m\u001b[0m\u001b[0m\n\u001b[1;32m   2233\u001b[0m         \u001b[0;32mif\u001b[0m \u001b[0mcheckpointer\u001b[0m \u001b[0;32mand\u001b[0m \u001b[0;32mnot\u001b[0m \u001b[0mconfig\u001b[0m\u001b[0;34m.\u001b[0m\u001b[0mget\u001b[0m\u001b[0;34m(\u001b[0m\u001b[0mCONF\u001b[0m\u001b[0;34m)\u001b[0m\u001b[0;34m:\u001b[0m\u001b[0;34m\u001b[0m\u001b[0;34m\u001b[0m\u001b[0m\n\u001b[0;32m-> 2234\u001b[0;31m             raise ValueError(\n\u001b[0m\u001b[1;32m   2235\u001b[0m                 \u001b[0;34mf\"Checkpointer requires one or more of the following 'configurable' keys: {[s.id for s in checkpointer.config_specs]}\"\u001b[0m\u001b[0;34m\u001b[0m\u001b[0;34m\u001b[0m\u001b[0m\n\u001b[1;32m   2236\u001b[0m             )\n",
            "\u001b[0;31mValueError\u001b[0m: Checkpointer requires one or more of the following 'configurable' keys: ['thread_id', 'checkpoint_ns', 'checkpoint_id']"
          ]
        }
      ],
      "source": [
        "# 开始一个简单的聊天循环\n",
        "while True:\n",
        "    # 获取用户输入\n",
        "    user_input = input(\"User: \")\n",
        "\n",
        "    # 可以随时通过输入 \"quit\"、\"exit\" 或 \"q\" 退出聊天循环\n",
        "    if user_input.lower() in [\"quit\", \"exit\", \"q\"]:\n",
        "        print(\"Goodbye!\")  # 打印告别信息\n",
        "        break  # 结束循环，退出聊天\n",
        "\n",
        "    # 将每次用户输入的内容传递给 graph.stream，用于聊天机器人状态处理\n",
        "    # \"messages\": (\"user\", user_input) 表示传递的消息是用户输入的内容\n",
        "    for event in graph.stream({\"messages\": (\"user\", user_input)}):\n",
        "\n",
        "        # 遍历每个事件的值\n",
        "        for value in event.values():\n",
        "            # 打印输出 chatbot 生成的最新消息\n",
        "            print(\"Assistant:\", value[\"messages\"][-1].content)"
      ]
    },
    {
      "cell_type": "code",
      "execution_count": 49,
      "id": "4erUAw6nH6gb",
      "metadata": {
        "colab": {
          "base_uri": "https://localhost:8080/",
          "height": 595
        },
        "id": "4erUAw6nH6gb",
        "outputId": "eef1ea97-643a-4fdc-dbaa-26fe16508dfd"
      },
      "outputs": [
        {
          "name": "stdout",
          "output_type": "stream",
          "text": [
            "User: 2025年中国最有名女明星是谁\n"
          ]
        },
        {
          "name": "stderr",
          "output_type": "stream",
          "text": [
            "WARNING:langsmith.client:Failed to send compressed multipart ingest: langsmith.utils.LangSmithAuthError: Authentication failed for https://api.smith.langchain.com/runs/multipart. HTTPError('401 Client Error: Unauthorized for url: https://api.smith.langchain.com/runs/multipart', '{\"error\":\"Unauthorized\"}\\n')trace=2f05518b-031c-4812-9102-c6e07365034f,id=2f05518b-031c-4812-9102-c6e07365034f; trace=2f05518b-031c-4812-9102-c6e07365034f,id=4b0ca72c-1b31-428c-8a7c-b24ecdbdbca1; trace=2f05518b-031c-4812-9102-c6e07365034f,id=d1d157d1-d258-472c-9669-62ddc2ce1625\n"
          ]
        },
        {
          "name": "stdout",
          "output_type": "stream",
          "text": [
            "Assistant: \n"
          ]
        },
        {
          "name": "stderr",
          "output_type": "stream",
          "text": [
            "WARNING:langsmith.client:Failed to send compressed multipart ingest: langsmith.utils.LangSmithAuthError: Authentication failed for https://api.smith.langchain.com/runs/multipart. HTTPError('401 Client Error: Unauthorized for url: https://api.smith.langchain.com/runs/multipart', '{\"error\":\"Unauthorized\"}\\n')trace=2f05518b-031c-4812-9102-c6e07365034f,id=d1d157d1-d258-472c-9669-62ddc2ce1625; trace=2f05518b-031c-4812-9102-c6e07365034f,id=6127a48e-a584-4cb8-a203-affa03cf24e5; trace=2f05518b-031c-4812-9102-c6e07365034f,id=6127a48e-a584-4cb8-a203-affa03cf24e5; trace=2f05518b-031c-4812-9102-c6e07365034f,id=4b0ca72c-1b31-428c-8a7c-b24ecdbdbca1; trace=2f05518b-031c-4812-9102-c6e07365034f,id=2f05518b-031c-4812-9102-c6e07365034f\n"
          ]
        },
        {
          "name": "stdout",
          "output_type": "stream",
          "text": [
            "User: 你是谁\n"
          ]
        },
        {
          "ename": "BadRequestError",
          "evalue": "Error code: 400 - {'error': {'message': \"An assistant message with 'tool_calls' must be followed by tool messages responding to each 'tool_call_id'. The following tool_call_ids did not have response messages: call_Z7E0GHGsGo7jLqW6w3CDFkKS\", 'type': 'invalid_request_error', 'param': 'messages.[2].role', 'code': None}}",
          "output_type": "error",
          "traceback": [
            "\u001b[0;31m---------------------------------------------------------------------------\u001b[0m",
            "\u001b[0;31mBadRequestError\u001b[0m                           Traceback (most recent call last)",
            "\u001b[0;32m<ipython-input-49-1fc6d8e64a69>\u001b[0m in \u001b[0;36m<cell line: 0>\u001b[0;34m()\u001b[0m\n\u001b[1;32m     17\u001b[0m     \u001b[0;31m# \"messages\": (\"user\", user_input) 表示传递的消息是用户输入的内容\u001b[0m\u001b[0;34m\u001b[0m\u001b[0;34m\u001b[0m\u001b[0m\n\u001b[1;32m     18\u001b[0m     \u001b[0;31m# Pass the config to the stream method\u001b[0m\u001b[0;34m\u001b[0m\u001b[0;34m\u001b[0m\u001b[0m\n\u001b[0;32m---> 19\u001b[0;31m     \u001b[0;32mfor\u001b[0m \u001b[0mevent\u001b[0m \u001b[0;32min\u001b[0m \u001b[0mgraph\u001b[0m\u001b[0;34m.\u001b[0m\u001b[0mstream\u001b[0m\u001b[0;34m(\u001b[0m\u001b[0;34m{\u001b[0m\u001b[0;34m\"messages\"\u001b[0m\u001b[0;34m:\u001b[0m \u001b[0;34m(\u001b[0m\u001b[0;34m\"user\"\u001b[0m\u001b[0;34m,\u001b[0m \u001b[0muser_input\u001b[0m\u001b[0;34m)\u001b[0m\u001b[0;34m}\u001b[0m\u001b[0;34m,\u001b[0m \u001b[0mconfig\u001b[0m\u001b[0;34m=\u001b[0m\u001b[0mconfig\u001b[0m\u001b[0;34m)\u001b[0m\u001b[0;34m:\u001b[0m \u001b[0;31m# Added config=config\u001b[0m\u001b[0;34m\u001b[0m\u001b[0;34m\u001b[0m\u001b[0m\n\u001b[0m\u001b[1;32m     20\u001b[0m         \u001b[0;31m# 遍历每个事件的值\u001b[0m\u001b[0;34m\u001b[0m\u001b[0;34m\u001b[0m\u001b[0m\n\u001b[1;32m     21\u001b[0m         \u001b[0;32mfor\u001b[0m \u001b[0mvalue\u001b[0m \u001b[0;32min\u001b[0m \u001b[0mevent\u001b[0m\u001b[0;34m.\u001b[0m\u001b[0mvalues\u001b[0m\u001b[0;34m(\u001b[0m\u001b[0;34m)\u001b[0m\u001b[0;34m:\u001b[0m\u001b[0;34m\u001b[0m\u001b[0;34m\u001b[0m\u001b[0m\n",
            "\u001b[0;32m/usr/local/lib/python3.11/dist-packages/langgraph/pregel/__init__.py\u001b[0m in \u001b[0;36mstream\u001b[0;34m(self, input, config, stream_mode, output_keys, interrupt_before, interrupt_after, checkpoint_during, debug, subgraphs)\u001b[0m\n\u001b[1;32m   2434\u001b[0m                     \u001b[0;32mfor\u001b[0m \u001b[0mtask\u001b[0m \u001b[0;32min\u001b[0m \u001b[0mloop\u001b[0m\u001b[0;34m.\u001b[0m\u001b[0mmatch_cached_writes\u001b[0m\u001b[0;34m(\u001b[0m\u001b[0;34m)\u001b[0m\u001b[0;34m:\u001b[0m\u001b[0;34m\u001b[0m\u001b[0;34m\u001b[0m\u001b[0m\n\u001b[1;32m   2435\u001b[0m                         \u001b[0mloop\u001b[0m\u001b[0;34m.\u001b[0m\u001b[0moutput_writes\u001b[0m\u001b[0;34m(\u001b[0m\u001b[0mtask\u001b[0m\u001b[0;34m.\u001b[0m\u001b[0mid\u001b[0m\u001b[0;34m,\u001b[0m \u001b[0mtask\u001b[0m\u001b[0;34m.\u001b[0m\u001b[0mwrites\u001b[0m\u001b[0;34m,\u001b[0m \u001b[0mcached\u001b[0m\u001b[0;34m=\u001b[0m\u001b[0;32mTrue\u001b[0m\u001b[0;34m)\u001b[0m\u001b[0;34m\u001b[0m\u001b[0;34m\u001b[0m\u001b[0m\n\u001b[0;32m-> 2436\u001b[0;31m                     for _ in runner.tick(\n\u001b[0m\u001b[1;32m   2437\u001b[0m                         \u001b[0;34m[\u001b[0m\u001b[0mt\u001b[0m \u001b[0;32mfor\u001b[0m \u001b[0mt\u001b[0m \u001b[0;32min\u001b[0m \u001b[0mloop\u001b[0m\u001b[0;34m.\u001b[0m\u001b[0mtasks\u001b[0m\u001b[0;34m.\u001b[0m\u001b[0mvalues\u001b[0m\u001b[0;34m(\u001b[0m\u001b[0;34m)\u001b[0m \u001b[0;32mif\u001b[0m \u001b[0;32mnot\u001b[0m \u001b[0mt\u001b[0m\u001b[0;34m.\u001b[0m\u001b[0mwrites\u001b[0m\u001b[0;34m]\u001b[0m\u001b[0;34m,\u001b[0m\u001b[0;34m\u001b[0m\u001b[0;34m\u001b[0m\u001b[0m\n\u001b[1;32m   2438\u001b[0m                         \u001b[0mtimeout\u001b[0m\u001b[0;34m=\u001b[0m\u001b[0mself\u001b[0m\u001b[0;34m.\u001b[0m\u001b[0mstep_timeout\u001b[0m\u001b[0;34m,\u001b[0m\u001b[0;34m\u001b[0m\u001b[0;34m\u001b[0m\u001b[0m\n",
            "\u001b[0;32m<ipython-input-23-c28f8868829d>\u001b[0m in \u001b[0;36mchatbot\u001b[0;34m(state)\u001b[0m\n\u001b[1;32m     17\u001b[0m \u001b[0;31m# 更新聊天机器人节点函数，支持工具调用\u001b[0m\u001b[0;34m\u001b[0m\u001b[0;34m\u001b[0m\u001b[0m\n\u001b[1;32m     18\u001b[0m \u001b[0;32mdef\u001b[0m \u001b[0mchatbot\u001b[0m\u001b[0;34m(\u001b[0m\u001b[0mstate\u001b[0m\u001b[0;34m:\u001b[0m \u001b[0mState\u001b[0m\u001b[0;34m)\u001b[0m\u001b[0;34m:\u001b[0m\u001b[0;34m\u001b[0m\u001b[0;34m\u001b[0m\u001b[0m\n\u001b[0;32m---> 19\u001b[0;31m     \u001b[0;32mreturn\u001b[0m \u001b[0;34m{\u001b[0m\u001b[0;34m\"messages\"\u001b[0m\u001b[0;34m:\u001b[0m \u001b[0;34m[\u001b[0m\u001b[0mllm_with_tools\u001b[0m\u001b[0;34m.\u001b[0m\u001b[0minvoke\u001b[0m\u001b[0;34m(\u001b[0m\u001b[0mstate\u001b[0m\u001b[0;34m[\u001b[0m\u001b[0;34m\"messages\"\u001b[0m\u001b[0;34m]\u001b[0m\u001b[0;34m)\u001b[0m\u001b[0;34m]\u001b[0m\u001b[0;34m}\u001b[0m\u001b[0;34m\u001b[0m\u001b[0;34m\u001b[0m\u001b[0m\n\u001b[0m\u001b[1;32m     20\u001b[0m \u001b[0;34m\u001b[0m\u001b[0m\n\u001b[1;32m     21\u001b[0m \u001b[0;31m# 将更新后的节点添加到状态图中\u001b[0m\u001b[0;34m\u001b[0m\u001b[0;34m\u001b[0m\u001b[0m\n",
            "\u001b[0;32m/usr/local/lib/python3.11/dist-packages/langchain_core/runnables/base.py\u001b[0m in \u001b[0;36minvoke\u001b[0;34m(self, input, config, **kwargs)\u001b[0m\n\u001b[1;32m   5414\u001b[0m \u001b[0;34m\u001b[0m\u001b[0m\n\u001b[1;32m   5415\u001b[0m         \u001b[0mDefaults\u001b[0m \u001b[0mto\u001b[0m \u001b[0;34m[\u001b[0m\u001b[0;34m\"langchain\"\u001b[0m\u001b[0;34m,\u001b[0m \u001b[0;34m\"schema\"\u001b[0m\u001b[0;34m,\u001b[0m \u001b[0;34m\"runnable\"\u001b[0m\u001b[0;34m]\u001b[0m\u001b[0;34m.\u001b[0m\u001b[0;34m\u001b[0m\u001b[0;34m\u001b[0m\u001b[0m\n\u001b[0;32m-> 5416\u001b[0;31m         \"\"\"\n\u001b[0m\u001b[1;32m   5417\u001b[0m         \u001b[0;32mreturn\u001b[0m \u001b[0;34m[\u001b[0m\u001b[0;34m\"langchain\"\u001b[0m\u001b[0;34m,\u001b[0m \u001b[0;34m\"schema\"\u001b[0m\u001b[0;34m,\u001b[0m \u001b[0;34m\"runnable\"\u001b[0m\u001b[0;34m]\u001b[0m\u001b[0;34m\u001b[0m\u001b[0;34m\u001b[0m\u001b[0m\n\u001b[1;32m   5418\u001b[0m \u001b[0;34m\u001b[0m\u001b[0m\n",
            "\u001b[0;32m/usr/local/lib/python3.11/dist-packages/langchain_core/language_models/chat_models.py\u001b[0m in \u001b[0;36minvoke\u001b[0;34m(self, input, config, stop, **kwargs)\u001b[0m\n\u001b[1;32m    368\u001b[0m         \u001b[0mconfig\u001b[0m \u001b[0;34m=\u001b[0m \u001b[0mensure_config\u001b[0m\u001b[0;34m(\u001b[0m\u001b[0mconfig\u001b[0m\u001b[0;34m)\u001b[0m\u001b[0;34m\u001b[0m\u001b[0;34m\u001b[0m\u001b[0m\n\u001b[1;32m    369\u001b[0m         return cast(\n\u001b[0;32m--> 370\u001b[0;31m             \u001b[0;34m\"ChatGeneration\"\u001b[0m\u001b[0;34m,\u001b[0m\u001b[0;34m\u001b[0m\u001b[0;34m\u001b[0m\u001b[0m\n\u001b[0m\u001b[1;32m    371\u001b[0m             self.generate_prompt(\n\u001b[1;32m    372\u001b[0m                 \u001b[0;34m[\u001b[0m\u001b[0mself\u001b[0m\u001b[0;34m.\u001b[0m\u001b[0m_convert_input\u001b[0m\u001b[0;34m(\u001b[0m\u001b[0minput\u001b[0m\u001b[0;34m)\u001b[0m\u001b[0;34m]\u001b[0m\u001b[0;34m,\u001b[0m\u001b[0;34m\u001b[0m\u001b[0;34m\u001b[0m\u001b[0m\n",
            "\u001b[0;32m/usr/local/lib/python3.11/dist-packages/langchain_core/language_models/chat_models.py\u001b[0m in \u001b[0;36mgenerate_prompt\u001b[0;34m(self, prompts, stop, callbacks, **kwargs)\u001b[0m\n\u001b[1;32m    945\u001b[0m         \u001b[0;32mreturn\u001b[0m \u001b[0moutput\u001b[0m\u001b[0;34m\u001b[0m\u001b[0;34m\u001b[0m\u001b[0m\n\u001b[1;32m    946\u001b[0m \u001b[0;34m\u001b[0m\u001b[0m\n\u001b[0;32m--> 947\u001b[0;31m     \u001b[0;34m@\u001b[0m\u001b[0moverride\u001b[0m\u001b[0;34m\u001b[0m\u001b[0;34m\u001b[0m\u001b[0m\n\u001b[0m\u001b[1;32m    948\u001b[0m     def generate_prompt(\n\u001b[1;32m    949\u001b[0m         \u001b[0mself\u001b[0m\u001b[0;34m,\u001b[0m\u001b[0;34m\u001b[0m\u001b[0;34m\u001b[0m\u001b[0m\n",
            "\u001b[0;32m/usr/local/lib/python3.11/dist-packages/langchain_core/language_models/chat_models.py\u001b[0m in \u001b[0;36mgenerate\u001b[0;34m(self, messages, stop, callbacks, tags, metadata, run_name, run_id, **kwargs)\u001b[0m\n\u001b[1;32m    764\u001b[0m             \u001b[0mname\u001b[0m\u001b[0;34m=\u001b[0m\u001b[0mrun_name\u001b[0m\u001b[0;34m,\u001b[0m\u001b[0;34m\u001b[0m\u001b[0;34m\u001b[0m\u001b[0m\n\u001b[1;32m    765\u001b[0m             \u001b[0mrun_id\u001b[0m\u001b[0;34m=\u001b[0m\u001b[0mrun_id\u001b[0m\u001b[0;34m,\u001b[0m\u001b[0;34m\u001b[0m\u001b[0;34m\u001b[0m\u001b[0m\n\u001b[0;32m--> 766\u001b[0;31m             \u001b[0mbatch_size\u001b[0m\u001b[0;34m=\u001b[0m\u001b[0mlen\u001b[0m\u001b[0;34m(\u001b[0m\u001b[0mmessages\u001b[0m\u001b[0;34m)\u001b[0m\u001b[0;34m,\u001b[0m\u001b[0;34m\u001b[0m\u001b[0;34m\u001b[0m\u001b[0m\n\u001b[0m\u001b[1;32m    767\u001b[0m         )\n\u001b[1;32m    768\u001b[0m         \u001b[0mresults\u001b[0m \u001b[0;34m=\u001b[0m \u001b[0;34m[\u001b[0m\u001b[0;34m]\u001b[0m\u001b[0;34m\u001b[0m\u001b[0;34m\u001b[0m\u001b[0m\n",
            "\u001b[0;32m/usr/local/lib/python3.11/dist-packages/langchain_core/language_models/chat_models.py\u001b[0m in \u001b[0;36m_generate_with_cache\u001b[0;34m(self, messages, stop, run_manager, **kwargs)\u001b[0m\n\u001b[1;32m   1010\u001b[0m             \u001b[0;32mfor\u001b[0m \u001b[0mchunk\u001b[0m \u001b[0;32min\u001b[0m \u001b[0mself\u001b[0m\u001b[0;34m.\u001b[0m\u001b[0m_stream\u001b[0m\u001b[0;34m(\u001b[0m\u001b[0mmessages\u001b[0m\u001b[0;34m,\u001b[0m \u001b[0mstop\u001b[0m\u001b[0;34m=\u001b[0m\u001b[0mstop\u001b[0m\u001b[0;34m,\u001b[0m \u001b[0;34m**\u001b[0m\u001b[0mkwargs\u001b[0m\u001b[0;34m)\u001b[0m\u001b[0;34m:\u001b[0m\u001b[0;34m\u001b[0m\u001b[0;34m\u001b[0m\u001b[0m\n\u001b[1;32m   1011\u001b[0m                 \u001b[0mchunk\u001b[0m\u001b[0;34m.\u001b[0m\u001b[0mmessage\u001b[0m\u001b[0;34m.\u001b[0m\u001b[0mresponse_metadata\u001b[0m \u001b[0;34m=\u001b[0m \u001b[0m_gen_info_and_msg_metadata\u001b[0m\u001b[0;34m(\u001b[0m\u001b[0mchunk\u001b[0m\u001b[0;34m)\u001b[0m\u001b[0;34m\u001b[0m\u001b[0;34m\u001b[0m\u001b[0m\n\u001b[0;32m-> 1012\u001b[0;31m                 \u001b[0;32mif\u001b[0m \u001b[0mrun_manager\u001b[0m\u001b[0;34m:\u001b[0m\u001b[0;34m\u001b[0m\u001b[0;34m\u001b[0m\u001b[0m\n\u001b[0m\u001b[1;32m   1013\u001b[0m                     \u001b[0;32mif\u001b[0m \u001b[0mchunk\u001b[0m\u001b[0;34m.\u001b[0m\u001b[0mmessage\u001b[0m\u001b[0;34m.\u001b[0m\u001b[0mid\u001b[0m \u001b[0;32mis\u001b[0m \u001b[0;32mNone\u001b[0m\u001b[0;34m:\u001b[0m\u001b[0;34m\u001b[0m\u001b[0;34m\u001b[0m\u001b[0m\n\u001b[1;32m   1014\u001b[0m                         \u001b[0mchunk\u001b[0m\u001b[0;34m.\u001b[0m\u001b[0mmessage\u001b[0m\u001b[0;34m.\u001b[0m\u001b[0mid\u001b[0m \u001b[0;34m=\u001b[0m \u001b[0;34mf\"{_LC_ID_PREFIX}-{run_manager.run_id}\"\u001b[0m\u001b[0;34m\u001b[0m\u001b[0;34m\u001b[0m\u001b[0m\n",
            "\u001b[0;32m/usr/local/lib/python3.11/dist-packages/langchain_openai/chat_models/base.py\u001b[0m in \u001b[0;36m_generate\u001b[0;34m(self, messages, stop, run_manager, **kwargs)\u001b[0m\n\u001b[1;32m    971\u001b[0m             \u001b[0mgeneration_info\u001b[0m \u001b[0;34m=\u001b[0m \u001b[0;34m{\u001b[0m\u001b[0;34m\"headers\"\u001b[0m\u001b[0;34m:\u001b[0m \u001b[0mdict\u001b[0m\u001b[0;34m(\u001b[0m\u001b[0mraw_response\u001b[0m\u001b[0;34m.\u001b[0m\u001b[0mheaders\u001b[0m\u001b[0;34m)\u001b[0m\u001b[0;34m}\u001b[0m\u001b[0;34m\u001b[0m\u001b[0;34m\u001b[0m\u001b[0m\n\u001b[1;32m    972\u001b[0m         \u001b[0;32melse\u001b[0m\u001b[0;34m:\u001b[0m\u001b[0;34m\u001b[0m\u001b[0;34m\u001b[0m\u001b[0m\n\u001b[0;32m--> 973\u001b[0;31m             \u001b[0mresponse\u001b[0m \u001b[0;34m=\u001b[0m \u001b[0mself\u001b[0m\u001b[0;34m.\u001b[0m\u001b[0mclient\u001b[0m\u001b[0;34m.\u001b[0m\u001b[0mcreate\u001b[0m\u001b[0;34m(\u001b[0m\u001b[0;34m**\u001b[0m\u001b[0mpayload\u001b[0m\u001b[0;34m)\u001b[0m\u001b[0;34m\u001b[0m\u001b[0;34m\u001b[0m\u001b[0m\n\u001b[0m\u001b[1;32m    974\u001b[0m         \u001b[0;32mreturn\u001b[0m \u001b[0mself\u001b[0m\u001b[0;34m.\u001b[0m\u001b[0m_create_chat_result\u001b[0m\u001b[0;34m(\u001b[0m\u001b[0mresponse\u001b[0m\u001b[0;34m,\u001b[0m \u001b[0mgeneration_info\u001b[0m\u001b[0;34m)\u001b[0m\u001b[0;34m\u001b[0m\u001b[0;34m\u001b[0m\u001b[0m\n\u001b[1;32m    975\u001b[0m \u001b[0;34m\u001b[0m\u001b[0m\n",
            "\u001b[0;32m/usr/local/lib/python3.11/dist-packages/openai/_utils/_utils.py\u001b[0m in \u001b[0;36mwrapper\u001b[0;34m(*args, **kwargs)\u001b[0m\n\u001b[1;32m    285\u001b[0m                         \u001b[0mmsg\u001b[0m \u001b[0;34m=\u001b[0m \u001b[0;34mf\"Missing required argument: {quote(missing[0])}\"\u001b[0m\u001b[0;34m\u001b[0m\u001b[0;34m\u001b[0m\u001b[0m\n\u001b[1;32m    286\u001b[0m                 \u001b[0;32mraise\u001b[0m \u001b[0mTypeError\u001b[0m\u001b[0;34m(\u001b[0m\u001b[0mmsg\u001b[0m\u001b[0;34m)\u001b[0m\u001b[0;34m\u001b[0m\u001b[0;34m\u001b[0m\u001b[0m\n\u001b[0;32m--> 287\u001b[0;31m             \u001b[0;32mreturn\u001b[0m \u001b[0mfunc\u001b[0m\u001b[0;34m(\u001b[0m\u001b[0;34m*\u001b[0m\u001b[0margs\u001b[0m\u001b[0;34m,\u001b[0m \u001b[0;34m**\u001b[0m\u001b[0mkwargs\u001b[0m\u001b[0;34m)\u001b[0m\u001b[0;34m\u001b[0m\u001b[0;34m\u001b[0m\u001b[0m\n\u001b[0m\u001b[1;32m    288\u001b[0m \u001b[0;34m\u001b[0m\u001b[0m\n\u001b[1;32m    289\u001b[0m         \u001b[0;32mreturn\u001b[0m \u001b[0mwrapper\u001b[0m  \u001b[0;31m# type: ignore\u001b[0m\u001b[0;34m\u001b[0m\u001b[0;34m\u001b[0m\u001b[0m\n",
            "\u001b[0;32m/usr/local/lib/python3.11/dist-packages/openai/resources/chat/completions/completions.py\u001b[0m in \u001b[0;36mcreate\u001b[0;34m(self, messages, model, audio, frequency_penalty, function_call, functions, logit_bias, logprobs, max_completion_tokens, max_tokens, metadata, modalities, n, parallel_tool_calls, prediction, presence_penalty, reasoning_effort, response_format, seed, service_tier, stop, store, stream, stream_options, temperature, tool_choice, tools, top_logprobs, top_p, user, web_search_options, extra_headers, extra_query, extra_body, timeout)\u001b[0m\n\u001b[1;32m    923\u001b[0m     ) -> ChatCompletion | Stream[ChatCompletionChunk]:\n\u001b[1;32m    924\u001b[0m         \u001b[0mvalidate_response_format\u001b[0m\u001b[0;34m(\u001b[0m\u001b[0mresponse_format\u001b[0m\u001b[0;34m)\u001b[0m\u001b[0;34m\u001b[0m\u001b[0;34m\u001b[0m\u001b[0m\n\u001b[0;32m--> 925\u001b[0;31m         return self._post(\n\u001b[0m\u001b[1;32m    926\u001b[0m             \u001b[0;34m\"/chat/completions\"\u001b[0m\u001b[0;34m,\u001b[0m\u001b[0;34m\u001b[0m\u001b[0;34m\u001b[0m\u001b[0m\n\u001b[1;32m    927\u001b[0m             body=maybe_transform(\n",
            "\u001b[0;32m/usr/local/lib/python3.11/dist-packages/openai/_base_client.py\u001b[0m in \u001b[0;36mpost\u001b[0;34m(self, path, cast_to, body, options, files, stream, stream_cls)\u001b[0m\n\u001b[1;32m   1237\u001b[0m             \u001b[0mmethod\u001b[0m\u001b[0;34m=\u001b[0m\u001b[0;34m\"post\"\u001b[0m\u001b[0;34m,\u001b[0m \u001b[0murl\u001b[0m\u001b[0;34m=\u001b[0m\u001b[0mpath\u001b[0m\u001b[0;34m,\u001b[0m \u001b[0mjson_data\u001b[0m\u001b[0;34m=\u001b[0m\u001b[0mbody\u001b[0m\u001b[0;34m,\u001b[0m \u001b[0mfiles\u001b[0m\u001b[0;34m=\u001b[0m\u001b[0mto_httpx_files\u001b[0m\u001b[0;34m(\u001b[0m\u001b[0mfiles\u001b[0m\u001b[0;34m)\u001b[0m\u001b[0;34m,\u001b[0m \u001b[0;34m**\u001b[0m\u001b[0moptions\u001b[0m\u001b[0;34m\u001b[0m\u001b[0;34m\u001b[0m\u001b[0m\n\u001b[1;32m   1238\u001b[0m         )\n\u001b[0;32m-> 1239\u001b[0;31m         \u001b[0;32mreturn\u001b[0m \u001b[0mcast\u001b[0m\u001b[0;34m(\u001b[0m\u001b[0mResponseT\u001b[0m\u001b[0;34m,\u001b[0m \u001b[0mself\u001b[0m\u001b[0;34m.\u001b[0m\u001b[0mrequest\u001b[0m\u001b[0;34m(\u001b[0m\u001b[0mcast_to\u001b[0m\u001b[0;34m,\u001b[0m \u001b[0mopts\u001b[0m\u001b[0;34m,\u001b[0m \u001b[0mstream\u001b[0m\u001b[0;34m=\u001b[0m\u001b[0mstream\u001b[0m\u001b[0;34m,\u001b[0m \u001b[0mstream_cls\u001b[0m\u001b[0;34m=\u001b[0m\u001b[0mstream_cls\u001b[0m\u001b[0;34m)\u001b[0m\u001b[0;34m)\u001b[0m\u001b[0;34m\u001b[0m\u001b[0;34m\u001b[0m\u001b[0m\n\u001b[0m\u001b[1;32m   1240\u001b[0m \u001b[0;34m\u001b[0m\u001b[0m\n\u001b[1;32m   1241\u001b[0m     def patch(\n",
            "\u001b[0;32m/usr/local/lib/python3.11/dist-packages/openai/_base_client.py\u001b[0m in \u001b[0;36mrequest\u001b[0;34m(self, cast_to, options, stream, stream_cls)\u001b[0m\n\u001b[1;32m   1032\u001b[0m \u001b[0;34m\u001b[0m\u001b[0m\n\u001b[1;32m   1033\u001b[0m                 \u001b[0mlog\u001b[0m\u001b[0;34m.\u001b[0m\u001b[0mdebug\u001b[0m\u001b[0;34m(\u001b[0m\u001b[0;34m\"Re-raising status error\"\u001b[0m\u001b[0;34m)\u001b[0m\u001b[0;34m\u001b[0m\u001b[0;34m\u001b[0m\u001b[0m\n\u001b[0;32m-> 1034\u001b[0;31m                 \u001b[0;32mraise\u001b[0m \u001b[0mself\u001b[0m\u001b[0;34m.\u001b[0m\u001b[0m_make_status_error_from_response\u001b[0m\u001b[0;34m(\u001b[0m\u001b[0merr\u001b[0m\u001b[0;34m.\u001b[0m\u001b[0mresponse\u001b[0m\u001b[0;34m)\u001b[0m \u001b[0;32mfrom\u001b[0m \u001b[0;32mNone\u001b[0m\u001b[0;34m\u001b[0m\u001b[0;34m\u001b[0m\u001b[0m\n\u001b[0m\u001b[1;32m   1035\u001b[0m \u001b[0;34m\u001b[0m\u001b[0m\n\u001b[1;32m   1036\u001b[0m             \u001b[0;32mbreak\u001b[0m\u001b[0;34m\u001b[0m\u001b[0;34m\u001b[0m\u001b[0m\n",
            "\u001b[0;31mBadRequestError\u001b[0m: Error code: 400 - {'error': {'message': \"An assistant message with 'tool_calls' must be followed by tool messages responding to each 'tool_call_id'. The following tool_call_ids did not have response messages: call_Z7E0GHGsGo7jLqW6w3CDFkKS\", 'type': 'invalid_request_error', 'param': 'messages.[2].role', 'code': None}}"
          ]
        }
      ],
      "source": [
        "# 开始一个简单的聊天循环\n",
        "while True:\n",
        "    # 获取用户输入\n",
        "    user_input = input(\"User: \")\n",
        "\n",
        "    # 可以随时通过输入 \"quit\"、\"exit\" 或 \"q\" 退出聊天循环\n",
        "    if user_input.lower() in [\"quit\", \"exit\", \"q\"]:\n",
        "        print(\"Goodbye!\")  # 打印告别信息\n",
        "        break  # 结束循环，退出聊天\n",
        "\n",
        "    # Define the config with a thread_id for the checkpointer\n",
        "    # You can use a static ID for a single conversation thread\n",
        "    # or generate a dynamic one if needed for multiple concurrent conversations.\n",
        "    config = {\"configurable\": {\"thread_id\": \"my_chat_thread\"}} # Added config here\n",
        "\n",
        "    # 将每次用户输入的内容传递给 graph.stream，用于聊天机器人状态处理\n",
        "    # \"messages\": (\"user\", user_input) 表示传递的消息是用户输入的内容\n",
        "    # Pass the config to the stream method\n",
        "    for event in graph.stream({\"messages\": (\"user\", user_input)}, config=config): # Added config=config\n",
        "        # 遍历每个事件的值\n",
        "        for value in event.values():\n",
        "            # 打印输出 chatbot 生成的最新消息\n",
        "            # Check if the value contains messages before accessing the last element\n",
        "            if \"messages\" in value and value[\"messages\"]:\n",
        "                 print(\"Assistant:\", value[\"messages\"][-1].content)"
      ]
    },
    {
      "cell_type": "markdown",
      "id": "jyqMAmueH3cC",
      "metadata": {
        "id": "jyqMAmueH3cC"
      },
      "source": []
    },
    {
      "cell_type": "markdown",
      "id": "497df061",
      "metadata": {
        "id": "497df061"
      },
      "source": [
        "--------------\n",
        "#### 运行结果分析\n",
        "\n",
        "问：详细介绍下 LangGraph 项目\n",
        "\n",
        "gpt-4o-mini 训练数据截止日期，在 LangGraph 项目推出前。\n",
        "\n",
        "因此，直接让模型生成 LangGraph 相关介绍时，会出现事实性的问题。\n",
        "\n"
      ]
    },
    {
      "cell_type": "markdown",
      "id": "a64039fb",
      "metadata": {
        "id": "a64039fb"
      },
      "source": [
        "## 第 2 部分：为聊天机器人添加工具\n",
        "\n",
        "为了处理我们聊天机器人无法“记住”回答的问题，我们将集成一个 Web 搜索工具 [Tavily Search](\n",
        "https://python.langchain.com/v0.2/docs/integrations/tools/tavily_search/)。\n",
        "\n",
        "我们的机器人可以使用这个工具找到相关信息，并提供更好的回复。\n",
        "\n",
        "### 1. 安装依赖并设置 Tavily API\n",
        "\n",
        "访问 [Tavily](https://tavily.com/) 官网，注册账号并生成你的 `TAVILY_API_KEY`。\n",
        "\n",
        "Tavily 提供 1000次/月的免费检索额度。\n",
        "\n",
        "在开始之前，确保您已安装 Tavily 搜索引擎所需的包并在环境变量中设置了 `TAVILY_API_KEY`。"
      ]
    },
    {
      "cell_type": "code",
      "execution_count": 19,
      "id": "9fe20f5f",
      "metadata": {
        "id": "9fe20f5f"
      },
      "outputs": [],
      "source": [
        "%%capture --no-stderr\n",
        "# 安装 Tavily 搜索引擎的 Python 包\n",
        "%pip install -U tavily-python\n",
        "%pip install -U langchain_community"
      ]
    },
    {
      "cell_type": "code",
      "execution_count": 21,
      "id": "fb1758a2-7208-4aa4-8c60-4ec2e57b1783",
      "metadata": {
        "id": "fb1758a2-7208-4aa4-8c60-4ec2e57b1783"
      },
      "outputs": [],
      "source": [
        "import getpass\n",
        "import os\n",
        "\n",
        "if not os.environ.get(\"TAVILY_API_KEY\"):\n",
        "    os.environ[\"TAVILY_API_KEY\"] = 'xxxxxxx'"
      ]
    },
    {
      "cell_type": "markdown",
      "id": "4448a461",
      "metadata": {
        "id": "4448a461"
      },
      "source": [
        "### 2. 定义工具"
      ]
    },
    {
      "cell_type": "code",
      "execution_count": 22,
      "id": "5ec05131",
      "metadata": {
        "colab": {
          "base_uri": "https://localhost:8080/"
        },
        "id": "5ec05131",
        "outputId": "131088cd-916f-4509-8e70-5fbfa6b33318"
      },
      "outputs": [
        {
          "name": "stderr",
          "output_type": "stream",
          "text": [
            "WARNING:langsmith.client:Failed to send compressed multipart ingest: langsmith.utils.LangSmithAuthError: Authentication failed for https://api.smith.langchain.com/runs/multipart. HTTPError('401 Client Error: Unauthorized for url: https://api.smith.langchain.com/runs/multipart', '{\"error\":\"Unauthorized\"}\\n')trace=93d49b36-2b04-43fc-9a7f-b8d33660559e,id=93d49b36-2b04-43fc-9a7f-b8d33660559e\n"
          ]
        },
        {
          "data": {
            "text/plain": [
              "[{'title': 'Next LangGraph Glossary - Overview',\n",
              "  'url': 'https://langchain-ai.github.io/langgraph/concepts/low_level/',\n",
              "  'content': 'In LangGraph, nodes are typically python functions (sync or async) where the first positional argument is the state, and (optionally), the second positional argument is a \"config\", containing optional configurable parameters (such as a thread_id).\\nSimilar to NetworkX, you add these nodes to a graph using the add_node method:\\n[](https://langchain-ai.github.io/langgraph/concepts/low_level/#__codelineno-7-1)fromlangchain_core.runnablesimport RunnableConfig [...] LangGraph Glossary¶\\nGraphs¶\\nAt its core, LangGraph models agent workflows as graphs. You define the behavior of your agents using three key components:\\n\\n\\nState: A shared data structure that represents the current snapshot of your application. It can be any Python type, but is typically a TypedDict or Pydantic BaseModel.\\n\\n\\nNodes: Python functions that encode the logic of your agents. They receive the current State as input, perform some computation or side-effect, and return an updated State. [...] By composing Nodes and Edges, you can create complex, looping workflows that evolve the State over time. The real power, though, comes from how LangGraph manages that State. To emphasize: Nodes and Edges are nothing more than Python functions - they can contain an LLM or just good ol\\' Python code.\\nIn short: nodes do the work. edges tell what to do next.',\n",
              "  'score': 0.8995547},\n",
              " {'title': 'A Comprehensive Guide About Langgraph: Code Included - Ionio',\n",
              "  'url': 'https://www.ionio.ai/blog/a-comprehensive-guide-about-langgraph-code-included',\n",
              "  'content': 'Now let’s take a look at each component of langgraph in detail 🚀\\nNodes\\nA node can be any function or tool your agent uses in langgraph and these nodes are connected with other nodes using edges. Every workflow ends with a “END” node in langgraph which shows the end of workflow. You also need to define a starting node which will be the starting point of your workflow. Optionally, you can also define an ending node if you know the ending point of your workflow.',\n",
              "  'score': 0.8991304}]"
            ]
          },
          "execution_count": 22,
          "metadata": {},
          "output_type": "execute_result"
        }
      ],
      "source": [
        "from langchain_community.tools.tavily_search import TavilySearchResults\n",
        "\n",
        "# 定义 Tavily 搜索工具，最大搜索结果数设置为 2\n",
        "tool = TavilySearchResults(max_results=2)\n",
        "tools = [tool]\n",
        "\n",
        "# 测试工具调用\n",
        "tool.invoke(\"What's a 'node' in LangGraph?\")"
      ]
    },
    {
      "cell_type": "markdown",
      "id": "07ba26bd",
      "metadata": {
        "id": "07ba26bd"
      },
      "source": [
        "-----------------------------\n",
        "#### 搜索工具结果 如上所示\n",
        "\n",
        "工具返回的是页面摘要，供我们的聊天机器人用于回答问题。\n",
        "\n",
        "### 3. 将工具集成到状态图中\n",
        "\n",
        "以下步骤与第 1 部分类似，只不过我们在 `LLM` 上添加了 `bind_tools`，这使得 LLM 可以在需要时调用搜索工具。"
      ]
    },
    {
      "cell_type": "code",
      "execution_count": 23,
      "id": "32631ea0",
      "metadata": {
        "colab": {
          "base_uri": "https://localhost:8080/"
        },
        "id": "32631ea0",
        "outputId": "c3ce3020-7107-4bd4-be05-382b988ae01f"
      },
      "outputs": [
        {
          "data": {
            "text/plain": [
              "<langgraph.graph.state.StateGraph at 0x79d488b7b850>"
            ]
          },
          "execution_count": 23,
          "metadata": {},
          "output_type": "execute_result"
        }
      ],
      "source": [
        "from typing import Annotated\n",
        "from langchain_openai import ChatOpenAI\n",
        "from typing_extensions import TypedDict\n",
        "from langgraph.graph import StateGraph, START\n",
        "from langgraph.graph.message import add_messages\n",
        "\n",
        "# 定义状态\n",
        "class State(TypedDict):\n",
        "    messages: Annotated[list, add_messages]\n",
        "\n",
        "graph_builder = StateGraph(State)\n",
        "\n",
        "# 初始化 LLM 并绑定搜索工具\n",
        "chat_model = ChatOpenAI(model=\"gpt-4o-mini\")\n",
        "llm_with_tools = chat_model.bind_tools(tools)\n",
        "\n",
        "# 更新聊天机器人节点函数，支持工具调用\n",
        "def chatbot(state: State):\n",
        "    return {\"messages\": [llm_with_tools.invoke(state[\"messages\"])]}\n",
        "\n",
        "# 将更新后的节点添加到状态图中\n",
        "graph_builder.add_node(\"chatbot\", chatbot)"
      ]
    },
    {
      "cell_type": "markdown",
      "id": "9c8c99bb",
      "metadata": {
        "id": "9c8c99bb"
      },
      "source": [
        "\n",
        "### 4. 处理工具调用\n",
        "\n",
        "我们需要创建一个函数来运行工具。我们通过向图中添加一个新节点来实现这一点。\n",
        "\n"
      ]
    },
    {
      "cell_type": "code",
      "execution_count": 24,
      "id": "7e8e3ba9",
      "metadata": {
        "id": "7e8e3ba9"
      },
      "outputs": [],
      "source": [
        "import json\n",
        "from langchain_core.messages import ToolMessage\n",
        "\n",
        "# 定义 BasicToolNode，用于执行工具请求\n",
        "class BasicToolNode:\n",
        "    \"\"\"一个在最后一条 AIMessage 中执行工具请求的节点。\n",
        "\n",
        "    该节点会检查最后一条 AI 消息中的工具调用请求，并依次执行这些工具调用。\n",
        "    \"\"\"\n",
        "\n",
        "    def __init__(self, tools: list) -> None:\n",
        "        # tools 是一个包含所有可用工具的列表，我们将其转化为字典，\n",
        "        # 通过工具名称（tool.name）来访问具体的工具\n",
        "        self.tools_by_name = {tool.name: tool for tool in tools}\n",
        "\n",
        "    def __call__(self, inputs: dict):\n",
        "        \"\"\"执行工具调用\n",
        "\n",
        "        参数:\n",
        "        inputs: 包含 \"messages\" 键的字典，\"messages\" 是对话消息的列表，\n",
        "                其中最后一条消息可能包含工具调用的请求。\n",
        "\n",
        "        返回:\n",
        "        包含工具调用结果的消息列表\n",
        "        \"\"\"\n",
        "        # 获取消息列表中的最后一条消息，判断是否包含工具调用请求\n",
        "        if messages := inputs.get(\"messages\", []):\n",
        "            message = messages[-1]\n",
        "        else:\n",
        "            raise ValueError(\"输入中未找到消息\")\n",
        "\n",
        "        # 用于保存工具调用的结果\n",
        "        outputs = []\n",
        "\n",
        "        # 遍历工具调用请求，执行工具并将结果返回\n",
        "        for tool_call in message.tool_calls:\n",
        "            # 根据工具名称找到相应的工具，并调用工具的 invoke 方法执行工具\n",
        "            tool_result = self.tools_by_name[tool_call[\"name\"]].invoke(\n",
        "                tool_call[\"args\"]\n",
        "            )\n",
        "            # 将工具调用结果作为 ToolMessage 保存下来\n",
        "            outputs.append(\n",
        "                ToolMessage(\n",
        "                    content=json.dumps(tool_result),  # 工具调用的结果以 JSON 格式保存\n",
        "                    name=tool_call[\"name\"],  # 工具的名称\n",
        "                    tool_call_id=tool_call[\"id\"],  # 工具调用的唯一标识符\n",
        "                )\n",
        "            )\n",
        "        # 返回包含工具调用结果的消息\n",
        "        return {\"messages\": outputs}"
      ]
    },
    {
      "cell_type": "code",
      "execution_count": 25,
      "id": "75c139e4-af01-4cc8-987e-16b2ec82a662",
      "metadata": {
        "colab": {
          "base_uri": "https://localhost:8080/"
        },
        "id": "75c139e4-af01-4cc8-987e-16b2ec82a662",
        "outputId": "c0412f70-b367-4967-f314-8ad18c4250a5"
      },
      "outputs": [
        {
          "data": {
            "text/plain": [
              "<langgraph.graph.state.StateGraph at 0x79d488b7b850>"
            ]
          },
          "execution_count": 25,
          "metadata": {},
          "output_type": "execute_result"
        }
      ],
      "source": [
        "# 将 BasicToolNode 添加到状态图中\n",
        "tool_node = BasicToolNode(tools=[tool])\n",
        "graph_builder.add_node(\"tools\", tool_node)"
      ]
    },
    {
      "cell_type": "markdown",
      "id": "f833a146",
      "metadata": {
        "id": "f833a146"
      },
      "source": [
        "\n",
        "### 5. 添加条件边\n",
        "\n",
        "条件边将控制流从一个节点路由到另一个节点。条件边通常包含 `if` 语句，以根据当前状态将控制流路由到不同的节点。\n",
        "\n",
        "#### 代码解析\n",
        "\n",
        "我们定义一个路由函数 `route_tools`，检查聊天机器人的输出中是否包含工具调用。此函数会在聊天机器人节点完成后检查，决定下一步走向工具节点还是结束对话。\n",
        "\n",
        "1. **`route_tools` 函数**：这是一个路由函数，用来决定机器人在对话流程中的下一步。它会检查状态中的最后一条消息，判断该消息是否包含工具调用请求。\n",
        "   - 如果有工具调用请求（通过 `tool_calls` 属性判断），返回 `\"tools\"`，表示需要执行工具节点。\n",
        "   - 如果没有工具调用请求，则返回 `\"__end__\"`，表示对话流程结束。\n",
        "\n",
        "2. **`add_conditional_edges`**：这是 LangGraph 中用于条件路由的函数。它允许我们根据 `route_tools` 函数的返回值决定下一个要执行的节点。比如：\n",
        "   - 如果返回值是 `\"tools\"`，则执行工具节点。\n",
        "   - 如果返回值是 `\"__end__\"`，则结束流程。\n",
        "\n",
        "3. **`add_edge`**：当工具节点执行完成后，机器人会返回到 `chatbot` 节点继续对话。\n",
        "\n",
        "4. **编译状态图**：最后，使用 `graph_builder.compile()` 编译状态图，生成一个 `CompiledGraph`，这个对象可以实际执行对话流程。"
      ]
    },
    {
      "cell_type": "code",
      "execution_count": 26,
      "id": "fafcaabc",
      "metadata": {
        "colab": {
          "base_uri": "https://localhost:8080/"
        },
        "id": "fafcaabc",
        "outputId": "0c42ba19-52a3-4133-8c70-13225eba4f7e"
      },
      "outputs": [
        {
          "data": {
            "text/plain": [
              "<langgraph.graph.state.StateGraph at 0x79d488b7b850>"
            ]
          },
          "execution_count": 26,
          "metadata": {},
          "output_type": "execute_result"
        }
      ],
      "source": [
        "from typing import Literal\n",
        "\n",
        "# 定义路由函数，检查工具调用\n",
        "def route_tools(\n",
        "    state: State,\n",
        ") -> Literal[\"tools\", \"__end__\"]:\n",
        "    \"\"\"\n",
        "    使用条件边来检查最后一条消息中是否有工具调用。\n",
        "\n",
        "    参数:\n",
        "    state: 状态字典或消息列表，用于存储当前对话的状态和消息。\n",
        "\n",
        "    返回:\n",
        "    如果最后一条消息包含工具调用，返回 \"tools\" 节点，表示需要执行工具调用；\n",
        "    否则返回 \"__end__\"，表示直接结束流程。\n",
        "    \"\"\"\n",
        "    # 检查状态是否是列表类型（即消息列表），取最后一条 AI 消息\n",
        "    if isinstance(state, list):\n",
        "        ai_message = state[-1]\n",
        "    # 否则从状态字典中获取 \"messages\" 键，取最后一条消息\n",
        "    elif messages := state.get(\"messages\", []):\n",
        "        ai_message = messages[-1]\n",
        "    # 如果没有找到消息，则抛出异常\n",
        "    else:\n",
        "        raise ValueError(f\"输入状态中未找到消息: {state}\")\n",
        "\n",
        "    # 检查最后一条消息是否有工具调用请求\n",
        "    if hasattr(ai_message, \"tool_calls\") and len(ai_message.tool_calls) > 0:\n",
        "        return \"tools\"  # 如果有工具调用请求，返回 \"tools\" 节点\n",
        "    return \"__end__\"  # 否则返回 \"__end__\"，流程结束\n",
        "\n",
        "# 添加条件边，判断是否需要调用工具\n",
        "graph_builder.add_conditional_edges(\n",
        "    \"chatbot\",  # 从聊天机器人节点开始\n",
        "    route_tools,  # 路由函数，决定下一个节点\n",
        "    {\n",
        "        \"tools\": \"tools\",\n",
        "        \"__end__\": \"__end__\"\n",
        "    },  # 定义条件的输出，工具调用走 \"tools\"，否则走 \"__end__\"\n",
        ")\n",
        "\n",
        "# 当工具调用完成后，返回到聊天机器人节点以继续对话\n",
        "graph_builder.add_edge(\"tools\", \"chatbot\")\n",
        "\n",
        "# 指定从 START 节点开始，进入聊天机器人节点\n",
        "graph_builder.add_edge(START, \"chatbot\")"
      ]
    },
    {
      "cell_type": "markdown",
      "id": "47bdf00b",
      "metadata": {
        "id": "47bdf00b"
      },
      "source": [
        "\n",
        "### 6. 编译图并可视化\n",
        "\n",
        "使用以下代码可视化构建的状态图：\n",
        "\n"
      ]
    },
    {
      "cell_type": "code",
      "execution_count": 27,
      "id": "8ca50a69-6dcc-4b6d-b9d7-3afedf260d6d",
      "metadata": {
        "id": "8ca50a69-6dcc-4b6d-b9d7-3afedf260d6d"
      },
      "outputs": [],
      "source": [
        "# 编译状态图，生成可执行的流程图\n",
        "graph = graph_builder.compile()"
      ]
    },
    {
      "cell_type": "code",
      "execution_count": 28,
      "id": "e6206f1b",
      "metadata": {
        "colab": {
          "base_uri": "https://localhost:8080/",
          "height": 266
        },
        "id": "e6206f1b",
        "outputId": "8bf9f587-6481-404e-fd14-65256d17d3ef"
      },
      "outputs": [
        {
          "data": {
            "image/png": "[encoded data removed]",
            "text/plain": [
              "<IPython.core.display.Image object>"
            ]
          },
          "metadata": {},
          "output_type": "display_data"
        }
      ],
      "source": [
        "from IPython.display import Image, display\n",
        "\n",
        "try:\n",
        "    display(Image(graph.get_graph().draw_mermaid_png()))\n",
        "except Exception:\n",
        "    pass\n"
      ]
    },
    {
      "cell_type": "markdown",
      "id": "c9f90b11",
      "metadata": {
        "id": "c9f90b11"
      },
      "source": [
        "### 7. 运行图\n",
        "\n",
        "现在，我们可以询问机器人超出其训练数据范围的问题。\n",
        "\n",
        "#### 代码解析\n",
        "\n",
        "1. **`while True` 循环**：\n",
        "   - 这是一个无限循环，用于保持对话的持续进行，直到用户输入退出命令为止。每次用户输入一条消息，系统都会将消息传递给机器人进行处理。\n",
        "\n",
        "2. **用户输入**：\n",
        "   - `input(\"User: \")` 用于从用户处获取输入信息，模拟与机器人对话的场景。\n",
        "   - 如果用户输入的是 `\"quit\"`、`\"exit\"` 或 `\"q\"`，系统将打印 `\"Goodbye!\"` 并退出循环，结束程序。\n",
        "\n",
        "3. **`graph.stream`**：\n",
        "   - `graph.stream({\"messages\": [(\"user\", user_input)]})` 会将用户的输入消息传递给状态图（graph）进行处理，`graph` 会根据流程生成相应的回复。\n",
        "   - `\"messages\": [(\"user\", user_input)]`：这是传递给机器人对话系统的输入消息，表示来自用户的输入内容。\n",
        "\n",
        "4. **遍历 `event.values()`**：\n",
        "   - `graph.stream` 会生成一系列的 `event`，每个 `event` 都包含机器人的响应消息。通过遍历 `event.values()`，我们可以获取每个消息的内容。\n",
        "   - 如果最后一条消息是 `BaseMessage` 类型（机器人回复），则通过 `print(\"Assistant:\", value[\"messages\"][-1].content)` 将机器人的回复输出到控制台。\n",
        "\n",
        "5. **`BaseMessage`**：\n",
        "   - `BaseMessage` 是 LangChain 中的消息类型，用于表示机器人和用户之间的消息。在这里，它用于确认从机器人生成的消息是否符合标准格式。"
      ]
    },
    {
      "cell_type": "code",
      "execution_count": 29,
      "id": "0ddd8960",
      "metadata": {
        "colab": {
          "base_uri": "https://localhost:8080/"
        },
        "id": "0ddd8960",
        "outputId": "3d1af08d-1963-4bd8-b1bf-69806bf53205"
      },
      "outputs": [
        {
          "name": "stdout",
          "output_type": "stream",
          "text": [
            "User: 你是谁？\n"
          ]
        },
        {
          "name": "stderr",
          "output_type": "stream",
          "text": [
            "WARNING:langsmith.client:Failed to send compressed multipart ingest: langsmith.utils.LangSmithAuthError: Authentication failed for https://api.smith.langchain.com/runs/multipart. HTTPError('401 Client Error: Unauthorized for url: https://api.smith.langchain.com/runs/multipart', '{\"error\":\"Unauthorized\"}\\n')trace=1a346ad7-8914-42c2-aeed-bcc1d9bfc133,id=1a346ad7-8914-42c2-aeed-bcc1d9bfc133; trace=1a346ad7-8914-42c2-aeed-bcc1d9bfc133,id=d05bf085-0423-4365-af06-fdfccc6f74fc; trace=1a346ad7-8914-42c2-aeed-bcc1d9bfc133,id=f096b031-6eb2-45c3-804c-9808300119f5\n"
          ]
        },
        {
          "name": "stdout",
          "output_type": "stream",
          "text": [
            "Assistant: 我是一个人工智能助手，旨在提供信息、回答问题和帮助用户解决各种问题。请问有什么我可以帮助你的吗？\n"
          ]
        },
        {
          "name": "stderr",
          "output_type": "stream",
          "text": [
            "WARNING:langsmith.client:Failed to send compressed multipart ingest: langsmith.utils.LangSmithAuthError: Authentication failed for https://api.smith.langchain.com/runs/multipart. HTTPError('401 Client Error: Unauthorized for url: https://api.smith.langchain.com/runs/multipart', '{\"error\":\"Unauthorized\"}\\n')trace=1a346ad7-8914-42c2-aeed-bcc1d9bfc133,id=f096b031-6eb2-45c3-804c-9808300119f5; trace=1a346ad7-8914-42c2-aeed-bcc1d9bfc133,id=535b5493-539a-4831-a5c2-be4dd6e27ab4; trace=1a346ad7-8914-42c2-aeed-bcc1d9bfc133,id=535b5493-539a-4831-a5c2-be4dd6e27ab4; trace=1a346ad7-8914-42c2-aeed-bcc1d9bfc133,id=d05bf085-0423-4365-af06-fdfccc6f74fc; trace=1a346ad7-8914-42c2-aeed-bcc1d9bfc133,id=1a346ad7-8914-42c2-aeed-bcc1d9bfc133\n"
          ]
        },
        {
          "name": "stdout",
          "output_type": "stream",
          "text": [
            "User: 中国1989年6月4日发生了什么事情\n"
          ]
        },
        {
          "name": "stderr",
          "output_type": "stream",
          "text": [
            "WARNING:langsmith.client:Failed to send compressed multipart ingest: langsmith.utils.LangSmithAuthError: Authentication failed for https://api.smith.langchain.com/runs/multipart. HTTPError('401 Client Error: Unauthorized for url: https://api.smith.langchain.com/runs/multipart', '{\"error\":\"Unauthorized\"}\\n')trace=67cdbae1-b479-4aba-8e29-215a246f4578,id=67cdbae1-b479-4aba-8e29-215a246f4578; trace=67cdbae1-b479-4aba-8e29-215a246f4578,id=08da0c52-c081-4c0d-b42a-da92bb701e06; trace=67cdbae1-b479-4aba-8e29-215a246f4578,id=fdc5c18d-064e-4665-8fbd-cae2ece18ca9\n"
          ]
        },
        {
          "name": "stdout",
          "output_type": "stream",
          "text": [
            "Assistant: \n"
          ]
        },
        {
          "name": "stderr",
          "output_type": "stream",
          "text": [
            "WARNING:langsmith.client:Failed to send compressed multipart ingest: langsmith.utils.LangSmithAuthError: Authentication failed for https://api.smith.langchain.com/runs/multipart. HTTPError('401 Client Error: Unauthorized for url: https://api.smith.langchain.com/runs/multipart', '{\"error\":\"Unauthorized\"}\\n')trace=67cdbae1-b479-4aba-8e29-215a246f4578,id=fdc5c18d-064e-4665-8fbd-cae2ece18ca9; trace=67cdbae1-b479-4aba-8e29-215a246f4578,id=f941f7c8-fd07-434b-921e-f835d376678c; trace=67cdbae1-b479-4aba-8e29-215a246f4578,id=f941f7c8-fd07-434b-921e-f835d376678c; trace=67cdbae1-b479-4aba-8e29-215a246f4578,id=08da0c52-c081-4c0d-b42a-da92bb701e06; trace=67cdbae1-b479-4aba-8e29-215a246f4578,id=7a93e730-efb9-455d-85d7-59a722d9d518; trace=67cdbae1-b479-4aba-8e29-215a246f4578,id=b7bca396-fb5b-48fb-baaf-780b5c9fbd1f\n"
          ]
        },
        {
          "name": "stdout",
          "output_type": "stream",
          "text": [
            "Assistant: [{\"title\": \"\\u4e2d\\u5171\\u515a\\u53f2\\u63a9\\u76d6\\u548c\\u6b6a\\u66f2\\u7684\\u91cd\\u5927\\u5386\\u53f2\\u4e8b\\u4ef6(1): \\u516b\\u4e5d\\u516d\\u56db\\u90a3\\u4e00\\u591c - \\u7f8e\\u56fd\\u4e4b\\u97f3\", \"url\": \"https://www.voachinese.com/a/distorted-ccp-history-part-1-Tienanmen-massacre/5908517.html\", \"content\": \"1989\\u5e746\\u67084\\u65e5\\u65e9\\u66686\\u70b925\\u5206\\uff0c\\u5317\\u4eac\\u56fd\\u9645\\u5e7f\\u64ad\\u7535\\u53f0\\u7684\\u4e00\\u5219\\u6d88\\u606f\\u662f\\u8fd9\\u6837\\u5199\\u7684\\uff1a\\u201c\\u8bf7\\u8bb0\\u4f4f1989\\u5e746\\u67083\\u65e5\\u8fd9\\u4e00\\u5929\\uff0c\\u5728\\u4e2d\\u56fd\\u7684\\u9996\\u90fd\\u5317\\u4eac\\u53d1\\u751f\\u4e86\\u6700\\u9a87\\u4eba\\u542c\\u95fb\\u7684\\u60b2\\u5267\\u3002\\u6210\\u5343\\u4e0a\\u4e07\\u7684\\u7fa4\\u4f17\\uff0c\\u5176\\u4e2d\\u5927\\u591a\\u662f\\u65e0\\u8f9c\\u7684\\u5e02\\u6c11\\uff0c\\u88ab\\u5f3a\\u884c\\u5165\\u57ce\\u7684\\u5168\\u526f\\u6b66\\u88c5\\u7684\\u58eb\\u5175\\u6740\\u5bb3\\u3002\\u9047\\u5bb3\\u7684\\u540c\\u80de\\u4e5f\\u5305\\u62ec\\u6211\\u4eec\\u56fd\\u9645\\u5e7f\\u64ad\\u7535\\u53f0\\u7684\\u5de5\\u4f5c\\u4eba\\u5458\\u3002\\u58eb\\u5175\\u9a7e\\u9a76\\u7740\\u5766\\u514b\\u6218\\u8f66\\uff0c\\u7528\\u673a\\u5173\\u67aa\\u5411\\u65e0\\u6570\\u8bd5\\u56fe\\u963b\\u62e6\\u6218\\u8f66\\u7684\\u5e02\\u6c11\\u548c\\u5b66\\u751f\\u626b\\u5c04\\u3002\\u5373\\u4f7f\\u5728\\u5766\\u514b\\u6253\\u5f00\\u901a\\u8def\\u540e\\uff0c\\u58eb\\u5175\\u4eec\\u4ecd\\u7ee7\\u7eed\\u4e0d\\u5206\\u9752\\u7ea2\\u7682\\u767d\\u5730\\u5411\\u8857\\u4e0a\\u7684\\u4eba\\u7fa4\\u5f00\\u67aa\\u5c04\\u51fb\\u3002\\u76ee\\u51fb\\u8005\\u8bf4\\uff0c\\u6709\\u4e9b\\u88c5\\u7532\\u8f66\\u751a\\u81f3\\u8f97\\u6b7b\\u90a3\\u4e9b\\u9762\\u5bf9\\u53cd\\u6297\\u7684\\u7fa4\\u4f17\\u800c\\u72b9\\u8c6b\\u4e0d\\u524d\\u7684\\u6b65\\u5175\\u3002\\u201d\\n\\n\\u5728\\u65b0\\u95fb\\u7a3f\\u7684\\u6700\\u540e\\uff0c\\u8bb0\\u8005\\u5199\\u9053\\uff1a\\u201c\\u4e2d\\u56fd\\u56fd\\u9645\\u5e7f\\u64ad\\u7535\\u53f0\\u82f1\\u8bed\\u90e8\\u6df1\\u6df1\\u5730\\u54c0\\u60bc\\u5728\\u8fd9\\u6b21\\u60b2\\u5267\\u4e2d\\u6b7b\\u96be\\u7684\\u4eba\\u4eec\\uff0c\\u5e76\\u4e14\\u5411\\u6211\\u4eec\\u6240\\u6709\\u7684\\u542c\\u4f17\\u547c\\u5401\\uff1a\\u548c\\u6211\\u4eec\\u4e00\\u8d77\\u6765\\u8c34\\u8d23\\u8fd9\\u79cd\\u65e0\\u803b\\u5730\\u8df5\\u8e0f\\u4eba\\u6743\\u53ca\\u6700\\u91ce\\u86ee\\u7684\\u9547\\u538b\\u4eba\\u6c11\\u7684\\u884c\\u5f84\\u3002\\u201d\\n\\n\\u8fd9\\u521980\\u79d2\\u7684\\u65b0\\u95fb\\u636e\\u4fe1\\u662f\\u552f\\u4e00\\u4e00\\u5219\\u62ab\\u9732\\u201c\\u516d\\u56db\\u201d\\u4e8b\\u4ef6\\u4ee5\\u53ca\\u75db\\u65a5\\u4e2d\\u5171\\u5f53\\u5c40\\u884c\\u5f84\\u7684\\u5b98\\u65b9\\u65b0\\u95fb\\u3002\\u540e\\u6765\\uff0c\\u8fd9\\u5219\\u65b0\\u95fb\\u7684\\u4f5c\\u8005\\u88ab\\u5224\\u5211\\u5165\\u72f1\\u56db\\u5e74\\u3002 [...] 32\\u5e74\\u524d\\u7684\\u4eca\\u591c\\uff0c\\u4e2d\\u5171\\u52a8\\u7528\\u201c\\u4eba\\u6c11\\u7684\\u519b\\u961f\\u201d\\u5c60\\u6740\\u4eba\\u6c11\\uff1b32\\u5e74\\u540e\\uff0c\\u4e0e\\u201c\\u516d\\u56db\\u201d\\u76f8\\u5173\\u7684\\u4eba\\u548c\\u4e8b\\u8fd8\\u7ee7\\u7eed\\u906d\\u53d7\\u6253\\u538b\\u3002\\u5728\\u4e2d\\u56fd\\u5927\\u9646\\uff0c\\u7eaa\\u5ff5\\u201c\\u516d\\u56db\\u201d\\u7684\\u96c6\\u4f53\\u6d3b\\u52a8\\u51e0\\u4e4e\\u7edd\\u8ff9\\uff0c\\u751a\\u81f3\\u6b7b\\u96be\\u8005\\u5bb6\\u5c5e\\u7684\\u79c1\\u4e0b\\u796d\\u5960\\u6d3b\\u52a8\\u4e5f\\u4f1a\\u906d\\u5230\\u5f53\\u5c40\\u7684\\u76d1\\u89c6\\u548c\\u5e72\\u9884\\u3002\\u5728\\u9999\\u6e2f\\uff0c\\u8fd9\\u4e2a\\u66fe\\u662f30\\u5e74\\u4e2d\\u4e2d\\u56fd\\u552f\\u4e00\\u80fd\\u516c\\u5f00\\u4e3e\\u884c\\u96c6\\u4f1a\\u7eaa\\u5ff5\\u516d\\u56db\\u4e8b\\u4ef6\\u7684\\u5730\\u65b9\\uff0c\\u8fde\\u7eed\\u4e24\\u5e74\\uff0c\\u7eaa\\u5ff5\\u201c\\u516d\\u56db\\u201d\\u6b7b\\u96be\\u8005\\u7684\\u96c6\\u4f1a\\u6d3b\\u52a8\\u88ab\\u7981\\u6b62\\u3002\\u6700\\u8fd1\\uff0c\\u9999\\u6e2f\\u5f53\\u5c40\\u66f4\\u4ee5\\u65e0\\u724c\\u7ecf\\u8425\\u8feb\\u4f7f\\u201c\\u516d\\u56db\\u7eaa\\u5ff5\\u9986\\u201d\\u5173\\u95ed\\u3002\\n\\n\\u90a3\\u4e00\\u591c\\uff0c\\u4e2d\\u5171\\u52a8\\u7528\\u673a\\u67aa\\u548c\\u5766\\u514b\\u6b8b\\u6740\\u4eba\\u6c11\\n\\n\\u4e2d\\u56fd\\u5171\\u4ea7\\u515a\\u4ece\\u7f14\\u9020\\u4e4b\\u521d\\u5c31\\u4e00\\u76f4\\u5ba3\\u626c\\u81ea\\u5df1\\u201c\\u59cb\\u7ec8\\u628a\\u4eba\\u6c11\\u5199\\u5728\\u81ea\\u5df1\\u7684\\u65d7\\u5e1c\\u4e0a\\u201d\\uff0c\\u5171\\u4ea7\\u515a\\u4eba\\u4e0e\\u4e2d\\u56fd\\u4eba\\u6c11\\u7684\\u611f\\u60c5\\u662f\\u201c\\u9c7c\\u6c34\\u76f8\\u4f9d\\u201d\\u548c\\u201c\\u8840\\u8089\\u76f8\\u8fde\\u201d\\uff0c\\u519b\\u961f\\u662f\\u201c\\u4eba\\u6c11\\u7684\\u519b\\u961f\\u201d\\uff0c\\u7136\\u800c\\uff0c1989\\u5e746\\u67084\\u65e5\\u51cc\\u6668\\uff0c\\u66f4\\u51c6\\u786e\\u5730\\u8bf4\\uff0c6\\u67083\\u65e5\\u6df1\\u591c\\u8d77\\uff0c\\u4e2d\\u5171\\u547d\\u4ee4\\u519b\\u961f\\u8c03\\u8f6c\\u67aa\\u53e3\\uff0c\\u76f4\\u63a5\\u5bf9\\u51c6\\u4e86\\u6beb\\u65e0\\u88c5\\u5907\\u548c\\u6beb\\u65e0\\u9632\\u5907\\u7684\\u666e\\u901a\\u5e02\\u6c11\\u548c\\u5b66\\u751f\\u3002\\u6570\\u767e\\u540d\\uff0c\\u6570\\u5343\\u540d\\u5b66\\u751f\\u548c\\u5e02\\u6c11\\u5012\\u5728\\u4e86\\u201c\\u4eba\\u6c11\\u7684\\u519b\\u961f\\u201d\\u7684\\u67aa\\u53e3\\u4e4b\\u4e0b\\u3002 [...] 6\\u67083\\u65e5\\u665a\\u5927\\u7ea610\\u65f6\\uff0c\\u4e2d\\u5171\\u5f53\\u5c40\\u53d1\\u5e03\\u7d27\\u6025\\u901a\\u544a\\uff0c\\u5ba3\\u5e03\\u6212\\u4e25\\u90e8\\u961f\\u5c06\\u5f3a\\u884c\\u6e05\\u573a\\uff0c\\u5e76\\u5f3a\\u8c03\\uff0c\\u201c\\u5982\\u9047\\u963b\\u62e6\\uff0c\\u6212\\u4e25\\u90e8\\u961f\\u53ef\\u4ee5\\u91c7\\u53d6\\u5404\\u79cd\\u81ea\\u536b\\u63aa\\u65bd\\u548c\\u4e00\\u5207\\u624b\\u6bb5\\u4e88\\u4ee5\\u6392\\u9664\\u201d\\u3002\\u4ece6\\u67083\\u65e5\\u6df1\\u591c10\\u65f6\\u8d77\\u81f36\\u67084\\u65e5\\u51cc\\u6668\\uff0c\\u8377\\u67aa\\u5b9e\\u5f39\\u7684\\u519b\\u961f\\uff0c\\u5728\\u5766\\u514b\\u548c\\u88c5\\u7532\\u8f66\\u7684\\u6b66\\u88c5\\u4e0b\\uff0c\\u5728\\u5317\\u4eac\\u57ce\\u7684\\u5927\\u7ea6190\\u591a\\u4e2a\\u5730\\u6bb5\\u4e0e\\u624b\\u65e0\\u5bf8\\u94c1\\u7684\\u5b66\\u751f\\u4e0e\\u5e02\\u6c11\\u53d1\\u751f\\u6fc0\\u70c8\\u51b2\\u7a81\\u3002\\n\\n\\u6839\\u636e\\u5386\\u53f2\\u6587\\u732e\\u5b66\\u8005\\uff0c\\u516b\\u4e5d\\u6c11\\u8fd0\\u7684\\u53c2\\u4e0e\\u8005\\u548c\\u89c1\\u8bc1\\u4eba\\u5434\\u4ec1\\u534e\\u7684\\u7814\\u7a76\\uff0c\\u5f53\\u5e74\\u4e2d\\u5171\\u5171\\u8c03\\u96c6\\u4e8619\\u652f\\u90e8\\u961f\\uff0c\\u5dee\\u4e0d\\u591a20\\u4e07\\u540d\\u519b\\u4eba\\uff0c\\u8fdb\\u9a7b\\u5317\\u4eac\\u5b9e\\u65bd\\u201c\\u6212\\u4e25\\u201d\\u3002\\u8fd9\\u5176\\u4e2d\\u5305\\u62ec38\\u519b\\u7b4914\\u4e2a\\u9646\\u519b\\u96c6\\u56e2\\u519b\\u3001\\u7a7a\\u964d\\u5175\\u7b2c15\\u519b\\u3001\\u5929\\u6d25\\u8b66\\u5907\\u533a\\u7684\\u5766\\u514b\\u5e08\\u7b49\\u3002\\n\\n\\u5434\\u4ec1\\u534e\\u5f53\\u5e74\\u4eb2\\u5386\\u4e86\\u4e2d\\u56fd\\u519b\\u961f\\u5bf9\\u5929\\u5b89\\u95e8\\u5e7f\\u573a\\u6b66\\u529b\\u201c\\u6e05\\u573a\\u201d\\u7684\\u5168\\u8fc7\\u7a0b\\u3002\\u4ed6\\u4eb2\\u773c\\u76ee\\u7779\\u4e86\\u4e2d\\u56fd\\u519b\\u4eba\\u5f00\\u5766\\u514b\\u5f53\\u8857\\u6740\\u4eba\\u3002\\n\\n\\u4ed6\\u57282019\\u5e74\\u53c2\\u4e0e\\u7f8e\\u56fd\\u4e4b\\u97f3\\u8282\\u76ee\\u65f6\\u8bf4\\uff1a\\u201c6\\u67084\\u65e56\\u70b9\\u591a\\u949f\\uff0c\\u6211\\u4e0e\\u5927\\u7ea63000\\u540d\\u7684\\u540c\\u5b66\\u64a4\\u79bb\\u5230\\u4e86\\u897f\\u957f\\u5b89\\u8857\\u7684\\u516d\\u90e8\\u53e3\\u3002\\u6211\\u4eec\\u9760\\u5728\\u8def\\u8fb9\\u884c\\u8d70\\uff0c\\u5f53\\u65f6\\u6709\\u4e09\\u8f86\\u5929\\u6d25\\u8b66\\u5907\\u533a\\u7b2c\\u4e00\\u5e08\\u7684\\u5766\\u514b\\u53d1\\u5c04\\u519b\\u7528\\u6bd2\\u6c14\\u5f39\\uff0c\\u5bfc\\u81f4\\u5317\\u4eac\\u5546\\u5b66\\u9662\\u7684\\u4e00\\u540d19\\u5c81\\u7684\\u5973\\u5b66\\u751f\\u9f9a\\u7eaa\\u82b3\\u56e0\\u4e3a\\u5438\\u5165\\u8fc7\\u591a\\u6bd2\\u6c14\\uff0c\\u9020\\u6210\\u547c\\u5438\\u7cfb\\u7edf\\u7cdc\\u70c2\\uff0c\\u540e\\u6765\\u4e0d\\u5e78\\u6b7b\\u4ea1\\u3002 \\u5728\\u90a3\\u4e2a\\u5730\\u65b9\\uff0c\\u4e00\\u8f86\\u7f16\\u53f7106\\u7684\\u5766\\u514b\\u4ece\\u540e\\u9762\\u51b2\\u5165\\u5b66\\u751f\\u961f\\u4f0d\\uff0c\\u5bfc\\u81f411\\u540d\\u5b66\\u751f\\u5f53\\u573a\\u6b7b\\u4ea1\\uff0c\\u53d7\\u4f24\\u8005\\u66f4\\u591a\\u3002\\u201d\", \"score\": 0.8399576}, {\"title\": \"\\u6253\\u5f001989\\u201c\\u5929\\u5b89\\u95e8\\u201d\\u7684\\u65f6\\u5149\\u80f6\\u56ca\", \"url\": \"https://projects.voanews.com/china/anniversary-of-june4th/\", \"content\": \"\\u8fd9\\u662f1989\\u5e746\\u67083\\u65e5\\u665a\\u81f34\\u65e5\\u51cc\\u6668\\uff0c\\u4e2d\\u56fd\\u519b\\u961f\\u5728\\u5317\\u4eac\\u5929\\u5b89\\u95e8\\u5e7f\\u573a\\u6b66\\u529b\\u6e05\\u573a\\u65f6 ... \\u8fd9\\u662f1989\\u5e746\\u67084\\u65e5\\uff0c\\u4e00\\u4f4d\\u76ee\\u7779\\u5929\\u5b89\\u95e8\\u8840\\u6848\\u7684\\u5e7f\\u573a\\u7ea0\\u5bdf\\u961f\\u5458\\u5199\\u4e0b\\u7684\\u62a5\\u544a\\u3002 \\u201c\\u6211\", \"score\": 0.78314424}]\n"
          ]
        },
        {
          "name": "stderr",
          "output_type": "stream",
          "text": [
            "WARNING:langsmith.client:Failed to send compressed multipart ingest: langsmith.utils.LangSmithAuthError: Authentication failed for https://api.smith.langchain.com/runs/multipart. HTTPError('401 Client Error: Unauthorized for url: https://api.smith.langchain.com/runs/multipart', '{\"error\":\"Unauthorized\"}\\n')trace=67cdbae1-b479-4aba-8e29-215a246f4578,id=b7bca396-fb5b-48fb-baaf-780b5c9fbd1f; trace=67cdbae1-b479-4aba-8e29-215a246f4578,id=7a93e730-efb9-455d-85d7-59a722d9d518; trace=67cdbae1-b479-4aba-8e29-215a246f4578,id=66098e3b-de67-44b3-b3ac-ffa60995deda; trace=67cdbae1-b479-4aba-8e29-215a246f4578,id=297b4c23-bc5f-407a-a293-73c5f6dc7e0f\n"
          ]
        },
        {
          "name": "stdout",
          "output_type": "stream",
          "text": [
            "Assistant: 1989年6月4日，中国发生了“天安门事件”，也称为“六四事件”。这场事件起初是由学生发起的，旨在争取民主、言论自由及反腐败。在1989年春季，成千上万的学生和市民集聚在北京天安门广场，进行和平示威。\n",
            "\n",
            "然而，随着示威活动的持续，政府决定采取武力镇压。6月3日至6月4日夜间，军队进入北京市中心，使用武力驱散示威人群，导致大量伤亡。具体的死亡人数至今仍存在争议，估计从几百到几千人不等。\n",
            "\n",
            "此次事件引发了国际社会的广泛关注与谴责，至今仍对中国的政治、社会状况及国际关系产生着深远影响。\n"
          ]
        },
        {
          "name": "stderr",
          "output_type": "stream",
          "text": [
            "WARNING:langsmith.client:Failed to send compressed multipart ingest: langsmith.utils.LangSmithAuthError: Authentication failed for https://api.smith.langchain.com/runs/multipart. HTTPError('401 Client Error: Unauthorized for url: https://api.smith.langchain.com/runs/multipart', '{\"error\":\"Unauthorized\"}\\n')trace=67cdbae1-b479-4aba-8e29-215a246f4578,id=297b4c23-bc5f-407a-a293-73c5f6dc7e0f; trace=67cdbae1-b479-4aba-8e29-215a246f4578,id=37d986a4-308f-4f78-a98b-f58f51287b1a; trace=67cdbae1-b479-4aba-8e29-215a246f4578,id=37d986a4-308f-4f78-a98b-f58f51287b1a; trace=67cdbae1-b479-4aba-8e29-215a246f4578,id=66098e3b-de67-44b3-b3ac-ffa60995deda; trace=67cdbae1-b479-4aba-8e29-215a246f4578,id=67cdbae1-b479-4aba-8e29-215a246f4578\n"
          ]
        },
        {
          "name": "stdout",
          "output_type": "stream",
          "text": [
            "User: 北京和上海哪个好？\n"
          ]
        },
        {
          "name": "stderr",
          "output_type": "stream",
          "text": [
            "WARNING:langsmith.client:Failed to send compressed multipart ingest: langsmith.utils.LangSmithAuthError: Authentication failed for https://api.smith.langchain.com/runs/multipart. HTTPError('401 Client Error: Unauthorized for url: https://api.smith.langchain.com/runs/multipart', '{\"error\":\"Unauthorized\"}\\n')trace=63b1f6b1-3a45-40bd-b569-9f3d51db641e,id=63b1f6b1-3a45-40bd-b569-9f3d51db641e; trace=63b1f6b1-3a45-40bd-b569-9f3d51db641e,id=ad06b12f-3f7e-4127-afa9-048dac299533; trace=63b1f6b1-3a45-40bd-b569-9f3d51db641e,id=0f213d61-72ed-41a7-8439-44431597e028\n"
          ]
        },
        {
          "name": "stdout",
          "output_type": "stream",
          "text": [
            "Assistant: \n"
          ]
        },
        {
          "name": "stderr",
          "output_type": "stream",
          "text": [
            "WARNING:langsmith.client:Failed to send compressed multipart ingest: langsmith.utils.LangSmithAuthError: Authentication failed for https://api.smith.langchain.com/runs/multipart. HTTPError('401 Client Error: Unauthorized for url: https://api.smith.langchain.com/runs/multipart', '{\"error\":\"Unauthorized\"}\\n')trace=63b1f6b1-3a45-40bd-b569-9f3d51db641e,id=0f213d61-72ed-41a7-8439-44431597e028; trace=63b1f6b1-3a45-40bd-b569-9f3d51db641e,id=74c0bd09-5e0f-4f26-a78b-cd56a60b721c; trace=63b1f6b1-3a45-40bd-b569-9f3d51db641e,id=74c0bd09-5e0f-4f26-a78b-cd56a60b721c; trace=63b1f6b1-3a45-40bd-b569-9f3d51db641e,id=ad06b12f-3f7e-4127-afa9-048dac299533; trace=63b1f6b1-3a45-40bd-b569-9f3d51db641e,id=5245b0bb-cf3c-471c-a8a1-cd68e4d54566; trace=63b1f6b1-3a45-40bd-b569-9f3d51db641e,id=1e8c0677-da22-46d5-bf22-6ba7127668c3\n",
            "WARNING:langsmith.client:Failed to send compressed multipart ingest: langsmith.utils.LangSmithAuthError: Authentication failed for https://api.smith.langchain.com/runs/multipart. HTTPError('401 Client Error: Unauthorized for url: https://api.smith.langchain.com/runs/multipart', '{\"error\":\"Unauthorized\"}\\n')trace=63b1f6b1-3a45-40bd-b569-9f3d51db641e,id=1e8c0677-da22-46d5-bf22-6ba7127668c3; trace=63b1f6b1-3a45-40bd-b569-9f3d51db641e,id=868f5895-5a6c-4367-97d1-06741debdcb2\n"
          ]
        },
        {
          "name": "stdout",
          "output_type": "stream",
          "text": [
            "Assistant: [{\"title\": \"\\u5168\\u7403\\u57ce\\u5e02\\u751f\\u6d3b\\u6210\\u672c\\u6392\\u540d\\uff1a\\u9999\\u6e2f\\u7b2c\\u4e00\\u5317\\u4eac\\u4e0a\\u6d77\\u90fd\\u8fdb\\u5165\\u4e86\\u524d10\\u4f4d\", \"url\": \"https://static.cdsb.com/micropub/Articles/201808/57feca40aeab9761a074d98ed442fce2.html\", \"content\": \"\\u4e0a\\u6d77\\u7684\\u751f\\u6d3b\\u6210\\u672c\\u548c\\u5317\\u4eac\\u76f8\\u5dee\\u4e0d\\u5927\\u3002\\u623f\\u79df4500\\u5143\\uff0c\\u5403\\u996d1500\\uff08\\u65e9\\u996d10\\u5143\\uff0c\\u5348\\u996d25\\u5143\\uff0c\\u665a\\u996d15\\u5143\\uff09\\uff0c\\u6c34\\u7535\\u6c14\\u5bbd\\u5e26\\u8d39\\u901a\\u8baf\\u8d39200\\u5143\\uff0c\\u4ea4\\u901a\\u8d39300\\u5143\\uff0c\\u670d\\u88c5\\u548c\\u65e5\\u7528\\u54c1300\\u5143\\uff0c\\u5a31\\u4e50\\u548c\\u793e\\u4ea4200\\u5143\\uff0c\\u7b97\\u4e0b\\u6765\\uff0c\\u4e00\\u4e2a\", \"score\": 0.79522943}, {\"title\": \"35\\u57ce\\u751f\\u6d3b\\u8d28\\u91cf\\u6ee1\\u610f\\u5ea6\\uff1a\\u5317\\u4eac\\u6392\\u7b2c24\\u4f4d\\u751f\\u6d3b\\u6210\\u672c\\u5012\\u6570 - \\u4e2d\\u56fd\\u8bc1\\u5238\\u62a5\", \"url\": \"https://www.cs.com.cn/xwzx/msxf/201306/t20130623_4034224.html\", \"content\": \"... \\u751f\\u6d3b\\u611f\\u53d7\\u6ee1\\u610f\\u5ea6\\u6392\\u7b2c25\\u4f4d\\uff0c\\u751f\\u6d3b\\u6210\\u672c\\u6ee1\\u610f\\u5ea6\\u53ea\\u6392\\u523034\\u4f4d\\uff0c\\u5012\\u6570\\u7b2c\\u4e8c\\u3002\\u6392\\u540d\\u5012\\u6570\\u7b2c\\u4e00\\u7684\\u57ce\\u5e02\\u4e3a\\u4e0a\\u6d77\\u3002 \\u800c\\u5ba2\\u89c2\\u7ecf\\u6d4e\\u6307\\u6570\\u5374\\u663e\\u793a\\u5317\\u4eac\\u6392\\u540d\\u7b2c\\u4e00\\u3002\\u751f\\u6d3b\\u611f\\u53d7\\u6392\\u540d\\u7b2c\\u4e00\", \"score\": 0.7591723}]\n"
          ]
        },
        {
          "name": "stderr",
          "output_type": "stream",
          "text": [
            "WARNING:langsmith.client:Failed to send compressed multipart ingest: langsmith.utils.LangSmithAuthError: Authentication failed for https://api.smith.langchain.com/runs/multipart. HTTPError('401 Client Error: Unauthorized for url: https://api.smith.langchain.com/runs/multipart', '{\"error\":\"Unauthorized\"}\\n')trace=63b1f6b1-3a45-40bd-b569-9f3d51db641e,id=868f5895-5a6c-4367-97d1-06741debdcb2; trace=63b1f6b1-3a45-40bd-b569-9f3d51db641e,id=5245b0bb-cf3c-471c-a8a1-cd68e4d54566; trace=63b1f6b1-3a45-40bd-b569-9f3d51db641e,id=efe11d82-2031-42af-8d8d-7cb81c391f61; trace=63b1f6b1-3a45-40bd-b569-9f3d51db641e,id=9e5eb115-e24e-434a-b017-4bdbba447f6b\n"
          ]
        },
        {
          "name": "stdout",
          "output_type": "stream",
          "text": [
            "Assistant: 在比较北京和上海时，两座城市各有其独特的优势和特点，以下是一些重要的比较点：\n",
            "\n",
            "### 1. 经济和就业\n",
            "- **北京**作为中国的政治和文化中心，吸引了大量高科技和文化方面的企业，尤其在科技、教育和传媒等行业就业机会较多。\n",
            "- **上海**则是中国的经济中心，以其国际化程度和金融、贸易等行业的发达著称，提供了广泛的金融和商业职位。\n",
            "\n",
            "### 2. 生活成本\n",
            "- 根据数据显示，**上海**的住房租金比北京稍高，例如房租约4500元，日常饮食和交通费用相对较为合理。生活成本整体来看，两者相差不大，但上海可能略高。\n",
            "- 在生活品质方面，根据某些调查，虽然两地生活成本相似，但上海的交通和生活服务设施相对更完善。\n",
            "\n",
            "### 3. 文化和教育\n",
            "- **北京**拥有众多历史文化遗产和顶级高等学府，如清华大学、北京大学等，文化氛围浓厚，适合追求传统文化和学术环境的人。\n",
            "- **上海**则以其国际化的文化背景和多元的生活方式受到许多年轻人的青睐，拥有众多的博物馆、艺术展览和中外文化交流活动。\n",
            "\n",
            "### 4. 生活质量\n",
            "- 在生活质量评分中，北京排在24位，而上海则位于35位，这表明在某些生活质量指标上，可能上海的整体居住体验略逊于北京。\n",
            "\n",
            "### 相关链接\n",
            "- [北京和上海的比较分析](http://paper.people.com.cn/rmwz/html/2014-02/01/content_1404426.htm)\n",
            "- [生活成本与质量的深入探讨](https://www.cs.com.cn/xwzx/msxf/201306/t20130623_4034224.html)\n",
            "\n",
            "### 结论\n",
            "选择北京还是上海，主要取决于个人职业发展、生活偏好以及对文化和教育的重视程度。若重视政治、文化和教育，北京可能更为合适；而如果追求经济发展和国际化环境，上海或许是更佳选择。\n"
          ]
        },
        {
          "name": "stderr",
          "output_type": "stream",
          "text": [
            "WARNING:langsmith.client:Failed to send compressed multipart ingest: langsmith.utils.LangSmithAuthError: Authentication failed for https://api.smith.langchain.com/runs/multipart. HTTPError('401 Client Error: Unauthorized for url: https://api.smith.langchain.com/runs/multipart', '{\"error\":\"Unauthorized\"}\\n')trace=63b1f6b1-3a45-40bd-b569-9f3d51db641e,id=9e5eb115-e24e-434a-b017-4bdbba447f6b; trace=63b1f6b1-3a45-40bd-b569-9f3d51db641e,id=399f4f4c-e8d2-472b-bdce-a1f7cd116356; trace=63b1f6b1-3a45-40bd-b569-9f3d51db641e,id=399f4f4c-e8d2-472b-bdce-a1f7cd116356; trace=63b1f6b1-3a45-40bd-b569-9f3d51db641e,id=efe11d82-2031-42af-8d8d-7cb81c391f61; trace=63b1f6b1-3a45-40bd-b569-9f3d51db641e,id=63b1f6b1-3a45-40bd-b569-9f3d51db641e\n"
          ]
        },
        {
          "name": "stdout",
          "output_type": "stream",
          "text": [
            "User: 我本人1999年9月7日12点23分女生出生山东青岛，帮我算算未来事业运恋情等预测我未来走向，运气好不好？\n"
          ]
        },
        {
          "name": "stderr",
          "output_type": "stream",
          "text": [
            "WARNING:langsmith.client:Failed to send compressed multipart ingest: langsmith.utils.LangSmithAuthError: Authentication failed for https://api.smith.langchain.com/runs/multipart. HTTPError('401 Client Error: Unauthorized for url: https://api.smith.langchain.com/runs/multipart', '{\"error\":\"Unauthorized\"}\\n')trace=b1a943ed-d4d3-4bf3-b218-610443da319c,id=b1a943ed-d4d3-4bf3-b218-610443da319c; trace=b1a943ed-d4d3-4bf3-b218-610443da319c,id=0a1726bb-7b05-4dfa-b47c-2c2f6d8d7c5f; trace=b1a943ed-d4d3-4bf3-b218-610443da319c,id=affd401d-c97f-4db2-9296-ba10947bdb38\n"
          ]
        },
        {
          "name": "stdout",
          "output_type": "stream",
          "text": [
            "Assistant: \n"
          ]
        },
        {
          "name": "stderr",
          "output_type": "stream",
          "text": [
            "WARNING:langsmith.client:Failed to send compressed multipart ingest: langsmith.utils.LangSmithAuthError: Authentication failed for https://api.smith.langchain.com/runs/multipart. HTTPError('401 Client Error: Unauthorized for url: https://api.smith.langchain.com/runs/multipart', '{\"error\":\"Unauthorized\"}\\n')trace=b1a943ed-d4d3-4bf3-b218-610443da319c,id=affd401d-c97f-4db2-9296-ba10947bdb38; trace=b1a943ed-d4d3-4bf3-b218-610443da319c,id=b595d876-075d-4df8-85ab-90b65515f3d6; trace=b1a943ed-d4d3-4bf3-b218-610443da319c,id=b595d876-075d-4df8-85ab-90b65515f3d6; trace=b1a943ed-d4d3-4bf3-b218-610443da319c,id=0a1726bb-7b05-4dfa-b47c-2c2f6d8d7c5f; trace=b1a943ed-d4d3-4bf3-b218-610443da319c,id=913ef7d6-2956-43f6-9df9-542af4f242ba; trace=b1a943ed-d4d3-4bf3-b218-610443da319c,id=11d4ea60-f0b7-4af2-a197-5f0d3200ec30\n"
          ]
        },
        {
          "name": "stdout",
          "output_type": "stream",
          "text": [
            "Assistant: [{\"title\": \"1999\\u5e749\\u67087\\u65e5(23\\u70b9)\\u665a\\u5b50\\u65f6\\u51fa\\u751f\\u4eba\\u7684\\u516b\\u5b57\\u683c\\u5c40 - \\u5468\\u516c\\u89e3\\u68a6\", \"url\": \"http://m.zhaoyuntang.com/cesuan/bazigeju-1999-9-7-23.htm\", \"content\": \"| \\u51fa\\u751f\\u5e74\\u6708\\u65e5\\u65f6\\uff1a | (\\u516c\\u5386) | 1999\\u5e74 | 9\\u6708 | 7\\u65e5 | 23\\u70b9 | \\u6b64\\u547d\\u4e94\\u884c\\u6c34\\u65fa\\u7f3a\\u706b\\uff1b\\u65e5\\u4e3b\\u5929\\u5e72\\u4e3a\\u6c34\\uff0c\\u751f\\u4e8e\\u51ac\\u5b63\\uff1b\\u5fc5\\u987b\\u6709\\u6728\\u52a9\\uff0c\\u4f46\\u5fcc\\u706b\\u592a\\u591a\\u3002\\uff08\\u53d6\\u540d\\u65f6\\u53ef\\u6839\\u636e\\u4ee5\\u4e0a\\u60c5\\u51b5\\u8fdb\\u884c\\u76f8\\u5e94\\u7ea0\\u504f\\u8865\\u7f3a\\uff09\\n(\\u519c\\u5386) | \\u5df1\\u536f\\u5e74 | \\u4e03\\u6708 | \\u5eff\\u516b | \\u5b50\\u65f6\\n\\u516b\\u5b57\\uff1a | \\u5df1\\u536f | \\u58ec\\u7533 | \\u7678\\u4ea5 | \\u58ec\\u5b50\\n\\u4e94\\u884c\\uff1a | \\u571f\\u6728 | \\u6c34\\u91d1 | \\u6c34\\u6c34 | \\u6c34\\u6c34 | \\u91cd\\u8981\\u8bf4\\u660e\\uff1a\\u672c\\u7ed3\\u679c\\u4e3a\\u7cfb\\u7edf\\u81ea\\u52a8\\u5206\\u6790\\uff0c\\u4ec5\\u4f9b\\u53c2\\u8003\\uff0c\\u516b\\u5b57\\u7f3a\\u4ec0\\u4e48\\u9700\\u8865\\u4ec0\\u4e48\\uff0c\\u5177\\u4f53\\u5e94\\u7531\\u4e13\\u4e1a\\u8001\\u5e08\\u5206\\u6790\\uff01\\n\\u7eb3\\u97f3\\uff1a | \\u57ce\\u5899\\u571f | \\u5251\\u950b\\u91d1 | \\u5927\\u6d77\\u6c34 | \\u6851\\u677e\\u6728\\n\\u4e94\\u884c\\u751f\\u514b\\u5236\\u5316\\u5b9c\\u5fcc | \\u6c34\\u65fa\\u5f97\\u571f, \\u65b9\\u6210\\u6c60\\u6cbc.\\u6c34\\u80fd\\u751f\\u6728, \\u6728\\u591a\\u6c34\\u7f29; \\u5f3a\\u6c34\\u5f97\\u6728, \\u65b9\\u6cc4\\u5176\\u52bf.\\u6c34\\u80fd\\u514b\\u706b, \\u706b\\u591a\\u6c34\\u5e72; \\u706b\\u5f31\\u9047\\u6c34, \\u5fc5\\u4e0d\\u7184\\u706d.\\u6c34\\u8d56\\u91d1\\u751f, \\u91d1\\u591a\\u6c34\\u6d4a; \\u91d1\\u80fd\\u751f\\u6c34, \\u6c34\\u591a\\u91d1\\u6c89.\\n\\u4e94\\u884c\\u4e4b\\u6027 | \\u6c34\\u4e3b\\u667a, \\u5176\\u6027\\u806a, \\u5176\\u60c5\\u5584, \\u5176\\u5473\\u54b8, \\u5176\\u8272\\u9ed1.\\u6c34\\u65fa\\u4e4b\\u4eba\\u9762\\u9ed1\\u6709\\u91c7, \\u8bed\\u8a00\\u6e05\\u548c,\\u4e3a\\u4eba\\u6df1\\u601d\\u719f\\u8651, \\u8db3\\u667a\\u591a\\u8c0b, \\u5b66\\u8bc6\\u8fc7\\u4eba.\\u592a\\u8fc7\\u5219\\u597d\\u8bf4\\u662f\\u975e, \\u98d8\\u8361\\u8d2a\\u6deb.\\u4e0d\\u53ca\\u5219\\u4eba\\u7269\\u77ed\\u5c0f, \\u6027\\u60c5\\u65e0\\u5e38, \\u80c6\\u5c0f\\u65e0\\u7565, \\u884c\\u4e8b\\u53cd\\u8986.\", \"score\": 0.850382}, {\"title\": \"1999\\u5e7409\\u670807\\u65e5\\u51fa\\u751f\\u7684\\u4eba\\u7684\\u6027\\u683c\\u547d\\u8fd0-\\u516c\\u5386\\u751f\\u65e5 - \\u514d\\u8d39\\u7b97\\u547d\", \"url\": \"http://m-mfsm.kvov.com/fx/1999-09-07/\", \"content\": \"\\u559c\\u6b22\\u97f3\\u4e50\\u3001\\u6b4c\\u821e\\u3001\\u4e0d\\u559c\\u6b22\\u4e89\\u7eb7\\u3001\\u575a\\u5f3a\\u6709\\u4e3b\\u89c1\\uff0c\\u5bf9\\u4eba\\u4e25\\u5389\\uff0c\\u8a00\\u8f9e\\u5c16\\u9510\\uff0c\\u6613\\u6307\\u8d23\\u522b\\u4eba\\u60f9\\u8d77\\u618e\\u6068\\u3001\\u662f\\u975e\\u3002\\u6545\\u610f\\u8c28\\u8a00\\u614e\\u884c\\u3002\\u559c\\u6b22\\u5e2e\\u52a9\\u522b\\u4eba\\uff0c\\u559c\\u6b22\\u4e58\\u8f66\\uff0c\\u65c5\\u6e38\\u5404\\u5730\\u3002\\u7537\\u6027\\u5e74\\u8f7b\\u65f6\\u4e0d\\u5927\\u987a\\u5229\\uff0c\\u4e2d\\u5e74\\u671f\\u4e8b\\u4e1a\\u57fa\\u7840\\u548c\\u5b9e\\u529b\\u7a33\\u5b9a\\u4e0b\\u6765\\uff0c\\u53d7\\u4eba\\u5c0a\\u91cd\\uff0c\\u53ef\\u4ee5\\u6210\\u4e3a\\u4e13\\u4e1a\\u4eba\\u624d\\u3001\\u6743\\u5a01\\u3002\\u82e5\\u80fd\\u820d\\u5f03\\u529f\\u5229\\u60f3\\u6cd5\\uff0c\\u57cb\\u9996\\u793e\\u4f1a\\u670d\\u52a1\\u4e8b\\u4e1a\\u5fc5\\u6709\\u6210\\u5c31\\u3002\\u6700\\u76db\\u671f\\u4e3a\\u4e2d\\u665a\\u5e74\\u3002\\u5973\\u6027\\u4e5f\\u6709\\u7684\\u5e74\\u8f7b\\u65f6\\u5c31\\u5df2\\u6709\\u5c0f\\u6210\\u5c31\\uff0c\\u4e2d\\u5e74\\u540e\\u8fc8\\u5165\\u6700\\u76db\\u65f6\\u3002\\u5a5a\\u540e\\u6210\\u4e3a\\u5f88\\u8d24\\u60e0\\u7684\\u5bb6\\u5ead\\u4e3b\\u5987\\u3002\\u53ef\\u5728\\u5916\\u56fd\\u53d1\\u5c55\\u6709\\u6536\\u83b7\\u3002\\u66f4\\u591a\\u63a8\\u65ad\\u4f9d\\u636e\\uff1a\\u7ffc\\u5bbf (7\\u670828\\u65e5)\\n\\u661f\\u5ea7\\u751f\\u547d\\u7075\\u6570\\n\\u4f60\\u662f\\u6bd4\\u8f83\\u5706\\u6ed1\\u7684\\u4eba\\uff0c\\u5f88\\u4e86\\u89e3\\u4eba\\u9645\\u4e0a\\u7684\\u4ea4\\u6d41\\u8981\\u5982\\u4f55\\u4e92\\u52a8\\u3002\\u63a8\\u65ad\\u4f9d\\u636e:\\u516c\\u53861999\\u5e749\\u67087\\u65e5\\u51fa\\u751f\\ndo the first, and then do what like. [...] 1999-09-07\\uff08\\u66f4\\u6539\\u65f6\\u95f4\\uff09\\u65e5\\u51fa\\u751f\\u7b97\\u547d\\u4fe1\\u606f\\n\\u51fa\\u6797\\u4e4b\\u5154\\uff08\\u7eb3\\u97f3\\uff09\\uff0c\\u4e00\\u751f\\u8863\\u98df\\u81ea\\u7136\\u6709\\uff0c\\u4e0d\\u53d7\\u4eba\\u6b3a\\uff0c\\u59bb\\u5b9c\\u5e74\\u957f\\uff0c\\u5973\\u4eba\\u5584\\u826f\\u4f18\\u8d24\\u3002\\u63a8\\u65ad\\u4f9d\\u636e\\uff1a\\u5df1\\u536f\\u5e74\\u51fa\\u751f\\n\\u4e03\\u6708\\u51fa\\u751f\\u7684\\u4eba\\uff0c\\u524d\\u5e74\\u5341\\u6708\\u53d7\\u80ce\\uff0c\\u7acb\\u79cb\\u8282\\u540e\\u51fa\\u751f\\uff0c\\u4e3a\\u4eba\\u5b85\\u5fc3\\u4ec1\\u539a\\uff0c\\u5916\\u521a\\u800c\\u5185\\u67d4\\uff0c\\u5c5e\\u9634\\u67d4\\u4e4b\\u547d\\uff0c\\u610f\\u5fd7\\u575a\\u56fa\\uff0c\\u4f5c\\u4e8b\\u59cb\\u7ec8\\uff0c\\u521d\\u9650\\u4e00\\u822c\\uff0c\\u5fcc\\u65e9\\u5a5a\\uff0c\\u5426\\u5219\\u5a5a\\u59fb\\u6613\\u6563\\uff0c\\u4e14\\u5b50\\u5973\\u7f18\\u8584\\uff0c\\u4e00\\u751f\\u6027\\u60c5\\u590d\\u6742\\uff0c\\u8fd0\\u7a0b\\u6d6e\\u6e38\\u4e0d\\u5b9a\\uff0c\\u5fc3\\u5e95\\u6148\\u5584\\uff0c\\u505a\\u4e8b\\u4ed4\\u7ec6\\uff0c\\u4e2d\\u5e74\\u540e\\u6e10\\u80fd\\u5f00\\u6cf0\\u5b88\\u6210\\uff0c\\u8863\\u98df\\u6709\\u4f59\\uff0c\\u665a\\u5e74\\u5bb6\\u8fd0\\u53ef\\u535c\\u7545\\u901a\\uff0c\\u8d22\\u6e90\\u5927\\u65fa\\uff0c\\u672a\\u9650\\u8212\\u6cf0\\u4e4b\\u547d\\u3002\\u63a8\\u65ad\\u4f9d\\u636e\\uff1a\\u7533\\u6708\\u51fa\\u751f\\n\\u5a5a\\u59fb\\u8fd0\\u52bf\\u591a\\u6709\\u6ce2\\u6298\\uff0c\\u65e9\\u5a5a\\u8005\\u547d\\u4e2d\\u591a\\u6709\\u4e0d\\u5409\\uff0c\\u82e5\\u80fd\\u665a\\u5a5a\\uff0c\\u5219\\u53ef\\u83b7\\u5f97\\u5e73\\u548c\\u6e29\\u987a\\u7684\\u592b\\u59bb\\u751f\\u6d3b\\u3002\\u6574\\u4f53\\u5927\\u8fd0\\u65b9\\u9762\\ufe30\\u5e7c\\u5e74\\u65f6\\u671f\\u8eab\\u4f53\\u8f83\\u5dee\\uff0c\\u5bb9\\u6613\\u7f79\\u60a3\\u75be\\u75c5\\uff1b\\u9752\\u5e74\\u65f6\\u671f\\u8fd0\\u52bf\\u8f83\\u5dee\\uff0c\\u5bb6\\u65cf\\u4eb2\\u7f18\\u6de1\\u8584\\uff0c\\u6765\\u81ea\\u4eb2\\u621a\\u670b\\u53cb\\u6216\\u5bb6\\u4eba\\u7684\\u52a9\\u529b\\u5c11\\uff0c\\u591a\\u534a\\u5fc5\\u987b\\u4ef0\\u8d56\\u81ea\\u5df1\\u8f9b\\u52b3\\u81ea\\u7acb\\uff0c\\u624d\\u80fd\\u83b7\\u53d6\\u6210\\u679c\\u3002\\u4e2d\\u5e74\\u4e4b\\u65f6\\uff0c\\u8fd0\\u52bf\\u9010\\u6e10\\u597d\\u8f6c\\uff0c\\u4e8b\\u4e1a\\u53ca\\u8d22\\u52a1\\u6536\\u5165\\u90fd\\u6709\\u4e0a\\u626c\\u7684\\u8d8b\\u52bf\\uff0c\\u6b64\\u65f6\\u671f\\u6240\\u7d2f\\u79ef\\u7684\\u8d22\\u5bcc\\uff0c\\u5e94\\u4ee5\\u81ea\\u5df1\\u8e0f\\u5b9e\\u52aa\\u529b\\u6240\\u5f97\\u4e3a\\u4f73\\uff0c\\u800c\\u4e0d\\u8981\\u8d2a\\u6c42\\u4e0d\\u5207\\u5b9e\\u9645\\u7684\\u6295\\u8d44\\u83b7\\u5229\\u6216\\u4ed6\\u4eba\\u4e4b\\u7269\\u3002\\u665a\\u5e74\\u8fd0\\u52bf\\u5e73\\u987a\\uff0c\\u751f\\u6d3b\\u4e30\\u8db3\\u65e0\\u5fe7\\uff0c\\u53ef\\u4ee5\\u8bf4\\u662f\\u8d22\\u5229\\u5bcc\\u8db3\\u7684\\u547d\\u683c\\u3002\\u63a8\\u65ad\\u4f9d\\u636e\\uff1a28\\u65e5\\u51fa\\u751f\\n\\u751f\\u8096\\r\\n\\t\\t\\t\\t\\t\\t\\t\\t\\t\\u5154(\\u672c\\u547d\\u4f5b\\uff1a\\u6587\\u6b8a\\u83e9\\u8428) \\u5904\\u5973\\u5ea7\\uff0c\\u661f\\u5ea7\\u7b97\\u547d [...] \\u806a\\u6167\\u7684\\u5934\\u8111\\uff0c\\u5de5\\u4f5c\\u80fd\\u529b\\u5f3a\\uff0c\\u7acb\\u573a\\u575a\\u5b9a\\uff0c\\u5177\\u6709\\u9886\\u5bfc\\u7684\\u98ce\\u8303\\u3002\\u5177\\u6709\\u53cc\\u91cd\\u6027\\u683c\\uff0c\\u8ffd\\u6c42\\u5b8c\\u7f8e\\u7684\\u4eba\\u751f\\uff0c\\u5076\\u5c14\\u6709\\u4e9b\\u654f\\u611f\\uff0c\\u6709\\u5e72\\u6d89\\u4ed6\\u4eba\\u4e8b\\u52a1\\u7684\\u503e\\u5411\\u3002\\u9700\\u8981\\u6291\\u5236\\u81ea\\u5df1\\u7684\\u4e0d\\u826f\\u4e60\\u60ef\\uff0c\\u53ef\\u80fd\\u4f60\\u4f1a\\u56e0\\u6b64\\u906d\\u53d7\\u8bef\\u4f1a\\u548c\\u5931\\u671b\\uff0c\\u7ba1\\u597d\\u81ea\\u5df1\\u7684\\u4e8b\\u60c5\\u5c31\\u53ef\\u4ee5\\u4e86\\u3002\\u66f4\\u591a\\u63a8\\u65ad\\u4f9d\\u636e\\uff1a\\u9633\\u5386 9\\u6708 7\\u65e5\\n\\u4e09\\u4e16\\u4e66\\u8d22\\u8fd0\\u5206\\u6790\\uff0c\\u5171\\u5341\\u4e8c\\u79cd\\n\\u5954\\u6ce2\\u52b3\\u788c\\u6027\\u683c\\u4f18\\u67d4\\u5be1\\u65ad\\uff0c\\u60f3\\u505a\\u53c8\\u4e0d\\u591f\\u52c7\\u6c14\\uff0c\\u5230\\u4e0b\\u5b9a\\u51b3\\u5fc3\\u65f6\\u53c8\\u4e3a\\u65f6\\u5df2\\u665a\\uff0c\\u56e0\\u800c\\u5728\\u5e74\\u8f7b\\u65f6\\u9519\\u8fc7\\u4e0d\\u5c11\\u53d1\\u8fbe\\u673a\\u4f1a\\uff0c\\u800c\\u534a\\u751f\\u5954\\u6ce2\\u3002\\u5e94\\u5b66\\u4e00\\u95e8\\u6280\\u80fd\\u508d\\u8eab\\uff0c\\u52aa\\u529b\\u5de5\\u4f5c\\u81ea\\u7136\\u4f1a\\u8863\\u98df\\u65e0\\u5fe7\\u3002\\u505a\\u4e8b\\u5f3a\\u51fa\\u5934\\uff0c\\u6709\\u8d22\\u5374\\u53ea\\u662f\\u70df\\u4e91\\u8fc7\\uff0c\\u4e00\\u751f\\u4e03\\u843d\\u516b\\u8d77 \\uff0c\\u5230\\u665a\\u5e74\\u53ef\\u5f97\\u4e07\\u8d2f\\u8d22\\u3002\\u524d\\u4e16\\u547d\\u5b9a\\uff1a\\u5c45\\u9053\\u8863\\u7984\\u591a\\u3001\\u5371\\u7984\\u547d\\u5982\\u4f55\\u3001\\u51fa\\u5bb6\\u65b9\\u4e3a\\u5999\\u3001\\u4e00\\u751f\\u4f5b\\u524d\\u62dc\\u3002\\u73b0\\u4e16\\u6258\\u5316\\uff1a\\u5bb6\\u65cf\\u7f18\\u8584\\u516d\\u4eb2\\u758f\\uff0c\\u79bb\\u7956\\u548c\\u4e1a\\u65b9\\u4e3a\\u5999 \\uff0c\\u7530\\u56ed\\u6258\\u5316\\u7984\\u6709\\u4f59\\uff0c\\u53d1\\u798f\\u53d1\\u8d35\\u8d22\\u5faa\\u6765\\u3002\\u5f71\\u54cd\\u4eca\\u4e16\\uff1a\\u73b0\\u4e16\\u4e3a\\u4eba\\u8bda\\u5b9e\\u3001\\u79bb\\u7956\\u521b\\u4e1a\\u6700\\u5b9c\\u3001\\u5973\\u4eba\\u8d24\\u826f\\u65fa\\u592b\\u3002\\u65e9\\u5e74\\u8d22\\u7269\\u4e0d\\u805a\\uff0c\\u665a\\u5e74\\u5174\\u9686\\uff0c\\u4e00\\u751f\\u5229\\u5b98\\u8fd1\\u8d35\\u3001\\u5bb6\\u9053\\u5174\\u5b81\\u8863\\u98df\\u8db3\\u7528\\u3002\\u524d\\u4e16\\u4eca\\u751f\\uff1a\\u524d\\u4e16\\u5154\\u5316\\u73b0\\u4e16\\u9e21\\uff0c\\u4e09\\u5341\\u516d\\u5c81\\u663e\\u8eab\\u624b\\uff0c\\u8d22\\u6e90\\u6eda\\u6eda\\u5e94\\u5929\\u673a\\uff0c\\u4e00\\u751f\\u900d\\u9065\\u4e16\\u95f4\\u7a00\\u3002\\u63a8\\u65ad\\u4f9d\\u636e\\uff1a\\u715e\\u7984 7\\u6708 1999\\u5e74\\n\\u4e8c\\u5341\\u516b\\u661f\\u5bbf\\u5409\\u51f6\\u5206\\u6790\", \"score\": 0.8467682}]\n"
          ]
        },
        {
          "name": "stderr",
          "output_type": "stream",
          "text": [
            "WARNING:langsmith.client:Failed to send compressed multipart ingest: langsmith.utils.LangSmithAuthError: Authentication failed for https://api.smith.langchain.com/runs/multipart. HTTPError('401 Client Error: Unauthorized for url: https://api.smith.langchain.com/runs/multipart', '{\"error\":\"Unauthorized\"}\\n')trace=b1a943ed-d4d3-4bf3-b218-610443da319c,id=11d4ea60-f0b7-4af2-a197-5f0d3200ec30; trace=b1a943ed-d4d3-4bf3-b218-610443da319c,id=913ef7d6-2956-43f6-9df9-542af4f242ba; trace=b1a943ed-d4d3-4bf3-b218-610443da319c,id=7ee06bf8-8cea-4c7d-b16f-ebd4908969bc; trace=b1a943ed-d4d3-4bf3-b218-610443da319c,id=ad7bf040-dfca-4648-85ba-f5431c233322\n"
          ]
        },
        {
          "name": "stdout",
          "output_type": "stream",
          "text": [
            "Assistant: 根据你提供的出生信息（1999年9月7日12点23分，山东青岛），我为你找到了相关的命理分析和预测。以下是一些要点：\n",
            "\n",
            "1. **性格特点**：\n",
            "   - 你出生在一个水元素较强的年份，通常与情感丰富、直觉敏锐有关。你可能对他人的情感反应非常敏感，具有较强的同感能力。\n",
            "   - 这一天出生的人通常精力充沛，有主见，总是想要帮助他人，但有时过于在意别人的感受。\n",
            "   - 你对音乐和艺术有较强的兴趣，可能会在这方面表现出色。\n",
            "\n",
            "2. **事业运势**：\n",
            "   - 中年时期，你的工作和事业可能会经历较大的发展，一旦找到合适的方向，很可能会有不错的收获。\n",
            "   - 建议选择与沟通、艺术、服务相关的职业领域，这将帮助你突出自己的能力并获得认可。\n",
            "\n",
            "3. **感情运势**：\n",
            "   - 在爱情方面，你可能会有多次的恋爱经历。幸福的婚姻生活会在你成熟后逐渐到来。\n",
            "   - 早期可能会经历一些挫折，但这些经历将帮助你更好地理解自己和他人，从而在未来的关系中更为成熟和稳定。\n",
            "\n",
            "4. **运气走势**：\n",
            "   - 你的运气在年轻时可能起伏较大，但随着年龄的增长，尤其是在30岁以后，将逐步稳定并向好发展。\n",
            "   - 注意保持积极的心态，社交圈的拓展和人际关系的维护会在你的运势上起到积极的推动作用。\n",
            "\n",
            "总的来说，未来的发展趋势良好，只要你保持积极向上、努力进取，就能够在事业和爱情中获得成功。请记得，命理分析仅供参考，实际情况还需结合自己的努力去实现。\n"
          ]
        },
        {
          "name": "stderr",
          "output_type": "stream",
          "text": [
            "WARNING:langsmith.client:Failed to send compressed multipart ingest: langsmith.utils.LangSmithAuthError: Authentication failed for https://api.smith.langchain.com/runs/multipart. HTTPError('401 Client Error: Unauthorized for url: https://api.smith.langchain.com/runs/multipart', '{\"error\":\"Unauthorized\"}\\n')trace=b1a943ed-d4d3-4bf3-b218-610443da319c,id=ad7bf040-dfca-4648-85ba-f5431c233322; trace=b1a943ed-d4d3-4bf3-b218-610443da319c,id=1fa95f64-1985-4452-849f-93b12c28cbd4; trace=b1a943ed-d4d3-4bf3-b218-610443da319c,id=1fa95f64-1985-4452-849f-93b12c28cbd4; trace=b1a943ed-d4d3-4bf3-b218-610443da319c,id=7ee06bf8-8cea-4c7d-b16f-ebd4908969bc; trace=b1a943ed-d4d3-4bf3-b218-610443da319c,id=b1a943ed-d4d3-4bf3-b218-610443da319c\n"
          ]
        },
        {
          "name": "stdout",
          "output_type": "stream",
          "text": [
            "User: 我未来老公是啥样的会出轨吗？\n"
          ]
        },
        {
          "name": "stderr",
          "output_type": "stream",
          "text": [
            "WARNING:langsmith.client:Failed to send compressed multipart ingest: langsmith.utils.LangSmithAuthError: Authentication failed for https://api.smith.langchain.com/runs/multipart. HTTPError('401 Client Error: Unauthorized for url: https://api.smith.langchain.com/runs/multipart', '{\"error\":\"Unauthorized\"}\\n')trace=511db2be-46b0-43d9-bdf2-5ea5798463a0,id=511db2be-46b0-43d9-bdf2-5ea5798463a0; trace=511db2be-46b0-43d9-bdf2-5ea5798463a0,id=62533880-d424-4106-bebc-56bb601b4ccb; trace=511db2be-46b0-43d9-bdf2-5ea5798463a0,id=2ac5267d-8a7e-4aeb-828b-1706af5df7bf\n"
          ]
        },
        {
          "name": "stdout",
          "output_type": "stream",
          "text": [
            "Assistant: \n"
          ]
        },
        {
          "name": "stderr",
          "output_type": "stream",
          "text": [
            "WARNING:langsmith.client:Failed to send compressed multipart ingest: langsmith.utils.LangSmithAuthError: Authentication failed for https://api.smith.langchain.com/runs/multipart. HTTPError('401 Client Error: Unauthorized for url: https://api.smith.langchain.com/runs/multipart', '{\"error\":\"Unauthorized\"}\\n')trace=511db2be-46b0-43d9-bdf2-5ea5798463a0,id=2ac5267d-8a7e-4aeb-828b-1706af5df7bf; trace=511db2be-46b0-43d9-bdf2-5ea5798463a0,id=5d76f4e5-bded-459c-af2f-3939a3339ca0; trace=511db2be-46b0-43d9-bdf2-5ea5798463a0,id=5d76f4e5-bded-459c-af2f-3939a3339ca0; trace=511db2be-46b0-43d9-bdf2-5ea5798463a0,id=62533880-d424-4106-bebc-56bb601b4ccb; trace=511db2be-46b0-43d9-bdf2-5ea5798463a0,id=50e70dc8-e91c-4a44-a5c2-f5dd5d6e7f25; trace=511db2be-46b0-43d9-bdf2-5ea5798463a0,id=397d00b3-e5c9-4785-b6d1-cebb008e7efc\n"
          ]
        },
        {
          "name": "stdout",
          "output_type": "stream",
          "text": [
            "Assistant: [{\"title\": \"4\\u79cd\\u65b9\\u6cd5\\u5e2e\\u4f60\\u5224\\u65ad\\u4f34\\u4fa3\\u662f\\u5426\\u7cbe\\u795e\\u51fa\\u8f68\\uff01 - \\u7f51\\u6613\", \"url\": \"https://www.163.com/dy/article/CTGLE2PO0518L37N.html\", \"content\": \"1.\\u60f3\\u60f3\\u4f34\\u4fa3\\u662f\\u4e0d\\u662f\\u4e0d\\u518d\\u548c\\u4f60\\u5206\\u4eab\\u5fc3\\u4e8b\\u4e86\\u3002\\u5982\\u679c\\u4e00\\u4e2a\\u4eba\\u79fb\\u60c5\\u522b\\u604b\\u4e86\\uff0c\\u81ea\\u7136\\u4f1a\\u5411\\u90a3\\u4e2a\\u4eba\\u8bc9\\u8bf4\\u81ea\\u5df1\\u7684\\u5fc3\\u4e8b\\uff0c\\u4e0e\\u522b\\u4eba\\u5206\\u4eab\\u4ed6\\u7684\\u5e0c\\u5180\\u3001\\u68a6\\u60f3\\u3001\\u62c5\\u5fe7\\u6216\\u662f\\u6210\\u529f\\u7684\\u559c\\u60a6\\u3002 \\u00b7 2.\\u5224\\u65ad\\u5e8a\\u4e8b\", \"score\": 0.769098}, {\"title\": \"\\u5982\\u4f55\\u5224\\u65ad\\u5bf9\\u65b9\\u662f\\u5426\\u5bb9\\u6613\\u51fa\\u8f68\\u5462\\uff1f - \\u95ee\\u5c0f\\u767d\", \"url\": \"https://www.wenxiaobai.com/api/expends/detail?article=cf61f3b0-b7b8-4e7d-bb50-16a4c68872ff\", \"content\": \"\\u9996\\u5148\\uff0c\\u6211\\u4eec\\u53ef\\u4ee5\\u4ece\\u4e00\\u4e2a\\u4eba\\u7684\\u5bb6\\u5ead\\u80cc\\u666f\\u6765\\u5224\\u65ad\\u3002\\u5982\\u679c\\u4e00\\u4e2a\\u4eba\\u6210\\u957f\\u4e8e\\u4e00\\u4e2a\\u7537\\u5c0a\\u5973\\u5351\\u3001\\u7236\\u4eb2\\u591a\\u6b21\\u51fa\\u8f68\\u7684\\u5bb6\\u5ead\\uff0c\\u90a3\\u4e48\\u4ed6\\u51fa\\u8f68\\u7684\\u53ef\\u80fd\\u6027\\u4f1a\\u66f4\\u9ad8\\u3002\\u539f\\u751f\\u5bb6\\u5ead\\u5bf9\\u4e00\\u4e2a\\u4eba\\u7684\\u4ef7\\u503c\\u89c2\\u548c\\u884c\\u4e3a\", \"score\": 0.73755574}]\n"
          ]
        },
        {
          "name": "stderr",
          "output_type": "stream",
          "text": [
            "WARNING:langsmith.client:Failed to send compressed multipart ingest: langsmith.utils.LangSmithAuthError: Authentication failed for https://api.smith.langchain.com/runs/multipart. HTTPError('401 Client Error: Unauthorized for url: https://api.smith.langchain.com/runs/multipart', '{\"error\":\"Unauthorized\"}\\n')trace=511db2be-46b0-43d9-bdf2-5ea5798463a0,id=397d00b3-e5c9-4785-b6d1-cebb008e7efc; trace=511db2be-46b0-43d9-bdf2-5ea5798463a0,id=50e70dc8-e91c-4a44-a5c2-f5dd5d6e7f25; trace=511db2be-46b0-43d9-bdf2-5ea5798463a0,id=eba53c9b-7920-4264-b47f-d63bf1cf0923; trace=511db2be-46b0-43d9-bdf2-5ea5798463a0,id=fd66f505-2e3a-409d-a398-9bab5146fbf3\n"
          ]
        },
        {
          "name": "stdout",
          "output_type": "stream",
          "text": [
            "Assistant: 要判断未来的伴侣是否可能出轨，可以考虑以下几个方面：\n",
            "\n",
            "1. **家庭背景**：伴侣的家庭背景可能影响他们的情感忠诚度。例如，成长在父母多次出轨的环境中，可能使他们对忠诚的看法产生影响。\n",
            "\n",
            "2. **沟通能力**：健康的关系需要良好的沟通。如果伴侣在情感上不愿意分享自己的想法和感受，可能存在潜在的出轨风险。\n",
            "\n",
            "3. **情感表达**：伴侣是否能够积极表达自己的情感和需求。如果他们总是对情感问题避而不谈，可能意味着缺乏亲密感。\n",
            "\n",
            "4. **未来规划**：沟通双方对未来的期望，包括生活目标、家庭计划等。如果双方在这些方面存在显著差异，可能会导致关系的不稳定。\n",
            "\n",
            "更多有关如何判断伴侣是否会出轨的信息，可以参考这两篇文章：[4种方法判断伴侣是否出轨](https://www.163.com/dy/article/CTGLE2PO0518L37N.html) 和 [如何判断对方是否容易出轨](https://www.wenxiaobai.com/api/expends/detail?article=cf61f3b0-b7b8-4e7d-bb50-16a4c68872ff)。\n"
          ]
        },
        {
          "name": "stderr",
          "output_type": "stream",
          "text": [
            "WARNING:langsmith.client:Failed to send compressed multipart ingest: langsmith.utils.LangSmithAuthError: Authentication failed for https://api.smith.langchain.com/runs/multipart. HTTPError('401 Client Error: Unauthorized for url: https://api.smith.langchain.com/runs/multipart', '{\"error\":\"Unauthorized\"}\\n')trace=511db2be-46b0-43d9-bdf2-5ea5798463a0,id=fd66f505-2e3a-409d-a398-9bab5146fbf3; trace=511db2be-46b0-43d9-bdf2-5ea5798463a0,id=d0bcad9b-d533-4bab-9781-635f320e15b9; trace=511db2be-46b0-43d9-bdf2-5ea5798463a0,id=d0bcad9b-d533-4bab-9781-635f320e15b9; trace=511db2be-46b0-43d9-bdf2-5ea5798463a0,id=eba53c9b-7920-4264-b47f-d63bf1cf0923; trace=511db2be-46b0-43d9-bdf2-5ea5798463a0,id=511db2be-46b0-43d9-bdf2-5ea5798463a0\n"
          ]
        },
        {
          "name": "stdout",
          "output_type": "stream",
          "text": [
            "User: q\n",
            "Goodbye!\n"
          ]
        }
      ],
      "source": [
        "from langchain_core.messages import BaseMessage\n",
        "\n",
        "# 进入一个无限循环，用于模拟持续的对话\n",
        "while True:\n",
        "    # 获取用户输入\n",
        "    user_input = input(\"User: \")\n",
        "\n",
        "    # 如果用户输入 \"quit\"、\"exit\" 或 \"q\"，则退出循环，结束对话\n",
        "    if user_input.lower() in [\"quit\", \"exit\", \"q\"]:\n",
        "        print(\"Goodbye!\")  # 打印告别语\n",
        "        break  # 退出循环\n",
        "\n",
        "    # 使用 graph.stream 处理用户输入，并生成机器人的回复\n",
        "    # \"messages\" 列表中包含用户的输入，传递给对话系统\n",
        "    for event in graph.stream({\"messages\": [(\"user\", user_input)]}):\n",
        "\n",
        "        # 遍历 event 的所有值，检查是否是 BaseMessage 类型的消息\n",
        "        for value in event.values():\n",
        "            if isinstance(value[\"messages\"][-1], BaseMessage):\n",
        "                # 如果消息是 BaseMessage 类型，则打印机器人的回复\n",
        "                print(\"Assistant:\", value[\"messages\"][-1].content)\n"
      ]
    },
    {
      "cell_type": "code",
      "execution_count": 54,
      "id": "tCAmKd2SI1h8",
      "metadata": {
        "colab": {
          "base_uri": "https://localhost:8080/"
        },
        "id": "tCAmKd2SI1h8",
        "outputId": "e2fc830e-735b-47f4-9b9d-6c2348e6edda"
      },
      "outputs": [
        {
          "name": "stdout",
          "output_type": "stream",
          "text": [
            "User: 2024年欧洲杯冠军是谁？\n"
          ]
        },
        {
          "name": "stderr",
          "output_type": "stream",
          "text": [
            "WARNING:langsmith.client:Failed to send compressed multipart ingest: langsmith.utils.LangSmithAuthError: Authentication failed for https://api.smith.langchain.com/runs/multipart. HTTPError('401 Client Error: Unauthorized for url: https://api.smith.langchain.com/runs/multipart', '{\"error\":\"Unauthorized\"}\\n')trace=3cce15bc-71aa-4013-9560-c02631e9da47,id=3cce15bc-71aa-4013-9560-c02631e9da47; trace=3cce15bc-71aa-4013-9560-c02631e9da47,id=fc067f20-c77f-4bc7-a580-b884846172e1; trace=3cce15bc-71aa-4013-9560-c02631e9da47,id=4318de74-a866-4a29-9c6a-d33f758154a2\n"
          ]
        },
        {
          "name": "stdout",
          "output_type": "stream",
          "text": [
            "Assistant: \n"
          ]
        },
        {
          "name": "stderr",
          "output_type": "stream",
          "text": [
            "WARNING:langsmith.client:Failed to send compressed multipart ingest: langsmith.utils.LangSmithAuthError: Authentication failed for https://api.smith.langchain.com/runs/multipart. HTTPError('401 Client Error: Unauthorized for url: https://api.smith.langchain.com/runs/multipart', '{\"error\":\"Unauthorized\"}\\n')trace=3cce15bc-71aa-4013-9560-c02631e9da47,id=4318de74-a866-4a29-9c6a-d33f758154a2; trace=3cce15bc-71aa-4013-9560-c02631e9da47,id=e48b6a29-3f7a-4cc5-afb7-efa5550b96d8; trace=3cce15bc-71aa-4013-9560-c02631e9da47,id=e48b6a29-3f7a-4cc5-afb7-efa5550b96d8; trace=3cce15bc-71aa-4013-9560-c02631e9da47,id=fc067f20-c77f-4bc7-a580-b884846172e1; trace=3cce15bc-71aa-4013-9560-c02631e9da47,id=69830f13-7ebb-4a39-91fe-8e4119c39b2d; trace=3cce15bc-71aa-4013-9560-c02631e9da47,id=4c015f18-6424-493c-b655-8c8f22537567\n"
          ]
        },
        {
          "name": "stdout",
          "output_type": "stream",
          "text": [
            "Assistant: [{\"title\": \"2024 \\u5e74\\u6b27\\u6d32\\u676f\\uff1a\\u4e94\\u5927\\u770b\\u70b9\\u2014\\u2014\\u897f\\u73ed\\u7259\\u83b7\\u80dc\\uff0c\\u4e9a\\u9a6c\\u5c14\\u8d85\\u8fc7\\u7f57\\u7eb3\\u5c14\\u591a\\u548c\\u59c6 ...\", \"url\": \"https://chinese.aljazeera.net/sport/2024/7/16/2024%E5%B9%B4%E6%AC%A7%E6%B4%B2%E6%9D%AF%E4%BA%94%E5%A4%A7%E7%9C%8B%E7%82%B9\", \"content\": \"\\u5982\\u679c\\u8bf4 2024 \\u5e74\\u6b27\\u6d32\\u676f\\u6709\\u4e00\\u4ef6\\u4e8b\\u662f\\u65e0\\u4eba\\u8d28\\u7591\\u7684\\uff0c\\u90a3\\u5c31\\u662f\\u897f\\u73ed\\u7259\\u5728\\u5468\\u65e5\\u662f\\u5f53\\u4e4b\\u65e0\\u6127\\u7684\\u51a0\\u519b\\uff0c\\u4ed6\\u4eec\\u5728\\u6bd4\\u8d5b\\u4e2d\\u53d6\\u5f97\\u4e86\\u4e03\\u8fde\\u80dc\\uff0c\\u4e00\\u626b\\u800c\\u5149\\uff0c\\u5e76\\u4ee5\\u6b64\\u8d85\\u8d8a\\u5fb7\\u56fd\\uff0c\\u521b\\u7eaa\\u5f55\\u5730\\u593a\\u5f97\\u4e86\\u7b2c\\u56db\\u5c4a\\u6b27\\u6d32\\u8db3\\u7403\\u9526\\u6807\\u8d5b\\u51a0\\u519b\\uff0c\\u8ba9\\u4ed6\\u4eec\\u7684\\u6210\\u5c31\\u66f4\\u52a0\\u7279\\u522b\\u7684\\u662f\\u7403\\u961f\\u7684\\u5e74\\u9f84\\u3002\\n\\n\\u62c9\\u660e\\u00b7\\u4e9a\\u9a6c\\u5c14\\u88ab\\u8bc4\\u4e3a\\u9526\\u6807\\u8d5b\\u6700\\u4f73\\u5e74\\u8f7b\\u7403\\u5458\\uff0c\\u8fd9\\u4f4d\\u5f53\\u65f6 16 \\u5c81\\u7684\\u7403\\u5458\\u5728\\u534a\\u51b3\\u8d5b\\u5bf9\\u9635\\u6cd5\\u56fd\\u961f\\u7684\\u6bd4\\u8d5b\\u4e2d\\u7834\\u7eaa\\u5f55\\u7684\\u8fdb\\u7403\\u65e0\\u7591\\u662f\\u672c\\u5c4a\\u6bd4\\u8d5b\\u4e2d\\u7684\\u6700\\u4f73\\u8fdb\\u7403\\u3002\\u672c\\u5c4a\\u8d5b\\u4e8b\\u6700\\u4f73\\u7403\\u5458\\u7f57\\u5fb7\\u91cc\\u73b0\\u5e7428\\u5c81\\uff0c\\u521a\\u521a\\u8fbe\\u5230\\u804c\\u4e1a\\u751f\\u6daf\\u7684\\u5dc5\\u5cf0\\uff0c\\u800c\\u4e0e\\u5df4\\u585e\\u7f57\\u90a3\\u7684\\u4e9a\\u9a6c\\u5c14\\u540c\\u5728\\u4e00\\u8fb9\\u7684\\u662f\\u51b3\\u8d5b\\u7684\\u6700\\u4f73\\u7403\\u5458\\u548c\\u9996\\u53d1\\u7403\\u5458\\u5c3c\\u79d1\\u00b7\\u5a01\\u5ec9\\u59c6\\u65af\\u3002\\u8fd9\\u4f4d 22 \\u5c81\\u7403\\u5458\\u7684\\u4ff1\\u4e50\\u90e8\\u6bd5\\u5c14\\u5df4\\u9102\\u7ade\\u6280\\u961f\\u73b0\\u5728\\u6b63\\u51c6\\u5907\\u63a5\\u53d7\\u6b27\\u6d32\\u6240\\u6709\\u9876\\u7ea7\\u4ff1\\u4e50\\u90e8\\u7684\\u9080\\u8bf7\\uff0c\\u4ed6\\u4eec\\u4e3a\\u8fd9\\u4f4d\\u5145\\u6ee1\\u6d3b\\u529b\\u7684\\u524d\\u950b\\u63d0\\u4f9b\\u62a5\\u4ef7\\u3002\\n\\n\\u201c\\u6211\\u8ba4\\u4e3a\\u6211\\u4eec\\u521b\\u9020\\u4e86\\u5386\\u53f2\\uff0c\\u201d\\u5a01\\u5ec9\\u59c6\\u65af\\u5728\\u51b3\\u8d5b\\u540e\\u8bf4\\u9053\\uff0c\\u201c\\u73b0\\u5728\\uff0c\\u6211\\u4eec\\u8fd8\\u6ca1\\u6709\\u610f\\u8bc6\\u5230\\u6211\\u4eec\\u505a\\u4e86\\u4ec0\\u4e48\\uff0c\\u6211\\u4eec\\u5c06\\u56de\\u5230\\u897f\\u73ed\\u7259\\uff0c\\u4e0e\\u7403\\u8ff7\\u4eec\\u4e00\\u8d77\\u5ea6\\u8fc7\\u8fd9\\u4e00\\u523b\\uff0c\\u56de\\u62a5\\u4ed6\\u4eec\\u7ed9\\u4e88\\u6211\\u4eec\\u7684\\u7231\\u548c\\u6e29\\u6696\\u3002\\u201d\\n\\n\\u897f\\u73ed\\u7259\\u961f\\u7b2c\\u4e00\\u6b21\\u593a\\u5f97\\u6b27\\u6d32\\u676f\\u51a0\\u519b\\u662f\\u5728 1964 \\u5e74\\uff0c\\u4ed6\\u4eec\\u5728 2008 \\u5e74\\u548c 2012 \\u5e74\\u8fde\\u7eed\\u593a\\u51a0\\u3002\\u5728\\u4e24\\u6b21\\u593a\\u51a0\\u4e4b\\u95f4\\uff0c\\u4ed6\\u4eec\\u9996\\u6b21\\u593a\\u5f97\\u4e16\\u754c\\u676f\\u51a0\\u519b\\u3002\\u51ed\\u501f\\u4e00\\u652f\\u5145\\u6ee1\\u4fe1\\u5fc3\\u3001\\u624d\\u534e\\u6a2a\\u6ea2\\u548c\\u5e74\\u8f7b\\u7684\\u7403\\u961f\\uff0c\\u4ed6\\u4eec\\u73b0\\u5728\\u7684\\u76ee\\u6807\\u662f\\u5728 2026 \\u5e74\\u518d\\u6b21\\u593a\\u5f97\\u4e16\\u754c\\u51a0\\u519b\\u3002 [...] 2024 \\u5e74\\u6b27\\u6d32\\u676f\\uff1a\\u4e94\\u5927\\u770b\\u70b9\\u2014\\u2014\\u897f\\u73ed\\u7259\\u83b7\\u80dc\\uff0c\\u4e9a\\u9a6c\\u5c14\\u8d85\\u8fc7\\u7f57\\u7eb3\\u5c14\\u591a\\u548c\\u59c6\\u5df4\\u4f69\\n\\n\\u897f\\u73ed\\u7259\\u5728 2024 \\u5e74\\u6b27\\u6d32\\u676f\\u51b3\\u8d5b\\u4e2d\\u4ee5 2-1 \\u6218\\u80dc\\u82f1\\u683c\\u5170\\uff0c\\u7ed3\\u675f\\u4e86\\u8db3\\u7403\\u7684\\u8fc7\\u5c71\\u8f66\\u6708\\uff0c\\u521b\\u7eaa\\u5f55\\u5730\\u7b2c\\u56db\\u6b21\\u8d62\\u5f97\\u6b27\\u6d32\\u676f\\u51a0\\u519b\\u3002\\n\\n\\u4e1c\\u9053\\u4e3b\\u5fb7\\u56fd\\u961f\\u4e0e\\u5361\\u5854\\u5c14 2022 \\u5e74\\u4e16\\u754c\\u676f\\u51b3\\u8d5b\\u9009\\u624b\\u6cd5\\u56fd\\u961f\\u4e00\\u8d77\\u6210\\u4e3a\\u8d5b\\u524d\\u593a\\u51a0\\u70ed\\u95e8\\uff0c\\u800c\\u5305\\u62ec\\u8461\\u8404\\u7259\\u7403\\u661f\\u514b\\u91cc\\u65af\\u8482\\u4e9a\\u8bfa\\u00b7\\u7f57\\u7eb3\\u5c14\\u591a\\u5728\\u5185\\u7684\\u5927\\u724c\\u7403\\u661f\\u5219\\u662f\\u6700\\u540e\\u4e00\\u6b21\\u53c2\\u52a0\\u6bd4\\u8d5b\\u3002\\n\\n\\u9605\\u8bfb\\u66f4\\u591a\\n\\n\\u8d5b\\u5236\\u3001\\u7403\\u961f\\u3001\\u62bd\\u7b7e\\uff1a2024-25\\u8d5b\\u5b63\\u6b27\\u6d32\\u51a0\\u519b\\u8054\\u8d5b\\u8be6\\u89e3\\n\\n2024 \\u5e74\\u6b27\\u6d32\\u676f\\u897f\\u73ed\\u7259\\u5bf9\\u9635\\u82f1\\u683c\\u5170\\u6982\\u89c8\\uff1a\\u5386\\u53f2\\u4e0a\\u6700\\u7cbe\\u5f69\\u7684\\u4e94\\u573a\\u51b3\\u8d5b\\n\\n2024\\u5e74\\u6b27\\u6d32\\u676f\\u534a\\u51b3\\u8d5b\\uff1a\\u7403\\u961f\\u3001\\u6bd4\\u8d5b\\u65e5\\u7a0b\\u3001\\u5f00\\u59cb\\u65f6\\u95f4\\u3001\\u573a\\u5730\\u3001\\u65e5\\u671f\\n\\n\\u5fb7\\u56fd vs \\u897f\\u73ed\\u7259\\uff1a2024 \\u5e74\\u6b27\\u6d32\\u676f\\u56db\\u5206\\u4e4b\\u4e00\\u51b3\\u8d5b\\u91cd\\u542f\\u4e1c\\u5fb7\\u4e0e\\u897f\\u5fb7\\u7684\\u8db3\\u7403\\u5206\\u6b67\\n\\n\\u8fd9\\u573a\\u5931\\u5229\\u8fd8\\u5f15\\u53d1\\u4e86\\u4e89\\u8bae\\u3001\\u653f\\u6cbb\\uff0c\\u4ee5\\u53ca\\u82f1\\u683c\\u5170\\u5728\\u51b3\\u8d5b\\u4e2d\\u843d\\u8d25\\u7684\\u4e0d\\u53d7\\u6b22\\u8fce\\u8bb0\\u5f55\\u3002\\u4ee5\\u4e0b\\u662f\\u534a\\u5c9b\\u7535\\u89c6\\u53f0\\u5bf9 2024 \\u5e74\\u6b27\\u6d32\\u676f\\u7684\\u4e94\\u5927\\u603b\\u7ed3\\uff1a\\n\\n\\u897f\\u73ed\\u7259\\u548c\\u4e9a\\u9a6c\\u5c14\\u5728\\u6b27\\u6d32\\u676f\\u4e0a\\u5360\\u636e\\u4e3b\\u5bfc\\u5730\\u4f4d\\uff0c\\u6709\\u671b\\u593a\\u5f97\\u4e16\\u754c\\u676f\\u51a0\\u519b\", \"score\": 0.8724455}, {\"title\": \"\\u897f\\u73ed\\u72592\\uff1a1\\u51fb\\u8d25\\u82f1\\u683c\\u5170\\u56db\\u593a\\u6b27\\u6d32\\u676f\\u51a0\\u519b\\u521b\\u5386\\u53f2 - \\u4eba\\u6c11\\u7f51\", \"url\": \"http://world.people.com.cn/n1/2024/0715/c1002-40277874.html\", \"content\": \"\\u4eba\\u6c11\\u7f51\\u67cf\\u67977\\u670814\\u65e5\\u7535\\uff08\\u8bb0\\u8005\\u5218\\u8d6b\\uff092024\\u6b27\\u6d32\\u676f\\u51b3\\u8d5b14\\u65e5\\u5728\\u67cf\\u6797\\u5965\\u6797\\u5339\\u514b\\u4f53\\u80b2\\u573a\\u4e3e\\u884c\\uff0c\\u897f\\u73ed\\u7259\\u961f2\\uff1a1\\u6218\\u80dc\\u82f1\\u683c\\u5170\\u961f\\uff0c\\u4ee5\\u5168\\u80dc\\u6218\\u7ee9\\u593a\\u5f97\\u51a0\\u519b\\u3002\", \"score\": 0.826278}]\n"
          ]
        },
        {
          "name": "stderr",
          "output_type": "stream",
          "text": [
            "WARNING:langsmith.client:Failed to send compressed multipart ingest: langsmith.utils.LangSmithAuthError: Authentication failed for https://api.smith.langchain.com/runs/multipart. HTTPError('401 Client Error: Unauthorized for url: https://api.smith.langchain.com/runs/multipart', '{\"error\":\"Unauthorized\"}\\n')trace=3cce15bc-71aa-4013-9560-c02631e9da47,id=4c015f18-6424-493c-b655-8c8f22537567; trace=3cce15bc-71aa-4013-9560-c02631e9da47,id=69830f13-7ebb-4a39-91fe-8e4119c39b2d; trace=3cce15bc-71aa-4013-9560-c02631e9da47,id=543de713-d1e0-4159-8808-b1c01763a4a2; trace=3cce15bc-71aa-4013-9560-c02631e9da47,id=f5cb40f8-e06a-497a-8535-43bcc8cecf4d\n"
          ]
        },
        {
          "name": "stdout",
          "output_type": "stream",
          "text": [
            "Assistant: 2024年欧洲杯的冠军是西班牙队，他们以2-1战胜了英格兰队。这场比赛于2024年7月14日在德国举行，西班牙队成功夺得了他们的第四个欧洲杯冠军。\n"
          ]
        },
        {
          "name": "stderr",
          "output_type": "stream",
          "text": [
            "WARNING:langsmith.client:Failed to send compressed multipart ingest: langsmith.utils.LangSmithAuthError: Authentication failed for https://api.smith.langchain.com/runs/multipart. HTTPError('401 Client Error: Unauthorized for url: https://api.smith.langchain.com/runs/multipart', '{\"error\":\"Unauthorized\"}\\n')trace=3cce15bc-71aa-4013-9560-c02631e9da47,id=f5cb40f8-e06a-497a-8535-43bcc8cecf4d; trace=3cce15bc-71aa-4013-9560-c02631e9da47,id=bbffffa0-2dcd-44a0-92e4-cf616568ac88; trace=3cce15bc-71aa-4013-9560-c02631e9da47,id=bbffffa0-2dcd-44a0-92e4-cf616568ac88; trace=3cce15bc-71aa-4013-9560-c02631e9da47,id=543de713-d1e0-4159-8808-b1c01763a4a2; trace=3cce15bc-71aa-4013-9560-c02631e9da47,id=3cce15bc-71aa-4013-9560-c02631e9da47\n"
          ]
        },
        {
          "name": "stdout",
          "output_type": "stream",
          "text": [
            "User: 2024年）诺贝尔化学奖获得者是谁？\n"
          ]
        },
        {
          "name": "stderr",
          "output_type": "stream",
          "text": [
            "WARNING:langsmith.client:Failed to send compressed multipart ingest: langsmith.utils.LangSmithAuthError: Authentication failed for https://api.smith.langchain.com/runs/multipart. HTTPError('401 Client Error: Unauthorized for url: https://api.smith.langchain.com/runs/multipart', '{\"error\":\"Unauthorized\"}\\n')trace=675b5bba-d733-4eb8-add4-6006138614cb,id=675b5bba-d733-4eb8-add4-6006138614cb; trace=675b5bba-d733-4eb8-add4-6006138614cb,id=0357043e-db04-4f3f-a43b-1325ad3f0cff; trace=675b5bba-d733-4eb8-add4-6006138614cb,id=4d8218a1-5c9e-453c-8ab9-2de9345ed987\n"
          ]
        },
        {
          "name": "stdout",
          "output_type": "stream",
          "text": [
            "Assistant: \n"
          ]
        },
        {
          "name": "stderr",
          "output_type": "stream",
          "text": [
            "WARNING:langsmith.client:Failed to send compressed multipart ingest: langsmith.utils.LangSmithAuthError: Authentication failed for https://api.smith.langchain.com/runs/multipart. HTTPError('401 Client Error: Unauthorized for url: https://api.smith.langchain.com/runs/multipart', '{\"error\":\"Unauthorized\"}\\n')trace=675b5bba-d733-4eb8-add4-6006138614cb,id=4d8218a1-5c9e-453c-8ab9-2de9345ed987; trace=675b5bba-d733-4eb8-add4-6006138614cb,id=b8a3b9d2-ce6e-4d8b-89bd-be2c020d2a0b; trace=675b5bba-d733-4eb8-add4-6006138614cb,id=b8a3b9d2-ce6e-4d8b-89bd-be2c020d2a0b; trace=675b5bba-d733-4eb8-add4-6006138614cb,id=0357043e-db04-4f3f-a43b-1325ad3f0cff; trace=675b5bba-d733-4eb8-add4-6006138614cb,id=d0be210e-2e50-40ef-992b-8725464e6be2; trace=675b5bba-d733-4eb8-add4-6006138614cb,id=c1912689-19a8-4115-a932-84b3b71ebcd7\n"
          ]
        },
        {
          "name": "stdout",
          "output_type": "stream",
          "text": [
            "Assistant: [{\"title\": \"2024\\u5e74\\u8bfa\\u8d1d\\u5c14\\u5316\\u5b66\\u5956\\u83b7\\u5956\\u540d\\u5355\\u9707\\u64bc\\u53d1\\u5e03 - \\u667a\\u6167\\u82bd\", \"url\": \"https://www.zhihuiya.com/news/info_5064.html\", \"content\": \"\\u70b9\\u51fb\\u672c\\u6587\\u4e2d\\u52a0\\u7c97\\u84dd\\u8272\\u5b57\\u4f53\\u5373\\u53ef\\u4e00\\u952e\\u76f4\\u8fbe\\u65b0\\u836f\\u60c5\\u62a5\\u5e93\\u514d\\u8d39\\u67e5\\u9605\\u6587\\u7ae0\\u91cc\\u63d0\\u5230\\u7684\\u836f\\u7269\\u3001\\u673a\\u6784\\u3001\\u9776\\u70b9\\u3001\\u9002\\u5e94\\u75c7\\u7684\\u6700\\u65b0\\u7814\\u53d1\\u8fdb\\u5c55\\u3002\\n2024 \\u5e74\\u8bfa\\u8d1d\\u5c14\\u5316\\u5b66\\u5956\\u5728\\u5317\\u4eac\\u65f6\\u95f4 10 \\u6708 9 \\u65e5\\u4e0b\\u5348\\u91cd\\u78c5\\u63ed\\u6653\\u3002\\u672c\\u5e74\\u5ea6\\u7684\\u8bfa\\u8d1d\\u5c14\\u5316\\u5b66\\u5956\\u7531 David Baker \\u535a\\u58eb\\u3001Demis Hassabis \\u535a\\u58eb\\u548c John M. Jumper \\u535a\\u58eb\\u5171\\u540c\\u83b7\\u5f97\\uff0c\\u5176\\u4e2d Baker \\u535a\\u58eb\\u56e0\\u5176\\u5728\\u8ba1\\u7b97\\u86cb\\u767d\\u8bbe\\u8ba1\\u9886\\u57df\\u7684\\u521b\\u65b0\\u8d21\\u732e\\u800c\\u88ab\\u8868\\u5f70\\uff0c\\u800c Hassabis \\u535a\\u58eb\\u548c Jumper \\u535a\\u58eb\\u5219\\u56e0\\u5728\\u86cb\\u767d\\u8d28\\u7ed3\\u6784\\u9884\\u6d4b\\u4e0a\\u7684\\u6770\\u51fa\\u6210\\u5c31\\u83b7\\u5f97\\u6b8a\\u8363\\u3002\\n\\u8bfa\\u8d1d\\u5c14\\u5316\\u5b66\\u5956\\u6bcf\\u5e74\\u9881\\u53d1\\u7ed9\\u5728\\u5316\\u5b66\\u9886\\u57df\\u505a\\u51fa\\u5353\\u8d8a\\u53d1\\u73b0\\u6216\\u53d1\\u660e\\u7684\\u79d1\\u5b66\\u5bb6\\uff0c\\u81ea\\u9996\\u6b21\\u9881\\u53d1\\u4ee5\\u6765\\uff0c\\u5df2\\u6709\\u8d85\\u8fc7 190 \\u4f4d\\u79d1\\u5b66\\u5bb6\\u83b7\\u5956\\u3002\\u5386\\u53f2\\u4e0a\\uff0c\\u8bfa\\u8d1d\\u5c14\\u5316\\u5b66\\u5956\\u7684\\u5f97\\u4e3b\\u4e2d\\u6709\\u7684\\u5e74\\u7eaa\\u8f7b\\u81f3 35 \\u5c81\\uff0c\\u6709\\u7684\\u9ad8\\u8fbe 97 \\u5c81\\uff0c\\u5305\\u62ec 8 \\u4f4d\\u5973\\u6027\\u3002\\u63a5\\u4e0b\\u6765\\u8ba9\\u6211\\u4eec\\u4e00\\u8d77\\u56de\\u987e\\u8fc7\\u53bb\\u5341\\u5e74\\u4e2d\\u8fd9\\u4e9b\\u8363\\u8a89\\u5f97\\u4e3b\\u548c\\u4ed6\\u4eec\\u7684\\u521b\\u65b0\\u8d21\\u732e\\u3002 [...] 2023 \\u5e74\\uff0cMoungi Bawendi \\u535a\\u58eb\\u3001Louis Brus \\u535a\\u58eb\\u548c Alexei Ekimov \\u535a\\u58eb\\u56e0\\u5728\\u91cf\\u5b50\\u70b9\\u7684\\u7814\\u53d1\\u4e0e\\u5236\\u9020\\u4e0a\\u53d6\\u5f97\\u7684\\u7a81\\u7834\\u6027\\u6210\\u679c\\u5171\\u540c\\u8363\\u83b7\\u8fd9\\u4e00\\u5956\\u9879\\u3002\\u4ed6\\u4eec\\u7684\\u53d1\\u73b0\\u63ed\\u793a\\u4e86\\u7269\\u8d28\\u5728\\u7f29\\u5c0f\\u81f3\\u7eb3\\u7c73\\u7ea7\\u522b\\u65f6\\u51fa\\u73b0\\u7684\\u91cf\\u5b50\\u73b0\\u8c61\\uff0c\\u8fd9\\u4e00\\u521b\\u65b0\\u4e3a\\u73b0\\u4ee3\\u79d1\\u6280\\u63d0\\u4f9b\\u4e86\\u57fa\\u77f3\\uff0c\\u5305\\u62ec QLED \\u663e\\u793a\\u6280\\u672f\\u3001LED \\u706f\\u5149\\u7684\\u7ec6\\u8282 enhancement\\uff0c\\u4ee5\\u53ca\\u751f\\u7269\\u7ec4\\u7ec7\\u7684\\u6210\\u50cf\\u7ed8\\u5236\\u7b49\\u591a\\u65b9\\u9762\\u7684\\u5e94\\u7528\\u3002\\n2022 \\u5e74\\uff0c\\u8fd9\\u4e00\\u6b8a\\u8363\\u6388\\u4e88\\u4e86 Carolyn R. Bertozzi \\u6559\\u6388\\u3001Morten Meldal \\u6559\\u6388\\u548c K. Barry Sharpless \\u6559\\u6388\\uff0c\\u4ee5\\u8868\\u5f70\\u4ed6\\u4eec\\u5728\\u70b9\\u51fb\\u5316\\u5b66\\u4e0e\\u751f\\u7269\\u6b63\\u4ea4\\u5316\\u5b66\\u9886\\u57df\\u7684\\u7a81\\u51fa\\u8d21\\u732e\\u3002\\u901a\\u8fc7\\u7b80\\u5355\\u5feb\\u6377\\u7684\\u65b9\\u6cd5\\u5408\\u6210\\u590d\\u6742\\u529f\\u80fd\\u5206\\u5b50\\uff0c\\u8fd9\\u9879\\u6280\\u672f\\u5728\\u836f\\u7269\\u7814\\u53d1\\u548c\\u6750\\u6599\\u79d1\\u5b66\\u4e2d\\u5df2\\u5c55\\u73b0\\u51fa\\u5e7f\\u9614\\u7684\\u5e94\\u7528\\u524d\\u666f\\u3002\\n2021 \\u5e74\\u7684\\u5f97\\u4e3b Benjamin List \\u6559\\u6388\\u548c David MacMillan \\u535a\\u58eb\\u56e0\\u5176\\u5728\\u4e0d\\u5bf9\\u79f0\\u6709\\u673a\\u50ac\\u5316\\u9886\\u57df\\u7684\\u521b\\u65b0\\u800c\\u53d7\\u5230\\u8d5e\\u8a89\\uff0c\\u4ed6\\u4eec\\u7684\\u53d1\\u5c55\\u4e3a\\u7cbe\\u51c6\\u5206\\u5b50\\u5408\\u6210\\u63d0\\u4f9b\\u4e86\\u65b0\\u65b9\\u6cd5\\uff0c\\u6781\\u5927\\u5730\\u63a8\\u52a8\\u4e86\\u533b\\u836f\\u7814\\u7a76\\u548c\\u7eff\\u8272\\u5316\\u5b66\\u7684\\u53d1\\u5c55\\u3002\", \"score\": 0.94632465}, {\"title\": \"2024\\u8bfa\\u8d1d\\u5c14\\u5956-\\u65b0\\u95fb\\u4e13\\u9898 - \\u79d1\\u5b66\\u7f51\", \"url\": \"https://news.sciencenet.cn/news/sub26.aspx?id=4170\", \"content\": \"\\u5317\\u4eac\\u65f6\\u95f410\\u67089\\u65e5\\u4e0b\\u53485\\u70b945\\u5206\\u8bb8\\uff0c2024\\u5e74\\u8bfa\\u8d1d\\u5c14\\u5316\\u5b66\\u5956\\u63ed\\u6653\\u3002\\u7f8e\\u56fd\\u79d1\\u5b66\\u5bb6David Baker\\u83b7\\u5956\\uff0c\\u4ee5\\u8868\\u5f70\\u5176\\u5728\\u8ba1\\u7b97\\u86cb\\u767d\\u8d28\\u8bbe\\u8ba1\\u65b9\\u9762\\u7684\\u8d21\\u732e\\uff1b\\u53e6\\u4e00\\u534a\\u5219\\u5171\\u540c\\u6388\\u4e88\\u82f1\\u56fd\\u79d1\\u5b66\\u5bb6Demis Hassabis\\u548cJohn\", \"score\": 0.93086797}]\n"
          ]
        },
        {
          "name": "stderr",
          "output_type": "stream",
          "text": [
            "WARNING:langsmith.client:Failed to send compressed multipart ingest: langsmith.utils.LangSmithAuthError: Authentication failed for https://api.smith.langchain.com/runs/multipart. HTTPError('401 Client Error: Unauthorized for url: https://api.smith.langchain.com/runs/multipart', '{\"error\":\"Unauthorized\"}\\n')trace=675b5bba-d733-4eb8-add4-6006138614cb,id=c1912689-19a8-4115-a932-84b3b71ebcd7; trace=675b5bba-d733-4eb8-add4-6006138614cb,id=d0be210e-2e50-40ef-992b-8725464e6be2; trace=675b5bba-d733-4eb8-add4-6006138614cb,id=8d6230c5-3d3a-4a0c-a21e-107975bd4b1c; trace=675b5bba-d733-4eb8-add4-6006138614cb,id=696cb1e0-d30b-4367-a6da-e8560bae3a64\n"
          ]
        },
        {
          "name": "stdout",
          "output_type": "stream",
          "text": [
            "Assistant: 2024年诺贝尔化学奖获得者是David Baker、Demis Hassabis和John M. Jumper。他们的研究主要集中在计算蛋白质设计和预测方面，尤其是在提高蛋白质结构预测的准确性方面做出了重要贡献。这一奖项于2024年10月9日在北京时间下发。 \n",
            "\n",
            "详细信息可以参考以下链接：\n",
            "- [智汇雅](https://www.zhihuiya.com/news/info_5064.html)\n",
            "- [科学网](https://news.sciencenet.cn/news/sub26.aspx?id=4170)\n"
          ]
        },
        {
          "name": "stderr",
          "output_type": "stream",
          "text": [
            "WARNING:langsmith.client:Failed to send compressed multipart ingest: langsmith.utils.LangSmithAuthError: Authentication failed for https://api.smith.langchain.com/runs/multipart. HTTPError('401 Client Error: Unauthorized for url: https://api.smith.langchain.com/runs/multipart', '{\"error\":\"Unauthorized\"}\\n')trace=675b5bba-d733-4eb8-add4-6006138614cb,id=696cb1e0-d30b-4367-a6da-e8560bae3a64; trace=675b5bba-d733-4eb8-add4-6006138614cb,id=62a0e2b2-1d00-4b87-89c4-8de378564c0e; trace=675b5bba-d733-4eb8-add4-6006138614cb,id=62a0e2b2-1d00-4b87-89c4-8de378564c0e; trace=675b5bba-d733-4eb8-add4-6006138614cb,id=8d6230c5-3d3a-4a0c-a21e-107975bd4b1c; trace=675b5bba-d733-4eb8-add4-6006138614cb,id=675b5bba-d733-4eb8-add4-6006138614cb\n"
          ]
        },
        {
          "name": "stdout",
          "output_type": "stream",
          "text": [
            "User: 2025年中国最出名女明星是谁\n"
          ]
        },
        {
          "name": "stderr",
          "output_type": "stream",
          "text": [
            "WARNING:langsmith.client:Failed to send compressed multipart ingest: langsmith.utils.LangSmithAuthError: Authentication failed for https://api.smith.langchain.com/runs/multipart. HTTPError('401 Client Error: Unauthorized for url: https://api.smith.langchain.com/runs/multipart', '{\"error\":\"Unauthorized\"}\\n')trace=0ac3780e-a0cf-4b33-a8c3-f3d01d96b7d2,id=0ac3780e-a0cf-4b33-a8c3-f3d01d96b7d2; trace=0ac3780e-a0cf-4b33-a8c3-f3d01d96b7d2,id=9ac45943-3d7c-47b5-a363-51b3ea52fd69; trace=0ac3780e-a0cf-4b33-a8c3-f3d01d96b7d2,id=5acea72c-963c-4484-8bcc-e1177a9b3949\n"
          ]
        },
        {
          "name": "stdout",
          "output_type": "stream",
          "text": [
            "Assistant: \n"
          ]
        },
        {
          "name": "stderr",
          "output_type": "stream",
          "text": [
            "WARNING:langsmith.client:Failed to send compressed multipart ingest: langsmith.utils.LangSmithAuthError: Authentication failed for https://api.smith.langchain.com/runs/multipart. HTTPError('401 Client Error: Unauthorized for url: https://api.smith.langchain.com/runs/multipart', '{\"error\":\"Unauthorized\"}\\n')trace=0ac3780e-a0cf-4b33-a8c3-f3d01d96b7d2,id=5acea72c-963c-4484-8bcc-e1177a9b3949; trace=0ac3780e-a0cf-4b33-a8c3-f3d01d96b7d2,id=42a6170e-f376-4a44-895d-9208d6fb18d0; trace=0ac3780e-a0cf-4b33-a8c3-f3d01d96b7d2,id=42a6170e-f376-4a44-895d-9208d6fb18d0; trace=0ac3780e-a0cf-4b33-a8c3-f3d01d96b7d2,id=9ac45943-3d7c-47b5-a363-51b3ea52fd69; trace=0ac3780e-a0cf-4b33-a8c3-f3d01d96b7d2,id=5e7130dc-4c91-41d7-97d9-9d899159830a; trace=0ac3780e-a0cf-4b33-a8c3-f3d01d96b7d2,id=f146db2c-8a5a-4e98-b0c7-5d40d96dd1ab\n"
          ]
        },
        {
          "name": "stdout",
          "output_type": "stream",
          "text": [
            "Assistant: [{\"title\": \"2025\\u5e74\\u4e2d\\u56fd\\u6700\\u7f8e\\u5341\\u5927\\u5973\\u661f\\u6392\\u884c\\u699c\\uff0c\\u5979\\u4eec\\u7684\\u5e73\\u5747\\u5e74\\u9f84\\u4e3a36.3\\u5c81\\uff01 - \\u641c\\u72d0\", \"url\": \"https://www.sohu.com/a/873313130_122173572\", \"content\": \"\\u63a5\\u4e0b\\u6765\\uff0c\\u6211\\u4eec\\u5c31\\u4e00\\u8d77\\u6765\\u770b\\u770b2025\\u5e74\\u6700\\u7f8e\\u768410\\u4f4d\\u5973\\u661f\\u5427\\u3002 \\u7b2c\\u5341\\u540d\\uff0c\\u6768\\u7d2b\\u3002 \\u4f5c\\u4e3a\\u5a31\\u4e50\\u5708\\u7684\\u517b\\u6210\\u7cfb\\u4ee3\\u8868\\uff0c\\u6768\\u7d2b\\u4ece\\u201c\\u5c0f\\u96ea\\u201d\\u65f6\\u671f\\u7684\\u56fd\\u6c11\\u95fa\\u5973\\uff0c\\u5230\\u5982\\u4eca\\u6210\\u4e3a90\\u540e\\u9876\\u6d41\\uff0c\\u624b\\u63e1\\u70ed\\u95e8\\u5267\\u96c6\", \"score\": 0.843393}, {\"title\": \"2025\\u5e74\\u4e2d\\u56fd\\u6700\\u7f8e\\u5341\\u5927\\u5973\\u661f\\u6392\\u884c\\u699c\\uff0c\\u5979\\u4eec\\u7684\\u5e73\\u5747\\u5e74\\u9f84\\u4e3a36.3\\u5c81\\uff01 - 360\\u5a31\\u4e50\", \"url\": \"https://yule.360.com/content/3992445\", \"content\": \"2025\\u5e74\\u4e2d\\u56fd\\u6700\\u7f8e\\u5341\\u5927\\u5973\\u661f\\u6392\\u884c\\u699c\\uff0c\\u5979\\u4eec\\u7684\\u5e73\\u5747\\u5e74\\u9f84\\u4e3a36.3\\u5c81\\uff01 \\u00b7 \\u6768\\u7d2b. \\u7b2c\\u4e5d\\u540d\\uff0c\\u8d75\\u4e3d\\u9896\\uff0c\\u8d75\\u4e3d\\u9896\\u7b80\\u76f4\\u662f\\u5a31\\u4e50\\u5708\\u7684\\u8349\\u6839\\u9006\\u88ad\\u6559\\u79d1\\u4e66\\uff0c\\u9876\\u7740\\u5f20\\u88ab\\u5bfc\\u6f14\\u5acc\\u5f03\\u5706\\u8138\\u6f14\\u4e0d\\u4e86\\u5973\\u4e3b\\u7684\\u751c\", \"score\": 0.81770587}]\n"
          ]
        },
        {
          "name": "stderr",
          "output_type": "stream",
          "text": [
            "WARNING:langsmith.client:Failed to send compressed multipart ingest: langsmith.utils.LangSmithAuthError: Authentication failed for https://api.smith.langchain.com/runs/multipart. HTTPError('401 Client Error: Unauthorized for url: https://api.smith.langchain.com/runs/multipart', '{\"error\":\"Unauthorized\"}\\n')trace=0ac3780e-a0cf-4b33-a8c3-f3d01d96b7d2,id=f146db2c-8a5a-4e98-b0c7-5d40d96dd1ab; trace=0ac3780e-a0cf-4b33-a8c3-f3d01d96b7d2,id=5e7130dc-4c91-41d7-97d9-9d899159830a; trace=0ac3780e-a0cf-4b33-a8c3-f3d01d96b7d2,id=7400c75c-30f0-47b6-8ab4-a0affbe62cdb; trace=0ac3780e-a0cf-4b33-a8c3-f3d01d96b7d2,id=704b2f02-4ece-4d26-a4c9-c404fcdf5248\n"
          ]
        },
        {
          "name": "stdout",
          "output_type": "stream",
          "text": [
            "Assistant: 根据搜索结果，在2025年，中国最出名的女明星包括了以下几位：\n",
            "\n",
            "1. **杨紫** - 她是一位人气极高的演员，自从在《小雪》中崭露头角以来，杨紫的演艺事业不断攀升。\n",
            "2. **赵丽颖** - 她以主演多部热门电视剧而闻名，受到了广泛的认可和喜爱。\n",
            "\n",
            "如果你想了解更多关于这些女明星的信息，或者对其他明星感兴趣，请告诉我！\n"
          ]
        },
        {
          "name": "stderr",
          "output_type": "stream",
          "text": [
            "WARNING:langsmith.client:Failed to send compressed multipart ingest: langsmith.utils.LangSmithAuthError: Authentication failed for https://api.smith.langchain.com/runs/multipart. HTTPError('401 Client Error: Unauthorized for url: https://api.smith.langchain.com/runs/multipart', '{\"error\":\"Unauthorized\"}\\n')trace=0ac3780e-a0cf-4b33-a8c3-f3d01d96b7d2,id=704b2f02-4ece-4d26-a4c9-c404fcdf5248; trace=0ac3780e-a0cf-4b33-a8c3-f3d01d96b7d2,id=eceb52f1-251a-4efe-b612-d9462ff3f67a; trace=0ac3780e-a0cf-4b33-a8c3-f3d01d96b7d2,id=eceb52f1-251a-4efe-b612-d9462ff3f67a; trace=0ac3780e-a0cf-4b33-a8c3-f3d01d96b7d2,id=7400c75c-30f0-47b6-8ab4-a0affbe62cdb; trace=0ac3780e-a0cf-4b33-a8c3-f3d01d96b7d2,id=0ac3780e-a0cf-4b33-a8c3-f3d01d96b7d2\n"
          ]
        },
        {
          "name": "stdout",
          "output_type": "stream",
          "text": [
            "User: q\n",
            "Goodbye!\n"
          ]
        }
      ],
      "source": [
        "from langchain_core.messages import BaseMessage\n",
        "\n",
        "# 进入一个无限循环，用于模拟持续的对话\n",
        "while True:\n",
        "    # 获取用户输入\n",
        "    user_input = input(\"User: \")\n",
        "\n",
        "    # 如果用户输入 \"quit\"、\"exit\" 或 \"q\"，则退出循环，结束对话\n",
        "    if user_input.lower() in [\"quit\", \"exit\", \"q\"]:\n",
        "        print(\"Goodbye!\")  # 打印告别语\n",
        "        break  # 退出循环\n",
        "\n",
        "    # 使用 graph.stream 处理用户输入，并生成机器人的回复\n",
        "    # \"messages\" 列表中包含用户的输入，传递给对话系统\n",
        "    for event in graph.stream({\"messages\": [(\"user\", user_input)]}):\n",
        "\n",
        "        # 遍历 event 的所有值，检查是否是 BaseMessage 类型的消息\n",
        "        for value in event.values():\n",
        "            if isinstance(value[\"messages\"][-1], BaseMessage):\n",
        "                # 如果消息是 BaseMessage 类型，则打印机器人的回复\n",
        "                print(\"Assistant:\", value[\"messages\"][-1].content)\n"
      ]
    },
    {
      "cell_type": "markdown",
      "id": "1f02dd51-1a42-4b00-bc45-4fb619f55ad0",
      "metadata": {
        "id": "1f02dd51-1a42-4b00-bc45-4fb619f55ad0"
      },
      "source": [
        "------------"
      ]
    },
    {
      "cell_type": "markdown",
      "id": "31f64614",
      "metadata": {
        "id": "31f64614"
      },
      "source": [
        "\n",
        "## 搜索引擎工具赋能前后对比\n",
        "\n",
        "下面对比使用 搜索引擎工具前后，chatbot 生成结果对比\n",
        "\n",
        "\n",
        "### 用户问题\n",
        "\n",
        "```shell\n",
        "User:  详细介绍下 LangGraph 项目\n",
        "```\n",
        "\n",
        "### ChatBot + Web Search Tool（整合搜索结果后生成正确回答）\n",
        "\n",
        "```\n",
        "Assistant: LangGraph 是一个用于构建具有状态的、多参与者应用程序的库，特别是与大型语言模型（LLMs）结合使用。它主要用于创建代理和多代理工作流。与其他 LLM 框架相比，LangGraph 提供了一些核心优势，包括循环、可控性和持久性。\n",
        "\n",
        "### 主要特点\n",
        "1. **循环**：LangGraph 允许定义涉及循环的流程，这对大多数代理架构至关重要。\n",
        "2. **可控性**：用户可以更好地控制工作流的执行。\n",
        "3. **持久性**：能够保存状态，使得应用程序能够在不同的会话中保持一致性。\n",
        "\n",
        "LangGraph 的设计使其能够处理复杂的多代理环境，支持用户定义和管理参与者之间的交互。它基于有向无环图（DAG）的解决方案，使得构建和维护复杂工作流变得更加高效。\n",
        "\n",
        "### 资源链接\n",
        "- [LangGraph GitHub](https://github.com/langchain-ai/langgraph)\n",
        "- [LangGraph 官方文档](https://github.langchain.ac.cn/langgraph/)\n",
        "```\n",
        "\n",
        "### ChatBot-only（模型自己编造的 LangGraph 项目描述）\n",
        "\n",
        "```\n",
        "Assistant: LangGraph 是一个旨在推动自然语言处理（NLP）和图形结构数据结合的项目。它通常涉及将语言模型与图形数据结构相结合，以便更有效地处理和理解复杂的关系和语义信息。以下是 LangGraph 项目的一些关键要素：\n",
        "\n",
        "1. **目标与愿景**：\n",
        "   LangGraph 的主要目标是通过将语言理解与图形表示结合起来，增强机器对人类语言的理解能力。这种结合可以使机器更好地处理信息，识别和推理出不同实体之间的关系。\n",
        "\n",
        "2. **图形结构**：\n",
        "   在 LangGraph 中，图形结构通常用于表示实体及其之间的关系。这种结构可以是知识图谱、社交网络图或其他形式的图形数据，能够捕捉到丰富的语义信息。\n",
        "\n",
        "3. **语言模型**：\n",
        "   LangGraph 通常与先进的语言模型（如 BERT、GPT 等）集成，这些模型能够处理和生成自然语言文本。通过将语言模型与图形结构结合，LangGraph 可以在回答问题、信息检索和对话系统等任务中表现得更为出色。\n",
        "\n",
        "4. **应用场景**：\n",
        "   LangGraph 可以应用于多个领域，包括：\n",
        "   - **信息检索**：通过图谱增强搜索引擎的理解能力，提高检索结果的相关性。\n",
        "   - **对话系统**：改善虚拟助手和聊天机器人的对话能力，使其能够进行更自然和智能的交互。\n",
        "   - **知识管理**：在企业和组织中，通过图形结构更好地组织和管理知识。\n",
        "\n",
        "5. **研究与发展**：\n",
        "   LangGraph 还可能涉及大量的研究工作，包括图神经网络（GNN）、知识图谱的构建和更新、以及如何更好地将语言模型与图形数据结合的方法。\n",
        "\n",
        "6. **开源与社区**：\n",
        "   LangGraph 项目通常鼓励开源和社区参与，以促进技术的快速发展和应用。开发者和研究人员可以贡献代码、文档和其他资源，推动项目的进步。\n",
        "\n",
        "总之，LangGraph 是一个前沿项目，旨在通过将语言处理与图形数据结合，提升机器对自然语言的理解和处理能力。这一领域的发展将对人工智能和数据科学产生深远的影响。\n",
        "```"
      ]
    },
    {
      "cell_type": "markdown",
      "id": "c9fbba90-b3d2-4614-99f8-adad9b7e6c0f",
      "metadata": {
        "id": "c9fbba90-b3d2-4614-99f8-adad9b7e6c0f"
      },
      "source": [
        "------------\n",
        "\n",
        "# Homework:\n",
        "\n",
        "1. 运行和测试第1部分的聊天机器人（ChatBot-Only），并尝试找到一个其无法回答正确的事实性问题。\n",
        "1. 使用联网查询工具（如：Tavily），在第2部分的聊天机器人（ChatBot + Tool）上测试相同问题，并对比生成结果。"
      ]
    },
    {
      "cell_type": "markdown",
      "id": "40e91d18-e480-41ea-95d2-e4f34f419d14",
      "metadata": {
        "id": "40e91d18-e480-41ea-95d2-e4f34f419d14"
      },
      "source": [
        "------\n",
        "\n",
        "##"
      ]
    },
    {
      "cell_type": "markdown",
      "id": "c82108f5",
      "metadata": {
        "id": "c82108f5"
      },
      "source": [
        "## 第 3 部分：为聊天机器人添加记忆功能\n",
        "\n",
        "目前机器人可以使用工具来回答问题，但它还无法记住之前的对话内容。为了解决这个问题，我们将为机器人添加记忆功能，让它能够维护对话状态并实现多轮对话。\n",
        "\n",
        "-----------"
      ]
    },
    {
      "cell_type": "markdown",
      "id": "e230fe85",
      "metadata": {
        "id": "e230fe85"
      },
      "source": [
        "`MemorySaver` 是 LangGraph 中的一个检查点机制（checkpointing），用于保存和恢复对话或任务执行的状态。通过 `MemorySaver`，我们可以在每个步骤后保存机器人的状态，并在之后恢复对话，允许机器人具有“记忆”功能，支持多轮对话、错误恢复、时间旅行等功能。\n",
        "\n",
        "### `MemorySaver` 的核心功能\n",
        "\n",
        "1. **状态持久化**：\n",
        "   - `MemorySaver` 以内存的形式保存对话或任务的当前状态。在每次状态图（StateGraph）执行时，`MemorySaver` 会记录执行到某个节点的状态，并将状态保存在内存中。\n",
        "   - 在实际应用中，可以替换成 `SqliteSaver` 或 `PostgresSaver`，将状态保存到数据库中，以便在系统重新启动后仍能恢复之前的对话。\n",
        "   - 参考文档：https://langchain-ai.github.io/langgraph/how-tos/persistence/\n",
        "\n",
        "2. **多轮对话支持**：\n",
        "   - 使用 `MemorySaver`，每次调用状态图时，都会将对话的上下文保存下来。当用户重新发送消息时，机器人可以加载先前的状态，继续进行对话，而不会丢失上下文。\n",
        "   - 例如，用户可以在多轮对话中提到之前的内容，机器人能够记住这些信息并做出相应的反应。\n",
        "\n",
        "3. **错误恢复**：\n",
        "   - 在任务执行过程中，如果发生了错误，`MemorySaver` 可以帮助机器人恢复到之前的状态，从而重试任务或采取其他措施来处理错误。\n",
        "   - 它可以让机器人在任务失败或异常时从上一次成功的状态继续执行，而无需从头开始。\n",
        "\n",
        "4. **时间旅行**：\n",
        "   - `MemorySaver` 还支持时间旅行功能。开发者可以回溯到之前的某个对话状态，从那个时间点继续执行不同的分支，这在调试和交互式应用中非常有用。\n",
        "   - 用户或开发者可以选择从某个保存的状态点重新开始，并探索不同的执行路径。\n",
        "\n",
        "### 使用场景\n",
        "\n",
        "- **对话系统**：当用户和机器人之间进行多轮对话时，机器人需要记住之前的消息和上下文，以便提供连续性的回复。`MemorySaver` 能帮助机器人保存对话的状态，并在下次调用时恢复先前的对话。\n",
        "  \n",
        "- **任务执行系统**：在复杂任务执行流程中，如果发生中断或错误，`MemorySaver` 能帮助系统从最近的检查点恢复，继续完成未完成的任务。\n",
        "\n",
        "- **调试与实验**：开发者可以通过保存多个状态检查点，回溯到不同的状态节点，进行调试或探索不同的对话分支和执行路径。\n",
        "\n",
        "### 代码示例\n",
        "\n",
        "```python\n",
        "from langgraph.checkpoint.memory import MemorySaver\n",
        "\n",
        "# 创建内存检查点\n",
        "memory = MemorySaver()\n",
        "\n",
        "# 在编译图时，将 MemorySaver 作为检查点传递\n",
        "graph = graph_builder.compile(checkpointer=memory)\n",
        "\n",
        "# 执行状态图，保存当前对话的状态\n",
        "config = {\"configurable\": {\"thread_id\": \"1\"}}\n",
        "events = graph.stream({\"messages\": [(\"user\", \"Hi, what's the weather today?\")]}, config)\n",
        "\n",
        "# 在下次调用时，从内存检查点恢复对话状态\n",
        "events = graph.stream({\"messages\": [(\"user\", \"Can you tell me tomorrow's weather too?\")]}, config)\n",
        "```\n",
        "\n",
        "### 总结\n",
        "\n",
        "`MemorySaver` 是 LangGraph 中用于在内存中保存对话状态的机制，支持机器人的多轮对话、状态恢复和时间旅行等功能。它通过检查点机制，使机器人可以在任务或对话的不同阶段保存并恢复状态，从而提高对话系统的连续性和容错能力。\n"
      ]
    },
    {
      "cell_type": "markdown",
      "id": "2918a620",
      "metadata": {
        "id": "2918a620"
      },
      "source": [
        "### 1. 创建 MemorySaver 检查点\n",
        "\n"
      ]
    },
    {
      "cell_type": "code",
      "execution_count": 30,
      "id": "f1093d11",
      "metadata": {
        "id": "f1093d11"
      },
      "outputs": [],
      "source": [
        "from langgraph.checkpoint.memory import MemorySaver\n",
        "\n",
        "# 创建内存检查点\n",
        "memory = MemorySaver()"
      ]
    },
    {
      "cell_type": "markdown",
      "id": "890ecf8c",
      "metadata": {
        "id": "890ecf8c"
      },
      "source": [
        "\n"
      ]
    },
    {
      "cell_type": "markdown",
      "id": "718e277e",
      "metadata": {
        "id": "718e277e"
      },
      "source": [
        "### 2. 使用检查点编译图\n",
        "\n"
      ]
    },
    {
      "cell_type": "markdown",
      "id": "b436f151",
      "metadata": {
        "id": "b436f151"
      },
      "source": [
        "在编译图时，我们将提供检查点功能，机器人可以在每个步骤中保存状态。\n",
        "\n"
      ]
    },
    {
      "cell_type": "code",
      "execution_count": 31,
      "id": "eaf106fd",
      "metadata": {
        "id": "eaf106fd"
      },
      "outputs": [],
      "source": [
        "graph = graph_builder.compile(checkpointer=memory)"
      ]
    },
    {
      "cell_type": "code",
      "execution_count": 32,
      "id": "da903750-f00b-4208-8bb4-460a768843c9",
      "metadata": {
        "colab": {
          "base_uri": "https://localhost:8080/",
          "height": 266
        },
        "id": "da903750-f00b-4208-8bb4-460a768843c9",
        "outputId": "bc8452ec-6260-4ae7-b666-e0942d24e3b8"
      },
      "outputs": [
        {
          "data": {
            "image/png": "[encoded data removed]",
            "text/plain": [
              "<IPython.core.display.Image object>"
            ]
          },
          "metadata": {},
          "output_type": "display_data"
        }
      ],
      "source": [
        "display(Image(graph.get_graph().draw_mermaid_png()))"
      ]
    },
    {
      "cell_type": "markdown",
      "id": "8b0b3e5a",
      "metadata": {
        "id": "8b0b3e5a"
      },
      "source": [
        "\n"
      ]
    },
    {
      "cell_type": "markdown",
      "id": "a04a076a",
      "metadata": {
        "id": "a04a076a"
      },
      "source": [
        "### 3. 执行聊天机器人\n",
        "\n",
        "我们仍然按照之前的方式执行机器人，只是这次它会在每一步保存对话状态。"
      ]
    },
    {
      "cell_type": "markdown",
      "id": "8fb3dfde",
      "metadata": {
        "id": "8fb3dfde"
      },
      "source": [
        "\n",
        "#### 代码解析\n",
        "\n",
        "1. **config 配置**：\n",
        "   - `config` 是一个包含对话线程信息的字典，用于指定本次对话的唯一线程 ID。在这个例子中，`thread_id` 被设置为 `\"1\"`，这意味着该对话会与该线程关联。\n",
        "   - 每个线程 ID 代表一个独立的对话流，使用 `MemorySaver` 时，机器人可以在同一个 `thread_id` 下记住对话的上下文。\n",
        "\n",
        "2. **用户输入消息**：\n",
        "   - `user_input` 表示用户的输入消息，在这里用户输入了 `\"Hi there! My name is Peng.\"`。这个消息将作为对话的起始消息传递给机器人。\n",
        "\n",
        "3. **graph.stream**：\n",
        "   - `graph.stream` 是用于执行状态图的函数。它会根据传入的消息和配置执行对话流程。\n",
        "   - `{\"messages\": [(\"user\", user_input)]}`：第一个参数包含用户的输入消息。消息格式是一个元组，`(\"user\", user_input)` 表示这是来自用户的消息。\n",
        "   - `config`：第二个参数指定对话的线程配置，这里使用 `{\"configurable\": {\"thread_id\": \"1\"}}`，表示这次对话属于线程 ID 为 `1` 的对话流。\n",
        "   - `stream_mode=\"values\"`：设置流模式为 `\"values\"`，表示返回消息中的内容数据。\n",
        "\n",
        "4. **遍历事件并打印消息**：\n",
        "   - `for event in events` 遍历每个从 `graph.stream` 中返回的事件，`event[\"messages\"][-1]` 获取每个事件中的最后一条消息。\n",
        "   - `pretty_print()`：调用消息对象的 `pretty_print()` 方法来格式化并打印消息的内容。这通常用于输出对话中的 AI 响应或工具调用结果。\n"
      ]
    },
    {
      "cell_type": "code",
      "execution_count": 33,
      "id": "6a3d3d84",
      "metadata": {
        "colab": {
          "base_uri": "https://localhost:8080/"
        },
        "id": "6a3d3d84",
        "outputId": "a9b0166f-16bd-4e24-bd1d-a40b5a20ba05"
      },
      "outputs": [
        {
          "name": "stdout",
          "output_type": "stream",
          "text": [
            "================================\u001b[1m Human Message \u001b[0m=================================\n",
            "\n",
            "Hi there! My name is Peng.\n"
          ]
        },
        {
          "name": "stderr",
          "output_type": "stream",
          "text": [
            "WARNING:langsmith.client:Failed to send compressed multipart ingest: langsmith.utils.LangSmithAuthError: Authentication failed for https://api.smith.langchain.com/runs/multipart. HTTPError('401 Client Error: Unauthorized for url: https://api.smith.langchain.com/runs/multipart', '{\"error\":\"Unauthorized\"}\\n')trace=7ced165d-3c3e-4a74-ad30-0593fcce6878,id=7ced165d-3c3e-4a74-ad30-0593fcce6878; trace=7ced165d-3c3e-4a74-ad30-0593fcce6878,id=45cbf348-4a0e-41e3-b077-129a03811fa3; trace=7ced165d-3c3e-4a74-ad30-0593fcce6878,id=b1da8419-f2d6-4b80-8072-039c5cb423e9\n"
          ]
        },
        {
          "name": "stdout",
          "output_type": "stream",
          "text": [
            "==================================\u001b[1m Ai Message \u001b[0m==================================\n",
            "\n",
            "Hello, Peng! How can I assist you today?\n"
          ]
        }
      ],
      "source": [
        "config = {\"configurable\": {\"thread_id\": \"1\"}}\n",
        "\n",
        "# 用户输入的消息\n",
        "user_input = \"Hi there! My name is Peng.\"\n",
        "\n",
        "# 第二个参数 config 用于设置对话线程 ID\n",
        "# 在这里，\"thread_id\" 是唯一标识符，用于保存和区分对话线程。\n",
        "# 每个对话线程的状态将由 MemorySaver 保存下来，因此可以跨多轮对话继续进行。\n",
        "events = graph.stream(\n",
        "    {\"messages\": [(\"user\", user_input)]},  # 第一个参数传入用户的输入消息，消息格式为 (\"user\", \"输入内容\")\n",
        "    config,  # 第二个参数用于指定线程配置，包含线程 ID\n",
        "    stream_mode=\"values\"  # stream_mode 设置为 \"values\"，表示返回流式数据的值\n",
        ")\n",
        "\n",
        "# 遍历每个事件，并打印最后一条消息的内容\n",
        "for event in events:\n",
        "    # 通过 pretty_print 打印最后一条消息的内容\n",
        "    event[\"messages\"][-1].pretty_print()"
      ]
    },
    {
      "cell_type": "markdown",
      "id": "4b24b166",
      "metadata": {
        "id": "4b24b166"
      },
      "source": [
        "\n"
      ]
    },
    {
      "cell_type": "markdown",
      "id": "c2a5dee8",
      "metadata": {
        "id": "c2a5dee8"
      },
      "source": [
        "在下次执行时，机器人将记住之前的对话内容：\n",
        "\n"
      ]
    },
    {
      "cell_type": "code",
      "execution_count": 34,
      "id": "95c7f93d",
      "metadata": {
        "colab": {
          "base_uri": "https://localhost:8080/"
        },
        "id": "95c7f93d",
        "outputId": "53ad16e0-3cee-4e3a-c423-b9fde9db29d9"
      },
      "outputs": [
        {
          "name": "stdout",
          "output_type": "stream",
          "text": [
            "================================\u001b[1m Human Message \u001b[0m=================================\n",
            "\n",
            "Remember my name?\n"
          ]
        },
        {
          "name": "stderr",
          "output_type": "stream",
          "text": [
            "WARNING:langsmith.client:Failed to send compressed multipart ingest: langsmith.utils.LangSmithAuthError: Authentication failed for https://api.smith.langchain.com/runs/multipart. HTTPError('401 Client Error: Unauthorized for url: https://api.smith.langchain.com/runs/multipart', '{\"error\":\"Unauthorized\"}\\n')trace=fa969b12-a2df-4620-8077-5026a26ce90e,id=fa969b12-a2df-4620-8077-5026a26ce90e; trace=fa969b12-a2df-4620-8077-5026a26ce90e,id=9694ba2f-93b7-43e6-987f-82ff2bc9e920; trace=fa969b12-a2df-4620-8077-5026a26ce90e,id=163d8373-077e-44dd-8e4a-b8fe74724ff1\n"
          ]
        },
        {
          "name": "stdout",
          "output_type": "stream",
          "text": [
            "==================================\u001b[1m Ai Message \u001b[0m==================================\n",
            "\n",
            "Yes, your name is Peng! How can I help you today?\n"
          ]
        }
      ],
      "source": [
        "user_input = \"Remember my name?\"\n",
        "\n",
        "events = graph.stream(\n",
        "    {\"messages\": [(\"user\", user_input)]},\n",
        "    config,\n",
        "    stream_mode=\"values\"\n",
        ")\n",
        "\n",
        "for event in events:\n",
        "    event[\"messages\"][-1].pretty_print()"
      ]
    },
    {
      "cell_type": "markdown",
      "id": "06a52aae",
      "metadata": {
        "id": "06a52aae"
      },
      "source": [
        "\n"
      ]
    },
    {
      "cell_type": "markdown",
      "id": "a53f7e73",
      "metadata": {
        "id": "a53f7e73"
      },
      "source": [
        "通过这两步操作，您已经成功为机器人添加了对话记忆功能，它可以记住之前的交互，并在后续的对话中做出相应的回应。\n",
        "\n"
      ]
    },
    {
      "cell_type": "code",
      "execution_count": 35,
      "id": "8b8df867",
      "metadata": {
        "colab": {
          "base_uri": "https://localhost:8080/"
        },
        "id": "8b8df867",
        "outputId": "a4d75e8d-251f-46ae-ddd2-38b46f8b4872"
      },
      "outputs": [
        {
          "name": "stdout",
          "output_type": "stream",
          "text": [
            "================================\u001b[1m Human Message \u001b[0m=================================\n",
            "\n",
            "Remember my name?\n"
          ]
        },
        {
          "name": "stderr",
          "output_type": "stream",
          "text": [
            "WARNING:langsmith.client:Failed to send compressed multipart ingest: langsmith.utils.LangSmithAuthError: Authentication failed for https://api.smith.langchain.com/runs/multipart. HTTPError('401 Client Error: Unauthorized for url: https://api.smith.langchain.com/runs/multipart', '{\"error\":\"Unauthorized\"}\\n')trace=f4c6eb02-a167-4bac-b0d5-8e87f03fc1d7,id=f4c6eb02-a167-4bac-b0d5-8e87f03fc1d7; trace=f4c6eb02-a167-4bac-b0d5-8e87f03fc1d7,id=e570e62a-b736-4705-b7f9-736c6e738c21; trace=f4c6eb02-a167-4bac-b0d5-8e87f03fc1d7,id=66054edb-338b-4f05-861f-2e6519663f34\n"
          ]
        },
        {
          "name": "stdout",
          "output_type": "stream",
          "text": [
            "==================================\u001b[1m Ai Message \u001b[0m==================================\n",
            "\n",
            "I don't have access to previous interactions or memories, so I can't remember your name. However, you can tell me your name again!\n"
          ]
        }
      ],
      "source": [
        "# 机器人仅记住同一个线程中的历史对话，尝试切换到线程2\n",
        "events = graph.stream(\n",
        "    {\"messages\": [(\"user\", user_input)]},\n",
        "    {\"configurable\": {\"thread_id\": \"2\"}},\n",
        "    stream_mode=\"values\",\n",
        ")\n",
        "for event in events:\n",
        "    event[\"messages\"][-1].pretty_print()"
      ]
    },
    {
      "cell_type": "markdown",
      "id": "ae90b143",
      "metadata": {
        "id": "ae90b143"
      },
      "source": [
        "\n"
      ]
    },
    {
      "cell_type": "markdown",
      "id": "f023df43",
      "metadata": {
        "id": "f023df43"
      },
      "source": [
        "检查点让机器人可以记住对话状态，您可以通过 `get_state` 函数查看机器人当前的状态：\n",
        "\n"
      ]
    },
    {
      "cell_type": "code",
      "execution_count": 36,
      "id": "bb8b2464",
      "metadata": {
        "colab": {
          "base_uri": "https://localhost:8080/"
        },
        "id": "bb8b2464",
        "outputId": "6b510eb6-c458-4062-f731-dbbdc95b9495"
      },
      "outputs": [
        {
          "data": {
            "text/plain": [
              "StateSnapshot(values={'messages': [HumanMessage(content='Hi there! My name is Peng.', additional_kwargs={}, response_metadata={}, id='4d4e89a3-3023-4c37-bd78-c74ef4a2c2ec'), AIMessage(content='Hello, Peng! How can I assist you today?', additional_kwargs={'refusal': None}, response_metadata={'token_usage': {'completion_tokens': 12, 'prompt_tokens': 87, 'total_tokens': 99, 'completion_tokens_details': {'accepted_prediction_tokens': 0, 'audio_tokens': 0, 'reasoning_tokens': 0, 'rejected_prediction_tokens': 0}, 'prompt_tokens_details': {'audio_tokens': 0, 'cached_tokens': 0}}, 'model_name': 'gpt-4o-mini-2024-07-18', 'system_fingerprint': 'fp_54eb4bd693', 'id': 'chatcmpl-BbkuyFb9gP929LnZtMvhwAEzM7AS3', 'service_tier': 'default', 'finish_reason': 'stop', 'logprobs': None}, id='run--b1da8419-f2d6-4b80-8072-039c5cb423e9-0', usage_metadata={'input_tokens': 87, 'output_tokens': 12, 'total_tokens': 99, 'input_token_details': {'audio': 0, 'cache_read': 0}, 'output_token_details': {'audio': 0, 'reasoning': 0}}), HumanMessage(content='Remember my name?', additional_kwargs={}, response_metadata={}, id='7389e20c-1320-4086-99ae-e4abb687c0f6'), AIMessage(content='Yes, your name is Peng! How can I help you today?', additional_kwargs={'refusal': None}, response_metadata={'token_usage': {'completion_tokens': 15, 'prompt_tokens': 110, 'total_tokens': 125, 'completion_tokens_details': {'accepted_prediction_tokens': 0, 'audio_tokens': 0, 'reasoning_tokens': 0, 'rejected_prediction_tokens': 0}, 'prompt_tokens_details': {'audio_tokens': 0, 'cached_tokens': 0}}, 'model_name': 'gpt-4o-mini-2024-07-18', 'system_fingerprint': 'fp_54eb4bd693', 'id': 'chatcmpl-Bbkv4NPLtXi7Bd4JsueQnFXRyROsG', 'service_tier': 'default', 'finish_reason': 'stop', 'logprobs': None}, id='run--163d8373-077e-44dd-8e4a-b8fe74724ff1-0', usage_metadata={'input_tokens': 110, 'output_tokens': 15, 'total_tokens': 125, 'input_token_details': {'audio': 0, 'cache_read': 0}, 'output_token_details': {'audio': 0, 'reasoning': 0}})]}, next=(), config={'configurable': {'thread_id': '1', 'checkpoint_ns': '', 'checkpoint_id': '1f03add2-668f-6e41-8004-e389addaeb16'}}, metadata={'source': 'loop', 'writes': {'chatbot': {'messages': [AIMessage(content='Yes, your name is Peng! How can I help you today?', additional_kwargs={'refusal': None}, response_metadata={'token_usage': {'completion_tokens': 15, 'prompt_tokens': 110, 'total_tokens': 125, 'completion_tokens_details': {'accepted_prediction_tokens': 0, 'audio_tokens': 0, 'reasoning_tokens': 0, 'rejected_prediction_tokens': 0}, 'prompt_tokens_details': {'audio_tokens': 0, 'cached_tokens': 0}}, 'model_name': 'gpt-4o-mini-2024-07-18', 'system_fingerprint': 'fp_54eb4bd693', 'id': 'chatcmpl-Bbkv4NPLtXi7Bd4JsueQnFXRyROsG', 'service_tier': 'default', 'finish_reason': 'stop', 'logprobs': None}, id='run--163d8373-077e-44dd-8e4a-b8fe74724ff1-0', usage_metadata={'input_tokens': 110, 'output_tokens': 15, 'total_tokens': 125, 'input_token_details': {'audio': 0, 'cache_read': 0}, 'output_token_details': {'audio': 0, 'reasoning': 0}})]}}, 'step': 4, 'parents': {}, 'thread_id': '1'}, created_at='2025-05-27T09:29:55.508365+00:00', parent_config={'configurable': {'thread_id': '1', 'checkpoint_ns': '', 'checkpoint_id': '1f03add2-5c6e-6a2c-8003-50ebc48fdf8e'}}, tasks=(), interrupts=())"
            ]
          },
          "execution_count": 36,
          "metadata": {},
          "output_type": "execute_result"
        }
      ],
      "source": [
        "snapshot = graph.get_state(config)\n",
        "snapshot"
      ]
    },
    {
      "cell_type": "markdown",
      "id": "9b33358b-945d-419e-acaa-11cb5eaccdd9",
      "metadata": {
        "id": "9b33358b-945d-419e-acaa-11cb5eaccdd9"
      },
      "source": [
        "### 使用 Pandas 表格呈现状态\n",
        "\n",
        "对于其中的 messages 等结构化数据，可以将其转换为 Pandas DataFrame 进行展示。"
      ]
    },
    {
      "cell_type": "code",
      "execution_count": 37,
      "id": "6e7e6291-acef-44f5-97f6-fd542d16cc86",
      "metadata": {
        "colab": {
          "base_uri": "https://localhost:8080/",
          "height": 331
        },
        "id": "6e7e6291-acef-44f5-97f6-fd542d16cc86",
        "outputId": "c39f1e44-835b-4da8-ffa4-1852649a8d38"
      },
      "outputs": [
        {
          "data": {
            "application/vnd.google.colaboratory.intrinsic+json": {
              "summary": "{\n  \"name\": \"df\",\n  \"rows\": 4,\n  \"fields\": [\n    {\n      \"column\": \"content\",\n      \"properties\": {\n        \"dtype\": \"string\",\n        \"num_unique_values\": 4,\n        \"samples\": [\n          \"Hello, Peng! How can I assist you today?\",\n          \"Yes, your name is Peng! How can I help you today?\",\n          \"Hi there! My name is Peng.\"\n        ],\n        \"semantic_type\": \"\",\n        \"description\": \"\"\n      }\n    },\n    {\n      \"column\": \"message_id\",\n      \"properties\": {\n        \"dtype\": \"string\",\n        \"num_unique_values\": 4,\n        \"samples\": [\n          \"run--b1da8419-f2d6-4b80-8072-039c5cb423e9-0\",\n          \"run--163d8373-077e-44dd-8e4a-b8fe74724ff1-0\",\n          \"4d4e89a3-3023-4c37-bd78-c74ef4a2c2ec\"\n        ],\n        \"semantic_type\": \"\",\n        \"description\": \"\"\n      }\n    },\n    {\n      \"column\": \"type\",\n      \"properties\": {\n        \"dtype\": \"string\",\n        \"num_unique_values\": 2,\n        \"samples\": [\n          \"AIMessage\",\n          \"HumanMessage\"\n        ],\n        \"semantic_type\": \"\",\n        \"description\": \"\"\n      }\n    },\n    {\n      \"column\": \"token_usage\",\n      \"properties\": {\n        \"dtype\": \"object\",\n        \"semantic_type\": \"\",\n        \"description\": \"\"\n      }\n    }\n  ]\n}",
              "type": "dataframe",
              "variable_name": "df"
            },
            "text/html": [
              "\n",
              "  <div id=\"df-8a2b9d1a-403f-4fb8-a34b-2588e8b77e3e\" class=\"colab-df-container\">\n",
              "    <div>\n",
              "<style scoped>\n",
              "    .dataframe tbody tr th:only-of-type {\n",
              "        vertical-align: middle;\n",
              "    }\n",
              "\n",
              "    .dataframe tbody tr th {\n",
              "        vertical-align: top;\n",
              "    }\n",
              "\n",
              "    .dataframe thead th {\n",
              "        text-align: right;\n",
              "    }\n",
              "</style>\n",
              "<table border=\"1\" class=\"dataframe\">\n",
              "  <thead>\n",
              "    <tr style=\"text-align: right;\">\n",
              "      <th></th>\n",
              "      <th>content</th>\n",
              "      <th>message_id</th>\n",
              "      <th>type</th>\n",
              "      <th>token_usage</th>\n",
              "    </tr>\n",
              "  </thead>\n",
              "  <tbody>\n",
              "    <tr>\n",
              "      <th>0</th>\n",
              "      <td>Hi there! My name is Peng.</td>\n",
              "      <td>4d4e89a3-3023-4c37-bd78-c74ef4a2c2ec</td>\n",
              "      <td>HumanMessage</td>\n",
              "      <td>None</td>\n",
              "    </tr>\n",
              "    <tr>\n",
              "      <th>1</th>\n",
              "      <td>Hello, Peng! How can I assist you today?</td>\n",
              "      <td>run--b1da8419-f2d6-4b80-8072-039c5cb423e9-0</td>\n",
              "      <td>AIMessage</td>\n",
              "      <td>{'completion_tokens': 12, 'prompt_tokens': 87,...</td>\n",
              "    </tr>\n",
              "    <tr>\n",
              "      <th>2</th>\n",
              "      <td>Remember my name?</td>\n",
              "      <td>7389e20c-1320-4086-99ae-e4abb687c0f6</td>\n",
              "      <td>HumanMessage</td>\n",
              "      <td>None</td>\n",
              "    </tr>\n",
              "    <tr>\n",
              "      <th>3</th>\n",
              "      <td>Yes, your name is Peng! How can I help you today?</td>\n",
              "      <td>run--163d8373-077e-44dd-8e4a-b8fe74724ff1-0</td>\n",
              "      <td>AIMessage</td>\n",
              "      <td>{'completion_tokens': 15, 'prompt_tokens': 110...</td>\n",
              "    </tr>\n",
              "  </tbody>\n",
              "</table>\n",
              "</div>\n",
              "    <div class=\"colab-df-buttons\">\n",
              "\n",
              "  <div class=\"colab-df-container\">\n",
              "    <button class=\"colab-df-convert\" onclick=\"convertToInteractive('df-8a2b9d1a-403f-4fb8-a34b-2588e8b77e3e')\"\n",
              "            title=\"Convert this dataframe to an interactive table.\"\n",
              "            style=\"display:none;\">\n",
              "\n",
              "  <svg xmlns=\"http://www.w3.org/2000/svg\" height=\"24px\" viewBox=\"0 -960 960 960\">\n",
              "    <path d=\"M120-120v-720h720v720H120Zm60-500h600v-160H180v160Zm220 220h160v-160H400v160Zm0 220h160v-160H400v160ZM180-400h160v-160H180v160Zm440 0h160v-160H620v160ZM180-180h160v-160H180v160Zm440 0h160v-160H620v160Z\"/>\n",
              "  </svg>\n",
              "    </button>\n",
              "\n",
              "  <style>\n",
              "    .colab-df-container {\n",
              "      display:flex;\n",
              "      gap: 12px;\n",
              "    }\n",
              "\n",
              "    .colab-df-convert {\n",
              "      background-color: #E8F0FE;\n",
              "      border: none;\n",
              "      border-radius: 50%;\n",
              "      cursor: pointer;\n",
              "      display: none;\n",
              "      fill: #1967D2;\n",
              "      height: 32px;\n",
              "      padding: 0 0 0 0;\n",
              "      width: 32px;\n",
              "    }\n",
              "\n",
              "    .colab-df-convert:hover {\n",
              "      background-color: #E2EBFA;\n",
              "      box-shadow: 0px 1px 2px rgba(60, 64, 67, 0.3), 0px 1px 3px 1px rgba(60, 64, 67, 0.15);\n",
              "      fill: #174EA6;\n",
              "    }\n",
              "\n",
              "    .colab-df-buttons div {\n",
              "      margin-bottom: 4px;\n",
              "    }\n",
              "\n",
              "    [theme=dark] .colab-df-convert {\n",
              "      background-color: #3B4455;\n",
              "      fill: #D2E3FC;\n",
              "    }\n",
              "\n",
              "    [theme=dark] .colab-df-convert:hover {\n",
              "      background-color: #434B5C;\n",
              "      box-shadow: 0px 1px 3px 1px rgba(0, 0, 0, 0.15);\n",
              "      filter: drop-shadow(0px 1px 2px rgba(0, 0, 0, 0.3));\n",
              "      fill: #FFFFFF;\n",
              "    }\n",
              "  </style>\n",
              "\n",
              "    <script>\n",
              "      const buttonEl =\n",
              "        document.querySelector('#df-8a2b9d1a-403f-4fb8-a34b-2588e8b77e3e button.colab-df-convert');\n",
              "      buttonEl.style.display =\n",
              "        google.colab.kernel.accessAllowed ? 'block' : 'none';\n",
              "\n",
              "      async function convertToInteractive(key) {\n",
              "        const element = document.querySelector('#df-8a2b9d1a-403f-4fb8-a34b-2588e8b77e3e');\n",
              "        const dataTable =\n",
              "          await google.colab.kernel.invokeFunction('convertToInteractive',\n",
              "                                                    [key], {});\n",
              "        if (!dataTable) return;\n",
              "\n",
              "        const docLinkHtml = 'Like what you see? Visit the ' +\n",
              "          '<a target=\"_blank\" href=https://colab.research.google.com/notebooks/data_table.ipynb>data table notebook</a>'\n",
              "          + ' to learn more about interactive tables.';\n",
              "        element.innerHTML = '';\n",
              "        dataTable['output_type'] = 'display_data';\n",
              "        await google.colab.output.renderOutput(dataTable, element);\n",
              "        const docLink = document.createElement('div');\n",
              "        docLink.innerHTML = docLinkHtml;\n",
              "        element.appendChild(docLink);\n",
              "      }\n",
              "    </script>\n",
              "  </div>\n",
              "\n",
              "\n",
              "    <div id=\"df-a8d81dd1-b33a-4321-9820-c663cabd3bb8\">\n",
              "      <button class=\"colab-df-quickchart\" onclick=\"quickchart('df-a8d81dd1-b33a-4321-9820-c663cabd3bb8')\"\n",
              "                title=\"Suggest charts\"\n",
              "                style=\"display:none;\">\n",
              "\n",
              "<svg xmlns=\"http://www.w3.org/2000/svg\" height=\"24px\"viewBox=\"0 0 24 24\"\n",
              "     width=\"24px\">\n",
              "    <g>\n",
              "        <path d=\"M19 3H5c-1.1 0-2 .9-2 2v14c0 1.1.9 2 2 2h14c1.1 0 2-.9 2-2V5c0-1.1-.9-2-2-2zM9 17H7v-7h2v7zm4 0h-2V7h2v10zm4 0h-2v-4h2v4z\"/>\n",
              "    </g>\n",
              "</svg>\n",
              "      </button>\n",
              "\n",
              "<style>\n",
              "  .colab-df-quickchart {\n",
              "      --bg-color: #E8F0FE;\n",
              "      --fill-color: #1967D2;\n",
              "      --hover-bg-color: #E2EBFA;\n",
              "      --hover-fill-color: #174EA6;\n",
              "      --disabled-fill-color: #AAA;\n",
              "      --disabled-bg-color: #DDD;\n",
              "  }\n",
              "\n",
              "  [theme=dark] .colab-df-quickchart {\n",
              "      --bg-color: #3B4455;\n",
              "      --fill-color: #D2E3FC;\n",
              "      --hover-bg-color: #434B5C;\n",
              "      --hover-fill-color: #FFFFFF;\n",
              "      --disabled-bg-color: #3B4455;\n",
              "      --disabled-fill-color: #666;\n",
              "  }\n",
              "\n",
              "  .colab-df-quickchart {\n",
              "    background-color: var(--bg-color);\n",
              "    border: none;\n",
              "    border-radius: 50%;\n",
              "    cursor: pointer;\n",
              "    display: none;\n",
              "    fill: var(--fill-color);\n",
              "    height: 32px;\n",
              "    padding: 0;\n",
              "    width: 32px;\n",
              "  }\n",
              "\n",
              "  .colab-df-quickchart:hover {\n",
              "    background-color: var(--hover-bg-color);\n",
              "    box-shadow: 0 1px 2px rgba(60, 64, 67, 0.3), 0 1px 3px 1px rgba(60, 64, 67, 0.15);\n",
              "    fill: var(--button-hover-fill-color);\n",
              "  }\n",
              "\n",
              "  .colab-df-quickchart-complete:disabled,\n",
              "  .colab-df-quickchart-complete:disabled:hover {\n",
              "    background-color: var(--disabled-bg-color);\n",
              "    fill: var(--disabled-fill-color);\n",
              "    box-shadow: none;\n",
              "  }\n",
              "\n",
              "  .colab-df-spinner {\n",
              "    border: 2px solid var(--fill-color);\n",
              "    border-color: transparent;\n",
              "    border-bottom-color: var(--fill-color);\n",
              "    animation:\n",
              "      spin 1s steps(1) infinite;\n",
              "  }\n",
              "\n",
              "  @keyframes spin {\n",
              "    0% {\n",
              "      border-color: transparent;\n",
              "      border-bottom-color: var(--fill-color);\n",
              "      border-left-color: var(--fill-color);\n",
              "    }\n",
              "    20% {\n",
              "      border-color: transparent;\n",
              "      border-left-color: var(--fill-color);\n",
              "      border-top-color: var(--fill-color);\n",
              "    }\n",
              "    30% {\n",
              "      border-color: transparent;\n",
              "      border-left-color: var(--fill-color);\n",
              "      border-top-color: var(--fill-color);\n",
              "      border-right-color: var(--fill-color);\n",
              "    }\n",
              "    40% {\n",
              "      border-color: transparent;\n",
              "      border-right-color: var(--fill-color);\n",
              "      border-top-color: var(--fill-color);\n",
              "    }\n",
              "    60% {\n",
              "      border-color: transparent;\n",
              "      border-right-color: var(--fill-color);\n",
              "    }\n",
              "    80% {\n",
              "      border-color: transparent;\n",
              "      border-right-color: var(--fill-color);\n",
              "      border-bottom-color: var(--fill-color);\n",
              "    }\n",
              "    90% {\n",
              "      border-color: transparent;\n",
              "      border-bottom-color: var(--fill-color);\n",
              "    }\n",
              "  }\n",
              "</style>\n",
              "\n",
              "      <script>\n",
              "        async function quickchart(key) {\n",
              "          const quickchartButtonEl =\n",
              "            document.querySelector('#' + key + ' button');\n",
              "          quickchartButtonEl.disabled = true;  // To prevent multiple clicks.\n",
              "          quickchartButtonEl.classList.add('colab-df-spinner');\n",
              "          try {\n",
              "            const charts = await google.colab.kernel.invokeFunction(\n",
              "                'suggestCharts', [key], {});\n",
              "          } catch (error) {\n",
              "            console.error('Error during call to suggestCharts:', error);\n",
              "          }\n",
              "          quickchartButtonEl.classList.remove('colab-df-spinner');\n",
              "          quickchartButtonEl.classList.add('colab-df-quickchart-complete');\n",
              "        }\n",
              "        (() => {\n",
              "          let quickchartButtonEl =\n",
              "            document.querySelector('#df-a8d81dd1-b33a-4321-9820-c663cabd3bb8 button');\n",
              "          quickchartButtonEl.style.display =\n",
              "            google.colab.kernel.accessAllowed ? 'block' : 'none';\n",
              "        })();\n",
              "      </script>\n",
              "    </div>\n",
              "\n",
              "  <div id=\"id_e9dd8bdf-da2e-461c-b4a2-4b2af8d9f28d\">\n",
              "    <style>\n",
              "      .colab-df-generate {\n",
              "        background-color: #E8F0FE;\n",
              "        border: none;\n",
              "        border-radius: 50%;\n",
              "        cursor: pointer;\n",
              "        display: none;\n",
              "        fill: #1967D2;\n",
              "        height: 32px;\n",
              "        padding: 0 0 0 0;\n",
              "        width: 32px;\n",
              "      }\n",
              "\n",
              "      .colab-df-generate:hover {\n",
              "        background-color: #E2EBFA;\n",
              "        box-shadow: 0px 1px 2px rgba(60, 64, 67, 0.3), 0px 1px 3px 1px rgba(60, 64, 67, 0.15);\n",
              "        fill: #174EA6;\n",
              "      }\n",
              "\n",
              "      [theme=dark] .colab-df-generate {\n",
              "        background-color: #3B4455;\n",
              "        fill: #D2E3FC;\n",
              "      }\n",
              "\n",
              "      [theme=dark] .colab-df-generate:hover {\n",
              "        background-color: #434B5C;\n",
              "        box-shadow: 0px 1px 3px 1px rgba(0, 0, 0, 0.15);\n",
              "        filter: drop-shadow(0px 1px 2px rgba(0, 0, 0, 0.3));\n",
              "        fill: #FFFFFF;\n",
              "      }\n",
              "    </style>\n",
              "    <button class=\"colab-df-generate\" onclick=\"generateWithVariable('df')\"\n",
              "            title=\"Generate code using this dataframe.\"\n",
              "            style=\"display:none;\">\n",
              "\n",
              "  <svg xmlns=\"http://www.w3.org/2000/svg\" height=\"24px\"viewBox=\"0 0 24 24\"\n",
              "       width=\"24px\">\n",
              "    <path d=\"M7,19H8.4L18.45,9,17,7.55,7,17.6ZM5,21V16.75L18.45,3.32a2,2,0,0,1,2.83,0l1.4,1.43a1.91,1.91,0,0,1,.58,1.4,1.91,1.91,0,0,1-.58,1.4L9.25,21ZM18.45,9,17,7.55Zm-12,3A5.31,5.31,0,0,0,4.9,8.1,5.31,5.31,0,0,0,1,6.5,5.31,5.31,0,0,0,4.9,4.9,5.31,5.31,0,0,0,6.5,1,5.31,5.31,0,0,0,8.1,4.9,5.31,5.31,0,0,0,12,6.5,5.46,5.46,0,0,0,6.5,12Z\"/>\n",
              "  </svg>\n",
              "    </button>\n",
              "    <script>\n",
              "      (() => {\n",
              "      const buttonEl =\n",
              "        document.querySelector('#id_e9dd8bdf-da2e-461c-b4a2-4b2af8d9f28d button.colab-df-generate');\n",
              "      buttonEl.style.display =\n",
              "        google.colab.kernel.accessAllowed ? 'block' : 'none';\n",
              "\n",
              "      buttonEl.onclick = () => {\n",
              "        google.colab.notebook.generateWithVariable('df');\n",
              "      }\n",
              "      })();\n",
              "    </script>\n",
              "  </div>\n",
              "\n",
              "    </div>\n",
              "  </div>\n"
            ],
            "text/plain": [
              "                                             content  \\\n",
              "0                         Hi there! My name is Peng.   \n",
              "1           Hello, Peng! How can I assist you today?   \n",
              "2                                  Remember my name?   \n",
              "3  Yes, your name is Peng! How can I help you today?   \n",
              "\n",
              "                                    message_id          type  \\\n",
              "0         4d4e89a3-3023-4c37-bd78-c74ef4a2c2ec  HumanMessage   \n",
              "1  run--b1da8419-f2d6-4b80-8072-039c5cb423e9-0     AIMessage   \n",
              "2         7389e20c-1320-4086-99ae-e4abb687c0f6  HumanMessage   \n",
              "3  run--163d8373-077e-44dd-8e4a-b8fe74724ff1-0     AIMessage   \n",
              "\n",
              "                                         token_usage  \n",
              "0                                               None  \n",
              "1  {'completion_tokens': 12, 'prompt_tokens': 87,...  \n",
              "2                                               None  \n",
              "3  {'completion_tokens': 15, 'prompt_tokens': 110...  "
            ]
          },
          "execution_count": 37,
          "metadata": {},
          "output_type": "execute_result"
        }
      ],
      "source": [
        "import pandas as pd\n",
        "\n",
        "# 将消息内容转换为 DataFrame 显示\n",
        "messages = snapshot.values['messages']\n",
        "df = pd.DataFrame([{\n",
        "    'content': msg.content,\n",
        "    'message_id': msg.id,\n",
        "    'type': type(msg).__name__,\n",
        "    'token_usage': msg.response_metadata.get('token_usage') if hasattr(msg, 'response_metadata') else None\n",
        "} for msg in messages])\n",
        "\n",
        "df  # Jupyter 会自动渲染 DataFrame"
      ]
    },
    {
      "cell_type": "markdown",
      "id": "a2128bcb",
      "metadata": {
        "id": "a2128bcb"
      },
      "source": [
        "\n"
      ]
    },
    {
      "cell_type": "markdown",
      "id": "16c557f8",
      "metadata": {
        "id": "16c557f8"
      },
      "source": [
        "---\n",
        "\n"
      ]
    },
    {
      "cell_type": "markdown",
      "id": "15417aa1",
      "metadata": {
        "id": "15417aa1"
      },
      "source": [
        "## 第 4 部分：引入人类审查\n",
        "\n"
      ]
    },
    {
      "cell_type": "markdown",
      "id": "55389548",
      "metadata": {
        "id": "55389548"
      },
      "source": [
        "有时机器人可能需要人类的介入来做出复杂决策，或者某些任务需要人类批准。LangGraph 支持这种“人类参与”的工作流，您可以在对话中加入人类审查。\n",
        "\n",
        "第4部分，主要展示了如何通过 LangGraph 进行多轮对话和工具调用，并且能够手动更新对话状态、插入工具调用的结果，之后继续执行对话。"
      ]
    },
    {
      "cell_type": "markdown",
      "id": "21516923",
      "metadata": {
        "id": "21516923"
      },
      "source": [
        "### 1. 编译图时添加中断\n",
        "\n"
      ]
    },
    {
      "cell_type": "markdown",
      "id": "22974e2c",
      "metadata": {
        "id": "22974e2c"
      },
      "source": [
        "我们可以通过 `interrupt_before` 参数，在工具节点执行之前中断对话，让人类有机会审查。\n",
        "\n",
        "\n",
        "**编译状态图**：\n",
        "   - `graph_builder.compile()` 用于编译状态图，生成可执行的 `CompiledGraph` 对象。\n",
        "   - `checkpointer=memory` 使用内存作为检查点保存对话状态。\n",
        "   - `interrupt_before=[\"tools\"]` 表示在执行 \"tools\" 节点之前中断，允许手动干预。"
      ]
    },
    {
      "cell_type": "code",
      "execution_count": 38,
      "id": "6a9dc7e7",
      "metadata": {
        "id": "6a9dc7e7"
      },
      "outputs": [],
      "source": [
        "# 编译状态图，指定在工具节点之前进行中断\n",
        "graph = graph_builder.compile(\n",
        "    checkpointer=memory,  # 使用 MemorySaver 作为检查点系统\n",
        "    interrupt_before=[\"tools\"],  # 在进入 \"tools\" 节点前进行中断\n",
        ")"
      ]
    },
    {
      "cell_type": "code",
      "execution_count": 39,
      "id": "68c4a8ca-67cc-44a5-8ee3-3bb4167ae07b",
      "metadata": {
        "colab": {
          "base_uri": "https://localhost:8080/",
          "height": 308
        },
        "id": "68c4a8ca-67cc-44a5-8ee3-3bb4167ae07b",
        "outputId": "e16fb88c-f883-440e-c8cc-ab79fbcd70ff"
      },
      "outputs": [
        {
          "data": {
            "image/png": "[encoded data removed]",
            "text/plain": [
              "<IPython.core.display.Image object>"
            ]
          },
          "metadata": {},
          "output_type": "display_data"
        }
      ],
      "source": [
        "display(Image(graph.get_graph().draw_mermaid_png()))"
      ]
    },
    {
      "cell_type": "markdown",
      "id": "c7a29fe2",
      "metadata": {
        "id": "c7a29fe2"
      },
      "source": [
        "\n"
      ]
    },
    {
      "cell_type": "markdown",
      "id": "cc93cf40",
      "metadata": {
        "id": "cc93cf40"
      },
      "source": [
        "### 2. 执行对话并在工具调用前中断\n",
        "\n"
      ]
    },
    {
      "cell_type": "markdown",
      "id": "12c06a58",
      "metadata": {
        "id": "12c06a58"
      },
      "source": [
        "我们现在来执行对话，并在工具节点之前进行中断，以便人类介入。\n",
        "\n"
      ]
    },
    {
      "cell_type": "code",
      "execution_count": 40,
      "id": "e9bc5112",
      "metadata": {
        "colab": {
          "base_uri": "https://localhost:8080/"
        },
        "id": "e9bc5112",
        "outputId": "ac2a0ca2-b5ba-4fe2-fb5d-1fadb15da16e"
      },
      "outputs": [
        {
          "name": "stdout",
          "output_type": "stream",
          "text": [
            "================================\u001b[1m Human Message \u001b[0m=================================\n",
            "\n",
            "我正在学习LangGraph。你能帮我做一些研究吗？\n"
          ]
        },
        {
          "name": "stderr",
          "output_type": "stream",
          "text": [
            "WARNING:langsmith.client:Failed to send compressed multipart ingest: langsmith.utils.LangSmithAuthError: Authentication failed for https://api.smith.langchain.com/runs/multipart. HTTPError('401 Client Error: Unauthorized for url: https://api.smith.langchain.com/runs/multipart', '{\"error\":\"Unauthorized\"}\\n')trace=8be80301-ad05-4135-804d-8bf27fda6423,id=8be80301-ad05-4135-804d-8bf27fda6423; trace=8be80301-ad05-4135-804d-8bf27fda6423,id=8e1129f7-b46f-41fa-9553-f4200ee5d30c; trace=8be80301-ad05-4135-804d-8bf27fda6423,id=ce037566-e80c-49c9-ad01-d9325616b450\n"
          ]
        },
        {
          "name": "stdout",
          "output_type": "stream",
          "text": [
            "==================================\u001b[1m Ai Message \u001b[0m==================================\n",
            "Tool Calls:\n",
            "  tavily_search_results_json (call_FaHRQnD6tro4kF8A5c4DkIb4)\n",
            " Call ID: call_FaHRQnD6tro4kF8A5c4DkIb4\n",
            "  Args:\n",
            "    query: LangGraph 研究\n"
          ]
        }
      ],
      "source": [
        "# 用户输入的消息\n",
        "user_input = \"我正在学习LangGraph。你能帮我做一些研究吗？\"\n",
        "# 配置新的对话线程 ID，用于保存和恢复对话状态\n",
        "config = {\"configurable\": {\"thread_id\": \"3\"}}\n",
        "\n",
        "# 使用 stream 方法处理用户输入并返回事件\n",
        "events = graph.stream(\n",
        "    {\"messages\": [(\"user\", user_input)]},\n",
        "    config,\n",
        "    stream_mode=\"values\"\n",
        ")\n",
        "\n",
        "# 遍历每个事件并输出最后一条消息的内容\n",
        "for event in events:\n",
        "    if \"messages\" in event:\n",
        "        event[\"messages\"][-1].pretty_print()  # 打印消息内容"
      ]
    },
    {
      "cell_type": "markdown",
      "id": "10ea1621",
      "metadata": {
        "id": "10ea1621"
      },
      "source": [
        "\n"
      ]
    },
    {
      "cell_type": "markdown",
      "id": "f6a7db0f",
      "metadata": {
        "id": "f6a7db0f"
      },
      "source": [
        "检查图的状态，确认已经中断。\n",
        "\n",
        "**获取状态快照**：\n",
        "   - 使用 `graph.get_state(config)` 获取当前对话的状态快照。\n",
        "   - `snapshot.next` 显示下一个将要执行的节点（在中断时为 \"tools\" 节点）。"
      ]
    },
    {
      "cell_type": "code",
      "execution_count": 41,
      "id": "3894534a",
      "metadata": {
        "colab": {
          "base_uri": "https://localhost:8080/"
        },
        "id": "3894534a",
        "outputId": "73d80c15-91e7-473d-ceaf-c2883057b0d5"
      },
      "outputs": [
        {
          "data": {
            "text/plain": [
              "('tools',)"
            ]
          },
          "execution_count": 41,
          "metadata": {},
          "output_type": "execute_result"
        }
      ],
      "source": [
        "# 获取当前对话的状态快照\n",
        "snapshot = graph.get_state(config)\n",
        "# 查看快照中下一个要执行的节点\n",
        "snapshot.next"
      ]
    },
    {
      "cell_type": "markdown",
      "id": "448e17fc-9ebb-407c-8d8b-40c4dbb7f654",
      "metadata": {
        "id": "448e17fc-9ebb-407c-8d8b-40c4dbb7f654"
      },
      "source": [
        "请注意，与上次不同，“下一个”节点被设置为'tools'。我们在这里中断了！让我们检查一下工具调用。"
      ]
    },
    {
      "cell_type": "code",
      "execution_count": 42,
      "id": "a568e527-28b7-412f-8a48-d22e4ad55d90",
      "metadata": {
        "colab": {
          "base_uri": "https://localhost:8080/"
        },
        "id": "a568e527-28b7-412f-8a48-d22e4ad55d90",
        "outputId": "06ef8f45-cc5d-448b-f5db-b7e5303537d9"
      },
      "outputs": [
        {
          "data": {
            "text/plain": [
              "[{'name': 'tavily_search_results_json',\n",
              "  'args': {'query': 'LangGraph 研究'},\n",
              "  'id': 'call_FaHRQnD6tro4kF8A5c4DkIb4',\n",
              "  'type': 'tool_call'}]"
            ]
          },
          "execution_count": 42,
          "metadata": {},
          "output_type": "execute_result"
        }
      ],
      "source": [
        "existing_message = snapshot.values[\"messages\"][-1]\n",
        "existing_message.tool_calls"
      ]
    },
    {
      "cell_type": "markdown",
      "id": "95436842-b3fa-4e0e-80f9-eed3aaa8f709",
      "metadata": {
        "id": "95436842-b3fa-4e0e-80f9-eed3aaa8f709"
      },
      "source": [
        "这个查询看起来很合理。这里没有需要过滤的内容。人类能做的最简单的事情就是让图形继续执行。我们在下面这样做。\n",
        "\n",
        "**接下来，继续执行图！**\n",
        "\n",
        "传入 `None` 便是让图从它停止的地方继续，而不会向状态中添加任何新内容。"
      ]
    },
    {
      "cell_type": "code",
      "execution_count": 43,
      "id": "fd1c0708-cbf9-4040-8365-f2c162468689",
      "metadata": {
        "colab": {
          "base_uri": "https://localhost:8080/"
        },
        "id": "fd1c0708-cbf9-4040-8365-f2c162468689",
        "outputId": "c3e61d91-70b7-4f27-c010-16299b821de2"
      },
      "outputs": [
        {
          "name": "stdout",
          "output_type": "stream",
          "text": [
            "==================================\u001b[1m Ai Message \u001b[0m==================================\n",
            "Tool Calls:\n",
            "  tavily_search_results_json (call_FaHRQnD6tro4kF8A5c4DkIb4)\n",
            " Call ID: call_FaHRQnD6tro4kF8A5c4DkIb4\n",
            "  Args:\n",
            "    query: LangGraph 研究\n"
          ]
        },
        {
          "name": "stderr",
          "output_type": "stream",
          "text": [
            "WARNING:langsmith.client:Failed to send compressed multipart ingest: langsmith.utils.LangSmithAuthError: Authentication failed for https://api.smith.langchain.com/runs/multipart. HTTPError('401 Client Error: Unauthorized for url: https://api.smith.langchain.com/runs/multipart', '{\"error\":\"Unauthorized\"}\\n')trace=2080ec60-7335-41b1-aa2f-825c4fd8af3c,id=2080ec60-7335-41b1-aa2f-825c4fd8af3c; trace=2080ec60-7335-41b1-aa2f-825c4fd8af3c,id=3f2f2609-1236-4127-b528-210ecbc3c7d6; trace=2080ec60-7335-41b1-aa2f-825c4fd8af3c,id=38e378c1-c007-4df6-a8a5-0e8ec26d7d1a\n"
          ]
        },
        {
          "name": "stdout",
          "output_type": "stream",
          "text": [
            "=================================\u001b[1m Tool Message \u001b[0m=================================\n",
            "Name: tavily_search_results_json\n",
            "\n",
            "[{\"title\": \"\\u4eceLangChain\\u5230LangGraph\\uff1a\\u591a\\u667a\\u80fd\\u4f53\\u5f00\\u53d1\\u7684\\u8fdb\\u5316\\u4e4b\\u8def - \\u77e5\\u4e4e\\u4e13\\u680f\", \"url\": \"https://zhuanlan.zhihu.com/p/24589608468\", \"content\": \"\\u91d1\\u878d\\u79d1\\u6280\\u516c\\u53f8\\u4f7f\\u7528LangGraph\\u6784\\u5efa\\u7684\\u7814\\u7a76\\u52a9\\u7406\\u7cfb\\u7edf\\uff0c\\u6574\\u5408\\u4e86\\u6570\\u636e\\u91c7\\u96c6Agent\\u3001\\u5206\\u6790Agent\\u548c\\u62a5\\u544a\\u751f\\u6210Agent\\u3002\\u7cfb\\u7edf\\u53ef\\u81ea\\u52a8\\u5b8c\\u6210\\u884c\\u4e1a\\u7814\\u7a76\\u3001\\u7ade\\u54c1\\u5206\\u6790\\u548c\\u6295\\u8d44\\u5efa\\u8bae\\u751f\\u6210\", \"score\": 0.7969415}, {\"title\": \"meng shao on X: \\\"AI \\u6559\\u7a0b\\u63a8\\u8350\\u4f7f\\u7528LangGraph \\u521b\\u5efa\\u7814\\u7a76\\u52a9\\u624b ...\", \"url\": \"https://x.com/shao__meng/status/1788201987525468444\", \"content\": \"\\u6587\\u7ae0\\u751f\\u6210\\u5206\\u51e0\\u4e2a\\u9636\\u6bb5\\uff1a 1. \\u751f\\u6210\\u521d\\u6b65\\u5927\\u7eb2+\\u8c03\\u67e5\\u76f8\\u5173\\u4e3b\\u98982. \\u786e\\u5b9a\\u4e0d\\u540c\\u7684\\u89c2\\u70b93. \\u201c\\u91c7\\u8bbf\\u4e3b\\u9898\\u4e13\\u5bb6\\u201d\\uff08\\u89d2\\u8272\\u626e\\u6f14LLM\\uff09 4. \\u7ec6\\u5316\\u8f6e\\u5ed3\\uff08\\u4f7f\\u7528\\u53c2\\u8003\\u6587\\u732e\\uff09 5. \\u5148\\u5199\\u7ae0\\u8282\\uff0c\\u518d\\u5199\\u6587\\u7ae0\", \"score\": 0.6889923}]\n"
          ]
        },
        {
          "name": "stderr",
          "output_type": "stream",
          "text": [
            "WARNING:langsmith.client:Failed to send compressed multipart ingest: langsmith.utils.LangSmithAuthError: Authentication failed for https://api.smith.langchain.com/runs/multipart. HTTPError('401 Client Error: Unauthorized for url: https://api.smith.langchain.com/runs/multipart', '{\"error\":\"Unauthorized\"}\\n')trace=2080ec60-7335-41b1-aa2f-825c4fd8af3c,id=38e378c1-c007-4df6-a8a5-0e8ec26d7d1a; trace=2080ec60-7335-41b1-aa2f-825c4fd8af3c,id=3f2f2609-1236-4127-b528-210ecbc3c7d6; trace=2080ec60-7335-41b1-aa2f-825c4fd8af3c,id=87565cab-c7bf-45e5-a438-0b980b8892dc; trace=2080ec60-7335-41b1-aa2f-825c4fd8af3c,id=20712637-e927-4b10-a7f8-6ab7ef32aafb\n"
          ]
        },
        {
          "name": "stdout",
          "output_type": "stream",
          "text": [
            "==================================\u001b[1m Ai Message \u001b[0m==================================\n",
            "\n",
            "以下是关于LangGraph的一些研究信息：\n",
            "\n",
            "1. **从LangChain到LangGraph**：这篇文章介绍了如何利用LangGraph构建研究助手系统，整合了数据采集Agent、分析Agent和报告生成Agent。该系统能够自动完成行业研究、产品分析和投资建议生成等任务。 [阅读更多](https://zhuanlan.zhihu.com/p/24589608468)\n",
            "\n",
            "2. **AI课程的推荐**：一位用户在社交平台上分享了使用LangGraph创建研究助手的过程，列出了几个关键步骤，包括生成大纲、确认不同的观点、引用主题专家等。这些步骤为研究生成提供了有用的指导。 [查阅详细信息](https://x.com/shao__meng/status/1788201987525468444)\n",
            "\n",
            "如果你需要更具体的信息或深入的研究主题，可以告诉我！\n"
          ]
        }
      ],
      "source": [
        "events = graph.stream(None, config, stream_mode=\"values\")\n",
        "for event in events:\n",
        "    if \"messages\" in event:\n",
        "        event[\"messages\"][-1].pretty_print()"
      ]
    },
    {
      "cell_type": "code",
      "execution_count": null,
      "id": "6db4ea6f-15cf-44b8-a47f-3c69a7943ec2",
      "metadata": {
        "id": "6db4ea6f-15cf-44b8-a47f-3c69a7943ec2"
      },
      "outputs": [],
      "source": []
    },
    {
      "cell_type": "markdown",
      "id": "347b87fc",
      "metadata": {
        "id": "347b87fc"
      },
      "source": [
        "### 3. 人工介入，修改工具执行结果"
      ]
    },
    {
      "cell_type": "markdown",
      "id": "7365a2b7",
      "metadata": {
        "id": "7365a2b7"
      },
      "source": [
        "我们直接使用人工定义的内容，作为工具的返回结果。\n",
        "\n",
        "**手动插入工具调用结果**：\n",
        "   - 创建一个 `ToolMessage` 消息对象，内容是手动提供的工具调用结果，如 `\"LangGraph 是一个用于构建状态化、多参与者应用的库\"`。\n",
        "   - `tool_call_id` 使用之前的工具调用 ID 来关联这个工具调用消息。\n",
        "\n",
        "**更新状态**：\n",
        "   - 通过 `graph.update_state(config, {\"messages\": [tool_message]})` 手动更新对话状态，插入新的工具调用结果。\n",
        "\n",
        "**继续执行对话**：\n",
        "   - 使用 `graph.stream(None, config)` 继续执行对话，处理工具调用后的节点。\n",
        "   - 打印后续生成的消息，显示机器人对工具调用结果的响应。\n",
        "\n",
        "**工具调用最终输出是人工手动输入的内容**"
      ]
    },
    {
      "cell_type": "code",
      "execution_count": 44,
      "id": "c95a79df",
      "metadata": {
        "colab": {
          "base_uri": "https://localhost:8080/"
        },
        "id": "c95a79df",
        "outputId": "af59aa82-15b3-4e6d-fc8d-ea2a7a5c2b58"
      },
      "outputs": [
        {
          "name": "stdout",
          "output_type": "stream",
          "text": [
            "=================================\u001b[1m Tool Message \u001b[0m=================================\n",
            "\n",
            "LangGraph 是一个用于构建状态化、多参与者应用的库。\n"
          ]
        }
      ],
      "source": [
        "# 手动生成一个工具调用的消息，并更新到对话状态中\n",
        "tool_message = ToolMessage(\n",
        "    content=\"LangGraph 是一个用于构建状态化、多参与者应用的库。\",  # 工具调用返回的内容\n",
        "    tool_call_id=snapshot.values[\"messages\"][-1].tool_calls[0][\"id\"]  # 关联工具调用的 ID\n",
        ")\n",
        "\n",
        "# 更新对话状态，加入工具调用的结果\n",
        "graph.update_state(config, {\"messages\": [tool_message]})\n",
        "\n",
        "# 继续执行对话，查看工具调用后的后续处理\n",
        "events = graph.stream(None, config, stream_mode=\"values\")\n",
        "\n",
        "for event in events:\n",
        "    event[\"messages\"][-1].pretty_print()  # 打印后续生成的消息内容"
      ]
    },
    {
      "cell_type": "markdown",
      "id": "5bbdf42b",
      "metadata": {
        "id": "5bbdf42b"
      },
      "source": [
        "---------\n",
        "\n",
        "## 第5部分： 查看 ChatBot 历史对话\n",
        "\n",
        "在 LangGraph 中，可以使用 `graph.get_state_history()` 来获取对话的所有历史状态。\n",
        "\n",
        "传入参数：`{\"configurable\": {\"thread_id\": \"1\"}}`，可以获取指定线程的对话状态。\n",
        "\n",
        "```python\n",
        "# 获取指定线程 ID 的所有历史状态\n",
        "history = graph.get_state_history({\"configurable\": {\"thread_id\": \"1\"}})\n",
        "\n",
        "# 遍历历史记录，打印每个状态中的所有消息\n",
        "for state in history:\n",
        "    print(\"=== 对话历史 ===\")\n",
        "    # 遍历每个状态中的消息记录\n",
        "    for message in state.values[\"messages\"]:\n",
        "        if isinstance(message, BaseMessage):\n",
        "            # 根据消息类型区分用户与机器人\n",
        "            if \"user\" in message.content.lower():\n",
        "                print(f\"User: {message.content}\")\n",
        "            else:\n",
        "                print(f\"Assistant: {message.content}\")\n",
        "```\n",
        "\n",
        "\n",
        "### **为什么不用 events 获取历史？**\n",
        "\n",
        "如果您使用 events，每次调用 graph.stream() 时，您只能获取当前的对话步骤，而不是之前的对话记录。要保留对话历史，您需要在每次获取 events 时将结果手动保存，这样会增加复杂度。\n",
        "\n",
        "\n",
        "### 对话历史去重\n",
        "\n",
        "直接运行上面的代码，可能会出现重复的对话历史。\n",
        "\n",
        "- **问题来源**：重复的状态快照和无消息的中间状态导致了多次重复的对话历史和空对话历史。\n",
        "\n",
        "为了处理这些问题，我们可以引入更严格的过滤条件，并确保只打印那些包含**新消息**或有效消息的状态。\n",
        "\n",
        "- **解决方案**：通过检查消息类型和 ID 来过滤无效和重复的消息，并只输出真正包含对话内容的状态快照。\n",
        "\n",
        "### 代码解析\n",
        "\n",
        "1. **`valid_messages` 列表**：这段代码检查每条消息是否是 `BaseMessage` 类型，同时确保该消息之前没有被处理过。如果消息符合这些条件，则被视为有效消息。\n",
        "\n",
        "2. **输出条件**：只有当存在有效消息时，才打印 `=== 对话历史 ===`，否则打印 `=== 空对话历史（无有效消息） ===`。\n",
        "\n",
        "3. **避免重复输出**：通过 `seen_message_ids` 集合来存储已经处理过的消息 ID，确保每条消息只被打印一次，防止重复输出。"
      ]
    },
    {
      "cell_type": "code",
      "execution_count": 45,
      "id": "f8e2fe74-4dd8-4cd8-9b30-2a34efaf53da",
      "metadata": {
        "colab": {
          "base_uri": "https://localhost:8080/"
        },
        "id": "f8e2fe74-4dd8-4cd8-9b30-2a34efaf53da",
        "outputId": "bc684253-205f-4c03-fba2-0a116bd7f95c"
      },
      "outputs": [
        {
          "name": "stdout",
          "output_type": "stream",
          "text": [
            "=== 对话历史 ===\n",
            "Assistant: 我正在学习LangGraph。你能帮我做一些研究吗？\n",
            "Assistant: \n",
            "Assistant: [{\"title\": \"\\u4eceLangChain\\u5230LangGraph\\uff1a\\u591a\\u667a\\u80fd\\u4f53\\u5f00\\u53d1\\u7684\\u8fdb\\u5316\\u4e4b\\u8def - \\u77e5\\u4e4e\\u4e13\\u680f\", \"url\": \"https://zhuanlan.zhihu.com/p/24589608468\", \"content\": \"\\u91d1\\u878d\\u79d1\\u6280\\u516c\\u53f8\\u4f7f\\u7528LangGraph\\u6784\\u5efa\\u7684\\u7814\\u7a76\\u52a9\\u7406\\u7cfb\\u7edf\\uff0c\\u6574\\u5408\\u4e86\\u6570\\u636e\\u91c7\\u96c6Agent\\u3001\\u5206\\u6790Agent\\u548c\\u62a5\\u544a\\u751f\\u6210Agent\\u3002\\u7cfb\\u7edf\\u53ef\\u81ea\\u52a8\\u5b8c\\u6210\\u884c\\u4e1a\\u7814\\u7a76\\u3001\\u7ade\\u54c1\\u5206\\u6790\\u548c\\u6295\\u8d44\\u5efa\\u8bae\\u751f\\u6210\", \"score\": 0.7969415}, {\"title\": \"meng shao on X: \\\"AI \\u6559\\u7a0b\\u63a8\\u8350\\u4f7f\\u7528LangGraph \\u521b\\u5efa\\u7814\\u7a76\\u52a9\\u624b ...\", \"url\": \"https://x.com/shao__meng/status/1788201987525468444\", \"content\": \"\\u6587\\u7ae0\\u751f\\u6210\\u5206\\u51e0\\u4e2a\\u9636\\u6bb5\\uff1a 1. \\u751f\\u6210\\u521d\\u6b65\\u5927\\u7eb2+\\u8c03\\u67e5\\u76f8\\u5173\\u4e3b\\u98982. \\u786e\\u5b9a\\u4e0d\\u540c\\u7684\\u89c2\\u70b93. \\u201c\\u91c7\\u8bbf\\u4e3b\\u9898\\u4e13\\u5bb6\\u201d\\uff08\\u89d2\\u8272\\u626e\\u6f14LLM\\uff09 4. \\u7ec6\\u5316\\u8f6e\\u5ed3\\uff08\\u4f7f\\u7528\\u53c2\\u8003\\u6587\\u732e\\uff09 5. \\u5148\\u5199\\u7ae0\\u8282\\uff0c\\u518d\\u5199\\u6587\\u7ae0\", \"score\": 0.6889923}]\n",
            "Assistant: 以下是关于LangGraph的一些研究信息：\n",
            "\n",
            "1. **从LangChain到LangGraph**：这篇文章介绍了如何利用LangGraph构建研究助手系统，整合了数据采集Agent、分析Agent和报告生成Agent。该系统能够自动完成行业研究、产品分析和投资建议生成等任务。 [阅读更多](https://zhuanlan.zhihu.com/p/24589608468)\n",
            "\n",
            "2. **AI课程的推荐**：一位用户在社交平台上分享了使用LangGraph创建研究助手的过程，列出了几个关键步骤，包括生成大纲、确认不同的观点、引用主题专家等。这些步骤为研究生成提供了有用的指导。 [查阅详细信息](https://x.com/shao__meng/status/1788201987525468444)\n",
            "\n",
            "如果你需要更具体的信息或深入的研究主题，可以告诉我！\n",
            "Assistant: LangGraph 是一个用于构建状态化、多参与者应用的库。\n",
            "=== 空对话历史（无有效消息） ===\n",
            "=== 空对话历史（无有效消息） ===\n",
            "=== 空对话历史（无有效消息） ===\n",
            "=== 空对话历史（无有效消息） ===\n",
            "=== 空对话历史（无有效消息） ===\n"
          ]
        }
      ],
      "source": [
        "# 获取指定线程 ID 的所有历史状态\n",
        "history = graph.get_state_history({\"configurable\": {\"thread_id\": \"3\"}})\n",
        "\n",
        "# 使用集合存储已处理过的消息 ID\n",
        "seen_message_ids = set()\n",
        "\n",
        "# 遍历历史记录，打印每个状态中的所有消息\n",
        "for state in history:\n",
        "    # 获取状态中的消息列表\n",
        "    messages = state.values.get(\"messages\", [])\n",
        "\n",
        "    # 检查是否存在至少一条未处理的 BaseMessage 类型的消息\n",
        "    valid_messages = [msg for msg in messages if isinstance(msg, BaseMessage) and msg.id not in seen_message_ids]\n",
        "\n",
        "    if valid_messages:\n",
        "        print(\"=== 对话历史 ===\")\n",
        "        for message in valid_messages:\n",
        "            seen_message_ids.add(message.id)  # 记录消息 ID，避免重复处理\n",
        "            if \"user\" in message.content.lower():\n",
        "                print(f\"User: {message.content}\")\n",
        "            else:\n",
        "                print(f\"Assistant: {message.content}\")\n",
        "    else:\n",
        "        print(\"=== 空对话历史（无有效消息） ===\")"
      ]
    },
    {
      "cell_type": "code",
      "execution_count": null,
      "id": "43681f46-8d20-4002-92c3-f121cd52a8a8",
      "metadata": {
        "id": "43681f46-8d20-4002-92c3-f121cd52a8a8"
      },
      "outputs": [],
      "source": []
    },
    {
      "cell_type": "code",
      "execution_count": null,
      "id": "5778ec5f-13e3-40f9-b17b-769e87e8980e",
      "metadata": {
        "id": "5778ec5f-13e3-40f9-b17b-769e87e8980e"
      },
      "outputs": [],
      "source": []
    },
    {
      "cell_type": "markdown",
      "id": "82f58d4f-87a7-4d5d-b962-553b66407812",
      "metadata": {
        "id": "82f58d4f-87a7-4d5d-b962-553b66407812"
      },
      "source": [
        "# Homework:\n",
        "\n",
        "1. 运行和测试第1部分的聊天机器人（ChatBot-Only），并尝试找到一个其无法回答正确的事实性问题。\n",
        "1. 使用联网查询工具（如：Tavily），在第2部分的聊天机器人（ChatBot + Tool）上测试相同问题，并对比生成结果。"
      ]
    },
    {
      "cell_type": "code",
      "execution_count": null,
      "id": "qpubWFgtHc2X",
      "metadata": {
        "id": "qpubWFgtHc2X"
      },
      "outputs": [],
      "source": []
    },
    {
      "cell_type": "markdown",
      "id": "Pep9lN8mHLmG",
      "metadata": {
        "id": "Pep9lN8mHLmG"
      },
      "source": [
        "1. 运行第1部分：仅聊天机器人（ChatBot-Only）"
      ]
    },
    {
      "cell_type": "markdown",
      "id": "0dOmqDybHZ-I",
      "metadata": {
        "id": "0dOmqDybHZ-I"
      },
      "source": [
        "仅聊天机器人无法回答最新事实性问题，容易答错或无法作答。\n",
        "\n",
        "\n",
        "联网工具可以实时检索，准确回答事实性问题，极大提升了机器人的实用性和智能水平"
      ]
    }
  ],
  "metadata": {
    "colab": {
      "provenance": [],
      "toc_visible": true
    },
    "kernelspec": {
      "display_name": "Python 3 (ipykernel)",
      "language": "python",
      "name": "python3"
    },
    "language_info": {
      "codemirror_mode": {
        "name": "ipython",
        "version": 3
      },
      "file_extension": ".py",
      "mimetype": "text/x-python",
      "name": "python",
      "nbconvert_exporter": "python",
      "pygments_lexer": "ipython3",
      "version": "3.10.14"
    }
  },
  "nbformat": 4,
  "nbformat_minor": 5
}
